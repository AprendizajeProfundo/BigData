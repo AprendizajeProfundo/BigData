{
 "cells": [
  {
   "cell_type": "markdown",
   "metadata": {
    "tags": []
   },
   "source": [
    "# <span style=\"color:green\"><center>Diplomado en Big Data</center></span>"
   ]
  },
  {
   "cell_type": "markdown",
   "metadata": {},
   "source": [
    "# <span style=\"color:red\"><center>Procesamiento Paralelo. Ejecución perezosa<center></span>"
   ]
  },
  {
   "cell_type": "markdown",
   "metadata": {},
   "source": [
    "<img src=\"http://dask.readthedocs.io/en/latest/_images/dask_horizontal.svg\"\n",
    "     align=\"right\"\n",
    "     width=\"30%\"\n",
    "     alt=\"Dask logo\\\">\n",
    "\n",
    "# Ejecución perezosa con  `dask.delayed`"
   ]
  },
  {
   "cell_type": "markdown",
   "metadata": {},
   "source": [
    "##   <span style=\"color:blue\">Profesores</span>"
   ]
  },
  {
   "cell_type": "markdown",
   "metadata": {},
   "source": [
    "1. Alvaro Mauricio Montenegro Díaz, ammontenegrod@unal.edu.co\n",
    "2. Daniel Mauricio Montenegro Reyes, dextronomo@gmail.com \n",
    "3. Campo Elías Pardo Turriago, cepardot@unal.edu.co "
   ]
  },
  {
   "cell_type": "markdown",
   "metadata": {},
   "source": [
    "##   <span style=\"color:blue\">Asesora Medios y Marketing digital</span>\n",
    " "
   ]
  },
  {
   "cell_type": "markdown",
   "metadata": {},
   "source": [
    "4. Maria del Pilar Montenegro, pmontenegro88@gmail.com "
   ]
  },
  {
   "cell_type": "markdown",
   "metadata": {},
   "source": [
    "## <span style=\"color:blue\">Contenido</span>"
   ]
  },
  {
   "cell_type": "markdown",
   "metadata": {},
   "source": [
    "* [Introducción](#Introducción)\n",
    "* [Ejecución perzosa](#Ejecución-perzosa)\n",
    "* [Dask es un motor de ejecución perezosa de grafos](#Dask-es-un-motor-de-ejecución-perezosa-de-grafos)\n",
    "* [¿Por qué debería preocuparse por la ejecución perezosa?](#¿Por-qué-debería-preocuparse-por-la-ejecución-perezosa?)\n",
    "* [Ejercicio](#Ejercicio)\n"
   ]
  },
  {
   "cell_type": "markdown",
   "metadata": {},
   "source": [
    "## <span style=\"color:blue\">Fuente</span>"
   ]
  },
  {
   "cell_type": "markdown",
   "metadata": {},
   "source": [
    "Esta es una traducción libre del tutorial disponible en [dask-tutorial](https://github.com/dask/dask-tutorial)."
   ]
  },
  {
   "cell_type": "markdown",
   "metadata": {},
   "source": [
    "## <span style=\"color:blue\">Introducción</span>"
   ]
  },
  {
   "cell_type": "markdown",
   "metadata": {},
   "source": [
    "El objetivo de `Dask` es hacer que las cosas simples sean fáciles y que las complejas sean posibles.\n",
    "\n",
    "Podemos resumir los conceptos básicos de Dask de la siguiente manera:\n",
    "\n",
    "- procesar datos que no caben en la memoria dividiéndolos en bloques y especificando cadenas de tareas\n",
    "- paralelizar la ejecución de tareas en los núcleos e incluso en los nodos de un clúster\n",
    "- mover el cálculo a los datos en lugar de al revés, para minimizar la sobrecarga de comunicación\n",
    "\n",
    "Todo esto le permite aprovechar al máximo sus recursos de computación, pero programar de una manera que sea muy familiar: bucles for para construir tareas básicas, iteradores de Python y las funciones NumPy (matriz) y Pandas (marco de datos) para múltiples -datos dimensionales o tabulares, respectivamente.\n",
    "\n",
    "El resto de este cuaderno lo llevará a través del primero de estos paradigmas de programación. Esto es más detallado de lo que querrán algunos usuarios, que pueden saltar a las secciones de iterador, matriz y marco de datos; pero habrá algunas tareas de procesamiento de datos que no encajan fácilmente en esas abstracciones y deben recurrir a los métodos aquí.\n",
    "\n",
    "Incluimos algunos ejemplos al final de los cuadernos que muestran que las ideas detrás de cómo se construye Dask no son realmente tan novedosas, y los programadores experimentados habrán conocido partes del diseño en otras situaciones antes. Esos ejemplos se dejan para los interesados."
   ]
  },
  {
   "cell_type": "markdown",
   "metadata": {},
   "source": [
    "## <span style=\"color:blue\">Ejecución perzosa</span>"
   ]
  },
  {
   "cell_type": "markdown",
   "metadata": {},
   "source": [
    "Aquí discutimos algunos de los conceptos detrás de `dask` y la ejecución diferida de código.\n"
   ]
  },
  {
   "cell_type": "markdown",
   "metadata": {},
   "source": [
    "## <span style=\"color:blue\">Dask es un motor de ejecución perezosa de grafos</span> "
   ]
  },
  {
   "cell_type": "markdown",
   "metadata": {},
   "source": [
    "`Dask` permite construir una prescripción para el cálculo que desea realizar. Eso puede sonar extraño, pero un ejemplo simple demostrará que puede lograrlo mientras programa con funciones perfectamente ordinarias de Python y bucles for. Vimos esto en el cuaderno anterior."
   ]
  },
  {
   "cell_type": "code",
   "execution_count": 1,
   "metadata": {},
   "outputs": [],
   "source": [
    "from dask import delayed\n",
    "\n",
    "@delayed\n",
    "def inc(x):\n",
    "    return x + 1\n",
    "\n",
    "@delayed\n",
    "def add(x, y):\n",
    "    return x + y"
   ]
  },
  {
   "cell_type": "markdown",
   "metadata": {},
   "source": [
    "Aquí hemos utilizado la anotación retrasada para mostrar que queremos que estas funciones funcionen de forma perezosa, para guardar el conjunto de entradas y ejecutarlas solo bajo demanda. `dask.delayed` también es una función que puede hacer esto, sin la anotación, dejando la función original sin cambios, por ejemplo,\n",
    "\n",
    "```python\n",
    "     delayed_inc = delayed(inc)\n",
    "```"
   ]
  },
  {
   "cell_type": "code",
   "execution_count": 2,
   "metadata": {},
   "outputs": [],
   "source": [
    "# this looks like ordinary code\n",
    "x = inc(15)\n",
    "y = inc(30)\n",
    "total = add(x, y)\n",
    "# x, y and total are all delayed objects. \n",
    "# They contain a prescription of how to carry out the computation"
   ]
  },
  {
   "cell_type": "markdown",
   "metadata": {},
   "source": [
    "Llamar a una función retrasada creando un objeto retrasado (`x, y, total`) que se puede examinar de forma interactiva. Hacer estos objetos es algo equivalente a construcciones como `lambda` o envoltorios de funciones (ver más abajo). Cada uno tiene un diccionario simple que describe el gráfico de la tarea, una especificación completa de cómo llevar a cabo el cálculo.\n",
    "\n",
    "Podemos visualizar la cadena de cálculos a la que corresponde el objeto `total` de la siguiente manera; los círculos son funciones, los rectángulos son datos / resultados."
   ]
  },
  {
   "cell_type": "code",
   "execution_count": 3,
   "metadata": {},
   "outputs": [
    {
     "data": {
      "image/png": "[encoded data removed]",
      "text/plain": [
       "<IPython.core.display.Image object>"
      ]
     },
     "execution_count": 3,
     "metadata": {},
     "output_type": "execute_result"
    }
   ],
   "source": [
    "total.visualize()"
   ]
  },
  {
   "cell_type": "markdown",
   "metadata": {},
   "source": [
    "Pero hasta ahora, no se ha ejecutado ninguna función. Esto demostró la división entre la parte de creación de gráficos de Dask (`retrasado ()`, en este ejemplo) y la parte de ejecución de gráficos de Dask.\n",
    "\n",
    "Para ejecutar el \"gráfico\" en la visualización y obtener un resultado, haga lo siguiente:"
   ]
  },
  {
   "cell_type": "code",
   "execution_count": 7,
   "metadata": {},
   "outputs": [
    {
     "data": {
      "text/plain": [
       "47"
      ]
     },
     "execution_count": 7,
     "metadata": {},
     "output_type": "execute_result"
    }
   ],
   "source": [
    "# execute all tasks\n",
    "total.compute()"
   ]
  },
  {
   "cell_type": "markdown",
   "metadata": {},
   "source": [
    "## <span style=\"color:blue\">¿Por qué debería preocuparse por la ejecución perezosa?</span> "
   ]
  },
  {
   "cell_type": "markdown",
   "metadata": {},
   "source": [
    "Al construir una especificación del cálculo que queremos realizar antes de ejecutar cualquier cosa, podemos pasar la especificación a un *motor de ejecución* para su evaluación. \n",
    "\n",
    "En el caso de Dask, este motor de ejecución podría estar ejecutándose en muchos nodos de un clúster, por lo que tiene acceso a la cantidad total de núcleos de CPU y memoria en todas las máquinas. \n",
    "\n",
    "*Dask* ejecutará inteligentemente su cálculo con cuidado para minimizar la cantidad de datos almacenados en la memoria, mientras paraleliza las tareas que componen un gráfico. \n",
    "\n",
    "Con código en bucle pythonico o normal y \"retrasado\", se pueden construir grafo muy complejos y pasarlos a *Dask* para su ejecución. Vea un buen ejemplo de flujo de trabajo [ETL complejo simulado](https://blog.dask.org/2017/01/24/dask-custom).\n",
    "\n",
    "En el mundo del big data el término ETL es el acrónimo de extract, transform, load.\n",
    "La idea es que el proceso ETL consiste en procesar los datos de la siguiente forma:\n",
    "\n",
    "1. Extrae los datos de la fuente proresivamente.\n",
    "1. Transforma los datos reduciendolos, por lo general.\n",
    "1. Carga los datos reducidos para el análisis y posteriores procesos,\n",
    "\n",
    "En esta [gráfica animada](../Imagenes/grid_search_schedule.gif) puede observar como DASK usa cuatro trabajadores que están procesando el un grafo simple, la ejecución progresa verticalmente hacia arriba en las ramas primero, de modo que los resultados intermedios se pueden borrar antes de pasar a una nueva rama."
   ]
  },
  {
   "cell_type": "markdown",
   "metadata": {},
   "source": [
    "## <span style=\"color:blue\">Ejercicio</span> "
   ]
  },
  {
   "cell_type": "markdown",
   "metadata": {},
   "source": [
    "Aplicaremos el retraso a una tarea de procesamiento de datos real, aunque sea simple.\n",
    "\n",
    "Leeremos tres archivos CSV con pd.read_csv y luego mediremos su longitud total. \n",
    "\n",
    "Consideraremos cómo haría esto con código Python ordinario, luego construiremos un grafo para este proceso usando `delayed`, y finalmente ejecutaremos este grafo usando Dask, para un factor de aceleración útil de más de dos (solo hay tres entradas para paralelizar)."
   ]
  },
  {
   "cell_type": "code",
   "execution_count": null,
   "metadata": {},
   "outputs": [],
   "source": [
    "%run prep.py -d accounts"
   ]
  },
  {
   "cell_type": "code",
   "execution_count": 1,
   "metadata": {},
   "outputs": [
    {
     "data": {
      "text/plain": [
       "['/home/alvaro/dask-tutorial/data/accounts.0.csv',\n",
       " '/home/alvaro/dask-tutorial/data/accounts.1.csv',\n",
       " '/home/alvaro/dask-tutorial/data/accounts.2.csv']"
      ]
     },
     "execution_count": 1,
     "metadata": {},
     "output_type": "execute_result"
    }
   ],
   "source": [
    "import pandas as pd\n",
    "import os\n",
    "filenames = [os.path.join('/home/alvaro/dask-tutorial/data', 'accounts.%d.csv' % i) for i in [0, 1, 2]]\n",
    "filenames"
   ]
  },
  {
   "cell_type": "code",
   "execution_count": 6,
   "metadata": {},
   "outputs": [
    {
     "name": "stdout",
     "output_type": "stream",
     "text": [
      "3000000\n",
      "CPU times: user 1.05 s, sys: 216 ms, total: 1.27 s\n",
      "Wall time: 1.45 s\n"
     ]
    }
   ],
   "source": [
    "%%time\n",
    "\n",
    "# normal, sequential code\n",
    "a = pd.read_csv(filenames[0])\n",
    "b = pd.read_csv(filenames[1])\n",
    "c = pd.read_csv(filenames[2])\n",
    "\n",
    "na = len(a)\n",
    "nb = len(b)\n",
    "nc = len(c)\n",
    "\n",
    "total = sum([na, nb, nc])\n",
    "print(total)"
   ]
  },
  {
   "cell_type": "markdown",
   "metadata": {},
   "source": [
    "Su tarea es volver a crear este gráfico utilizando la función retrasada en el código Python original. Las tres funciones que desea retrasar son `pd.read_csv`, `len` and `sum`.. "
   ]
  },
  {
   "cell_type": "markdown",
   "metadata": {},
   "source": [
    "```python\n",
    "delayed_read_csv = delayed(pd.read_csv)\n",
    "a = delayed_read_csv(filenames[0])\n",
    "...\n",
    "\n",
    "total = ...\n",
    "\n",
    "# execute\n",
    "%time total.compute()   \n",
    "```"
   ]
  },
  {
   "cell_type": "code",
   "execution_count": null,
   "metadata": {},
   "outputs": [],
   "source": [
    "# your verbose code here"
   ]
  },
  {
   "cell_type": "markdown",
   "metadata": {},
   "source": [
    "A continuación, repita esto usando bucles, en lugar de escribir todas las variables."
   ]
  },
  {
   "cell_type": "code",
   "execution_count": null,
   "metadata": {},
   "outputs": [],
   "source": [
    "# your concise code here"
   ]
  },
  {
   "cell_type": "code",
   "execution_count": 7,
   "metadata": {},
   "outputs": [
    {
     "name": "stdout",
     "output_type": "stream",
     "text": [
      "3000000\n",
      "CPU times: user 1.29 s, sys: 276 ms, total: 1.56 s\n",
      "Wall time: 940 ms\n",
      "3000000\n",
      "CPU times: user 1.32 s, sys: 116 ms, total: 1.44 s\n",
      "Wall time: 692 ms\n"
     ]
    }
   ],
   "source": [
    "## verbose version\n",
    "delayed_read_csv = delayed(pd.read_csv)\n",
    "a = delayed_read_csv(filenames[0])\n",
    "b = delayed_read_csv(filenames[1])\n",
    "c = delayed_read_csv(filenames[2])\n",
    "\n",
    "delayed_len = delayed(len)\n",
    "na = delayed_len(a)\n",
    "nb = delayed_len(b)\n",
    "nc = delayed_len(c)\n",
    "\n",
    "delayed_sum = delayed(sum)\n",
    "\n",
    "total = delayed_sum([na, nb, nc])\n",
    "%time print(total.compute())\n",
    "\n",
    "\n",
    "## concise version\n",
    "csvs = [delayed(pd.read_csv)(fn) for fn in filenames]\n",
    "lens = [delayed(len)(csv) for csv in csvs]\n",
    "total = delayed(sum)(lens)\n",
    "%time print(total.compute())\n"
   ]
  },
  {
   "cell_type": "markdown",
   "metadata": {},
   "source": [
    "### Notas"
   ]
  },
  {
   "cell_type": "markdown",
   "metadata": {},
   "source": [
    "Los objetos Delayed soporta varios tipos de operaciones:\n",
    "\n",
    "```python\n",
    "    x2 = x + 1\n",
    "```"
   ]
  },
  {
   "cell_type": "markdown",
   "metadata": {},
   "source": [
    "Si x fue un resultado retrasado (como el total, arriba), entonces también lo es x2. Las operaciones admitidas incluyen operadores aritméticos, selección de elementos o sectores, acceso a atributos y llamadas a métodos, esencialmente cualquier cosa que pueda expresarse como una expresión lambda.\n",
    "\n",
    "Las operaciones que no son compatibles incluyen mutación, métodos `call`, iteración (for) y booleano(predicado). "
   ]
  },
  {
   "cell_type": "markdown",
   "metadata": {},
   "source": [
    "### Ejemplo: Ejecución retrasada"
   ]
  },
  {
   "cell_type": "markdown",
   "metadata": {},
   "source": [
    "Hay muchas formas en Python de especificar el cálculo que desea ejecutar, pero solo ejecútelo *más tarde*."
   ]
  },
  {
   "cell_type": "code",
   "execution_count": null,
   "metadata": {},
   "outputs": [],
   "source": [
    "def add(x, y):\n",
    "    return x + y\n",
    "\n",
    "# Sometimes we defer computations with strings\n",
    "x = 15\n",
    "y = 30\n",
    "z = \"add(x, y)\"\n",
    "eval(z)"
   ]
  },
  {
   "cell_type": "code",
   "execution_count": null,
   "metadata": {},
   "outputs": [],
   "source": [
    "# we can use lambda or other \"closure\"\n",
    "x = 15\n",
    "y = 30\n",
    "z = lambda: add(x, y)\n",
    "z()"
   ]
  },
  {
   "cell_type": "code",
   "execution_count": null,
   "metadata": {},
   "outputs": [],
   "source": [
    "# A very similar thing happens in functools.partial\n",
    "\n",
    "import functools\n",
    "z = functools.partial(add, x, y)\n",
    "z()"
   ]
  },
  {
   "cell_type": "code",
   "execution_count": null,
   "metadata": {},
   "outputs": [],
   "source": [
    "# Python generators are delayed execution by default\n",
    "# Many Python functions expect such iterable objects\n",
    "\n",
    "def gen():\n",
    "    res = x\n",
    "    yield res\n",
    "    res += y\n",
    "    yield res\n",
    "\n",
    "g = gen()"
   ]
  },
  {
   "cell_type": "code",
   "execution_count": null,
   "metadata": {},
   "outputs": [],
   "source": [
    "# run once: we get one value and execution halts within the generator\n",
    "# run again and the execution completes\n",
    "next(g)"
   ]
  },
  {
   "cell_type": "markdown",
   "metadata": {},
   "source": [
    "### Grafos Dask"
   ]
  },
  {
   "cell_type": "markdown",
   "metadata": {},
   "source": [
    "Cualquier objeto Dask, como \"total\", arriba, tiene un atributo que describe los cálculos necesarios para producir ese resultado. De hecho, este es exactamente el gráfico del que hemos estado hablando, que se puede visualizar. Vemos que es un diccionario simple, en el que las claves son identificadores únicos de tareas, y los valores son las funciones y entradas para el cálculo.\n",
    "\n",
    "`delayed` es un mecanismo útil para crear el gráfico Dask, pero los aventureros pueden desear jugar con la total flexibilidad que ofrece la construcción de los diccionarios de gráficos directamente. Puede encontrar información detallada [aquí](http://dask.pydata.org/en/latest/graphs.html)."
   ]
  },
  {
   "cell_type": "code",
   "execution_count": null,
   "metadata": {},
   "outputs": [],
   "source": [
    "total.dask"
   ]
  },
  {
   "cell_type": "code",
   "execution_count": null,
   "metadata": {},
   "outputs": [],
   "source": [
    "dict(total.dask)"
   ]
  }
 ],
 "metadata": {
  "anaconda-cloud": {},
  "kernelspec": {
   "display_name": "Python 3",
   "language": "python",
   "name": "python3"
  },
  "language_info": {
   "codemirror_mode": {
    "name": "ipython",
    "version": 3
   },
   "file_extension": ".py",
   "mimetype": "text/x-python",
   "name": "python",
   "nbconvert_exporter": "python",
   "pygments_lexer": "ipython3",
   "version": "3.8.8"
  }
 },
 "nbformat": 4,
 "nbformat_minor": 4
}
