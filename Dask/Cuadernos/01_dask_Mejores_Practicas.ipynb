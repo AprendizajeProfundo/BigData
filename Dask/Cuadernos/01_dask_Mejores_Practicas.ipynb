{
 "cells": [
  {
   "cell_type": "markdown",
   "id": "deadly-paper",
   "metadata": {
    "tags": []
   },
   "source": [
    "# <span style=\"color:green\"><center>Diplomado en Big Data</center></span>"
   ]
  },
  {
   "cell_type": "markdown",
   "id": "necessary-female",
   "metadata": {},
   "source": [
    "# <span style=\"color:red\"><center>Procesamiento Paralelo. Mejores prácticas<center></span>"
   ]
  },
  {
   "cell_type": "markdown",
   "id": "athletic-hawaiian",
   "metadata": {},
   "source": [
    "<img src=\"http://dask.readthedocs.io/en/latest/_images/dask_horizontal.svg\"\n",
    "     align=\"right\"\n",
    "     width=\"30%\"\n",
    "     alt=\"Dask logo\\\">\n",
    "\n",
    "# Mejores prácticas  con `dask.delayed`"
   ]
  },
  {
   "cell_type": "markdown",
   "id": "sufficient-universal",
   "metadata": {},
   "source": [
    "##   <span style=\"color:blue\">Profesores</span>"
   ]
  },
  {
   "cell_type": "markdown",
   "id": "utility-cheat",
   "metadata": {},
   "source": [
    "1. Alvaro Mauricio Montenegro Díaz, ammontenegrod@unal.edu.co\n",
    "2. Daniel Mauricio Montenegro Reyes, dextronomo@gmail.com "
   ]
  },
  {
   "cell_type": "markdown",
   "id": "liquid-practitioner",
   "metadata": {},
   "source": [
    "##   <span style=\"color:blue\">Asesora Medios y Marketing digital</span>\n",
    " "
   ]
  },
  {
   "cell_type": "markdown",
   "id": "shaped-taylor",
   "metadata": {},
   "source": [
    "4. Maria del Pilar Montenegro, pmontenegro88@gmail.com "
   ]
  },
  {
   "cell_type": "markdown",
   "id": "pressed-maple",
   "metadata": {},
   "source": [
    "## <span style=\"color:blue\">Contenido</span>"
   ]
  },
  {
   "cell_type": "markdown",
   "id": "lesbian-spine",
   "metadata": {},
   "source": [
    "* [Introducción](#Introducción)\n",
    "* [Bases](Bases)\n",
    "* [Paralelización usando delayed](#Paralelización-usando-delayed)\n",
    "* [Ejemplo con Pandas groupby](#Ejemplo-con-Pandas-groupby)\n",
    "* [Usando decoradores directamente](#Usando-decoradores-directamente)\n",
    "* [Cerrar el cliente](#Cerrar-el-cliente)"
   ]
  },
  {
   "cell_type": "markdown",
   "id": "declared-begin",
   "metadata": {},
   "source": [
    "## <span style=\"color:blue\">Fuente</span>"
   ]
  },
  {
   "cell_type": "markdown",
   "id": "unique-kazakhstan",
   "metadata": {},
   "source": [
    "Esta es una traducción libre del tutorial disponible en [dask-tutorial](https://github.com/dask/dask-tutorial)."
   ]
  },
  {
   "cell_type": "markdown",
   "id": "vital-cardiff",
   "metadata": {},
   "source": [
    "## <span style=\"color:blue\">Introducción</span>"
   ]
  },
  {
   "cell_type": "markdown",
   "id": "perfect-deadline",
   "metadata": {},
   "source": [
    "Es fácil comenzar con Dask retrasado, pero usarlo bien requiere algo de experiencia. Esta lección contiene sugerencias de mejores prácticas e incluye soluciones a problemas comunes."
   ]
  },
  {
   "cell_type": "markdown",
   "id": "apart-europe",
   "metadata": {},
   "source": [
    "## <span style=\"color:blue\">Llamada retrasada a la función, no al resultado</span>"
   ]
  },
  {
   "cell_type": "markdown",
   "id": "earlier-rebel",
   "metadata": {},
   "source": [
    " \n",
    " ```python\n",
    "    # This executes immediately\n",
    "    dask.delayed(f(x, y))\n",
    "    ```\n",
    " Correcto\n",
    " \n",
    " ```python\n",
    "    # This executes delayed\n",
    "    dask.delayed(f)(x, y)\n",
    "    ```\n"
   ]
  },
  {
   "cell_type": "markdown",
   "id": "familiar-sapphire",
   "metadata": {},
   "source": [
    "## <span style=\"color:blue\">Programe muchos cálculos a la vez</span>"
   ]
  },
  {
   "cell_type": "markdown",
   "id": "usual-relevance",
   "metadata": {},
   "source": [
    " \n",
    " ```python\n",
    "    # Avoid calling compute repeatedly\n",
    "    results = []\n",
    "    for x in L:\n",
    "      y = dask.delayed(f)(x)\n",
    "      results.append(y.compute())\n",
    "    results\n",
    "    ```\n",
    " Correcto\n",
    " \n",
    " ```# Collect many calls for one compute\n",
    "    results = []\n",
    "    for x in L:\n",
    "        y = dask.delayed(f)(x)\n",
    "        results.append(y)\n",
    "    results = dask.compute(*results)\n",
    "    ```\n"
   ]
  },
  {
   "cell_type": "markdown",
   "id": "thirty-christianity",
   "metadata": {},
   "source": [
    "## <span style=\"color:blue\">No modifique las entradas</span>"
   ]
  },
  {
   "cell_type": "markdown",
   "id": "architectural-buffalo",
   "metadata": {},
   "source": [
    " \n",
    " ```python\n",
    "    # Mutate inputs in functions\n",
    "    @dask.delayed\n",
    "    def f(x):\n",
    "        x += 1\n",
    "        return x\n",
    "    ```\n",
    " Correcto\n",
    " \n",
    " ```# Return new values or copies\n",
    "    @dask.delayed\n",
    "    def f(x):\n",
    "        x = x + 1\n",
    "        return x\n",
    "   ```\n",
    "Correcto\n",
    "\n",
    " ```# \n",
    "    @dask.delayed\n",
    "    def f(x):\n",
    "        x = copy(x)\n",
    "        x += 1\n",
    "        return x\n",
    "  ```"
   ]
  },
  {
   "cell_type": "markdown",
   "id": "union-pregnancy",
   "metadata": {},
   "source": [
    "## <span style=\"color:blue\">Programe muchos cálculos a la vez</span>"
   ]
  },
  {
   "cell_type": "code",
   "execution_count": null,
   "id": "catholic-parent",
   "metadata": {},
   "outputs": [],
   "source": [
    " # Incorrecto\n",
    "# Avoid calling compute repeatedly\n",
    "results = []\n",
    "for x in L:\n",
    "    y = dask.delayed(f)(x)\n",
    "    results.append(y.compute())\n",
    "    results\n",
    "    \n",
    "# Correcto\n",
    " \n",
    "# Collect many calls for one compute\n",
    "results = []\n",
    "for x in L:\n",
    "    y = dask.delayed(f)(x)\n",
    "    results.append(y)\n",
    "results = dask.compute(*results)\n"
   ]
  },
  {
   "cell_type": "markdown",
   "id": "veterinary-serial",
   "metadata": {},
   "source": [
    "## <span style=\"color:blue\">Evite el estado global</span>"
   ]
  },
  {
   "cell_type": "markdown",
   "id": "pediatric-surprise",
   "metadata": {},
   "source": [
    "Idealmente, sus operaciones no deberían depender del estado global. El uso del estado global puede funcionar si solo usa subprocesos, pero cuando se pasa a la computación distribuida o multiprocesamiento, es probable que encuentre errores confusos."
   ]
  },
  {
   "cell_type": "code",
   "execution_count": null,
   "id": "particular-calvin",
   "metadata": {},
   "outputs": [],
   "source": [
    "L = []\n",
    "\n",
    "# This references global variable L\n",
    "\n",
    "@dask.delayed\n",
    "def f(x):\n",
    "    L.append(x)"
   ]
  },
  {
   "cell_type": "markdown",
   "id": "mobile-ready",
   "metadata": {},
   "source": [
    "## <span style=\"color:blue\">Evite efectos colaterales</span>"
   ]
  },
  {
   "cell_type": "code",
   "execution_count": null,
   "id": "minus-agency",
   "metadata": {},
   "outputs": [],
   "source": [
    "# Ensure delayed tasks are computed\n",
    "\n",
    "x = dask.delayed(f)(1, 2, 3)\n",
    "#...\n",
    "dask.compute(x, ...)"
   ]
  },
  {
   "cell_type": "markdown",
   "id": "corporate-trademark",
   "metadata": {},
   "source": [
    "## <span style=\"color:blue\">Divida los cálculos en muchas partes</span>"
   ]
  },
  {
   "cell_type": "code",
   "execution_count": null,
   "id": "atlantic-initial",
   "metadata": {},
   "outputs": [],
   "source": [
    "# Erróneo\n",
    "\n",
    "def load(filename):\n",
    "    ...\n",
    "\n",
    "\n",
    "def process(filename):\n",
    "    ...\n",
    "\n",
    "\n",
    "def save(filename):\n",
    "    ...\n",
    "\n",
    "@dask.delayed\n",
    "def f(filenames):\n",
    "    results = []\n",
    "    for filename in filenames:\n",
    "        data = load(filename)\n",
    "        data = process(data)\n",
    "        result = save(data)\n",
    "\n",
    "    return results\n",
    "\n",
    "dask.compute(f(filenames))"
   ]
  },
  {
   "cell_type": "code",
   "execution_count": null,
   "id": "competitive-passion",
   "metadata": {},
   "outputs": [],
   "source": [
    "# Correcto\n",
    "# Break up into many tasks\n",
    "\n",
    "@dask.delayed\n",
    "def load(filename):\n",
    "    ...\n",
    "\n",
    "@dask.delayed\n",
    "def process(filename):\n",
    "    ...\n",
    "\n",
    "@dask.delayed\n",
    "def save(filename):\n",
    "    ...\n",
    "\n",
    "\n",
    "def f(filenames):\n",
    "    results = []\n",
    "    for filename in filenames:\n",
    "        data = load(filename)\n",
    "        data = process(data)\n",
    "        result = save(data)\n",
    "\n",
    "    return results\n",
    "\n",
    "dask.compute(f(filenames))"
   ]
  },
  {
   "cell_type": "markdown",
   "id": "serious-screen",
   "metadata": {},
   "source": [
    "## <span style=\"color:blue\">Evite demasiadas tareas retrasadas</span>"
   ]
  },
  {
   "cell_type": "markdown",
   "id": "trained-hearts",
   "metadata": {},
   "source": [
    "Cada tarea retrasada tiene una sobrecarga de unos cientos de microsegundos. Por lo general, esto está bien, pero puede convertirse en un problema si aplica dask.delayed demasiado finamente. En este caso, a menudo es mejor dividir sus muchas tareas en lotes o usar una de las colecciones de Dask para ayudarlo."
   ]
  },
  {
   "cell_type": "code",
   "execution_count": null,
   "id": "intended-harvey",
   "metadata": {},
   "outputs": [],
   "source": [
    "# Too many tasks\n",
    "\n",
    "results = []\n",
    "for x in range(10000000):\n",
    "    y = dask.delayed(f)(x)\n",
    "    results.append(y)\n",
    "\n",
    "    \n",
    "# Use collections\n",
    "\n",
    "import dask.bag as db\n",
    "b = db.from_sequence(range(10000000), npartitions=1000)\n",
    "b = b.map(f)\n",
    "..."
   ]
  },
  {
   "cell_type": "code",
   "execution_count": null,
   "id": "secure-islam",
   "metadata": {},
   "outputs": [],
   "source": [
    "# Alternativamente, sin usar bag collection\n",
    "\n",
    "def batch(seq):\n",
    "    sub_results = []\n",
    "    for x in seq:\n",
    "        sub_results.append(f(x))\n",
    "    return sub_results\n",
    "\n",
    " batches = []\n",
    " for i in range(0, 10000000, 10000):\n",
    "     result_batch = dask.delayed(batch)(range(i, i + 10000))\n",
    "     batches.append(result_batch)"
   ]
  },
  {
   "cell_type": "markdown",
   "id": "retired-antigua",
   "metadata": {},
   "source": [
    "## <span style=\"color:blue\">Evite llamar delayed dentro de funciones retrasadas</span>"
   ]
  },
  {
   "cell_type": "markdown",
   "id": "confused-brooks",
   "metadata": {},
   "source": [
    "A menudo, si es nuevo en el uso de Dask retrasado, realiza llamadas `dask.delayed` en todas partes y espera lo mejor. Si bien esto puede funcionar, generalmente es lento y da como resultado soluciones difíciles de entender.\n",
    "\n",
    "Por lo general, nunca llame a `dask.delayed` dentro de las funciones `dask.delayed`."
   ]
  },
  {
   "cell_type": "code",
   "execution_count": null,
   "id": "organic-assets",
   "metadata": {},
   "outputs": [],
   "source": [
    "# Evitar: Delayed function calls delayed\n",
    "\n",
    "@dask.delayed\n",
    "def process_all(L):\n",
    "    result = []\n",
    "    for x in L:\n",
    "        y = dask.delayed(f)(x)\n",
    "        result.append(y)\n",
    "    return result\n",
    "\n",
    "\n",
    "\n",
    "# Normal function calls delayed\n",
    "\n",
    "def process_all(L):\n",
    "    result = []\n",
    "    for x in L:\n",
    "        y = dask.delayed(f)(x)\n",
    "        result.append(y)\n",
    "    return result"
   ]
  },
  {
   "cell_type": "markdown",
   "id": "documented-scholarship",
   "metadata": {},
   "source": [
    "## <span style=\"color:blue\">No llame a dask.delayed en otras colecciones de Dask</span>"
   ]
  },
  {
   "cell_type": "markdown",
   "id": "wireless-starter",
   "metadata": {},
   "source": [
    "Cuando coloca una matriz Dask o Dask DataFrame en una llamada retrasada, esa función recibirá el equivalente de NumPy o Pandas. \n",
    "\n",
    "Tenga en cuenta que si su matriz es grande, esto podría bloquear a sus trabajadores.\n",
    "\n",
    "En cambio, es más común usar métodos como `da.map_blocks`."
   ]
  },
  {
   "cell_type": "code",
   "execution_count": null,
   "id": "scientific-comfort",
   "metadata": {},
   "outputs": [],
   "source": [
    "# Incorrecto: Call delayed functions on Dask collections\n",
    "\n",
    "import dask.dataframe as dd\n",
    "df = dd.read_csv('/path/to/*.csv')\n",
    "\n",
    "dask.delayed(train)(df)\n",
    "\n",
    "#Correcto:  Use mapping methods if applicable\n",
    "\n",
    "import dask.dataframe as dd\n",
    "df = dd.read_csv('/path/to/*.csv')\n",
    "\n",
    "df.map_partitions(train)\n",
    "\n",
    "# O alternativamente,if the procedure doesn’t fit into a mapping, \n",
    "# you can always turn your arrays or dataframes into many delayed objects, for example\n",
    "\n",
    "import dask.dataframe as dd\n",
    "df = dd.read_csv('/path/to/*.csv')\n",
    "                 \n",
    "partitions = df.to_delayed()\n",
    "delayed_values = [dask.delayed(train)(part)\n",
    "                  for part in partitions]"
   ]
  },
  {
   "cell_type": "markdown",
   "id": "usual-riverside",
   "metadata": {},
   "source": [
    "## <span style=\"color:blue\">Evite poner repetidamente grandes entradas en llamadas retrasadas</span>"
   ]
  },
  {
   "cell_type": "markdown",
   "id": "regulation-pennsylvania",
   "metadata": {},
   "source": [
    "Cada vez que pase un resultado concreto (cualquier cosa que no se retrase), Dask lo codificará de forma predeterminada para darle un nombre. Esto es bastante rápido (alrededor de 500 MB / s) pero puede ser lento si lo hace una y otra vez. En cambio, también es mejor retrasar sus datos.\n",
    "\n",
    "Esto es especialmente importante cuando se usa un clúster distribuido para evitar enviar sus datos por separado para cada llamada de función."
   ]
  },
  {
   "cell_type": "code",
   "execution_count": null,
   "id": "automatic-bobby",
   "metadata": {},
   "outputs": [],
   "source": [
    "# No haga esto\n",
    "\n",
    "x = np.array(...)  # some large array\n",
    "\n",
    "results = [dask.delayed(train)(x, i)\n",
    "           for i in range(1000)]\n",
    "\n",
    "# En su lugar haga esto\n",
    "\n",
    "x = np.array(...)    # some large array\n",
    "x = dask.delayed(x)  # delay the data once\n",
    "\n",
    "results = [dask.delayed(train)(x, i)\n",
    "           for i in range(1000)]"
   ]
  }
 ],
 "metadata": {
  "kernelspec": {
   "display_name": "Python 3",
   "language": "python",
   "name": "python3"
  },
  "language_info": {
   "codemirror_mode": {
    "name": "ipython",
    "version": 3
   },
   "file_extension": ".py",
   "mimetype": "text/x-python",
   "name": "python",
   "nbconvert_exporter": "python",
   "pygments_lexer": "ipython3",
   "version": "3.8.8"
  }
 },
 "nbformat": 4,
 "nbformat_minor": 5
}
