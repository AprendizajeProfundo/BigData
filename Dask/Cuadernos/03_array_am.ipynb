{
 "cells": [
  {
   "cell_type": "markdown",
   "metadata": {
    "tags": []
   },
   "source": [
    "# <span style=\"color:green\"><center>Diplomado en Big Data</center></span>"
   ]
  },
  {
   "cell_type": "markdown",
   "metadata": {},
   "source": [
    "# <span style=\"color:red\"><center> Arrays: Grandes arreglos n-dimensionales paralelizados<center></span>"
   ]
  },
  {
   "cell_type": "markdown",
   "metadata": {},
   "source": [
    "<img src=\"../images/dask_horizontal.svg\" align=\"right\" width=\"30%\">\n"
   ]
  },
  {
   "cell_type": "markdown",
   "metadata": {},
   "source": [
    "##   <span style=\"color:blue\">Profesores</span>"
   ]
  },
  {
   "cell_type": "markdown",
   "metadata": {},
   "source": [
    "1. Alvaro Mauricio Montenegro Díaz, ammontenegrod@unal.edu.co\n",
    "2. Daniel Mauricio Montenegro Reyes, dextronomo@gmail.com "
   ]
  },
  {
   "cell_type": "markdown",
   "metadata": {},
   "source": [
    "##   <span style=\"color:blue\">Asesora Medios y Marketing digital</span>\n",
    " "
   ]
  },
  {
   "cell_type": "markdown",
   "metadata": {},
   "source": [
    "4. Maria del Pilar Montenegro, pmontenegro88@gmail.com "
   ]
  },
  {
   "cell_type": "markdown",
   "metadata": {},
   "source": [
    "## <span style=\"color:blue\">Contenido</span>"
   ]
  },
  {
   "cell_type": "markdown",
   "metadata": {},
   "source": [
    "* [Introducción](#Introducción)\n",
    "* [Creación de datos](#Creación-de-datos)\n",
    "* [Configuración](#Configuración)\n",
    "* [Algoritmos bloqueados o por bloques](#Algoritmos-bloqueados-o-por-bloques)"
   ]
  },
  {
   "cell_type": "markdown",
   "metadata": {},
   "source": [
    "## <span style=\"color:blue\">Fuente</span>"
   ]
  },
  {
   "cell_type": "markdown",
   "metadata": {},
   "source": [
    "Esta es una traducción libre del tutorial disponible en [dask-tutorial](https://github.com/dask/dask-tutorial)."
   ]
  },
  {
   "cell_type": "markdown",
   "metadata": {},
   "source": [
    "## <span style=\"color:blue\">Introducción</span>"
   ]
  },
  {
   "cell_type": "markdown",
   "metadata": {},
   "source": [
    "<img src=\"../images/array.png\" width=\"25%\" align=\"right\">\n",
    "Dask proporcionan  arreglos n-dimensional, para computación en paralelo, los cuales pueden ser más grande que la memoria, utilizando algoritmos bloqueados. En pocas palabras: es  Numpy distribuido.\n",
    "\n",
    "* **Paralelo**: utiliza todos los núcleos de su computadora\n",
    "* **Más grande que la memoria**: le permite trabajar en conjuntos de datos que son más grandes que su memoria disponible al dividir su matriz en muchas partes pequeñas, operar en esas partes en un orden que minimiza la huella de memoria de su cálculo y Transmitir datos de forma efectiva desde el disco.\n",
    "* **Algoritmos bloqueados**: Realice grandes cálculos ejecutando muchos cálculos más pequeños\n",
    "\n",
    "En este cuaderno, desarrollaremos los conceptos implementando algunos algoritmos bloqueados desde cero.\n",
    "Luego usaremos Dask Array para analizar grandes conjuntos de datos, en paralelo, usando una API familiar similar a NumPy."
   ]
  },
  {
   "cell_type": "markdown",
   "metadata": {},
   "source": [
    "### Documentación relacionada"
   ]
  },
  {
   "cell_type": "markdown",
   "metadata": {},
   "source": [
    "* [Array documentation](https://docs.dask.org/en/latest/array.html)\n",
    "* [Array screencast](https://youtu.be/9h_61hXCDuI)\n",
    "* [Array API](https://docs.dask.org/en/latest/array-api.html)\n",
    "* [Array examples](https://examples.dask.org/array.html)"
   ]
  },
  {
   "cell_type": "markdown",
   "metadata": {},
   "source": [
    "## <span style=\"color:blue\">Creación de datos</span>"
   ]
  },
  {
   "cell_type": "code",
   "execution_count": null,
   "metadata": {},
   "outputs": [],
   "source": [
    "# %run prep.py -d random"
   ]
  },
  {
   "cell_type": "raw",
   "metadata": {},
   "source": [
    "Vaya a la terminal en la carpeta de dask-tutorial y ejecute el comando. ela rchivo creado es random.hdf5 y pesa 4 GB."
   ]
  },
  {
   "cell_type": "raw",
   "metadata": {},
   "source": [
    "python prep.py -d random"
   ]
  },
  {
   "cell_type": "markdown",
   "metadata": {},
   "source": [
    "## <span style=\"color:blue\">Configuración</span>"
   ]
  },
  {
   "cell_type": "code",
   "execution_count": 1,
   "metadata": {},
   "outputs": [
    {
     "name": "stderr",
     "output_type": "stream",
     "text": [
      "/home/alvaro/anaconda3/envs/dask-tutorial/lib/python3.8/site-packages/distributed/node.py:151: UserWarning: Port 8787 is already in use.\n",
      "Perhaps you already have a cluster running?\n",
      "Hosting the HTTP server on port 41779 instead\n",
      "  warnings.warn(\n"
     ]
    }
   ],
   "source": [
    "from dask.distributed import Client\n",
    "\n",
    "client = Client(n_workers=4)"
   ]
  },
  {
   "cell_type": "markdown",
   "metadata": {},
   "source": [
    "## <span style=\"color:blue\">Algoritmos bloqueados o por bloques</span>"
   ]
  },
  {
   "cell_type": "markdown",
   "metadata": {},
   "source": [
    "Un *algoritmo  bloqueado* o por bloques se ejecuta sobre un gran conjunto de datos dividiéndolo en muchos bloques pequeños.\n",
    "\n",
    "Por ejemplo, considere tomar la suma de mil millones de números. En su lugar, podríamos dividir la matriz en 1.000 fragmentos, cada uno de un tamaño de 1.000.000, tomar la suma de cada fragmento y luego tomar la suma de las sumas intermedias.\n",
    "\n",
    "Logramos el resultado deseado (una suma en mil millones de números) realizando muchos resultados más pequeños (mil sumas en un millón de números cada una, seguidas de otra suma de mil números).\n",
    "\n",
    "Hacemos exactamente esto con Python y NumPy en el siguiente ejemplo:"
   ]
  },
  {
   "cell_type": "code",
   "execution_count": null,
   "metadata": {},
   "outputs": [],
   "source": [
    "# Load data with h5py\n",
    "# this creates a pointer to the data, but does not actually load\n",
    "import h5py\n",
    "import os\n",
    "f = h5py.File(os.path.join('../data', 'random.hdf5'), mode='r')\n",
    "dset = f['/x']\n"
   ]
  },
  {
   "cell_type": "markdown",
   "metadata": {},
   "source": [
    "Para inspeccionar un archivo de tipo hdf5, tenga en cuenta que los datos son almacenados como diccionarios. Entonces puede hacer una primera inspección de las claves del archivo apuntado por *f* con `f.keys()`. En el ejemplo tenemos que\n",
    "\n",
    "- *f* es un puntero a un archivo de tipo hdf5 \n",
    "- *dset* es un puntero al dataset con clave 'x' en el archivo apuntado por *f*.\n",
    "\n",
    "Veamos:"
   ]
  },
  {
   "cell_type": "code",
   "execution_count": 6,
   "metadata": {},
   "outputs": [
    {
     "name": "stdout",
     "output_type": "stream",
     "text": [
      "['x']\n",
      "<class 'h5py._hl.files.File'>\n",
      "<class 'h5py._hl.dataset.Dataset'>\n"
     ]
    }
   ],
   "source": [
    "print(list(f.keys()))\n",
    "print(type(f))\n",
    "print(type(dset))"
   ]
  },
  {
   "cell_type": "markdown",
   "metadata": {},
   "source": [
    "### Calcule la suma usando una algoritmo bloqueado"
   ]
  },
  {
   "cell_type": "markdown",
   "metadata": {},
   "source": [
    "Antes de usar dask, consideremos el concepto de algoritmos bloqueados. Podemos calcular la suma de una gran cantidad de elementos cargándolos fragmento por fragmento y manteniendo un total acumulado.\n",
    "\n",
    "Aquí calculamos la suma de esta gran matriz en el disco por\n",
    "\n",
    "1. Calcular la suma de cada 1.000.000 de fragmentos de la matriz.\n",
    "2. Calcular la suma de las 1000 sumas intermedias\n",
    "\n",
    "Tenga en cuenta que este es un proceso secuencial en el kernel del portátil, tanto la carga como la suma."
   ]
  },
  {
   "cell_type": "code",
   "execution_count": 5,
   "metadata": {},
   "outputs": [
    {
     "name": "stdout",
     "output_type": "stream",
     "text": [
      "1000044057.375\n"
     ]
    }
   ],
   "source": [
    "# Compute sum of large array, one million numbers at a time\n",
    "sums = []\n",
    "for i in range(0, 1_000_000_000, 1_000_000):\n",
    "    chunk = dset[i: i + 1_000_000]  # pull out numpy array\n",
    "    sums.append(chunk.sum())\n",
    "\n",
    "total = sum(sums)\n",
    "print(total)"
   ]
  },
  {
   "cell_type": "markdown",
   "metadata": {},
   "source": [
    "### Ejercicio: Calcule la media usando un algoritmo bloqueado"
   ]
  },
  {
   "cell_type": "markdown",
   "metadata": {},
   "source": [
    "Ahora que hemos visto el ejemplo simple anterior, intente resolver un problema un poco más complicado. Calcule la media de la matriz, asumiendo por un momento que no sabemos cuántos elementos hay en los datos. Puede hacer esto cambiando el código anterior con las siguientes alteraciones:\n",
    "\n",
    "1. Calcule la suma de cada bloque\n",
    "2. Calcule la longitud de cada bloque\n",
    "3. Calcule la suma de las 1000 sumas intermedias y la suma de las 1000 longitudes intermedias y divida una por la otra.\n",
    "\n",
    "Este enfoque es excesivo para nuestro caso, pero se generaliza muy bien si no conocemos el tamaño de la matriz o los bloques individuales de antemano."
   ]
  },
  {
   "cell_type": "code",
   "execution_count": null,
   "metadata": {},
   "outputs": [],
   "source": [
    "# Compute the mean of the array"
   ]
  },
  {
   "cell_type": "code",
   "execution_count": 11,
   "metadata": {},
   "outputs": [
    {
     "name": "stdout",
     "output_type": "stream",
     "text": [
      "1.000044057375\n"
     ]
    }
   ],
   "source": [
    "sums = []\n",
    "lengths = []\n",
    "for i in range(0, 1_000_000_000, 1_000_000):\n",
    "    chunk = dset[i: i + 1_000_000]  # pull out numpy array\n",
    "    sums.append(chunk.sum())\n",
    "    lengths.append(len(chunk))\n",
    "\n",
    "total = sum(sums)\n",
    "length = sum(lengths)\n",
    "print(total / length)"
   ]
  },
  {
   "cell_type": "markdown",
   "metadata": {},
   "source": [
    "`dask.array` contiene estos algoritmos\n",
    "--------------------------------------------\n",
    "\n",
    "Dask.array es una biblioteca similar a NumPy que hace este tipo de trucos para operar en grandes conjuntos de datos que no caben en la memoria. Se extiende más allá de los problemas lineales discutidos anteriormente a algoritmos N-dimensionales completos y un subconjunto decente de la interfaz NumPy."
   ]
  },
  {
   "cell_type": "markdown",
   "metadata": {},
   "source": [
    "### Creación de un objeto `dask.array` "
   ]
  },
  {
   "cell_type": "markdown",
   "metadata": {},
   "source": [
    "Se puede crear un arreglo(`Array`) `dask.array` con la función `da.from_array`.  Esta función acepta:\n",
    "\n",
    "1.  `data`: Cualquier objeto que soporte  NumPy slicing, como `dset`\n",
    "2.  `chunks`: Un tamaño de fragmento para decirnos cómo bloquear nuestra matriz, como `(1_000_000,)`"
   ]
  },
  {
   "cell_type": "code",
   "execution_count": 6,
   "metadata": {},
   "outputs": [
    {
     "data": {
      "text/html": [
       "<table>\n",
       "<tr>\n",
       "<td>\n",
       "<table>\n",
       "  <thead>\n",
       "    <tr><td> </td><th> Array </th><th> Chunk </th></tr>\n",
       "  </thead>\n",
       "  <tbody>\n",
       "    <tr><th> Bytes </th><td> 4.00 GB </td> <td> 4.00 MB </td></tr>\n",
       "    <tr><th> Shape </th><td> (1000000000,) </td> <td> (1000000,) </td></tr>\n",
       "    <tr><th> Count </th><td> 1001 Tasks </td><td> 1000 Chunks </td></tr>\n",
       "    <tr><th> Type </th><td> float32 </td><td> numpy.ndarray </td></tr>\n",
       "  </tbody>\n",
       "</table>\n",
       "</td>\n",
       "<td>\n",
       "<svg width=\"170\" height=\"75\" style=\"stroke:rgb(0,0,0);stroke-width:1\" >\n",
       "\n",
       "  <!-- Horizontal lines -->\n",
       "  <line x1=\"0\" y1=\"0\" x2=\"120\" y2=\"0\" style=\"stroke-width:2\" />\n",
       "  <line x1=\"0\" y1=\"25\" x2=\"120\" y2=\"25\" style=\"stroke-width:2\" />\n",
       "\n",
       "  <!-- Vertical lines -->\n",
       "  <line x1=\"0\" y1=\"0\" x2=\"0\" y2=\"25\" style=\"stroke-width:2\" />\n",
       "  <line x1=\"0\" y1=\"0\" x2=\"0\" y2=\"25\" />\n",
       "  <line x1=\"0\" y1=\"0\" x2=\"0\" y2=\"25\" />\n",
       "  <line x1=\"0\" y1=\"0\" x2=\"0\" y2=\"25\" />\n",
       "  <line x1=\"0\" y1=\"0\" x2=\"0\" y2=\"25\" />\n",
       "  <line x1=\"0\" y1=\"0\" x2=\"0\" y2=\"25\" />\n",
       "  <line x1=\"0\" y1=\"0\" x2=\"0\" y2=\"25\" />\n",
       "  <line x1=\"0\" y1=\"0\" x2=\"0\" y2=\"25\" />\n",
       "  <line x1=\"0\" y1=\"0\" x2=\"0\" y2=\"25\" />\n",
       "  <line x1=\"1\" y1=\"0\" x2=\"1\" y2=\"25\" />\n",
       "  <line x1=\"1\" y1=\"0\" x2=\"1\" y2=\"25\" />\n",
       "  <line x1=\"1\" y1=\"0\" x2=\"1\" y2=\"25\" />\n",
       "  <line x1=\"1\" y1=\"0\" x2=\"1\" y2=\"25\" />\n",
       "  <line x1=\"1\" y1=\"0\" x2=\"1\" y2=\"25\" />\n",
       "  <line x1=\"1\" y1=\"0\" x2=\"1\" y2=\"25\" />\n",
       "  <line x1=\"1\" y1=\"0\" x2=\"1\" y2=\"25\" />\n",
       "  <line x1=\"1\" y1=\"0\" x2=\"1\" y2=\"25\" />\n",
       "  <line x1=\"2\" y1=\"0\" x2=\"2\" y2=\"25\" />\n",
       "  <line x1=\"2\" y1=\"0\" x2=\"2\" y2=\"25\" />\n",
       "  <line x1=\"2\" y1=\"0\" x2=\"2\" y2=\"25\" />\n",
       "  <line x1=\"2\" y1=\"0\" x2=\"2\" y2=\"25\" />\n",
       "  <line x1=\"2\" y1=\"0\" x2=\"2\" y2=\"25\" />\n",
       "  <line x1=\"2\" y1=\"0\" x2=\"2\" y2=\"25\" />\n",
       "  <line x1=\"2\" y1=\"0\" x2=\"2\" y2=\"25\" />\n",
       "  <line x1=\"2\" y1=\"0\" x2=\"2\" y2=\"25\" />\n",
       "  <line x1=\"3\" y1=\"0\" x2=\"3\" y2=\"25\" />\n",
       "  <line x1=\"3\" y1=\"0\" x2=\"3\" y2=\"25\" />\n",
       "  <line x1=\"3\" y1=\"0\" x2=\"3\" y2=\"25\" />\n",
       "  <line x1=\"3\" y1=\"0\" x2=\"3\" y2=\"25\" />\n",
       "  <line x1=\"3\" y1=\"0\" x2=\"3\" y2=\"25\" />\n",
       "  <line x1=\"3\" y1=\"0\" x2=\"3\" y2=\"25\" />\n",
       "  <line x1=\"3\" y1=\"0\" x2=\"3\" y2=\"25\" />\n",
       "  <line x1=\"3\" y1=\"0\" x2=\"3\" y2=\"25\" />\n",
       "  <line x1=\"3\" y1=\"0\" x2=\"3\" y2=\"25\" />\n",
       "  <line x1=\"4\" y1=\"0\" x2=\"4\" y2=\"25\" />\n",
       "  <line x1=\"4\" y1=\"0\" x2=\"4\" y2=\"25\" />\n",
       "  <line x1=\"4\" y1=\"0\" x2=\"4\" y2=\"25\" />\n",
       "  <line x1=\"4\" y1=\"0\" x2=\"4\" y2=\"25\" />\n",
       "  <line x1=\"4\" y1=\"0\" x2=\"4\" y2=\"25\" />\n",
       "  <line x1=\"4\" y1=\"0\" x2=\"4\" y2=\"25\" />\n",
       "  <line x1=\"4\" y1=\"0\" x2=\"4\" y2=\"25\" />\n",
       "  <line x1=\"4\" y1=\"0\" x2=\"4\" y2=\"25\" />\n",
       "  <line x1=\"5\" y1=\"0\" x2=\"5\" y2=\"25\" />\n",
       "  <line x1=\"5\" y1=\"0\" x2=\"5\" y2=\"25\" />\n",
       "  <line x1=\"5\" y1=\"0\" x2=\"5\" y2=\"25\" />\n",
       "  <line x1=\"5\" y1=\"0\" x2=\"5\" y2=\"25\" />\n",
       "  <line x1=\"5\" y1=\"0\" x2=\"5\" y2=\"25\" />\n",
       "  <line x1=\"5\" y1=\"0\" x2=\"5\" y2=\"25\" />\n",
       "  <line x1=\"5\" y1=\"0\" x2=\"5\" y2=\"25\" />\n",
       "  <line x1=\"5\" y1=\"0\" x2=\"5\" y2=\"25\" />\n",
       "  <line x1=\"6\" y1=\"0\" x2=\"6\" y2=\"25\" />\n",
       "  <line x1=\"6\" y1=\"0\" x2=\"6\" y2=\"25\" />\n",
       "  <line x1=\"6\" y1=\"0\" x2=\"6\" y2=\"25\" />\n",
       "  <line x1=\"6\" y1=\"0\" x2=\"6\" y2=\"25\" />\n",
       "  <line x1=\"6\" y1=\"0\" x2=\"6\" y2=\"25\" />\n",
       "  <line x1=\"6\" y1=\"0\" x2=\"6\" y2=\"25\" />\n",
       "  <line x1=\"6\" y1=\"0\" x2=\"6\" y2=\"25\" />\n",
       "  <line x1=\"6\" y1=\"0\" x2=\"6\" y2=\"25\" />\n",
       "  <line x1=\"6\" y1=\"0\" x2=\"6\" y2=\"25\" />\n",
       "  <line x1=\"7\" y1=\"0\" x2=\"7\" y2=\"25\" />\n",
       "  <line x1=\"7\" y1=\"0\" x2=\"7\" y2=\"25\" />\n",
       "  <line x1=\"7\" y1=\"0\" x2=\"7\" y2=\"25\" />\n",
       "  <line x1=\"7\" y1=\"0\" x2=\"7\" y2=\"25\" />\n",
       "  <line x1=\"7\" y1=\"0\" x2=\"7\" y2=\"25\" />\n",
       "  <line x1=\"7\" y1=\"0\" x2=\"7\" y2=\"25\" />\n",
       "  <line x1=\"7\" y1=\"0\" x2=\"7\" y2=\"25\" />\n",
       "  <line x1=\"7\" y1=\"0\" x2=\"7\" y2=\"25\" />\n",
       "  <line x1=\"8\" y1=\"0\" x2=\"8\" y2=\"25\" />\n",
       "  <line x1=\"8\" y1=\"0\" x2=\"8\" y2=\"25\" />\n",
       "  <line x1=\"8\" y1=\"0\" x2=\"8\" y2=\"25\" />\n",
       "  <line x1=\"8\" y1=\"0\" x2=\"8\" y2=\"25\" />\n",
       "  <line x1=\"8\" y1=\"0\" x2=\"8\" y2=\"25\" />\n",
       "  <line x1=\"8\" y1=\"0\" x2=\"8\" y2=\"25\" />\n",
       "  <line x1=\"8\" y1=\"0\" x2=\"8\" y2=\"25\" />\n",
       "  <line x1=\"8\" y1=\"0\" x2=\"8\" y2=\"25\" />\n",
       "  <line x1=\"9\" y1=\"0\" x2=\"9\" y2=\"25\" />\n",
       "  <line x1=\"9\" y1=\"0\" x2=\"9\" y2=\"25\" />\n",
       "  <line x1=\"9\" y1=\"0\" x2=\"9\" y2=\"25\" />\n",
       "  <line x1=\"9\" y1=\"0\" x2=\"9\" y2=\"25\" />\n",
       "  <line x1=\"9\" y1=\"0\" x2=\"9\" y2=\"25\" />\n",
       "  <line x1=\"9\" y1=\"0\" x2=\"9\" y2=\"25\" />\n",
       "  <line x1=\"9\" y1=\"0\" x2=\"9\" y2=\"25\" />\n",
       "  <line x1=\"9\" y1=\"0\" x2=\"9\" y2=\"25\" />\n",
       "  <line x1=\"9\" y1=\"0\" x2=\"9\" y2=\"25\" />\n",
       "  <line x1=\"10\" y1=\"0\" x2=\"10\" y2=\"25\" />\n",
       "  <line x1=\"10\" y1=\"0\" x2=\"10\" y2=\"25\" />\n",
       "  <line x1=\"10\" y1=\"0\" x2=\"10\" y2=\"25\" />\n",
       "  <line x1=\"10\" y1=\"0\" x2=\"10\" y2=\"25\" />\n",
       "  <line x1=\"10\" y1=\"0\" x2=\"10\" y2=\"25\" />\n",
       "  <line x1=\"10\" y1=\"0\" x2=\"10\" y2=\"25\" />\n",
       "  <line x1=\"10\" y1=\"0\" x2=\"10\" y2=\"25\" />\n",
       "  <line x1=\"10\" y1=\"0\" x2=\"10\" y2=\"25\" />\n",
       "  <line x1=\"11\" y1=\"0\" x2=\"11\" y2=\"25\" />\n",
       "  <line x1=\"11\" y1=\"0\" x2=\"11\" y2=\"25\" />\n",
       "  <line x1=\"11\" y1=\"0\" x2=\"11\" y2=\"25\" />\n",
       "  <line x1=\"11\" y1=\"0\" x2=\"11\" y2=\"25\" />\n",
       "  <line x1=\"11\" y1=\"0\" x2=\"11\" y2=\"25\" />\n",
       "  <line x1=\"11\" y1=\"0\" x2=\"11\" y2=\"25\" />\n",
       "  <line x1=\"11\" y1=\"0\" x2=\"11\" y2=\"25\" />\n",
       "  <line x1=\"11\" y1=\"0\" x2=\"11\" y2=\"25\" />\n",
       "  <line x1=\"12\" y1=\"0\" x2=\"12\" y2=\"25\" />\n",
       "  <line x1=\"12\" y1=\"0\" x2=\"12\" y2=\"25\" />\n",
       "  <line x1=\"12\" y1=\"0\" x2=\"12\" y2=\"25\" />\n",
       "  <line x1=\"12\" y1=\"0\" x2=\"12\" y2=\"25\" />\n",
       "  <line x1=\"12\" y1=\"0\" x2=\"12\" y2=\"25\" />\n",
       "  <line x1=\"12\" y1=\"0\" x2=\"12\" y2=\"25\" />\n",
       "  <line x1=\"12\" y1=\"0\" x2=\"12\" y2=\"25\" />\n",
       "  <line x1=\"12\" y1=\"0\" x2=\"12\" y2=\"25\" />\n",
       "  <line x1=\"12\" y1=\"0\" x2=\"12\" y2=\"25\" />\n",
       "  <line x1=\"13\" y1=\"0\" x2=\"13\" y2=\"25\" />\n",
       "  <line x1=\"13\" y1=\"0\" x2=\"13\" y2=\"25\" />\n",
       "  <line x1=\"13\" y1=\"0\" x2=\"13\" y2=\"25\" />\n",
       "  <line x1=\"13\" y1=\"0\" x2=\"13\" y2=\"25\" />\n",
       "  <line x1=\"13\" y1=\"0\" x2=\"13\" y2=\"25\" />\n",
       "  <line x1=\"13\" y1=\"0\" x2=\"13\" y2=\"25\" />\n",
       "  <line x1=\"13\" y1=\"0\" x2=\"13\" y2=\"25\" />\n",
       "  <line x1=\"13\" y1=\"0\" x2=\"13\" y2=\"25\" />\n",
       "  <line x1=\"14\" y1=\"0\" x2=\"14\" y2=\"25\" />\n",
       "  <line x1=\"14\" y1=\"0\" x2=\"14\" y2=\"25\" />\n",
       "  <line x1=\"14\" y1=\"0\" x2=\"14\" y2=\"25\" />\n",
       "  <line x1=\"14\" y1=\"0\" x2=\"14\" y2=\"25\" />\n",
       "  <line x1=\"14\" y1=\"0\" x2=\"14\" y2=\"25\" />\n",
       "  <line x1=\"14\" y1=\"0\" x2=\"14\" y2=\"25\" />\n",
       "  <line x1=\"14\" y1=\"0\" x2=\"14\" y2=\"25\" />\n",
       "  <line x1=\"14\" y1=\"0\" x2=\"14\" y2=\"25\" />\n",
       "  <line x1=\"15\" y1=\"0\" x2=\"15\" y2=\"25\" />\n",
       "  <line x1=\"15\" y1=\"0\" x2=\"15\" y2=\"25\" />\n",
       "  <line x1=\"15\" y1=\"0\" x2=\"15\" y2=\"25\" />\n",
       "  <line x1=\"15\" y1=\"0\" x2=\"15\" y2=\"25\" />\n",
       "  <line x1=\"15\" y1=\"0\" x2=\"15\" y2=\"25\" />\n",
       "  <line x1=\"15\" y1=\"0\" x2=\"15\" y2=\"25\" />\n",
       "  <line x1=\"15\" y1=\"0\" x2=\"15\" y2=\"25\" />\n",
       "  <line x1=\"15\" y1=\"0\" x2=\"15\" y2=\"25\" />\n",
       "  <line x1=\"15\" y1=\"0\" x2=\"15\" y2=\"25\" />\n",
       "  <line x1=\"16\" y1=\"0\" x2=\"16\" y2=\"25\" />\n",
       "  <line x1=\"16\" y1=\"0\" x2=\"16\" y2=\"25\" />\n",
       "  <line x1=\"16\" y1=\"0\" x2=\"16\" y2=\"25\" />\n",
       "  <line x1=\"16\" y1=\"0\" x2=\"16\" y2=\"25\" />\n",
       "  <line x1=\"16\" y1=\"0\" x2=\"16\" y2=\"25\" />\n",
       "  <line x1=\"16\" y1=\"0\" x2=\"16\" y2=\"25\" />\n",
       "  <line x1=\"16\" y1=\"0\" x2=\"16\" y2=\"25\" />\n",
       "  <line x1=\"16\" y1=\"0\" x2=\"16\" y2=\"25\" />\n",
       "  <line x1=\"17\" y1=\"0\" x2=\"17\" y2=\"25\" />\n",
       "  <line x1=\"17\" y1=\"0\" x2=\"17\" y2=\"25\" />\n",
       "  <line x1=\"17\" y1=\"0\" x2=\"17\" y2=\"25\" />\n",
       "  <line x1=\"17\" y1=\"0\" x2=\"17\" y2=\"25\" />\n",
       "  <line x1=\"17\" y1=\"0\" x2=\"17\" y2=\"25\" />\n",
       "  <line x1=\"17\" y1=\"0\" x2=\"17\" y2=\"25\" />\n",
       "  <line x1=\"17\" y1=\"0\" x2=\"17\" y2=\"25\" />\n",
       "  <line x1=\"17\" y1=\"0\" x2=\"17\" y2=\"25\" />\n",
       "  <line x1=\"18\" y1=\"0\" x2=\"18\" y2=\"25\" />\n",
       "  <line x1=\"18\" y1=\"0\" x2=\"18\" y2=\"25\" />\n",
       "  <line x1=\"18\" y1=\"0\" x2=\"18\" y2=\"25\" />\n",
       "  <line x1=\"18\" y1=\"0\" x2=\"18\" y2=\"25\" />\n",
       "  <line x1=\"18\" y1=\"0\" x2=\"18\" y2=\"25\" />\n",
       "  <line x1=\"18\" y1=\"0\" x2=\"18\" y2=\"25\" />\n",
       "  <line x1=\"18\" y1=\"0\" x2=\"18\" y2=\"25\" />\n",
       "  <line x1=\"18\" y1=\"0\" x2=\"18\" y2=\"25\" />\n",
       "  <line x1=\"18\" y1=\"0\" x2=\"18\" y2=\"25\" />\n",
       "  <line x1=\"19\" y1=\"0\" x2=\"19\" y2=\"25\" />\n",
       "  <line x1=\"19\" y1=\"0\" x2=\"19\" y2=\"25\" />\n",
       "  <line x1=\"19\" y1=\"0\" x2=\"19\" y2=\"25\" />\n",
       "  <line x1=\"19\" y1=\"0\" x2=\"19\" y2=\"25\" />\n",
       "  <line x1=\"19\" y1=\"0\" x2=\"19\" y2=\"25\" />\n",
       "  <line x1=\"19\" y1=\"0\" x2=\"19\" y2=\"25\" />\n",
       "  <line x1=\"19\" y1=\"0\" x2=\"19\" y2=\"25\" />\n",
       "  <line x1=\"19\" y1=\"0\" x2=\"19\" y2=\"25\" />\n",
       "  <line x1=\"20\" y1=\"0\" x2=\"20\" y2=\"25\" />\n",
       "  <line x1=\"20\" y1=\"0\" x2=\"20\" y2=\"25\" />\n",
       "  <line x1=\"20\" y1=\"0\" x2=\"20\" y2=\"25\" />\n",
       "  <line x1=\"20\" y1=\"0\" x2=\"20\" y2=\"25\" />\n",
       "  <line x1=\"20\" y1=\"0\" x2=\"20\" y2=\"25\" />\n",
       "  <line x1=\"20\" y1=\"0\" x2=\"20\" y2=\"25\" />\n",
       "  <line x1=\"20\" y1=\"0\" x2=\"20\" y2=\"25\" />\n",
       "  <line x1=\"20\" y1=\"0\" x2=\"20\" y2=\"25\" />\n",
       "  <line x1=\"21\" y1=\"0\" x2=\"21\" y2=\"25\" />\n",
       "  <line x1=\"21\" y1=\"0\" x2=\"21\" y2=\"25\" />\n",
       "  <line x1=\"21\" y1=\"0\" x2=\"21\" y2=\"25\" />\n",
       "  <line x1=\"21\" y1=\"0\" x2=\"21\" y2=\"25\" />\n",
       "  <line x1=\"21\" y1=\"0\" x2=\"21\" y2=\"25\" />\n",
       "  <line x1=\"21\" y1=\"0\" x2=\"21\" y2=\"25\" />\n",
       "  <line x1=\"21\" y1=\"0\" x2=\"21\" y2=\"25\" />\n",
       "  <line x1=\"21\" y1=\"0\" x2=\"21\" y2=\"25\" />\n",
       "  <line x1=\"21\" y1=\"0\" x2=\"21\" y2=\"25\" />\n",
       "  <line x1=\"22\" y1=\"0\" x2=\"22\" y2=\"25\" />\n",
       "  <line x1=\"22\" y1=\"0\" x2=\"22\" y2=\"25\" />\n",
       "  <line x1=\"22\" y1=\"0\" x2=\"22\" y2=\"25\" />\n",
       "  <line x1=\"22\" y1=\"0\" x2=\"22\" y2=\"25\" />\n",
       "  <line x1=\"22\" y1=\"0\" x2=\"22\" y2=\"25\" />\n",
       "  <line x1=\"22\" y1=\"0\" x2=\"22\" y2=\"25\" />\n",
       "  <line x1=\"22\" y1=\"0\" x2=\"22\" y2=\"25\" />\n",
       "  <line x1=\"22\" y1=\"0\" x2=\"22\" y2=\"25\" />\n",
       "  <line x1=\"23\" y1=\"0\" x2=\"23\" y2=\"25\" />\n",
       "  <line x1=\"23\" y1=\"0\" x2=\"23\" y2=\"25\" />\n",
       "  <line x1=\"23\" y1=\"0\" x2=\"23\" y2=\"25\" />\n",
       "  <line x1=\"23\" y1=\"0\" x2=\"23\" y2=\"25\" />\n",
       "  <line x1=\"23\" y1=\"0\" x2=\"23\" y2=\"25\" />\n",
       "  <line x1=\"23\" y1=\"0\" x2=\"23\" y2=\"25\" />\n",
       "  <line x1=\"23\" y1=\"0\" x2=\"23\" y2=\"25\" />\n",
       "  <line x1=\"23\" y1=\"0\" x2=\"23\" y2=\"25\" />\n",
       "  <line x1=\"24\" y1=\"0\" x2=\"24\" y2=\"25\" />\n",
       "  <line x1=\"24\" y1=\"0\" x2=\"24\" y2=\"25\" />\n",
       "  <line x1=\"24\" y1=\"0\" x2=\"24\" y2=\"25\" />\n",
       "  <line x1=\"24\" y1=\"0\" x2=\"24\" y2=\"25\" />\n",
       "  <line x1=\"24\" y1=\"0\" x2=\"24\" y2=\"25\" />\n",
       "  <line x1=\"24\" y1=\"0\" x2=\"24\" y2=\"25\" />\n",
       "  <line x1=\"24\" y1=\"0\" x2=\"24\" y2=\"25\" />\n",
       "  <line x1=\"24\" y1=\"0\" x2=\"24\" y2=\"25\" />\n",
       "  <line x1=\"24\" y1=\"0\" x2=\"24\" y2=\"25\" />\n",
       "  <line x1=\"25\" y1=\"0\" x2=\"25\" y2=\"25\" />\n",
       "  <line x1=\"25\" y1=\"0\" x2=\"25\" y2=\"25\" />\n",
       "  <line x1=\"25\" y1=\"0\" x2=\"25\" y2=\"25\" />\n",
       "  <line x1=\"25\" y1=\"0\" x2=\"25\" y2=\"25\" />\n",
       "  <line x1=\"25\" y1=\"0\" x2=\"25\" y2=\"25\" />\n",
       "  <line x1=\"25\" y1=\"0\" x2=\"25\" y2=\"25\" />\n",
       "  <line x1=\"25\" y1=\"0\" x2=\"25\" y2=\"25\" />\n",
       "  <line x1=\"25\" y1=\"0\" x2=\"25\" y2=\"25\" />\n",
       "  <line x1=\"26\" y1=\"0\" x2=\"26\" y2=\"25\" />\n",
       "  <line x1=\"26\" y1=\"0\" x2=\"26\" y2=\"25\" />\n",
       "  <line x1=\"26\" y1=\"0\" x2=\"26\" y2=\"25\" />\n",
       "  <line x1=\"26\" y1=\"0\" x2=\"26\" y2=\"25\" />\n",
       "  <line x1=\"26\" y1=\"0\" x2=\"26\" y2=\"25\" />\n",
       "  <line x1=\"26\" y1=\"0\" x2=\"26\" y2=\"25\" />\n",
       "  <line x1=\"26\" y1=\"0\" x2=\"26\" y2=\"25\" />\n",
       "  <line x1=\"26\" y1=\"0\" x2=\"26\" y2=\"25\" />\n",
       "  <line x1=\"27\" y1=\"0\" x2=\"27\" y2=\"25\" />\n",
       "  <line x1=\"27\" y1=\"0\" x2=\"27\" y2=\"25\" />\n",
       "  <line x1=\"27\" y1=\"0\" x2=\"27\" y2=\"25\" />\n",
       "  <line x1=\"27\" y1=\"0\" x2=\"27\" y2=\"25\" />\n",
       "  <line x1=\"27\" y1=\"0\" x2=\"27\" y2=\"25\" />\n",
       "  <line x1=\"27\" y1=\"0\" x2=\"27\" y2=\"25\" />\n",
       "  <line x1=\"27\" y1=\"0\" x2=\"27\" y2=\"25\" />\n",
       "  <line x1=\"27\" y1=\"0\" x2=\"27\" y2=\"25\" />\n",
       "  <line x1=\"27\" y1=\"0\" x2=\"27\" y2=\"25\" />\n",
       "  <line x1=\"28\" y1=\"0\" x2=\"28\" y2=\"25\" />\n",
       "  <line x1=\"28\" y1=\"0\" x2=\"28\" y2=\"25\" />\n",
       "  <line x1=\"28\" y1=\"0\" x2=\"28\" y2=\"25\" />\n",
       "  <line x1=\"28\" y1=\"0\" x2=\"28\" y2=\"25\" />\n",
       "  <line x1=\"28\" y1=\"0\" x2=\"28\" y2=\"25\" />\n",
       "  <line x1=\"28\" y1=\"0\" x2=\"28\" y2=\"25\" />\n",
       "  <line x1=\"28\" y1=\"0\" x2=\"28\" y2=\"25\" />\n",
       "  <line x1=\"28\" y1=\"0\" x2=\"28\" y2=\"25\" />\n",
       "  <line x1=\"29\" y1=\"0\" x2=\"29\" y2=\"25\" />\n",
       "  <line x1=\"29\" y1=\"0\" x2=\"29\" y2=\"25\" />\n",
       "  <line x1=\"29\" y1=\"0\" x2=\"29\" y2=\"25\" />\n",
       "  <line x1=\"29\" y1=\"0\" x2=\"29\" y2=\"25\" />\n",
       "  <line x1=\"29\" y1=\"0\" x2=\"29\" y2=\"25\" />\n",
       "  <line x1=\"29\" y1=\"0\" x2=\"29\" y2=\"25\" />\n",
       "  <line x1=\"29\" y1=\"0\" x2=\"29\" y2=\"25\" />\n",
       "  <line x1=\"29\" y1=\"0\" x2=\"29\" y2=\"25\" />\n",
       "  <line x1=\"30\" y1=\"0\" x2=\"30\" y2=\"25\" />\n",
       "  <line x1=\"30\" y1=\"0\" x2=\"30\" y2=\"25\" />\n",
       "  <line x1=\"30\" y1=\"0\" x2=\"30\" y2=\"25\" />\n",
       "  <line x1=\"30\" y1=\"0\" x2=\"30\" y2=\"25\" />\n",
       "  <line x1=\"30\" y1=\"0\" x2=\"30\" y2=\"25\" />\n",
       "  <line x1=\"30\" y1=\"0\" x2=\"30\" y2=\"25\" />\n",
       "  <line x1=\"30\" y1=\"0\" x2=\"30\" y2=\"25\" />\n",
       "  <line x1=\"30\" y1=\"0\" x2=\"30\" y2=\"25\" />\n",
       "  <line x1=\"30\" y1=\"0\" x2=\"30\" y2=\"25\" />\n",
       "  <line x1=\"31\" y1=\"0\" x2=\"31\" y2=\"25\" />\n",
       "  <line x1=\"31\" y1=\"0\" x2=\"31\" y2=\"25\" />\n",
       "  <line x1=\"31\" y1=\"0\" x2=\"31\" y2=\"25\" />\n",
       "  <line x1=\"31\" y1=\"0\" x2=\"31\" y2=\"25\" />\n",
       "  <line x1=\"31\" y1=\"0\" x2=\"31\" y2=\"25\" />\n",
       "  <line x1=\"31\" y1=\"0\" x2=\"31\" y2=\"25\" />\n",
       "  <line x1=\"31\" y1=\"0\" x2=\"31\" y2=\"25\" />\n",
       "  <line x1=\"31\" y1=\"0\" x2=\"31\" y2=\"25\" />\n",
       "  <line x1=\"32\" y1=\"0\" x2=\"32\" y2=\"25\" />\n",
       "  <line x1=\"32\" y1=\"0\" x2=\"32\" y2=\"25\" />\n",
       "  <line x1=\"32\" y1=\"0\" x2=\"32\" y2=\"25\" />\n",
       "  <line x1=\"32\" y1=\"0\" x2=\"32\" y2=\"25\" />\n",
       "  <line x1=\"32\" y1=\"0\" x2=\"32\" y2=\"25\" />\n",
       "  <line x1=\"32\" y1=\"0\" x2=\"32\" y2=\"25\" />\n",
       "  <line x1=\"32\" y1=\"0\" x2=\"32\" y2=\"25\" />\n",
       "  <line x1=\"32\" y1=\"0\" x2=\"32\" y2=\"25\" />\n",
       "  <line x1=\"33\" y1=\"0\" x2=\"33\" y2=\"25\" />\n",
       "  <line x1=\"33\" y1=\"0\" x2=\"33\" y2=\"25\" />\n",
       "  <line x1=\"33\" y1=\"0\" x2=\"33\" y2=\"25\" />\n",
       "  <line x1=\"33\" y1=\"0\" x2=\"33\" y2=\"25\" />\n",
       "  <line x1=\"33\" y1=\"0\" x2=\"33\" y2=\"25\" />\n",
       "  <line x1=\"33\" y1=\"0\" x2=\"33\" y2=\"25\" />\n",
       "  <line x1=\"33\" y1=\"0\" x2=\"33\" y2=\"25\" />\n",
       "  <line x1=\"33\" y1=\"0\" x2=\"33\" y2=\"25\" />\n",
       "  <line x1=\"33\" y1=\"0\" x2=\"33\" y2=\"25\" />\n",
       "  <line x1=\"34\" y1=\"0\" x2=\"34\" y2=\"25\" />\n",
       "  <line x1=\"34\" y1=\"0\" x2=\"34\" y2=\"25\" />\n",
       "  <line x1=\"34\" y1=\"0\" x2=\"34\" y2=\"25\" />\n",
       "  <line x1=\"34\" y1=\"0\" x2=\"34\" y2=\"25\" />\n",
       "  <line x1=\"34\" y1=\"0\" x2=\"34\" y2=\"25\" />\n",
       "  <line x1=\"34\" y1=\"0\" x2=\"34\" y2=\"25\" />\n",
       "  <line x1=\"34\" y1=\"0\" x2=\"34\" y2=\"25\" />\n",
       "  <line x1=\"34\" y1=\"0\" x2=\"34\" y2=\"25\" />\n",
       "  <line x1=\"35\" y1=\"0\" x2=\"35\" y2=\"25\" />\n",
       "  <line x1=\"35\" y1=\"0\" x2=\"35\" y2=\"25\" />\n",
       "  <line x1=\"35\" y1=\"0\" x2=\"35\" y2=\"25\" />\n",
       "  <line x1=\"35\" y1=\"0\" x2=\"35\" y2=\"25\" />\n",
       "  <line x1=\"35\" y1=\"0\" x2=\"35\" y2=\"25\" />\n",
       "  <line x1=\"35\" y1=\"0\" x2=\"35\" y2=\"25\" />\n",
       "  <line x1=\"35\" y1=\"0\" x2=\"35\" y2=\"25\" />\n",
       "  <line x1=\"35\" y1=\"0\" x2=\"35\" y2=\"25\" />\n",
       "  <line x1=\"36\" y1=\"0\" x2=\"36\" y2=\"25\" />\n",
       "  <line x1=\"36\" y1=\"0\" x2=\"36\" y2=\"25\" />\n",
       "  <line x1=\"36\" y1=\"0\" x2=\"36\" y2=\"25\" />\n",
       "  <line x1=\"36\" y1=\"0\" x2=\"36\" y2=\"25\" />\n",
       "  <line x1=\"36\" y1=\"0\" x2=\"36\" y2=\"25\" />\n",
       "  <line x1=\"36\" y1=\"0\" x2=\"36\" y2=\"25\" />\n",
       "  <line x1=\"36\" y1=\"0\" x2=\"36\" y2=\"25\" />\n",
       "  <line x1=\"36\" y1=\"0\" x2=\"36\" y2=\"25\" />\n",
       "  <line x1=\"36\" y1=\"0\" x2=\"36\" y2=\"25\" />\n",
       "  <line x1=\"37\" y1=\"0\" x2=\"37\" y2=\"25\" />\n",
       "  <line x1=\"37\" y1=\"0\" x2=\"37\" y2=\"25\" />\n",
       "  <line x1=\"37\" y1=\"0\" x2=\"37\" y2=\"25\" />\n",
       "  <line x1=\"37\" y1=\"0\" x2=\"37\" y2=\"25\" />\n",
       "  <line x1=\"37\" y1=\"0\" x2=\"37\" y2=\"25\" />\n",
       "  <line x1=\"37\" y1=\"0\" x2=\"37\" y2=\"25\" />\n",
       "  <line x1=\"37\" y1=\"0\" x2=\"37\" y2=\"25\" />\n",
       "  <line x1=\"37\" y1=\"0\" x2=\"37\" y2=\"25\" />\n",
       "  <line x1=\"38\" y1=\"0\" x2=\"38\" y2=\"25\" />\n",
       "  <line x1=\"38\" y1=\"0\" x2=\"38\" y2=\"25\" />\n",
       "  <line x1=\"38\" y1=\"0\" x2=\"38\" y2=\"25\" />\n",
       "  <line x1=\"38\" y1=\"0\" x2=\"38\" y2=\"25\" />\n",
       "  <line x1=\"38\" y1=\"0\" x2=\"38\" y2=\"25\" />\n",
       "  <line x1=\"38\" y1=\"0\" x2=\"38\" y2=\"25\" />\n",
       "  <line x1=\"38\" y1=\"0\" x2=\"38\" y2=\"25\" />\n",
       "  <line x1=\"38\" y1=\"0\" x2=\"38\" y2=\"25\" />\n",
       "  <line x1=\"39\" y1=\"0\" x2=\"39\" y2=\"25\" />\n",
       "  <line x1=\"39\" y1=\"0\" x2=\"39\" y2=\"25\" />\n",
       "  <line x1=\"39\" y1=\"0\" x2=\"39\" y2=\"25\" />\n",
       "  <line x1=\"39\" y1=\"0\" x2=\"39\" y2=\"25\" />\n",
       "  <line x1=\"39\" y1=\"0\" x2=\"39\" y2=\"25\" />\n",
       "  <line x1=\"39\" y1=\"0\" x2=\"39\" y2=\"25\" />\n",
       "  <line x1=\"39\" y1=\"0\" x2=\"39\" y2=\"25\" />\n",
       "  <line x1=\"39\" y1=\"0\" x2=\"39\" y2=\"25\" />\n",
       "  <line x1=\"39\" y1=\"0\" x2=\"39\" y2=\"25\" />\n",
       "  <line x1=\"40\" y1=\"0\" x2=\"40\" y2=\"25\" />\n",
       "  <line x1=\"40\" y1=\"0\" x2=\"40\" y2=\"25\" />\n",
       "  <line x1=\"40\" y1=\"0\" x2=\"40\" y2=\"25\" />\n",
       "  <line x1=\"40\" y1=\"0\" x2=\"40\" y2=\"25\" />\n",
       "  <line x1=\"40\" y1=\"0\" x2=\"40\" y2=\"25\" />\n",
       "  <line x1=\"40\" y1=\"0\" x2=\"40\" y2=\"25\" />\n",
       "  <line x1=\"40\" y1=\"0\" x2=\"40\" y2=\"25\" />\n",
       "  <line x1=\"40\" y1=\"0\" x2=\"40\" y2=\"25\" />\n",
       "  <line x1=\"41\" y1=\"0\" x2=\"41\" y2=\"25\" />\n",
       "  <line x1=\"41\" y1=\"0\" x2=\"41\" y2=\"25\" />\n",
       "  <line x1=\"41\" y1=\"0\" x2=\"41\" y2=\"25\" />\n",
       "  <line x1=\"41\" y1=\"0\" x2=\"41\" y2=\"25\" />\n",
       "  <line x1=\"41\" y1=\"0\" x2=\"41\" y2=\"25\" />\n",
       "  <line x1=\"41\" y1=\"0\" x2=\"41\" y2=\"25\" />\n",
       "  <line x1=\"41\" y1=\"0\" x2=\"41\" y2=\"25\" />\n",
       "  <line x1=\"41\" y1=\"0\" x2=\"41\" y2=\"25\" />\n",
       "  <line x1=\"42\" y1=\"0\" x2=\"42\" y2=\"25\" />\n",
       "  <line x1=\"42\" y1=\"0\" x2=\"42\" y2=\"25\" />\n",
       "  <line x1=\"42\" y1=\"0\" x2=\"42\" y2=\"25\" />\n",
       "  <line x1=\"42\" y1=\"0\" x2=\"42\" y2=\"25\" />\n",
       "  <line x1=\"42\" y1=\"0\" x2=\"42\" y2=\"25\" />\n",
       "  <line x1=\"42\" y1=\"0\" x2=\"42\" y2=\"25\" />\n",
       "  <line x1=\"42\" y1=\"0\" x2=\"42\" y2=\"25\" />\n",
       "  <line x1=\"42\" y1=\"0\" x2=\"42\" y2=\"25\" />\n",
       "  <line x1=\"42\" y1=\"0\" x2=\"42\" y2=\"25\" />\n",
       "  <line x1=\"43\" y1=\"0\" x2=\"43\" y2=\"25\" />\n",
       "  <line x1=\"43\" y1=\"0\" x2=\"43\" y2=\"25\" />\n",
       "  <line x1=\"43\" y1=\"0\" x2=\"43\" y2=\"25\" />\n",
       "  <line x1=\"43\" y1=\"0\" x2=\"43\" y2=\"25\" />\n",
       "  <line x1=\"43\" y1=\"0\" x2=\"43\" y2=\"25\" />\n",
       "  <line x1=\"43\" y1=\"0\" x2=\"43\" y2=\"25\" />\n",
       "  <line x1=\"43\" y1=\"0\" x2=\"43\" y2=\"25\" />\n",
       "  <line x1=\"43\" y1=\"0\" x2=\"43\" y2=\"25\" />\n",
       "  <line x1=\"44\" y1=\"0\" x2=\"44\" y2=\"25\" />\n",
       "  <line x1=\"44\" y1=\"0\" x2=\"44\" y2=\"25\" />\n",
       "  <line x1=\"44\" y1=\"0\" x2=\"44\" y2=\"25\" />\n",
       "  <line x1=\"44\" y1=\"0\" x2=\"44\" y2=\"25\" />\n",
       "  <line x1=\"44\" y1=\"0\" x2=\"44\" y2=\"25\" />\n",
       "  <line x1=\"44\" y1=\"0\" x2=\"44\" y2=\"25\" />\n",
       "  <line x1=\"44\" y1=\"0\" x2=\"44\" y2=\"25\" />\n",
       "  <line x1=\"44\" y1=\"0\" x2=\"44\" y2=\"25\" />\n",
       "  <line x1=\"45\" y1=\"0\" x2=\"45\" y2=\"25\" />\n",
       "  <line x1=\"45\" y1=\"0\" x2=\"45\" y2=\"25\" />\n",
       "  <line x1=\"45\" y1=\"0\" x2=\"45\" y2=\"25\" />\n",
       "  <line x1=\"45\" y1=\"0\" x2=\"45\" y2=\"25\" />\n",
       "  <line x1=\"45\" y1=\"0\" x2=\"45\" y2=\"25\" />\n",
       "  <line x1=\"45\" y1=\"0\" x2=\"45\" y2=\"25\" />\n",
       "  <line x1=\"45\" y1=\"0\" x2=\"45\" y2=\"25\" />\n",
       "  <line x1=\"45\" y1=\"0\" x2=\"45\" y2=\"25\" />\n",
       "  <line x1=\"45\" y1=\"0\" x2=\"45\" y2=\"25\" />\n",
       "  <line x1=\"46\" y1=\"0\" x2=\"46\" y2=\"25\" />\n",
       "  <line x1=\"46\" y1=\"0\" x2=\"46\" y2=\"25\" />\n",
       "  <line x1=\"46\" y1=\"0\" x2=\"46\" y2=\"25\" />\n",
       "  <line x1=\"46\" y1=\"0\" x2=\"46\" y2=\"25\" />\n",
       "  <line x1=\"46\" y1=\"0\" x2=\"46\" y2=\"25\" />\n",
       "  <line x1=\"46\" y1=\"0\" x2=\"46\" y2=\"25\" />\n",
       "  <line x1=\"46\" y1=\"0\" x2=\"46\" y2=\"25\" />\n",
       "  <line x1=\"46\" y1=\"0\" x2=\"46\" y2=\"25\" />\n",
       "  <line x1=\"47\" y1=\"0\" x2=\"47\" y2=\"25\" />\n",
       "  <line x1=\"47\" y1=\"0\" x2=\"47\" y2=\"25\" />\n",
       "  <line x1=\"47\" y1=\"0\" x2=\"47\" y2=\"25\" />\n",
       "  <line x1=\"47\" y1=\"0\" x2=\"47\" y2=\"25\" />\n",
       "  <line x1=\"47\" y1=\"0\" x2=\"47\" y2=\"25\" />\n",
       "  <line x1=\"47\" y1=\"0\" x2=\"47\" y2=\"25\" />\n",
       "  <line x1=\"47\" y1=\"0\" x2=\"47\" y2=\"25\" />\n",
       "  <line x1=\"47\" y1=\"0\" x2=\"47\" y2=\"25\" />\n",
       "  <line x1=\"48\" y1=\"0\" x2=\"48\" y2=\"25\" />\n",
       "  <line x1=\"48\" y1=\"0\" x2=\"48\" y2=\"25\" />\n",
       "  <line x1=\"48\" y1=\"0\" x2=\"48\" y2=\"25\" />\n",
       "  <line x1=\"48\" y1=\"0\" x2=\"48\" y2=\"25\" />\n",
       "  <line x1=\"48\" y1=\"0\" x2=\"48\" y2=\"25\" />\n",
       "  <line x1=\"48\" y1=\"0\" x2=\"48\" y2=\"25\" />\n",
       "  <line x1=\"48\" y1=\"0\" x2=\"48\" y2=\"25\" />\n",
       "  <line x1=\"48\" y1=\"0\" x2=\"48\" y2=\"25\" />\n",
       "  <line x1=\"48\" y1=\"0\" x2=\"48\" y2=\"25\" />\n",
       "  <line x1=\"49\" y1=\"0\" x2=\"49\" y2=\"25\" />\n",
       "  <line x1=\"49\" y1=\"0\" x2=\"49\" y2=\"25\" />\n",
       "  <line x1=\"49\" y1=\"0\" x2=\"49\" y2=\"25\" />\n",
       "  <line x1=\"49\" y1=\"0\" x2=\"49\" y2=\"25\" />\n",
       "  <line x1=\"49\" y1=\"0\" x2=\"49\" y2=\"25\" />\n",
       "  <line x1=\"49\" y1=\"0\" x2=\"49\" y2=\"25\" />\n",
       "  <line x1=\"49\" y1=\"0\" x2=\"49\" y2=\"25\" />\n",
       "  <line x1=\"49\" y1=\"0\" x2=\"49\" y2=\"25\" />\n",
       "  <line x1=\"50\" y1=\"0\" x2=\"50\" y2=\"25\" />\n",
       "  <line x1=\"50\" y1=\"0\" x2=\"50\" y2=\"25\" />\n",
       "  <line x1=\"50\" y1=\"0\" x2=\"50\" y2=\"25\" />\n",
       "  <line x1=\"50\" y1=\"0\" x2=\"50\" y2=\"25\" />\n",
       "  <line x1=\"50\" y1=\"0\" x2=\"50\" y2=\"25\" />\n",
       "  <line x1=\"50\" y1=\"0\" x2=\"50\" y2=\"25\" />\n",
       "  <line x1=\"50\" y1=\"0\" x2=\"50\" y2=\"25\" />\n",
       "  <line x1=\"50\" y1=\"0\" x2=\"50\" y2=\"25\" />\n",
       "  <line x1=\"51\" y1=\"0\" x2=\"51\" y2=\"25\" />\n",
       "  <line x1=\"51\" y1=\"0\" x2=\"51\" y2=\"25\" />\n",
       "  <line x1=\"51\" y1=\"0\" x2=\"51\" y2=\"25\" />\n",
       "  <line x1=\"51\" y1=\"0\" x2=\"51\" y2=\"25\" />\n",
       "  <line x1=\"51\" y1=\"0\" x2=\"51\" y2=\"25\" />\n",
       "  <line x1=\"51\" y1=\"0\" x2=\"51\" y2=\"25\" />\n",
       "  <line x1=\"51\" y1=\"0\" x2=\"51\" y2=\"25\" />\n",
       "  <line x1=\"51\" y1=\"0\" x2=\"51\" y2=\"25\" />\n",
       "  <line x1=\"51\" y1=\"0\" x2=\"51\" y2=\"25\" />\n",
       "  <line x1=\"52\" y1=\"0\" x2=\"52\" y2=\"25\" />\n",
       "  <line x1=\"52\" y1=\"0\" x2=\"52\" y2=\"25\" />\n",
       "  <line x1=\"52\" y1=\"0\" x2=\"52\" y2=\"25\" />\n",
       "  <line x1=\"52\" y1=\"0\" x2=\"52\" y2=\"25\" />\n",
       "  <line x1=\"52\" y1=\"0\" x2=\"52\" y2=\"25\" />\n",
       "  <line x1=\"52\" y1=\"0\" x2=\"52\" y2=\"25\" />\n",
       "  <line x1=\"52\" y1=\"0\" x2=\"52\" y2=\"25\" />\n",
       "  <line x1=\"52\" y1=\"0\" x2=\"52\" y2=\"25\" />\n",
       "  <line x1=\"53\" y1=\"0\" x2=\"53\" y2=\"25\" />\n",
       "  <line x1=\"53\" y1=\"0\" x2=\"53\" y2=\"25\" />\n",
       "  <line x1=\"53\" y1=\"0\" x2=\"53\" y2=\"25\" />\n",
       "  <line x1=\"53\" y1=\"0\" x2=\"53\" y2=\"25\" />\n",
       "  <line x1=\"53\" y1=\"0\" x2=\"53\" y2=\"25\" />\n",
       "  <line x1=\"53\" y1=\"0\" x2=\"53\" y2=\"25\" />\n",
       "  <line x1=\"53\" y1=\"0\" x2=\"53\" y2=\"25\" />\n",
       "  <line x1=\"53\" y1=\"0\" x2=\"53\" y2=\"25\" />\n",
       "  <line x1=\"54\" y1=\"0\" x2=\"54\" y2=\"25\" />\n",
       "  <line x1=\"54\" y1=\"0\" x2=\"54\" y2=\"25\" />\n",
       "  <line x1=\"54\" y1=\"0\" x2=\"54\" y2=\"25\" />\n",
       "  <line x1=\"54\" y1=\"0\" x2=\"54\" y2=\"25\" />\n",
       "  <line x1=\"54\" y1=\"0\" x2=\"54\" y2=\"25\" />\n",
       "  <line x1=\"54\" y1=\"0\" x2=\"54\" y2=\"25\" />\n",
       "  <line x1=\"54\" y1=\"0\" x2=\"54\" y2=\"25\" />\n",
       "  <line x1=\"54\" y1=\"0\" x2=\"54\" y2=\"25\" />\n",
       "  <line x1=\"54\" y1=\"0\" x2=\"54\" y2=\"25\" />\n",
       "  <line x1=\"55\" y1=\"0\" x2=\"55\" y2=\"25\" />\n",
       "  <line x1=\"55\" y1=\"0\" x2=\"55\" y2=\"25\" />\n",
       "  <line x1=\"55\" y1=\"0\" x2=\"55\" y2=\"25\" />\n",
       "  <line x1=\"55\" y1=\"0\" x2=\"55\" y2=\"25\" />\n",
       "  <line x1=\"55\" y1=\"0\" x2=\"55\" y2=\"25\" />\n",
       "  <line x1=\"55\" y1=\"0\" x2=\"55\" y2=\"25\" />\n",
       "  <line x1=\"55\" y1=\"0\" x2=\"55\" y2=\"25\" />\n",
       "  <line x1=\"55\" y1=\"0\" x2=\"55\" y2=\"25\" />\n",
       "  <line x1=\"56\" y1=\"0\" x2=\"56\" y2=\"25\" />\n",
       "  <line x1=\"56\" y1=\"0\" x2=\"56\" y2=\"25\" />\n",
       "  <line x1=\"56\" y1=\"0\" x2=\"56\" y2=\"25\" />\n",
       "  <line x1=\"56\" y1=\"0\" x2=\"56\" y2=\"25\" />\n",
       "  <line x1=\"56\" y1=\"0\" x2=\"56\" y2=\"25\" />\n",
       "  <line x1=\"56\" y1=\"0\" x2=\"56\" y2=\"25\" />\n",
       "  <line x1=\"56\" y1=\"0\" x2=\"56\" y2=\"25\" />\n",
       "  <line x1=\"56\" y1=\"0\" x2=\"56\" y2=\"25\" />\n",
       "  <line x1=\"57\" y1=\"0\" x2=\"57\" y2=\"25\" />\n",
       "  <line x1=\"57\" y1=\"0\" x2=\"57\" y2=\"25\" />\n",
       "  <line x1=\"57\" y1=\"0\" x2=\"57\" y2=\"25\" />\n",
       "  <line x1=\"57\" y1=\"0\" x2=\"57\" y2=\"25\" />\n",
       "  <line x1=\"57\" y1=\"0\" x2=\"57\" y2=\"25\" />\n",
       "  <line x1=\"57\" y1=\"0\" x2=\"57\" y2=\"25\" />\n",
       "  <line x1=\"57\" y1=\"0\" x2=\"57\" y2=\"25\" />\n",
       "  <line x1=\"57\" y1=\"0\" x2=\"57\" y2=\"25\" />\n",
       "  <line x1=\"57\" y1=\"0\" x2=\"57\" y2=\"25\" />\n",
       "  <line x1=\"58\" y1=\"0\" x2=\"58\" y2=\"25\" />\n",
       "  <line x1=\"58\" y1=\"0\" x2=\"58\" y2=\"25\" />\n",
       "  <line x1=\"58\" y1=\"0\" x2=\"58\" y2=\"25\" />\n",
       "  <line x1=\"58\" y1=\"0\" x2=\"58\" y2=\"25\" />\n",
       "  <line x1=\"58\" y1=\"0\" x2=\"58\" y2=\"25\" />\n",
       "  <line x1=\"58\" y1=\"0\" x2=\"58\" y2=\"25\" />\n",
       "  <line x1=\"58\" y1=\"0\" x2=\"58\" y2=\"25\" />\n",
       "  <line x1=\"58\" y1=\"0\" x2=\"58\" y2=\"25\" />\n",
       "  <line x1=\"59\" y1=\"0\" x2=\"59\" y2=\"25\" />\n",
       "  <line x1=\"59\" y1=\"0\" x2=\"59\" y2=\"25\" />\n",
       "  <line x1=\"59\" y1=\"0\" x2=\"59\" y2=\"25\" />\n",
       "  <line x1=\"59\" y1=\"0\" x2=\"59\" y2=\"25\" />\n",
       "  <line x1=\"59\" y1=\"0\" x2=\"59\" y2=\"25\" />\n",
       "  <line x1=\"59\" y1=\"0\" x2=\"59\" y2=\"25\" />\n",
       "  <line x1=\"59\" y1=\"0\" x2=\"59\" y2=\"25\" />\n",
       "  <line x1=\"59\" y1=\"0\" x2=\"59\" y2=\"25\" />\n",
       "  <line x1=\"60\" y1=\"0\" x2=\"60\" y2=\"25\" />\n",
       "  <line x1=\"60\" y1=\"0\" x2=\"60\" y2=\"25\" />\n",
       "  <line x1=\"60\" y1=\"0\" x2=\"60\" y2=\"25\" />\n",
       "  <line x1=\"60\" y1=\"0\" x2=\"60\" y2=\"25\" />\n",
       "  <line x1=\"60\" y1=\"0\" x2=\"60\" y2=\"25\" />\n",
       "  <line x1=\"60\" y1=\"0\" x2=\"60\" y2=\"25\" />\n",
       "  <line x1=\"60\" y1=\"0\" x2=\"60\" y2=\"25\" />\n",
       "  <line x1=\"60\" y1=\"0\" x2=\"60\" y2=\"25\" />\n",
       "  <line x1=\"60\" y1=\"0\" x2=\"60\" y2=\"25\" />\n",
       "  <line x1=\"61\" y1=\"0\" x2=\"61\" y2=\"25\" />\n",
       "  <line x1=\"61\" y1=\"0\" x2=\"61\" y2=\"25\" />\n",
       "  <line x1=\"61\" y1=\"0\" x2=\"61\" y2=\"25\" />\n",
       "  <line x1=\"61\" y1=\"0\" x2=\"61\" y2=\"25\" />\n",
       "  <line x1=\"61\" y1=\"0\" x2=\"61\" y2=\"25\" />\n",
       "  <line x1=\"61\" y1=\"0\" x2=\"61\" y2=\"25\" />\n",
       "  <line x1=\"61\" y1=\"0\" x2=\"61\" y2=\"25\" />\n",
       "  <line x1=\"61\" y1=\"0\" x2=\"61\" y2=\"25\" />\n",
       "  <line x1=\"62\" y1=\"0\" x2=\"62\" y2=\"25\" />\n",
       "  <line x1=\"62\" y1=\"0\" x2=\"62\" y2=\"25\" />\n",
       "  <line x1=\"62\" y1=\"0\" x2=\"62\" y2=\"25\" />\n",
       "  <line x1=\"62\" y1=\"0\" x2=\"62\" y2=\"25\" />\n",
       "  <line x1=\"62\" y1=\"0\" x2=\"62\" y2=\"25\" />\n",
       "  <line x1=\"62\" y1=\"0\" x2=\"62\" y2=\"25\" />\n",
       "  <line x1=\"62\" y1=\"0\" x2=\"62\" y2=\"25\" />\n",
       "  <line x1=\"62\" y1=\"0\" x2=\"62\" y2=\"25\" />\n",
       "  <line x1=\"63\" y1=\"0\" x2=\"63\" y2=\"25\" />\n",
       "  <line x1=\"63\" y1=\"0\" x2=\"63\" y2=\"25\" />\n",
       "  <line x1=\"63\" y1=\"0\" x2=\"63\" y2=\"25\" />\n",
       "  <line x1=\"63\" y1=\"0\" x2=\"63\" y2=\"25\" />\n",
       "  <line x1=\"63\" y1=\"0\" x2=\"63\" y2=\"25\" />\n",
       "  <line x1=\"63\" y1=\"0\" x2=\"63\" y2=\"25\" />\n",
       "  <line x1=\"63\" y1=\"0\" x2=\"63\" y2=\"25\" />\n",
       "  <line x1=\"63\" y1=\"0\" x2=\"63\" y2=\"25\" />\n",
       "  <line x1=\"63\" y1=\"0\" x2=\"63\" y2=\"25\" />\n",
       "  <line x1=\"64\" y1=\"0\" x2=\"64\" y2=\"25\" />\n",
       "  <line x1=\"64\" y1=\"0\" x2=\"64\" y2=\"25\" />\n",
       "  <line x1=\"64\" y1=\"0\" x2=\"64\" y2=\"25\" />\n",
       "  <line x1=\"64\" y1=\"0\" x2=\"64\" y2=\"25\" />\n",
       "  <line x1=\"64\" y1=\"0\" x2=\"64\" y2=\"25\" />\n",
       "  <line x1=\"64\" y1=\"0\" x2=\"64\" y2=\"25\" />\n",
       "  <line x1=\"64\" y1=\"0\" x2=\"64\" y2=\"25\" />\n",
       "  <line x1=\"64\" y1=\"0\" x2=\"64\" y2=\"25\" />\n",
       "  <line x1=\"65\" y1=\"0\" x2=\"65\" y2=\"25\" />\n",
       "  <line x1=\"65\" y1=\"0\" x2=\"65\" y2=\"25\" />\n",
       "  <line x1=\"65\" y1=\"0\" x2=\"65\" y2=\"25\" />\n",
       "  <line x1=\"65\" y1=\"0\" x2=\"65\" y2=\"25\" />\n",
       "  <line x1=\"65\" y1=\"0\" x2=\"65\" y2=\"25\" />\n",
       "  <line x1=\"65\" y1=\"0\" x2=\"65\" y2=\"25\" />\n",
       "  <line x1=\"65\" y1=\"0\" x2=\"65\" y2=\"25\" />\n",
       "  <line x1=\"65\" y1=\"0\" x2=\"65\" y2=\"25\" />\n",
       "  <line x1=\"66\" y1=\"0\" x2=\"66\" y2=\"25\" />\n",
       "  <line x1=\"66\" y1=\"0\" x2=\"66\" y2=\"25\" />\n",
       "  <line x1=\"66\" y1=\"0\" x2=\"66\" y2=\"25\" />\n",
       "  <line x1=\"66\" y1=\"0\" x2=\"66\" y2=\"25\" />\n",
       "  <line x1=\"66\" y1=\"0\" x2=\"66\" y2=\"25\" />\n",
       "  <line x1=\"66\" y1=\"0\" x2=\"66\" y2=\"25\" />\n",
       "  <line x1=\"66\" y1=\"0\" x2=\"66\" y2=\"25\" />\n",
       "  <line x1=\"66\" y1=\"0\" x2=\"66\" y2=\"25\" />\n",
       "  <line x1=\"66\" y1=\"0\" x2=\"66\" y2=\"25\" />\n",
       "  <line x1=\"67\" y1=\"0\" x2=\"67\" y2=\"25\" />\n",
       "  <line x1=\"67\" y1=\"0\" x2=\"67\" y2=\"25\" />\n",
       "  <line x1=\"67\" y1=\"0\" x2=\"67\" y2=\"25\" />\n",
       "  <line x1=\"67\" y1=\"0\" x2=\"67\" y2=\"25\" />\n",
       "  <line x1=\"67\" y1=\"0\" x2=\"67\" y2=\"25\" />\n",
       "  <line x1=\"67\" y1=\"0\" x2=\"67\" y2=\"25\" />\n",
       "  <line x1=\"67\" y1=\"0\" x2=\"67\" y2=\"25\" />\n",
       "  <line x1=\"67\" y1=\"0\" x2=\"67\" y2=\"25\" />\n",
       "  <line x1=\"68\" y1=\"0\" x2=\"68\" y2=\"25\" />\n",
       "  <line x1=\"68\" y1=\"0\" x2=\"68\" y2=\"25\" />\n",
       "  <line x1=\"68\" y1=\"0\" x2=\"68\" y2=\"25\" />\n",
       "  <line x1=\"68\" y1=\"0\" x2=\"68\" y2=\"25\" />\n",
       "  <line x1=\"68\" y1=\"0\" x2=\"68\" y2=\"25\" />\n",
       "  <line x1=\"68\" y1=\"0\" x2=\"68\" y2=\"25\" />\n",
       "  <line x1=\"68\" y1=\"0\" x2=\"68\" y2=\"25\" />\n",
       "  <line x1=\"68\" y1=\"0\" x2=\"68\" y2=\"25\" />\n",
       "  <line x1=\"69\" y1=\"0\" x2=\"69\" y2=\"25\" />\n",
       "  <line x1=\"69\" y1=\"0\" x2=\"69\" y2=\"25\" />\n",
       "  <line x1=\"69\" y1=\"0\" x2=\"69\" y2=\"25\" />\n",
       "  <line x1=\"69\" y1=\"0\" x2=\"69\" y2=\"25\" />\n",
       "  <line x1=\"69\" y1=\"0\" x2=\"69\" y2=\"25\" />\n",
       "  <line x1=\"69\" y1=\"0\" x2=\"69\" y2=\"25\" />\n",
       "  <line x1=\"69\" y1=\"0\" x2=\"69\" y2=\"25\" />\n",
       "  <line x1=\"69\" y1=\"0\" x2=\"69\" y2=\"25\" />\n",
       "  <line x1=\"69\" y1=\"0\" x2=\"69\" y2=\"25\" />\n",
       "  <line x1=\"70\" y1=\"0\" x2=\"70\" y2=\"25\" />\n",
       "  <line x1=\"70\" y1=\"0\" x2=\"70\" y2=\"25\" />\n",
       "  <line x1=\"70\" y1=\"0\" x2=\"70\" y2=\"25\" />\n",
       "  <line x1=\"70\" y1=\"0\" x2=\"70\" y2=\"25\" />\n",
       "  <line x1=\"70\" y1=\"0\" x2=\"70\" y2=\"25\" />\n",
       "  <line x1=\"70\" y1=\"0\" x2=\"70\" y2=\"25\" />\n",
       "  <line x1=\"70\" y1=\"0\" x2=\"70\" y2=\"25\" />\n",
       "  <line x1=\"70\" y1=\"0\" x2=\"70\" y2=\"25\" />\n",
       "  <line x1=\"71\" y1=\"0\" x2=\"71\" y2=\"25\" />\n",
       "  <line x1=\"71\" y1=\"0\" x2=\"71\" y2=\"25\" />\n",
       "  <line x1=\"71\" y1=\"0\" x2=\"71\" y2=\"25\" />\n",
       "  <line x1=\"71\" y1=\"0\" x2=\"71\" y2=\"25\" />\n",
       "  <line x1=\"71\" y1=\"0\" x2=\"71\" y2=\"25\" />\n",
       "  <line x1=\"71\" y1=\"0\" x2=\"71\" y2=\"25\" />\n",
       "  <line x1=\"71\" y1=\"0\" x2=\"71\" y2=\"25\" />\n",
       "  <line x1=\"71\" y1=\"0\" x2=\"71\" y2=\"25\" />\n",
       "  <line x1=\"72\" y1=\"0\" x2=\"72\" y2=\"25\" />\n",
       "  <line x1=\"72\" y1=\"0\" x2=\"72\" y2=\"25\" />\n",
       "  <line x1=\"72\" y1=\"0\" x2=\"72\" y2=\"25\" />\n",
       "  <line x1=\"72\" y1=\"0\" x2=\"72\" y2=\"25\" />\n",
       "  <line x1=\"72\" y1=\"0\" x2=\"72\" y2=\"25\" />\n",
       "  <line x1=\"72\" y1=\"0\" x2=\"72\" y2=\"25\" />\n",
       "  <line x1=\"72\" y1=\"0\" x2=\"72\" y2=\"25\" />\n",
       "  <line x1=\"72\" y1=\"0\" x2=\"72\" y2=\"25\" />\n",
       "  <line x1=\"72\" y1=\"0\" x2=\"72\" y2=\"25\" />\n",
       "  <line x1=\"73\" y1=\"0\" x2=\"73\" y2=\"25\" />\n",
       "  <line x1=\"73\" y1=\"0\" x2=\"73\" y2=\"25\" />\n",
       "  <line x1=\"73\" y1=\"0\" x2=\"73\" y2=\"25\" />\n",
       "  <line x1=\"73\" y1=\"0\" x2=\"73\" y2=\"25\" />\n",
       "  <line x1=\"73\" y1=\"0\" x2=\"73\" y2=\"25\" />\n",
       "  <line x1=\"73\" y1=\"0\" x2=\"73\" y2=\"25\" />\n",
       "  <line x1=\"73\" y1=\"0\" x2=\"73\" y2=\"25\" />\n",
       "  <line x1=\"73\" y1=\"0\" x2=\"73\" y2=\"25\" />\n",
       "  <line x1=\"74\" y1=\"0\" x2=\"74\" y2=\"25\" />\n",
       "  <line x1=\"74\" y1=\"0\" x2=\"74\" y2=\"25\" />\n",
       "  <line x1=\"74\" y1=\"0\" x2=\"74\" y2=\"25\" />\n",
       "  <line x1=\"74\" y1=\"0\" x2=\"74\" y2=\"25\" />\n",
       "  <line x1=\"74\" y1=\"0\" x2=\"74\" y2=\"25\" />\n",
       "  <line x1=\"74\" y1=\"0\" x2=\"74\" y2=\"25\" />\n",
       "  <line x1=\"74\" y1=\"0\" x2=\"74\" y2=\"25\" />\n",
       "  <line x1=\"74\" y1=\"0\" x2=\"74\" y2=\"25\" />\n",
       "  <line x1=\"75\" y1=\"0\" x2=\"75\" y2=\"25\" />\n",
       "  <line x1=\"75\" y1=\"0\" x2=\"75\" y2=\"25\" />\n",
       "  <line x1=\"75\" y1=\"0\" x2=\"75\" y2=\"25\" />\n",
       "  <line x1=\"75\" y1=\"0\" x2=\"75\" y2=\"25\" />\n",
       "  <line x1=\"75\" y1=\"0\" x2=\"75\" y2=\"25\" />\n",
       "  <line x1=\"75\" y1=\"0\" x2=\"75\" y2=\"25\" />\n",
       "  <line x1=\"75\" y1=\"0\" x2=\"75\" y2=\"25\" />\n",
       "  <line x1=\"75\" y1=\"0\" x2=\"75\" y2=\"25\" />\n",
       "  <line x1=\"75\" y1=\"0\" x2=\"75\" y2=\"25\" />\n",
       "  <line x1=\"76\" y1=\"0\" x2=\"76\" y2=\"25\" />\n",
       "  <line x1=\"76\" y1=\"0\" x2=\"76\" y2=\"25\" />\n",
       "  <line x1=\"76\" y1=\"0\" x2=\"76\" y2=\"25\" />\n",
       "  <line x1=\"76\" y1=\"0\" x2=\"76\" y2=\"25\" />\n",
       "  <line x1=\"76\" y1=\"0\" x2=\"76\" y2=\"25\" />\n",
       "  <line x1=\"76\" y1=\"0\" x2=\"76\" y2=\"25\" />\n",
       "  <line x1=\"76\" y1=\"0\" x2=\"76\" y2=\"25\" />\n",
       "  <line x1=\"76\" y1=\"0\" x2=\"76\" y2=\"25\" />\n",
       "  <line x1=\"77\" y1=\"0\" x2=\"77\" y2=\"25\" />\n",
       "  <line x1=\"77\" y1=\"0\" x2=\"77\" y2=\"25\" />\n",
       "  <line x1=\"77\" y1=\"0\" x2=\"77\" y2=\"25\" />\n",
       "  <line x1=\"77\" y1=\"0\" x2=\"77\" y2=\"25\" />\n",
       "  <line x1=\"77\" y1=\"0\" x2=\"77\" y2=\"25\" />\n",
       "  <line x1=\"77\" y1=\"0\" x2=\"77\" y2=\"25\" />\n",
       "  <line x1=\"77\" y1=\"0\" x2=\"77\" y2=\"25\" />\n",
       "  <line x1=\"77\" y1=\"0\" x2=\"77\" y2=\"25\" />\n",
       "  <line x1=\"78\" y1=\"0\" x2=\"78\" y2=\"25\" />\n",
       "  <line x1=\"78\" y1=\"0\" x2=\"78\" y2=\"25\" />\n",
       "  <line x1=\"78\" y1=\"0\" x2=\"78\" y2=\"25\" />\n",
       "  <line x1=\"78\" y1=\"0\" x2=\"78\" y2=\"25\" />\n",
       "  <line x1=\"78\" y1=\"0\" x2=\"78\" y2=\"25\" />\n",
       "  <line x1=\"78\" y1=\"0\" x2=\"78\" y2=\"25\" />\n",
       "  <line x1=\"78\" y1=\"0\" x2=\"78\" y2=\"25\" />\n",
       "  <line x1=\"78\" y1=\"0\" x2=\"78\" y2=\"25\" />\n",
       "  <line x1=\"78\" y1=\"0\" x2=\"78\" y2=\"25\" />\n",
       "  <line x1=\"79\" y1=\"0\" x2=\"79\" y2=\"25\" />\n",
       "  <line x1=\"79\" y1=\"0\" x2=\"79\" y2=\"25\" />\n",
       "  <line x1=\"79\" y1=\"0\" x2=\"79\" y2=\"25\" />\n",
       "  <line x1=\"79\" y1=\"0\" x2=\"79\" y2=\"25\" />\n",
       "  <line x1=\"79\" y1=\"0\" x2=\"79\" y2=\"25\" />\n",
       "  <line x1=\"79\" y1=\"0\" x2=\"79\" y2=\"25\" />\n",
       "  <line x1=\"79\" y1=\"0\" x2=\"79\" y2=\"25\" />\n",
       "  <line x1=\"79\" y1=\"0\" x2=\"79\" y2=\"25\" />\n",
       "  <line x1=\"80\" y1=\"0\" x2=\"80\" y2=\"25\" />\n",
       "  <line x1=\"80\" y1=\"0\" x2=\"80\" y2=\"25\" />\n",
       "  <line x1=\"80\" y1=\"0\" x2=\"80\" y2=\"25\" />\n",
       "  <line x1=\"80\" y1=\"0\" x2=\"80\" y2=\"25\" />\n",
       "  <line x1=\"80\" y1=\"0\" x2=\"80\" y2=\"25\" />\n",
       "  <line x1=\"80\" y1=\"0\" x2=\"80\" y2=\"25\" />\n",
       "  <line x1=\"80\" y1=\"0\" x2=\"80\" y2=\"25\" />\n",
       "  <line x1=\"80\" y1=\"0\" x2=\"80\" y2=\"25\" />\n",
       "  <line x1=\"81\" y1=\"0\" x2=\"81\" y2=\"25\" />\n",
       "  <line x1=\"81\" y1=\"0\" x2=\"81\" y2=\"25\" />\n",
       "  <line x1=\"81\" y1=\"0\" x2=\"81\" y2=\"25\" />\n",
       "  <line x1=\"81\" y1=\"0\" x2=\"81\" y2=\"25\" />\n",
       "  <line x1=\"81\" y1=\"0\" x2=\"81\" y2=\"25\" />\n",
       "  <line x1=\"81\" y1=\"0\" x2=\"81\" y2=\"25\" />\n",
       "  <line x1=\"81\" y1=\"0\" x2=\"81\" y2=\"25\" />\n",
       "  <line x1=\"81\" y1=\"0\" x2=\"81\" y2=\"25\" />\n",
       "  <line x1=\"81\" y1=\"0\" x2=\"81\" y2=\"25\" />\n",
       "  <line x1=\"82\" y1=\"0\" x2=\"82\" y2=\"25\" />\n",
       "  <line x1=\"82\" y1=\"0\" x2=\"82\" y2=\"25\" />\n",
       "  <line x1=\"82\" y1=\"0\" x2=\"82\" y2=\"25\" />\n",
       "  <line x1=\"82\" y1=\"0\" x2=\"82\" y2=\"25\" />\n",
       "  <line x1=\"82\" y1=\"0\" x2=\"82\" y2=\"25\" />\n",
       "  <line x1=\"82\" y1=\"0\" x2=\"82\" y2=\"25\" />\n",
       "  <line x1=\"82\" y1=\"0\" x2=\"82\" y2=\"25\" />\n",
       "  <line x1=\"82\" y1=\"0\" x2=\"82\" y2=\"25\" />\n",
       "  <line x1=\"83\" y1=\"0\" x2=\"83\" y2=\"25\" />\n",
       "  <line x1=\"83\" y1=\"0\" x2=\"83\" y2=\"25\" />\n",
       "  <line x1=\"83\" y1=\"0\" x2=\"83\" y2=\"25\" />\n",
       "  <line x1=\"83\" y1=\"0\" x2=\"83\" y2=\"25\" />\n",
       "  <line x1=\"83\" y1=\"0\" x2=\"83\" y2=\"25\" />\n",
       "  <line x1=\"83\" y1=\"0\" x2=\"83\" y2=\"25\" />\n",
       "  <line x1=\"83\" y1=\"0\" x2=\"83\" y2=\"25\" />\n",
       "  <line x1=\"83\" y1=\"0\" x2=\"83\" y2=\"25\" />\n",
       "  <line x1=\"84\" y1=\"0\" x2=\"84\" y2=\"25\" />\n",
       "  <line x1=\"84\" y1=\"0\" x2=\"84\" y2=\"25\" />\n",
       "  <line x1=\"84\" y1=\"0\" x2=\"84\" y2=\"25\" />\n",
       "  <line x1=\"84\" y1=\"0\" x2=\"84\" y2=\"25\" />\n",
       "  <line x1=\"84\" y1=\"0\" x2=\"84\" y2=\"25\" />\n",
       "  <line x1=\"84\" y1=\"0\" x2=\"84\" y2=\"25\" />\n",
       "  <line x1=\"84\" y1=\"0\" x2=\"84\" y2=\"25\" />\n",
       "  <line x1=\"84\" y1=\"0\" x2=\"84\" y2=\"25\" />\n",
       "  <line x1=\"84\" y1=\"0\" x2=\"84\" y2=\"25\" />\n",
       "  <line x1=\"85\" y1=\"0\" x2=\"85\" y2=\"25\" />\n",
       "  <line x1=\"85\" y1=\"0\" x2=\"85\" y2=\"25\" />\n",
       "  <line x1=\"85\" y1=\"0\" x2=\"85\" y2=\"25\" />\n",
       "  <line x1=\"85\" y1=\"0\" x2=\"85\" y2=\"25\" />\n",
       "  <line x1=\"85\" y1=\"0\" x2=\"85\" y2=\"25\" />\n",
       "  <line x1=\"85\" y1=\"0\" x2=\"85\" y2=\"25\" />\n",
       "  <line x1=\"85\" y1=\"0\" x2=\"85\" y2=\"25\" />\n",
       "  <line x1=\"85\" y1=\"0\" x2=\"85\" y2=\"25\" />\n",
       "  <line x1=\"86\" y1=\"0\" x2=\"86\" y2=\"25\" />\n",
       "  <line x1=\"86\" y1=\"0\" x2=\"86\" y2=\"25\" />\n",
       "  <line x1=\"86\" y1=\"0\" x2=\"86\" y2=\"25\" />\n",
       "  <line x1=\"86\" y1=\"0\" x2=\"86\" y2=\"25\" />\n",
       "  <line x1=\"86\" y1=\"0\" x2=\"86\" y2=\"25\" />\n",
       "  <line x1=\"86\" y1=\"0\" x2=\"86\" y2=\"25\" />\n",
       "  <line x1=\"86\" y1=\"0\" x2=\"86\" y2=\"25\" />\n",
       "  <line x1=\"86\" y1=\"0\" x2=\"86\" y2=\"25\" />\n",
       "  <line x1=\"87\" y1=\"0\" x2=\"87\" y2=\"25\" />\n",
       "  <line x1=\"87\" y1=\"0\" x2=\"87\" y2=\"25\" />\n",
       "  <line x1=\"87\" y1=\"0\" x2=\"87\" y2=\"25\" />\n",
       "  <line x1=\"87\" y1=\"0\" x2=\"87\" y2=\"25\" />\n",
       "  <line x1=\"87\" y1=\"0\" x2=\"87\" y2=\"25\" />\n",
       "  <line x1=\"87\" y1=\"0\" x2=\"87\" y2=\"25\" />\n",
       "  <line x1=\"87\" y1=\"0\" x2=\"87\" y2=\"25\" />\n",
       "  <line x1=\"87\" y1=\"0\" x2=\"87\" y2=\"25\" />\n",
       "  <line x1=\"87\" y1=\"0\" x2=\"87\" y2=\"25\" />\n",
       "  <line x1=\"88\" y1=\"0\" x2=\"88\" y2=\"25\" />\n",
       "  <line x1=\"88\" y1=\"0\" x2=\"88\" y2=\"25\" />\n",
       "  <line x1=\"88\" y1=\"0\" x2=\"88\" y2=\"25\" />\n",
       "  <line x1=\"88\" y1=\"0\" x2=\"88\" y2=\"25\" />\n",
       "  <line x1=\"88\" y1=\"0\" x2=\"88\" y2=\"25\" />\n",
       "  <line x1=\"88\" y1=\"0\" x2=\"88\" y2=\"25\" />\n",
       "  <line x1=\"88\" y1=\"0\" x2=\"88\" y2=\"25\" />\n",
       "  <line x1=\"88\" y1=\"0\" x2=\"88\" y2=\"25\" />\n",
       "  <line x1=\"89\" y1=\"0\" x2=\"89\" y2=\"25\" />\n",
       "  <line x1=\"89\" y1=\"0\" x2=\"89\" y2=\"25\" />\n",
       "  <line x1=\"89\" y1=\"0\" x2=\"89\" y2=\"25\" />\n",
       "  <line x1=\"89\" y1=\"0\" x2=\"89\" y2=\"25\" />\n",
       "  <line x1=\"89\" y1=\"0\" x2=\"89\" y2=\"25\" />\n",
       "  <line x1=\"89\" y1=\"0\" x2=\"89\" y2=\"25\" />\n",
       "  <line x1=\"89\" y1=\"0\" x2=\"89\" y2=\"25\" />\n",
       "  <line x1=\"89\" y1=\"0\" x2=\"89\" y2=\"25\" />\n",
       "  <line x1=\"90\" y1=\"0\" x2=\"90\" y2=\"25\" />\n",
       "  <line x1=\"90\" y1=\"0\" x2=\"90\" y2=\"25\" />\n",
       "  <line x1=\"90\" y1=\"0\" x2=\"90\" y2=\"25\" />\n",
       "  <line x1=\"90\" y1=\"0\" x2=\"90\" y2=\"25\" />\n",
       "  <line x1=\"90\" y1=\"0\" x2=\"90\" y2=\"25\" />\n",
       "  <line x1=\"90\" y1=\"0\" x2=\"90\" y2=\"25\" />\n",
       "  <line x1=\"90\" y1=\"0\" x2=\"90\" y2=\"25\" />\n",
       "  <line x1=\"90\" y1=\"0\" x2=\"90\" y2=\"25\" />\n",
       "  <line x1=\"90\" y1=\"0\" x2=\"90\" y2=\"25\" />\n",
       "  <line x1=\"91\" y1=\"0\" x2=\"91\" y2=\"25\" />\n",
       "  <line x1=\"91\" y1=\"0\" x2=\"91\" y2=\"25\" />\n",
       "  <line x1=\"91\" y1=\"0\" x2=\"91\" y2=\"25\" />\n",
       "  <line x1=\"91\" y1=\"0\" x2=\"91\" y2=\"25\" />\n",
       "  <line x1=\"91\" y1=\"0\" x2=\"91\" y2=\"25\" />\n",
       "  <line x1=\"91\" y1=\"0\" x2=\"91\" y2=\"25\" />\n",
       "  <line x1=\"91\" y1=\"0\" x2=\"91\" y2=\"25\" />\n",
       "  <line x1=\"91\" y1=\"0\" x2=\"91\" y2=\"25\" />\n",
       "  <line x1=\"92\" y1=\"0\" x2=\"92\" y2=\"25\" />\n",
       "  <line x1=\"92\" y1=\"0\" x2=\"92\" y2=\"25\" />\n",
       "  <line x1=\"92\" y1=\"0\" x2=\"92\" y2=\"25\" />\n",
       "  <line x1=\"92\" y1=\"0\" x2=\"92\" y2=\"25\" />\n",
       "  <line x1=\"92\" y1=\"0\" x2=\"92\" y2=\"25\" />\n",
       "  <line x1=\"92\" y1=\"0\" x2=\"92\" y2=\"25\" />\n",
       "  <line x1=\"92\" y1=\"0\" x2=\"92\" y2=\"25\" />\n",
       "  <line x1=\"92\" y1=\"0\" x2=\"92\" y2=\"25\" />\n",
       "  <line x1=\"93\" y1=\"0\" x2=\"93\" y2=\"25\" />\n",
       "  <line x1=\"93\" y1=\"0\" x2=\"93\" y2=\"25\" />\n",
       "  <line x1=\"93\" y1=\"0\" x2=\"93\" y2=\"25\" />\n",
       "  <line x1=\"93\" y1=\"0\" x2=\"93\" y2=\"25\" />\n",
       "  <line x1=\"93\" y1=\"0\" x2=\"93\" y2=\"25\" />\n",
       "  <line x1=\"93\" y1=\"0\" x2=\"93\" y2=\"25\" />\n",
       "  <line x1=\"93\" y1=\"0\" x2=\"93\" y2=\"25\" />\n",
       "  <line x1=\"93\" y1=\"0\" x2=\"93\" y2=\"25\" />\n",
       "  <line x1=\"93\" y1=\"0\" x2=\"93\" y2=\"25\" />\n",
       "  <line x1=\"94\" y1=\"0\" x2=\"94\" y2=\"25\" />\n",
       "  <line x1=\"94\" y1=\"0\" x2=\"94\" y2=\"25\" />\n",
       "  <line x1=\"94\" y1=\"0\" x2=\"94\" y2=\"25\" />\n",
       "  <line x1=\"94\" y1=\"0\" x2=\"94\" y2=\"25\" />\n",
       "  <line x1=\"94\" y1=\"0\" x2=\"94\" y2=\"25\" />\n",
       "  <line x1=\"94\" y1=\"0\" x2=\"94\" y2=\"25\" />\n",
       "  <line x1=\"94\" y1=\"0\" x2=\"94\" y2=\"25\" />\n",
       "  <line x1=\"94\" y1=\"0\" x2=\"94\" y2=\"25\" />\n",
       "  <line x1=\"95\" y1=\"0\" x2=\"95\" y2=\"25\" />\n",
       "  <line x1=\"95\" y1=\"0\" x2=\"95\" y2=\"25\" />\n",
       "  <line x1=\"95\" y1=\"0\" x2=\"95\" y2=\"25\" />\n",
       "  <line x1=\"95\" y1=\"0\" x2=\"95\" y2=\"25\" />\n",
       "  <line x1=\"95\" y1=\"0\" x2=\"95\" y2=\"25\" />\n",
       "  <line x1=\"95\" y1=\"0\" x2=\"95\" y2=\"25\" />\n",
       "  <line x1=\"95\" y1=\"0\" x2=\"95\" y2=\"25\" />\n",
       "  <line x1=\"95\" y1=\"0\" x2=\"95\" y2=\"25\" />\n",
       "  <line x1=\"96\" y1=\"0\" x2=\"96\" y2=\"25\" />\n",
       "  <line x1=\"96\" y1=\"0\" x2=\"96\" y2=\"25\" />\n",
       "  <line x1=\"96\" y1=\"0\" x2=\"96\" y2=\"25\" />\n",
       "  <line x1=\"96\" y1=\"0\" x2=\"96\" y2=\"25\" />\n",
       "  <line x1=\"96\" y1=\"0\" x2=\"96\" y2=\"25\" />\n",
       "  <line x1=\"96\" y1=\"0\" x2=\"96\" y2=\"25\" />\n",
       "  <line x1=\"96\" y1=\"0\" x2=\"96\" y2=\"25\" />\n",
       "  <line x1=\"96\" y1=\"0\" x2=\"96\" y2=\"25\" />\n",
       "  <line x1=\"96\" y1=\"0\" x2=\"96\" y2=\"25\" />\n",
       "  <line x1=\"97\" y1=\"0\" x2=\"97\" y2=\"25\" />\n",
       "  <line x1=\"97\" y1=\"0\" x2=\"97\" y2=\"25\" />\n",
       "  <line x1=\"97\" y1=\"0\" x2=\"97\" y2=\"25\" />\n",
       "  <line x1=\"97\" y1=\"0\" x2=\"97\" y2=\"25\" />\n",
       "  <line x1=\"97\" y1=\"0\" x2=\"97\" y2=\"25\" />\n",
       "  <line x1=\"97\" y1=\"0\" x2=\"97\" y2=\"25\" />\n",
       "  <line x1=\"97\" y1=\"0\" x2=\"97\" y2=\"25\" />\n",
       "  <line x1=\"97\" y1=\"0\" x2=\"97\" y2=\"25\" />\n",
       "  <line x1=\"98\" y1=\"0\" x2=\"98\" y2=\"25\" />\n",
       "  <line x1=\"98\" y1=\"0\" x2=\"98\" y2=\"25\" />\n",
       "  <line x1=\"98\" y1=\"0\" x2=\"98\" y2=\"25\" />\n",
       "  <line x1=\"98\" y1=\"0\" x2=\"98\" y2=\"25\" />\n",
       "  <line x1=\"98\" y1=\"0\" x2=\"98\" y2=\"25\" />\n",
       "  <line x1=\"98\" y1=\"0\" x2=\"98\" y2=\"25\" />\n",
       "  <line x1=\"98\" y1=\"0\" x2=\"98\" y2=\"25\" />\n",
       "  <line x1=\"98\" y1=\"0\" x2=\"98\" y2=\"25\" />\n",
       "  <line x1=\"99\" y1=\"0\" x2=\"99\" y2=\"25\" />\n",
       "  <line x1=\"99\" y1=\"0\" x2=\"99\" y2=\"25\" />\n",
       "  <line x1=\"99\" y1=\"0\" x2=\"99\" y2=\"25\" />\n",
       "  <line x1=\"99\" y1=\"0\" x2=\"99\" y2=\"25\" />\n",
       "  <line x1=\"99\" y1=\"0\" x2=\"99\" y2=\"25\" />\n",
       "  <line x1=\"99\" y1=\"0\" x2=\"99\" y2=\"25\" />\n",
       "  <line x1=\"99\" y1=\"0\" x2=\"99\" y2=\"25\" />\n",
       "  <line x1=\"99\" y1=\"0\" x2=\"99\" y2=\"25\" />\n",
       "  <line x1=\"99\" y1=\"0\" x2=\"99\" y2=\"25\" />\n",
       "  <line x1=\"100\" y1=\"0\" x2=\"100\" y2=\"25\" />\n",
       "  <line x1=\"100\" y1=\"0\" x2=\"100\" y2=\"25\" />\n",
       "  <line x1=\"100\" y1=\"0\" x2=\"100\" y2=\"25\" />\n",
       "  <line x1=\"100\" y1=\"0\" x2=\"100\" y2=\"25\" />\n",
       "  <line x1=\"100\" y1=\"0\" x2=\"100\" y2=\"25\" />\n",
       "  <line x1=\"100\" y1=\"0\" x2=\"100\" y2=\"25\" />\n",
       "  <line x1=\"100\" y1=\"0\" x2=\"100\" y2=\"25\" />\n",
       "  <line x1=\"100\" y1=\"0\" x2=\"100\" y2=\"25\" />\n",
       "  <line x1=\"101\" y1=\"0\" x2=\"101\" y2=\"25\" />\n",
       "  <line x1=\"101\" y1=\"0\" x2=\"101\" y2=\"25\" />\n",
       "  <line x1=\"101\" y1=\"0\" x2=\"101\" y2=\"25\" />\n",
       "  <line x1=\"101\" y1=\"0\" x2=\"101\" y2=\"25\" />\n",
       "  <line x1=\"101\" y1=\"0\" x2=\"101\" y2=\"25\" />\n",
       "  <line x1=\"101\" y1=\"0\" x2=\"101\" y2=\"25\" />\n",
       "  <line x1=\"101\" y1=\"0\" x2=\"101\" y2=\"25\" />\n",
       "  <line x1=\"101\" y1=\"0\" x2=\"101\" y2=\"25\" />\n",
       "  <line x1=\"102\" y1=\"0\" x2=\"102\" y2=\"25\" />\n",
       "  <line x1=\"102\" y1=\"0\" x2=\"102\" y2=\"25\" />\n",
       "  <line x1=\"102\" y1=\"0\" x2=\"102\" y2=\"25\" />\n",
       "  <line x1=\"102\" y1=\"0\" x2=\"102\" y2=\"25\" />\n",
       "  <line x1=\"102\" y1=\"0\" x2=\"102\" y2=\"25\" />\n",
       "  <line x1=\"102\" y1=\"0\" x2=\"102\" y2=\"25\" />\n",
       "  <line x1=\"102\" y1=\"0\" x2=\"102\" y2=\"25\" />\n",
       "  <line x1=\"102\" y1=\"0\" x2=\"102\" y2=\"25\" />\n",
       "  <line x1=\"102\" y1=\"0\" x2=\"102\" y2=\"25\" />\n",
       "  <line x1=\"103\" y1=\"0\" x2=\"103\" y2=\"25\" />\n",
       "  <line x1=\"103\" y1=\"0\" x2=\"103\" y2=\"25\" />\n",
       "  <line x1=\"103\" y1=\"0\" x2=\"103\" y2=\"25\" />\n",
       "  <line x1=\"103\" y1=\"0\" x2=\"103\" y2=\"25\" />\n",
       "  <line x1=\"103\" y1=\"0\" x2=\"103\" y2=\"25\" />\n",
       "  <line x1=\"103\" y1=\"0\" x2=\"103\" y2=\"25\" />\n",
       "  <line x1=\"103\" y1=\"0\" x2=\"103\" y2=\"25\" />\n",
       "  <line x1=\"103\" y1=\"0\" x2=\"103\" y2=\"25\" />\n",
       "  <line x1=\"104\" y1=\"0\" x2=\"104\" y2=\"25\" />\n",
       "  <line x1=\"104\" y1=\"0\" x2=\"104\" y2=\"25\" />\n",
       "  <line x1=\"104\" y1=\"0\" x2=\"104\" y2=\"25\" />\n",
       "  <line x1=\"104\" y1=\"0\" x2=\"104\" y2=\"25\" />\n",
       "  <line x1=\"104\" y1=\"0\" x2=\"104\" y2=\"25\" />\n",
       "  <line x1=\"104\" y1=\"0\" x2=\"104\" y2=\"25\" />\n",
       "  <line x1=\"104\" y1=\"0\" x2=\"104\" y2=\"25\" />\n",
       "  <line x1=\"104\" y1=\"0\" x2=\"104\" y2=\"25\" />\n",
       "  <line x1=\"105\" y1=\"0\" x2=\"105\" y2=\"25\" />\n",
       "  <line x1=\"105\" y1=\"0\" x2=\"105\" y2=\"25\" />\n",
       "  <line x1=\"105\" y1=\"0\" x2=\"105\" y2=\"25\" />\n",
       "  <line x1=\"105\" y1=\"0\" x2=\"105\" y2=\"25\" />\n",
       "  <line x1=\"105\" y1=\"0\" x2=\"105\" y2=\"25\" />\n",
       "  <line x1=\"105\" y1=\"0\" x2=\"105\" y2=\"25\" />\n",
       "  <line x1=\"105\" y1=\"0\" x2=\"105\" y2=\"25\" />\n",
       "  <line x1=\"105\" y1=\"0\" x2=\"105\" y2=\"25\" />\n",
       "  <line x1=\"105\" y1=\"0\" x2=\"105\" y2=\"25\" />\n",
       "  <line x1=\"106\" y1=\"0\" x2=\"106\" y2=\"25\" />\n",
       "  <line x1=\"106\" y1=\"0\" x2=\"106\" y2=\"25\" />\n",
       "  <line x1=\"106\" y1=\"0\" x2=\"106\" y2=\"25\" />\n",
       "  <line x1=\"106\" y1=\"0\" x2=\"106\" y2=\"25\" />\n",
       "  <line x1=\"106\" y1=\"0\" x2=\"106\" y2=\"25\" />\n",
       "  <line x1=\"106\" y1=\"0\" x2=\"106\" y2=\"25\" />\n",
       "  <line x1=\"106\" y1=\"0\" x2=\"106\" y2=\"25\" />\n",
       "  <line x1=\"106\" y1=\"0\" x2=\"106\" y2=\"25\" />\n",
       "  <line x1=\"107\" y1=\"0\" x2=\"107\" y2=\"25\" />\n",
       "  <line x1=\"107\" y1=\"0\" x2=\"107\" y2=\"25\" />\n",
       "  <line x1=\"107\" y1=\"0\" x2=\"107\" y2=\"25\" />\n",
       "  <line x1=\"107\" y1=\"0\" x2=\"107\" y2=\"25\" />\n",
       "  <line x1=\"107\" y1=\"0\" x2=\"107\" y2=\"25\" />\n",
       "  <line x1=\"107\" y1=\"0\" x2=\"107\" y2=\"25\" />\n",
       "  <line x1=\"107\" y1=\"0\" x2=\"107\" y2=\"25\" />\n",
       "  <line x1=\"107\" y1=\"0\" x2=\"107\" y2=\"25\" />\n",
       "  <line x1=\"108\" y1=\"0\" x2=\"108\" y2=\"25\" />\n",
       "  <line x1=\"108\" y1=\"0\" x2=\"108\" y2=\"25\" />\n",
       "  <line x1=\"108\" y1=\"0\" x2=\"108\" y2=\"25\" />\n",
       "  <line x1=\"108\" y1=\"0\" x2=\"108\" y2=\"25\" />\n",
       "  <line x1=\"108\" y1=\"0\" x2=\"108\" y2=\"25\" />\n",
       "  <line x1=\"108\" y1=\"0\" x2=\"108\" y2=\"25\" />\n",
       "  <line x1=\"108\" y1=\"0\" x2=\"108\" y2=\"25\" />\n",
       "  <line x1=\"108\" y1=\"0\" x2=\"108\" y2=\"25\" />\n",
       "  <line x1=\"108\" y1=\"0\" x2=\"108\" y2=\"25\" />\n",
       "  <line x1=\"109\" y1=\"0\" x2=\"109\" y2=\"25\" />\n",
       "  <line x1=\"109\" y1=\"0\" x2=\"109\" y2=\"25\" />\n",
       "  <line x1=\"109\" y1=\"0\" x2=\"109\" y2=\"25\" />\n",
       "  <line x1=\"109\" y1=\"0\" x2=\"109\" y2=\"25\" />\n",
       "  <line x1=\"109\" y1=\"0\" x2=\"109\" y2=\"25\" />\n",
       "  <line x1=\"109\" y1=\"0\" x2=\"109\" y2=\"25\" />\n",
       "  <line x1=\"109\" y1=\"0\" x2=\"109\" y2=\"25\" />\n",
       "  <line x1=\"109\" y1=\"0\" x2=\"109\" y2=\"25\" />\n",
       "  <line x1=\"110\" y1=\"0\" x2=\"110\" y2=\"25\" />\n",
       "  <line x1=\"110\" y1=\"0\" x2=\"110\" y2=\"25\" />\n",
       "  <line x1=\"110\" y1=\"0\" x2=\"110\" y2=\"25\" />\n",
       "  <line x1=\"110\" y1=\"0\" x2=\"110\" y2=\"25\" />\n",
       "  <line x1=\"110\" y1=\"0\" x2=\"110\" y2=\"25\" />\n",
       "  <line x1=\"110\" y1=\"0\" x2=\"110\" y2=\"25\" />\n",
       "  <line x1=\"110\" y1=\"0\" x2=\"110\" y2=\"25\" />\n",
       "  <line x1=\"110\" y1=\"0\" x2=\"110\" y2=\"25\" />\n",
       "  <line x1=\"111\" y1=\"0\" x2=\"111\" y2=\"25\" />\n",
       "  <line x1=\"111\" y1=\"0\" x2=\"111\" y2=\"25\" />\n",
       "  <line x1=\"111\" y1=\"0\" x2=\"111\" y2=\"25\" />\n",
       "  <line x1=\"111\" y1=\"0\" x2=\"111\" y2=\"25\" />\n",
       "  <line x1=\"111\" y1=\"0\" x2=\"111\" y2=\"25\" />\n",
       "  <line x1=\"111\" y1=\"0\" x2=\"111\" y2=\"25\" />\n",
       "  <line x1=\"111\" y1=\"0\" x2=\"111\" y2=\"25\" />\n",
       "  <line x1=\"111\" y1=\"0\" x2=\"111\" y2=\"25\" />\n",
       "  <line x1=\"111\" y1=\"0\" x2=\"111\" y2=\"25\" />\n",
       "  <line x1=\"112\" y1=\"0\" x2=\"112\" y2=\"25\" />\n",
       "  <line x1=\"112\" y1=\"0\" x2=\"112\" y2=\"25\" />\n",
       "  <line x1=\"112\" y1=\"0\" x2=\"112\" y2=\"25\" />\n",
       "  <line x1=\"112\" y1=\"0\" x2=\"112\" y2=\"25\" />\n",
       "  <line x1=\"112\" y1=\"0\" x2=\"112\" y2=\"25\" />\n",
       "  <line x1=\"112\" y1=\"0\" x2=\"112\" y2=\"25\" />\n",
       "  <line x1=\"112\" y1=\"0\" x2=\"112\" y2=\"25\" />\n",
       "  <line x1=\"112\" y1=\"0\" x2=\"112\" y2=\"25\" />\n",
       "  <line x1=\"113\" y1=\"0\" x2=\"113\" y2=\"25\" />\n",
       "  <line x1=\"113\" y1=\"0\" x2=\"113\" y2=\"25\" />\n",
       "  <line x1=\"113\" y1=\"0\" x2=\"113\" y2=\"25\" />\n",
       "  <line x1=\"113\" y1=\"0\" x2=\"113\" y2=\"25\" />\n",
       "  <line x1=\"113\" y1=\"0\" x2=\"113\" y2=\"25\" />\n",
       "  <line x1=\"113\" y1=\"0\" x2=\"113\" y2=\"25\" />\n",
       "  <line x1=\"113\" y1=\"0\" x2=\"113\" y2=\"25\" />\n",
       "  <line x1=\"113\" y1=\"0\" x2=\"113\" y2=\"25\" />\n",
       "  <line x1=\"114\" y1=\"0\" x2=\"114\" y2=\"25\" />\n",
       "  <line x1=\"114\" y1=\"0\" x2=\"114\" y2=\"25\" />\n",
       "  <line x1=\"114\" y1=\"0\" x2=\"114\" y2=\"25\" />\n",
       "  <line x1=\"114\" y1=\"0\" x2=\"114\" y2=\"25\" />\n",
       "  <line x1=\"114\" y1=\"0\" x2=\"114\" y2=\"25\" />\n",
       "  <line x1=\"114\" y1=\"0\" x2=\"114\" y2=\"25\" />\n",
       "  <line x1=\"114\" y1=\"0\" x2=\"114\" y2=\"25\" />\n",
       "  <line x1=\"114\" y1=\"0\" x2=\"114\" y2=\"25\" />\n",
       "  <line x1=\"114\" y1=\"0\" x2=\"114\" y2=\"25\" />\n",
       "  <line x1=\"115\" y1=\"0\" x2=\"115\" y2=\"25\" />\n",
       "  <line x1=\"115\" y1=\"0\" x2=\"115\" y2=\"25\" />\n",
       "  <line x1=\"115\" y1=\"0\" x2=\"115\" y2=\"25\" />\n",
       "  <line x1=\"115\" y1=\"0\" x2=\"115\" y2=\"25\" />\n",
       "  <line x1=\"115\" y1=\"0\" x2=\"115\" y2=\"25\" />\n",
       "  <line x1=\"115\" y1=\"0\" x2=\"115\" y2=\"25\" />\n",
       "  <line x1=\"115\" y1=\"0\" x2=\"115\" y2=\"25\" />\n",
       "  <line x1=\"115\" y1=\"0\" x2=\"115\" y2=\"25\" />\n",
       "  <line x1=\"116\" y1=\"0\" x2=\"116\" y2=\"25\" />\n",
       "  <line x1=\"116\" y1=\"0\" x2=\"116\" y2=\"25\" />\n",
       "  <line x1=\"116\" y1=\"0\" x2=\"116\" y2=\"25\" />\n",
       "  <line x1=\"116\" y1=\"0\" x2=\"116\" y2=\"25\" />\n",
       "  <line x1=\"116\" y1=\"0\" x2=\"116\" y2=\"25\" />\n",
       "  <line x1=\"116\" y1=\"0\" x2=\"116\" y2=\"25\" />\n",
       "  <line x1=\"116\" y1=\"0\" x2=\"116\" y2=\"25\" />\n",
       "  <line x1=\"116\" y1=\"0\" x2=\"116\" y2=\"25\" />\n",
       "  <line x1=\"117\" y1=\"0\" x2=\"117\" y2=\"25\" />\n",
       "  <line x1=\"117\" y1=\"0\" x2=\"117\" y2=\"25\" />\n",
       "  <line x1=\"117\" y1=\"0\" x2=\"117\" y2=\"25\" />\n",
       "  <line x1=\"117\" y1=\"0\" x2=\"117\" y2=\"25\" />\n",
       "  <line x1=\"117\" y1=\"0\" x2=\"117\" y2=\"25\" />\n",
       "  <line x1=\"117\" y1=\"0\" x2=\"117\" y2=\"25\" />\n",
       "  <line x1=\"117\" y1=\"0\" x2=\"117\" y2=\"25\" />\n",
       "  <line x1=\"117\" y1=\"0\" x2=\"117\" y2=\"25\" />\n",
       "  <line x1=\"117\" y1=\"0\" x2=\"117\" y2=\"25\" />\n",
       "  <line x1=\"118\" y1=\"0\" x2=\"118\" y2=\"25\" />\n",
       "  <line x1=\"118\" y1=\"0\" x2=\"118\" y2=\"25\" />\n",
       "  <line x1=\"118\" y1=\"0\" x2=\"118\" y2=\"25\" />\n",
       "  <line x1=\"118\" y1=\"0\" x2=\"118\" y2=\"25\" />\n",
       "  <line x1=\"118\" y1=\"0\" x2=\"118\" y2=\"25\" />\n",
       "  <line x1=\"118\" y1=\"0\" x2=\"118\" y2=\"25\" />\n",
       "  <line x1=\"118\" y1=\"0\" x2=\"118\" y2=\"25\" />\n",
       "  <line x1=\"118\" y1=\"0\" x2=\"118\" y2=\"25\" />\n",
       "  <line x1=\"119\" y1=\"0\" x2=\"119\" y2=\"25\" />\n",
       "  <line x1=\"119\" y1=\"0\" x2=\"119\" y2=\"25\" />\n",
       "  <line x1=\"119\" y1=\"0\" x2=\"119\" y2=\"25\" />\n",
       "  <line x1=\"119\" y1=\"0\" x2=\"119\" y2=\"25\" />\n",
       "  <line x1=\"119\" y1=\"0\" x2=\"119\" y2=\"25\" />\n",
       "  <line x1=\"119\" y1=\"0\" x2=\"119\" y2=\"25\" />\n",
       "  <line x1=\"119\" y1=\"0\" x2=\"119\" y2=\"25\" />\n",
       "  <line x1=\"119\" y1=\"0\" x2=\"119\" y2=\"25\" />\n",
       "  <line x1=\"120\" y1=\"0\" x2=\"120\" y2=\"25\" style=\"stroke-width:2\" />\n",
       "\n",
       "  <!-- Colored Rectangle -->\n",
       "  <polygon points=\"0.000000,0.000000 120.000000,0.000000 120.000000,25.412617 0.000000,25.412617\" style=\"fill:#ECB172A0;stroke-width:0\"/>\n",
       "\n",
       "  <!-- Text -->\n",
       "  <text x=\"60.000000\" y=\"45.412617\" font-size=\"1.0rem\" font-weight=\"100\" text-anchor=\"middle\" >1000000000</text>\n",
       "  <text x=\"140.000000\" y=\"12.706308\" font-size=\"1.0rem\" font-weight=\"100\" text-anchor=\"middle\" transform=\"rotate(0,140.000000,12.706308)\">1</text>\n",
       "</svg>\n",
       "</td>\n",
       "</tr>\n",
       "</table>"
      ],
      "text/plain": [
       "dask.array<array, shape=(1000000000,), dtype=float32, chunksize=(1000000,), chunktype=numpy.ndarray>"
      ]
     },
     "execution_count": 6,
     "metadata": {},
     "output_type": "execute_result"
    },
    {
     "name": "stderr",
     "output_type": "stream",
     "text": [
      "distributed.nanny - WARNING - Restarting worker\n",
      "distributed.nanny - WARNING - Restarting worker\n",
      "distributed.nanny - WARNING - Restarting worker\n",
      "distributed.nanny - WARNING - Restarting worker\n"
     ]
    }
   ],
   "source": [
    "import dask.array as da\n",
    "x = da.from_array(dset, chunks=(1_000_000,))\n",
    "x"
   ]
  },
  {
   "cell_type": "markdown",
   "metadata": {},
   "source": [
    "### Manipulación de objetos  `dask.array` como si fueran arreglos NumPy."
   ]
  },
  {
   "cell_type": "markdown",
   "metadata": {},
   "source": [
    "Ahora que tenemos un `Array`, realizamos cálculos estándar de estilo numérico como aritmética, matemáticas, rebanado, reducciones, etc.\n",
    "\n",
    "La interfaz es familiar, pero el trabajo real es diferente. `dask_array.sum()` no hace lo mismo que `numpy_array.sum()`."
   ]
  },
  {
   "cell_type": "markdown",
   "metadata": {},
   "source": [
    "### ¿Cuál es la diferencia?"
   ]
  },
  {
   "cell_type": "markdown",
   "metadata": {},
   "source": [
    "`dask_array.sum()` construye una expresión del cálculo. Aún no hace el cálculo. `numpy_array.sum()` calcula la suma inmediatamente."
   ]
  },
  {
   "cell_type": "markdown",
   "metadata": {},
   "source": [
    "*¿Por qué la diferencia?*"
   ]
  },
  {
   "cell_type": "markdown",
   "metadata": {},
   "source": [
    "Las matrices de Dask se dividen en trozos. Cada fragmento debe tener cálculos ejecutados en ese fragmento explícitamente. \n",
    "\n",
    "Si la respuesta deseada proviene de una pequeña porción de todo el conjunto de datos, ejecutar el cálculo sobre todos los datos sería un desperdicio de CPU y memoria."
   ]
  },
  {
   "cell_type": "code",
   "execution_count": 7,
   "metadata": {},
   "outputs": [
    {
     "data": {
      "text/html": [
       "<table>\n",
       "<tr>\n",
       "<td>\n",
       "<table>\n",
       "  <thead>\n",
       "    <tr><td> </td><th> Array </th><th> Chunk </th></tr>\n",
       "  </thead>\n",
       "  <tbody>\n",
       "    <tr><th> Bytes </th><td> 4 B </td> <td> 4 B </td></tr>\n",
       "    <tr><th> Shape </th><td> () </td> <td> () </td></tr>\n",
       "    <tr><th> Count </th><td> 2335 Tasks </td><td> 1 Chunks </td></tr>\n",
       "    <tr><th> Type </th><td> float32 </td><td> numpy.ndarray </td></tr>\n",
       "  </tbody>\n",
       "</table>\n",
       "</td>\n",
       "<td>\n",
       "\n",
       "</td>\n",
       "</tr>\n",
       "</table>"
      ],
      "text/plain": [
       "dask.array<sum-aggregate, shape=(), dtype=float32, chunksize=(), chunktype=numpy.ndarray>"
      ]
     },
     "execution_count": 7,
     "metadata": {},
     "output_type": "execute_result"
    }
   ],
   "source": [
    "result = x.sum()\n",
    "result"
   ]
  },
  {
   "cell_type": "markdown",
   "metadata": {},
   "source": [
    "### Calcula result"
   ]
  },
  {
   "cell_type": "markdown",
   "metadata": {},
   "source": [
    "Los objetos Dask.array se evalúan de forma perezosa. Operaciones como `.sum` crean un gráfico de tareas bloqueadas para ejecutar.\n",
    "\n",
    "Solicitamos el resultado final con una llamada a `.compute()`. Esto desencadena el cálculo real."
   ]
  },
  {
   "cell_type": "code",
   "execution_count": 8,
   "metadata": {},
   "outputs": [
    {
     "data": {
      "text/plain": [
       "1000044000.0"
      ]
     },
     "execution_count": 8,
     "metadata": {},
     "output_type": "execute_result"
    }
   ],
   "source": [
    "result.compute()"
   ]
  },
  {
   "cell_type": "markdown",
   "metadata": {},
   "source": [
    "### Ejercicio:  calcule la media"
   ]
  },
  {
   "cell_type": "markdown",
   "metadata": {},
   "source": [
    "Y la varianza, std, etc. Esto debería ser un pequeño cambio en el ejemplo anterior.\n",
    "\n",
    "Mire qué otras operaciones puede hacer con la finalización de tabulación del cuaderno de Jupyter."
   ]
  },
  {
   "cell_type": "code",
   "execution_count": 9,
   "metadata": {},
   "outputs": [],
   "source": [
    "\n",
    "media = x.mean()\n",
    "var = x.var()\n",
    "min_val = x.min()\n"
   ]
  },
  {
   "cell_type": "code",
   "execution_count": 10,
   "metadata": {},
   "outputs": [
    {
     "name": "stdout",
     "output_type": "stream",
     "text": [
      "1.000044\n",
      "1.0000926\n",
      "2.6702671e-09\n"
     ]
    }
   ],
   "source": [
    "print(media.compute())\n",
    "print(var.compute())\n",
    "print(min_val.compute())"
   ]
  },
  {
   "cell_type": "markdown",
   "metadata": {},
   "source": [
    "¿Coincide esto con el resultado de antes?"
   ]
  },
  {
   "cell_type": "markdown",
   "metadata": {},
   "source": [
    "Rendimiento y paralelismo\n",
    "-------------------------------\n",
    "\n",
    "<img src = \"../images/fail-case.gif\" width = \"40%\" align = \"right\">\n",
    "\n",
    "En nuestros primeros ejemplos usamos bucles `for` para recorrer la matriz un bloque a la vez. Para operaciones simples como \"suma\", esto es óptimo. Sin embargo, para operaciones complejas, es posible que deseemos recorrer la matriz de manera diferente. En particular, es posible que deseemos lo siguiente:\n",
    "\n",
    "1. Utilice varios núcleos en paralelo\n",
    "2. Encadenar  operaciones en un solo bloque antes de pasar al siguiente\n",
    "\n",
    "`Dask.array` traduce sus operaciones de matriz en un gráfico de tareas interrelacionadas con dependencias de datos entre ellas. Dask luego ejecuta este gráfico en paralelo con múltiples subprocesos. Discutiremos más sobre esto en la siguiente sección."
   ]
  },
  {
   "cell_type": "markdown",
   "metadata": {},
   "source": [
    "### Ejemplo"
   ]
  },
  {
   "cell_type": "markdown",
   "metadata": {},
   "source": [
    "1. Construya una matriz de 20000x20000 de valores aleatorios normalmente distribuidos divididos en trozos de tamaño 1000x1000\n",
    "2. Calcula la media a lo largo de un eje.\n",
    "3. Toma cada cien elementos"
   ]
  },
  {
   "cell_type": "code",
   "execution_count": 14,
   "metadata": {},
   "outputs": [],
   "source": [
    "import numpy as np\n",
    "import dask.array as da\n",
    "\n",
    "x = da.random.normal(10, 0.1, size=(20000, 20000),   # 400 million element array \n",
    "                              chunks=(1000, 1000))   # Cut into 1000x1000 sized chunks\n",
    "y = x.mean(axis=0)[::100]                            # Perform NumPy-style operations"
   ]
  },
  {
   "cell_type": "code",
   "execution_count": 13,
   "metadata": {},
   "outputs": [
    {
     "data": {
      "text/plain": [
       "3.2"
      ]
     },
     "execution_count": 13,
     "metadata": {},
     "output_type": "execute_result"
    }
   ],
   "source": [
    "x.nbytes / 1e9  # Gigabytes of the input processed lazily"
   ]
  },
  {
   "cell_type": "code",
   "execution_count": 16,
   "metadata": {},
   "outputs": [
    {
     "data": {
      "text/plain": [
       "(200,)"
      ]
     },
     "execution_count": 16,
     "metadata": {},
     "output_type": "execute_result"
    }
   ],
   "source": [
    "y.shape"
   ]
  },
  {
   "cell_type": "code",
   "execution_count": 14,
   "metadata": {},
   "outputs": [
    {
     "name": "stdout",
     "output_type": "stream",
     "text": [
      "CPU times: user 2.44 s, sys: 286 ms, total: 2.72 s\n",
      "Wall time: 8.69 s\n"
     ]
    },
    {
     "data": {
      "text/plain": [
       "array([ 9.9989215 ,  9.99968716,  9.99927273, 10.0007045 , 10.00024887,\n",
       "       10.00028405, 10.00030822, 10.00079583,  9.99895323, 10.00015781,\n",
       "       10.00013859, 10.00085897, 10.00034425,  9.99964805, 10.00061679,\n",
       "        9.99887458, 10.00017852, 10.00170883, 10.00106123,  9.99963821,\n",
       "       10.00073969, 10.00049258,  9.99871877, 10.00155872,  9.99970209,\n",
       "        9.99930109, 10.00031548, 10.00050111,  9.99927475,  9.99901415,\n",
       "        9.99987058,  9.99974991, 10.0008343 , 10.00098098,  9.99977711,\n",
       "        9.99839027,  9.99982019,  9.99911637, 10.00055103, 10.00090667,\n",
       "        9.9998439 , 10.00024743,  9.99950129,  9.99953935,  9.99929548,\n",
       "       10.00002583,  9.99925749, 10.00094349, 10.00012236, 10.00050856,\n",
       "       10.00009789,  9.99958058, 10.00036899, 10.00066764, 10.00042133,\n",
       "        9.99849623, 10.00020753,  9.99980957, 10.00044673,  9.99981941,\n",
       "       10.001037  ,  9.99992539,  9.99967897, 10.00082097, 10.00033864,\n",
       "        9.99964053, 10.00000462, 10.00016211,  9.99994469,  9.99940201,\n",
       "        9.99949702, 10.00028348,  9.99960276,  9.99951572, 10.00052479,\n",
       "        9.9996941 , 10.00006735,  9.99952364, 10.00007611, 10.00024023,\n",
       "        9.99930564,  9.99928735,  9.99967626, 10.00015346,  9.99996794,\n",
       "       10.0000588 ,  9.9997842 , 10.00038979, 10.00093192,  9.99855671,\n",
       "        9.99930868,  9.9995236 , 10.00051768,  9.9996278 ,  9.9994434 ,\n",
       "        9.99940836, 10.00014059, 10.00077359, 10.00002317,  9.99947679,\n",
       "       10.00018378,  9.99984147, 10.00037544, 10.00060734, 10.00053805,\n",
       "        9.99945124, 10.00069054, 10.00072151,  9.99984051,  9.99900892,\n",
       "        9.99983339,  9.99953479, 10.00101024, 10.00021284, 10.00069706,\n",
       "       10.00014577, 10.00078644,  9.9993515 , 10.00106976, 10.00068076,\n",
       "        9.99963336, 10.00054671, 10.00000732,  9.9993677 ,  9.99851385,\n",
       "       10.00065808, 10.00104988, 10.00077517, 10.00081707, 10.00056997,\n",
       "        9.99815141, 10.0002373 ,  9.99961721,  9.99935144,  9.99909008,\n",
       "        9.9998636 , 10.0001565 , 10.00023304,  9.99927047,  9.99902058,\n",
       "        9.99994942,  9.99960901, 10.00047172, 10.00025281,  9.99957453,\n",
       "       10.00108653,  9.99940312, 10.00053355,  9.99949819,  9.99979507,\n",
       "        9.99934507,  9.99933461,  9.99889703,  9.99901372, 10.00013687,\n",
       "        9.99917842,  9.9991301 ,  9.99948743,  9.99987606, 10.00080073,\n",
       "       10.0005425 , 10.00021722, 10.00075041,  9.99971974,  9.99921306,\n",
       "       10.00027797, 10.00014743,  9.99900923,  9.99828756,  9.99973272,\n",
       "        9.99967673, 10.00031833, 10.0004479 , 10.00054846,  9.99939713,\n",
       "        9.99999359,  9.99920384,  9.99907937,  9.99869507,  9.99926497,\n",
       "       10.00043059,  9.99997608,  9.99951599,  9.99985593,  9.9996199 ,\n",
       "       10.00011099,  9.99986636,  9.99963516, 10.00020713, 10.00077551,\n",
       "       10.00010191,  9.99993756,  9.99986229, 10.00015718,  9.99966965,\n",
       "       10.00039675, 10.00085547, 10.00003514,  9.99967091, 10.00012599])"
      ]
     },
     "execution_count": 14,
     "metadata": {},
     "output_type": "execute_result"
    }
   ],
   "source": [
    "%%time\n",
    "y.compute()     # Time to compute the result"
   ]
  },
  {
   "cell_type": "markdown",
   "metadata": {},
   "source": [
    "Comparación de rendimiento\n",
    "---------------------------\n",
    "\n",
    "El siguiente experimento se realizó en una computadora portátil personal pesada. Su desempeño puede variar. Si intenta la versión NumPy, asegúrese de tener más de 4 GB de memoria principal."
   ]
  },
  {
   "cell_type": "markdown",
   "metadata": {},
   "source": [
    "### NumPy: 19s, Necesita gigabytes de memoria"
   ]
  },
  {
   "cell_type": "markdown",
   "metadata": {},
   "source": [
    "```python\n",
    "import numpy as np\n",
    "\n",
    "%%time \n",
    "x = np.random.normal(10, 0.1, size=(20000, 20000)) \n",
    "y = x.mean(axis=0)[::100] \n",
    "y\n",
    "\n",
    "CPU times: user 19.6 s, sys: 160 ms, total: 19.8 s\n",
    "Wall time: 19.7 s\n",
    "```"
   ]
  },
  {
   "cell_type": "markdown",
   "metadata": {},
   "source": [
    "### Dask Array: 4s, Necesita megabytes de memoria"
   ]
  },
  {
   "cell_type": "markdown",
   "metadata": {},
   "source": [
    "```python\n",
    "import dask.array as da\n",
    "\n",
    "%%time\n",
    "x = da.random.normal(10, 0.1, size=(20000, 20000), chunks=(1000, 1000))\n",
    "y = x.mean(axis=0)[::100] \n",
    "y.compute() \n",
    "\n",
    "CPU times: user 29.4 s, sys: 1.07 s, total: 30.5 s\n",
    "Wall time: 4.01 s\n",
    "```"
   ]
  },
  {
   "cell_type": "markdown",
   "metadata": {},
   "source": [
    "### Discusión"
   ]
  },
  {
   "cell_type": "markdown",
   "metadata": {},
   "source": [
    "Observe que el cálculo de la matriz Dask se ejecutó en 4 segundos, pero utilizó 29,4 segundos de tiempo de CPU del usuario. El cálculo NumPy se ejecutó en 19,7 segundos y utilizó 19,6 segundos de tiempo de CPU del usuario.\n",
    "\n",
    "Dask terminó más rápido, pero usó más tiempo total de CPU porque Dask pudo paralelizar de manera transparente el cálculo debido al tamaño del fragmento."
   ]
  },
  {
   "cell_type": "markdown",
   "metadata": {},
   "source": [
    "### Preguntas"
   ]
  },
  {
   "cell_type": "markdown",
   "metadata": {},
   "source": [
    "* ¿Qué sucede si dask chunks = (20000,20000)?\n",
    "    * ¿Se ejecutará el cálculo en 4 segundos?\n",
    "    * ¿Cuánta memoria se utilizará?\n",
    "* ¿Qué sucede si el dask chunks = (25,25)?\n",
    "    * ¿Qué pasa con la CPU y la memoria?"
   ]
  },
  {
   "cell_type": "markdown",
   "metadata": {},
   "source": [
    "### Ejercicio. Datos metereológicos"
   ]
  },
  {
   "cell_type": "markdown",
   "metadata": {},
   "source": [
    "Hay 2GB de datos meteorológicos algo artificiales en archivos HDF5 en `data/weather-big/*. Hdf5`. Usaremos la biblioteca `h5py` para interactuar con estos datos y `dask.array` para calcularlos.\n",
    "\n",
    "Nuestro objetivo es visualizar la temperatura promedio en la superficie de la Tierra para este mes. Esto requerirá una media de todos estos datos. Haremos esto en los siguientes pasos\n",
    "\n",
    "1. Cree objetos `h5py.Dataset` para cada uno de los días de datos en el disco (`dsets`)\n",
    "2. Envuelva estos con llamadas `da.from_array`\n",
    "3. Apile estos conjuntos de datos a lo largo del tiempo con una llamada a `da.stack`\n",
    "4. Calcule la media a lo largo del eje de tiempo recién apilado con el método `.mean()`\n",
    "5. Visualice el resultado con `matplotlib.pyplot.imshow`"
   ]
  },
  {
   "cell_type": "code",
   "execution_count": null,
   "metadata": {},
   "outputs": [],
   "source": [
    "# %run prep.py -d weather"
   ]
  },
  {
   "cell_type": "markdown",
   "metadata": {},
   "source": [
    "Vaya a la terminal y en la carpeta dask-tutoria ejecute el siguiente comando para crear lo datos"
   ]
  },
  {
   "cell_type": "raw",
   "metadata": {},
   "source": [
    "python prep.py -d weather"
   ]
  },
  {
   "cell_type": "code",
   "execution_count": 11,
   "metadata": {},
   "outputs": [
    {
     "name": "stdout",
     "output_type": "stream",
     "text": [
      "<KeysViewHDF5 ['t2m']>\n",
      "<HDF5 dataset \"t2m\": shape (5760, 11520), type \"<f8\">\n"
     ]
    }
   ],
   "source": [
    "import h5py\n",
    "from glob import glob\n",
    "import os\n",
    "\n",
    "filenames = sorted(glob(os.path.join('../data', 'weather-big', '*.hdf5')))\n",
    "dsets = [h5py.File(filename, mode='r')['/t2m'] for filename in filenames]\n",
    "\n",
    "print(h5py.File(filenames[0], mode='r').keys())\n",
    "print(dsets[0])"
   ]
  },
  {
   "cell_type": "code",
   "execution_count": 18,
   "metadata": {},
   "outputs": [
    {
     "data": {
      "text/plain": [
       "array([[22.53240967, 23.89801025, 25.26361084, 26.62921143, 27.99481201],\n",
       "       [23.89801025, 25.34637451, 26.79473877, 28.24310303, 29.69146729],\n",
       "       [25.26361084, 26.79473877, 28.3258667 , 29.85699463, 31.38812256],\n",
       "       [26.62921143, 28.24310303, 29.85699463, 31.47088623, 33.08477783],\n",
       "       [27.99481201, 29.69146729, 31.38812256, 33.08477783, 34.78143311]])"
      ]
     },
     "execution_count": 18,
     "metadata": {},
     "output_type": "execute_result"
    }
   ],
   "source": [
    "dsets[0][:5, :5]  # Slicing into h5py.Dataset object gives a numpy array"
   ]
  },
  {
   "cell_type": "code",
   "execution_count": 19,
   "metadata": {},
   "outputs": [
    {
     "data": {
      "image/png": "[encoded data removed]",
      "text/plain": [
       "<Figure size 1152x576 with 1 Axes>"
      ]
     },
     "metadata": {
      "needs_background": "light"
     },
     "output_type": "display_data"
    }
   ],
   "source": [
    "%matplotlib inline\n",
    "import matplotlib.pyplot as plt\n",
    "\n",
    "fig = plt.figure(figsize=(16, 8))\n",
    "plt.imshow(dsets[0][::4, ::4], cmap='RdBu_r');"
   ]
  },
  {
   "cell_type": "markdown",
   "metadata": {},
   "source": [
    "### Integración with `dask.array`"
   ]
  },
  {
   "cell_type": "markdown",
   "metadata": {},
   "source": [
    "Haga una lista de objetos `dask.array` de su lista de objetos` h5py.Dataset` usando la función `da.from_array` con un tamaño de fragmento (chunk) de `(500, 500)`."
   ]
  },
  {
   "cell_type": "code",
   "execution_count": 15,
   "metadata": {},
   "outputs": [
    {
     "data": {
      "text/plain": [
       "[dask.array<array, shape=(5760, 11520), dtype=float64, chunksize=(500, 500), chunktype=numpy.ndarray>,\n",
       " dask.array<array, shape=(5760, 11520), dtype=float64, chunksize=(500, 500), chunktype=numpy.ndarray>,\n",
       " dask.array<array, shape=(5760, 11520), dtype=float64, chunksize=(500, 500), chunktype=numpy.ndarray>,\n",
       " dask.array<array, shape=(5760, 11520), dtype=float64, chunksize=(500, 500), chunktype=numpy.ndarray>,\n",
       " dask.array<array, shape=(5760, 11520), dtype=float64, chunksize=(500, 500), chunktype=numpy.ndarray>,\n",
       " dask.array<array, shape=(5760, 11520), dtype=float64, chunksize=(500, 500), chunktype=numpy.ndarray>,\n",
       " dask.array<array, shape=(5760, 11520), dtype=float64, chunksize=(500, 500), chunktype=numpy.ndarray>,\n",
       " dask.array<array, shape=(5760, 11520), dtype=float64, chunksize=(500, 500), chunktype=numpy.ndarray>,\n",
       " dask.array<array, shape=(5760, 11520), dtype=float64, chunksize=(500, 500), chunktype=numpy.ndarray>,\n",
       " dask.array<array, shape=(5760, 11520), dtype=float64, chunksize=(500, 500), chunktype=numpy.ndarray>,\n",
       " dask.array<array, shape=(5760, 11520), dtype=float64, chunksize=(500, 500), chunktype=numpy.ndarray>,\n",
       " dask.array<array, shape=(5760, 11520), dtype=float64, chunksize=(500, 500), chunktype=numpy.ndarray>,\n",
       " dask.array<array, shape=(5760, 11520), dtype=float64, chunksize=(500, 500), chunktype=numpy.ndarray>,\n",
       " dask.array<array, shape=(5760, 11520), dtype=float64, chunksize=(500, 500), chunktype=numpy.ndarray>,\n",
       " dask.array<array, shape=(5760, 11520), dtype=float64, chunksize=(500, 500), chunktype=numpy.ndarray>,\n",
       " dask.array<array, shape=(5760, 11520), dtype=float64, chunksize=(500, 500), chunktype=numpy.ndarray>,\n",
       " dask.array<array, shape=(5760, 11520), dtype=float64, chunksize=(500, 500), chunktype=numpy.ndarray>,\n",
       " dask.array<array, shape=(5760, 11520), dtype=float64, chunksize=(500, 500), chunktype=numpy.ndarray>,\n",
       " dask.array<array, shape=(5760, 11520), dtype=float64, chunksize=(500, 500), chunktype=numpy.ndarray>,\n",
       " dask.array<array, shape=(5760, 11520), dtype=float64, chunksize=(500, 500), chunktype=numpy.ndarray>,\n",
       " dask.array<array, shape=(5760, 11520), dtype=float64, chunksize=(500, 500), chunktype=numpy.ndarray>,\n",
       " dask.array<array, shape=(5760, 11520), dtype=float64, chunksize=(500, 500), chunktype=numpy.ndarray>,\n",
       " dask.array<array, shape=(5760, 11520), dtype=float64, chunksize=(500, 500), chunktype=numpy.ndarray>,\n",
       " dask.array<array, shape=(5760, 11520), dtype=float64, chunksize=(500, 500), chunktype=numpy.ndarray>,\n",
       " dask.array<array, shape=(5760, 11520), dtype=float64, chunksize=(500, 500), chunktype=numpy.ndarray>,\n",
       " dask.array<array, shape=(5760, 11520), dtype=float64, chunksize=(500, 500), chunktype=numpy.ndarray>,\n",
       " dask.array<array, shape=(5760, 11520), dtype=float64, chunksize=(500, 500), chunktype=numpy.ndarray>,\n",
       " dask.array<array, shape=(5760, 11520), dtype=float64, chunksize=(500, 500), chunktype=numpy.ndarray>,\n",
       " dask.array<array, shape=(5760, 11520), dtype=float64, chunksize=(500, 500), chunktype=numpy.ndarray>,\n",
       " dask.array<array, shape=(5760, 11520), dtype=float64, chunksize=(500, 500), chunktype=numpy.ndarray>,\n",
       " dask.array<array, shape=(5760, 11520), dtype=float64, chunksize=(500, 500), chunktype=numpy.ndarray>]"
      ]
     },
     "execution_count": 15,
     "metadata": {},
     "output_type": "execute_result"
    }
   ],
   "source": [
    "arrays = [da.from_array(dset, chunks=(500, 500)) for dset in dsets]\n",
    "arrays"
   ]
  },
  {
   "cell_type": "markdown",
   "metadata": {},
   "source": [
    "### Apile (Stack) esta lista de objetos `dask.array` es un solo objeto `dask.array` usando `da.stack`"
   ]
  },
  {
   "cell_type": "markdown",
   "metadata": {},
   "source": [
    "Apílelos a lo largo del primer eje para que la forma de la matriz resultante sea \"(31, 5760, 11520)\"."
   ]
  },
  {
   "cell_type": "code",
   "execution_count": 16,
   "metadata": {},
   "outputs": [
    {
     "data": {
      "text/html": [
       "<table>\n",
       "<tr>\n",
       "<td>\n",
       "<table>\n",
       "  <thead>\n",
       "    <tr><td> </td><th> Array </th><th> Chunk </th></tr>\n",
       "  </thead>\n",
       "  <tbody>\n",
       "    <tr><th> Bytes </th><td> 16.46 GB </td> <td> 2.00 MB </td></tr>\n",
       "    <tr><th> Shape </th><td> (31, 5760, 11520) </td> <td> (1, 500, 500) </td></tr>\n",
       "    <tr><th> Count </th><td> 17887 Tasks </td><td> 8928 Chunks </td></tr>\n",
       "    <tr><th> Type </th><td> float64 </td><td> numpy.ndarray </td></tr>\n",
       "  </tbody>\n",
       "</table>\n",
       "</td>\n",
       "<td>\n",
       "<svg width=\"194\" height=\"124\" style=\"stroke:rgb(0,0,0);stroke-width:1\" >\n",
       "\n",
       "  <!-- Horizontal lines -->\n",
       "  <line x1=\"10\" y1=\"0\" x2=\"24\" y2=\"14\" style=\"stroke-width:2\" />\n",
       "  <line x1=\"10\" y1=\"5\" x2=\"24\" y2=\"20\" />\n",
       "  <line x1=\"10\" y1=\"10\" x2=\"24\" y2=\"25\" />\n",
       "  <line x1=\"10\" y1=\"15\" x2=\"24\" y2=\"30\" />\n",
       "  <line x1=\"10\" y1=\"20\" x2=\"24\" y2=\"35\" />\n",
       "  <line x1=\"10\" y1=\"26\" x2=\"24\" y2=\"40\" />\n",
       "  <line x1=\"10\" y1=\"31\" x2=\"24\" y2=\"46\" />\n",
       "  <line x1=\"10\" y1=\"36\" x2=\"24\" y2=\"51\" />\n",
       "  <line x1=\"10\" y1=\"41\" x2=\"24\" y2=\"56\" />\n",
       "  <line x1=\"10\" y1=\"46\" x2=\"24\" y2=\"61\" />\n",
       "  <line x1=\"10\" y1=\"52\" x2=\"24\" y2=\"67\" />\n",
       "  <line x1=\"10\" y1=\"57\" x2=\"24\" y2=\"72\" />\n",
       "  <line x1=\"10\" y1=\"60\" x2=\"24\" y2=\"74\" style=\"stroke-width:2\" />\n",
       "\n",
       "  <!-- Vertical lines -->\n",
       "  <line x1=\"10\" y1=\"0\" x2=\"10\" y2=\"60\" style=\"stroke-width:2\" />\n",
       "  <line x1=\"10\" y1=\"0\" x2=\"10\" y2=\"60\" />\n",
       "  <line x1=\"10\" y1=\"0\" x2=\"10\" y2=\"60\" />\n",
       "  <line x1=\"11\" y1=\"1\" x2=\"11\" y2=\"61\" />\n",
       "  <line x1=\"11\" y1=\"1\" x2=\"11\" y2=\"61\" />\n",
       "  <line x1=\"12\" y1=\"2\" x2=\"12\" y2=\"62\" />\n",
       "  <line x1=\"12\" y1=\"2\" x2=\"12\" y2=\"62\" />\n",
       "  <line x1=\"13\" y1=\"3\" x2=\"13\" y2=\"63\" />\n",
       "  <line x1=\"13\" y1=\"3\" x2=\"13\" y2=\"63\" />\n",
       "  <line x1=\"14\" y1=\"4\" x2=\"14\" y2=\"64\" />\n",
       "  <line x1=\"14\" y1=\"4\" x2=\"14\" y2=\"64\" />\n",
       "  <line x1=\"15\" y1=\"5\" x2=\"15\" y2=\"65\" />\n",
       "  <line x1=\"15\" y1=\"5\" x2=\"15\" y2=\"65\" />\n",
       "  <line x1=\"16\" y1=\"6\" x2=\"16\" y2=\"66\" />\n",
       "  <line x1=\"16\" y1=\"6\" x2=\"16\" y2=\"66\" />\n",
       "  <line x1=\"17\" y1=\"7\" x2=\"17\" y2=\"67\" />\n",
       "  <line x1=\"17\" y1=\"7\" x2=\"17\" y2=\"67\" />\n",
       "  <line x1=\"18\" y1=\"8\" x2=\"18\" y2=\"68\" />\n",
       "  <line x1=\"18\" y1=\"8\" x2=\"18\" y2=\"68\" />\n",
       "  <line x1=\"19\" y1=\"9\" x2=\"19\" y2=\"69\" />\n",
       "  <line x1=\"19\" y1=\"9\" x2=\"19\" y2=\"69\" />\n",
       "  <line x1=\"20\" y1=\"10\" x2=\"20\" y2=\"70\" />\n",
       "  <line x1=\"20\" y1=\"10\" x2=\"20\" y2=\"70\" />\n",
       "  <line x1=\"21\" y1=\"11\" x2=\"21\" y2=\"71\" />\n",
       "  <line x1=\"21\" y1=\"11\" x2=\"21\" y2=\"71\" />\n",
       "  <line x1=\"22\" y1=\"12\" x2=\"22\" y2=\"72\" />\n",
       "  <line x1=\"22\" y1=\"12\" x2=\"22\" y2=\"72\" />\n",
       "  <line x1=\"23\" y1=\"13\" x2=\"23\" y2=\"73\" />\n",
       "  <line x1=\"23\" y1=\"13\" x2=\"23\" y2=\"73\" />\n",
       "  <line x1=\"23\" y1=\"13\" x2=\"23\" y2=\"73\" />\n",
       "  <line x1=\"24\" y1=\"14\" x2=\"24\" y2=\"74\" />\n",
       "  <line x1=\"24\" y1=\"14\" x2=\"24\" y2=\"74\" style=\"stroke-width:2\" />\n",
       "\n",
       "  <!-- Colored Rectangle -->\n",
       "  <polygon points=\"10.000000,0.000000 24.948598,14.948598 24.948598,74.948598 10.000000,60.000000\" style=\"fill:#ECB172A0;stroke-width:0\"/>\n",
       "\n",
       "  <!-- Horizontal lines -->\n",
       "  <line x1=\"10\" y1=\"0\" x2=\"130\" y2=\"0\" style=\"stroke-width:2\" />\n",
       "  <line x1=\"10\" y1=\"0\" x2=\"130\" y2=\"0\" />\n",
       "  <line x1=\"10\" y1=\"0\" x2=\"130\" y2=\"0\" />\n",
       "  <line x1=\"11\" y1=\"1\" x2=\"131\" y2=\"1\" />\n",
       "  <line x1=\"11\" y1=\"1\" x2=\"131\" y2=\"1\" />\n",
       "  <line x1=\"12\" y1=\"2\" x2=\"132\" y2=\"2\" />\n",
       "  <line x1=\"12\" y1=\"2\" x2=\"132\" y2=\"2\" />\n",
       "  <line x1=\"13\" y1=\"3\" x2=\"133\" y2=\"3\" />\n",
       "  <line x1=\"13\" y1=\"3\" x2=\"133\" y2=\"3\" />\n",
       "  <line x1=\"14\" y1=\"4\" x2=\"134\" y2=\"4\" />\n",
       "  <line x1=\"14\" y1=\"4\" x2=\"134\" y2=\"4\" />\n",
       "  <line x1=\"15\" y1=\"5\" x2=\"135\" y2=\"5\" />\n",
       "  <line x1=\"15\" y1=\"5\" x2=\"135\" y2=\"5\" />\n",
       "  <line x1=\"16\" y1=\"6\" x2=\"136\" y2=\"6\" />\n",
       "  <line x1=\"16\" y1=\"6\" x2=\"136\" y2=\"6\" />\n",
       "  <line x1=\"17\" y1=\"7\" x2=\"137\" y2=\"7\" />\n",
       "  <line x1=\"17\" y1=\"7\" x2=\"137\" y2=\"7\" />\n",
       "  <line x1=\"18\" y1=\"8\" x2=\"138\" y2=\"8\" />\n",
       "  <line x1=\"18\" y1=\"8\" x2=\"138\" y2=\"8\" />\n",
       "  <line x1=\"19\" y1=\"9\" x2=\"139\" y2=\"9\" />\n",
       "  <line x1=\"19\" y1=\"9\" x2=\"139\" y2=\"9\" />\n",
       "  <line x1=\"20\" y1=\"10\" x2=\"140\" y2=\"10\" />\n",
       "  <line x1=\"20\" y1=\"10\" x2=\"140\" y2=\"10\" />\n",
       "  <line x1=\"21\" y1=\"11\" x2=\"141\" y2=\"11\" />\n",
       "  <line x1=\"21\" y1=\"11\" x2=\"141\" y2=\"11\" />\n",
       "  <line x1=\"22\" y1=\"12\" x2=\"142\" y2=\"12\" />\n",
       "  <line x1=\"22\" y1=\"12\" x2=\"142\" y2=\"12\" />\n",
       "  <line x1=\"23\" y1=\"13\" x2=\"143\" y2=\"13\" />\n",
       "  <line x1=\"23\" y1=\"13\" x2=\"143\" y2=\"13\" />\n",
       "  <line x1=\"23\" y1=\"13\" x2=\"143\" y2=\"13\" />\n",
       "  <line x1=\"24\" y1=\"14\" x2=\"144\" y2=\"14\" />\n",
       "  <line x1=\"24\" y1=\"14\" x2=\"144\" y2=\"14\" style=\"stroke-width:2\" />\n",
       "\n",
       "  <!-- Vertical lines -->\n",
       "  <line x1=\"10\" y1=\"0\" x2=\"24\" y2=\"14\" style=\"stroke-width:2\" />\n",
       "  <line x1=\"15\" y1=\"0\" x2=\"30\" y2=\"14\" />\n",
       "  <line x1=\"20\" y1=\"0\" x2=\"35\" y2=\"14\" />\n",
       "  <line x1=\"25\" y1=\"0\" x2=\"40\" y2=\"14\" />\n",
       "  <line x1=\"30\" y1=\"0\" x2=\"45\" y2=\"14\" />\n",
       "  <line x1=\"36\" y1=\"0\" x2=\"50\" y2=\"14\" />\n",
       "  <line x1=\"41\" y1=\"0\" x2=\"56\" y2=\"14\" />\n",
       "  <line x1=\"46\" y1=\"0\" x2=\"61\" y2=\"14\" />\n",
       "  <line x1=\"51\" y1=\"0\" x2=\"66\" y2=\"14\" />\n",
       "  <line x1=\"56\" y1=\"0\" x2=\"71\" y2=\"14\" />\n",
       "  <line x1=\"62\" y1=\"0\" x2=\"77\" y2=\"14\" />\n",
       "  <line x1=\"67\" y1=\"0\" x2=\"82\" y2=\"14\" />\n",
       "  <line x1=\"72\" y1=\"0\" x2=\"87\" y2=\"14\" />\n",
       "  <line x1=\"77\" y1=\"0\" x2=\"92\" y2=\"14\" />\n",
       "  <line x1=\"82\" y1=\"0\" x2=\"97\" y2=\"14\" />\n",
       "  <line x1=\"88\" y1=\"0\" x2=\"103\" y2=\"14\" />\n",
       "  <line x1=\"93\" y1=\"0\" x2=\"108\" y2=\"14\" />\n",
       "  <line x1=\"98\" y1=\"0\" x2=\"113\" y2=\"14\" />\n",
       "  <line x1=\"103\" y1=\"0\" x2=\"118\" y2=\"14\" />\n",
       "  <line x1=\"108\" y1=\"0\" x2=\"123\" y2=\"14\" />\n",
       "  <line x1=\"114\" y1=\"0\" x2=\"129\" y2=\"14\" />\n",
       "  <line x1=\"119\" y1=\"0\" x2=\"134\" y2=\"14\" />\n",
       "  <line x1=\"124\" y1=\"0\" x2=\"139\" y2=\"14\" />\n",
       "  <line x1=\"129\" y1=\"0\" x2=\"144\" y2=\"14\" />\n",
       "  <line x1=\"130\" y1=\"0\" x2=\"144\" y2=\"14\" style=\"stroke-width:2\" />\n",
       "\n",
       "  <!-- Colored Rectangle -->\n",
       "  <polygon points=\"10.000000,0.000000 130.000000,0.000000 144.948598,14.948598 24.948598,14.948598\" style=\"fill:#ECB172A0;stroke-width:0\"/>\n",
       "\n",
       "  <!-- Horizontal lines -->\n",
       "  <line x1=\"24\" y1=\"14\" x2=\"144\" y2=\"14\" style=\"stroke-width:2\" />\n",
       "  <line x1=\"24\" y1=\"20\" x2=\"144\" y2=\"20\" />\n",
       "  <line x1=\"24\" y1=\"25\" x2=\"144\" y2=\"25\" />\n",
       "  <line x1=\"24\" y1=\"30\" x2=\"144\" y2=\"30\" />\n",
       "  <line x1=\"24\" y1=\"35\" x2=\"144\" y2=\"35\" />\n",
       "  <line x1=\"24\" y1=\"40\" x2=\"144\" y2=\"40\" />\n",
       "  <line x1=\"24\" y1=\"46\" x2=\"144\" y2=\"46\" />\n",
       "  <line x1=\"24\" y1=\"51\" x2=\"144\" y2=\"51\" />\n",
       "  <line x1=\"24\" y1=\"56\" x2=\"144\" y2=\"56\" />\n",
       "  <line x1=\"24\" y1=\"61\" x2=\"144\" y2=\"61\" />\n",
       "  <line x1=\"24\" y1=\"67\" x2=\"144\" y2=\"67\" />\n",
       "  <line x1=\"24\" y1=\"72\" x2=\"144\" y2=\"72\" />\n",
       "  <line x1=\"24\" y1=\"74\" x2=\"144\" y2=\"74\" style=\"stroke-width:2\" />\n",
       "\n",
       "  <!-- Vertical lines -->\n",
       "  <line x1=\"24\" y1=\"14\" x2=\"24\" y2=\"74\" style=\"stroke-width:2\" />\n",
       "  <line x1=\"30\" y1=\"14\" x2=\"30\" y2=\"74\" />\n",
       "  <line x1=\"35\" y1=\"14\" x2=\"35\" y2=\"74\" />\n",
       "  <line x1=\"40\" y1=\"14\" x2=\"40\" y2=\"74\" />\n",
       "  <line x1=\"45\" y1=\"14\" x2=\"45\" y2=\"74\" />\n",
       "  <line x1=\"50\" y1=\"14\" x2=\"50\" y2=\"74\" />\n",
       "  <line x1=\"56\" y1=\"14\" x2=\"56\" y2=\"74\" />\n",
       "  <line x1=\"61\" y1=\"14\" x2=\"61\" y2=\"74\" />\n",
       "  <line x1=\"66\" y1=\"14\" x2=\"66\" y2=\"74\" />\n",
       "  <line x1=\"71\" y1=\"14\" x2=\"71\" y2=\"74\" />\n",
       "  <line x1=\"77\" y1=\"14\" x2=\"77\" y2=\"74\" />\n",
       "  <line x1=\"82\" y1=\"14\" x2=\"82\" y2=\"74\" />\n",
       "  <line x1=\"87\" y1=\"14\" x2=\"87\" y2=\"74\" />\n",
       "  <line x1=\"92\" y1=\"14\" x2=\"92\" y2=\"74\" />\n",
       "  <line x1=\"97\" y1=\"14\" x2=\"97\" y2=\"74\" />\n",
       "  <line x1=\"103\" y1=\"14\" x2=\"103\" y2=\"74\" />\n",
       "  <line x1=\"108\" y1=\"14\" x2=\"108\" y2=\"74\" />\n",
       "  <line x1=\"113\" y1=\"14\" x2=\"113\" y2=\"74\" />\n",
       "  <line x1=\"118\" y1=\"14\" x2=\"118\" y2=\"74\" />\n",
       "  <line x1=\"123\" y1=\"14\" x2=\"123\" y2=\"74\" />\n",
       "  <line x1=\"129\" y1=\"14\" x2=\"129\" y2=\"74\" />\n",
       "  <line x1=\"134\" y1=\"14\" x2=\"134\" y2=\"74\" />\n",
       "  <line x1=\"139\" y1=\"14\" x2=\"139\" y2=\"74\" />\n",
       "  <line x1=\"144\" y1=\"14\" x2=\"144\" y2=\"74\" />\n",
       "  <line x1=\"144\" y1=\"14\" x2=\"144\" y2=\"74\" style=\"stroke-width:2\" />\n",
       "\n",
       "  <!-- Colored Rectangle -->\n",
       "  <polygon points=\"24.948598,14.948598 144.948598,14.948598 144.948598,74.948598 24.948598,74.948598\" style=\"fill:#ECB172A0;stroke-width:0\"/>\n",
       "\n",
       "  <!-- Text -->\n",
       "  <text x=\"84.948598\" y=\"94.948598\" font-size=\"1.0rem\" font-weight=\"100\" text-anchor=\"middle\" >11520</text>\n",
       "  <text x=\"164.948598\" y=\"44.948598\" font-size=\"1.0rem\" font-weight=\"100\" text-anchor=\"middle\" transform=\"rotate(-90,164.948598,44.948598)\">5760</text>\n",
       "  <text x=\"7.474299\" y=\"87.474299\" font-size=\"1.0rem\" font-weight=\"100\" text-anchor=\"middle\" transform=\"rotate(45,7.474299,87.474299)\">31</text>\n",
       "</svg>\n",
       "</td>\n",
       "</tr>\n",
       "</table>"
      ],
      "text/plain": [
       "dask.array<stack, shape=(31, 5760, 11520), dtype=float64, chunksize=(1, 500, 500), chunktype=numpy.ndarray>"
      ]
     },
     "execution_count": 16,
     "metadata": {},
     "output_type": "execute_result"
    }
   ],
   "source": [
    "x = da.stack(arrays, axis=0)\n",
    "x"
   ]
  },
  {
   "cell_type": "markdown",
   "metadata": {},
   "source": [
    "### Trace la media de esta matriz a lo largo del eje de tiempo (`0th`)"
   ]
  },
  {
   "cell_type": "code",
   "execution_count": null,
   "metadata": {
    "tags": [
     "raises-exception"
    ]
   },
   "outputs": [],
   "source": [
    "# complete the following:\n",
    "#fig = plt.figure(figsize=(16, 8))\n",
    "#plt.imshow(..., cmap='RdBu_r')"
   ]
  },
  {
   "cell_type": "code",
   "execution_count": 17,
   "metadata": {},
   "outputs": [],
   "source": [
    "result = x.mean(axis=0)\n",
    "#fig = plt.figure(figsize=(16, 8))\n",
    "#plt.imshow(result, cmap='RdBu_r');"
   ]
  },
  {
   "cell_type": "code",
   "execution_count": 18,
   "metadata": {},
   "outputs": [
    {
     "data": {
      "text/plain": [
       "(5760, 11520)"
      ]
     },
     "execution_count": 18,
     "metadata": {},
     "output_type": "execute_result"
    }
   ],
   "source": [
    "result.shape"
   ]
  },
  {
   "cell_type": "code",
   "execution_count": 19,
   "metadata": {},
   "outputs": [
    {
     "data": {
      "text/html": [
       "<table>\n",
       "<tr>\n",
       "<td>\n",
       "<table>\n",
       "  <thead>\n",
       "    <tr><td> </td><th> Array </th><th> Chunk </th></tr>\n",
       "  </thead>\n",
       "  <tbody>\n",
       "    <tr><th> Bytes </th><td> 200 B </td> <td> 200 B </td></tr>\n",
       "    <tr><th> Shape </th><td> (5, 5) </td> <td> (5, 5) </td></tr>\n",
       "    <tr><th> Count </th><td> 29984 Tasks </td><td> 1 Chunks </td></tr>\n",
       "    <tr><th> Type </th><td> float64 </td><td> numpy.ndarray </td></tr>\n",
       "  </tbody>\n",
       "</table>\n",
       "</td>\n",
       "<td>\n",
       "<svg width=\"170\" height=\"170\" style=\"stroke:rgb(0,0,0);stroke-width:1\" >\n",
       "\n",
       "  <!-- Horizontal lines -->\n",
       "  <line x1=\"0\" y1=\"0\" x2=\"120\" y2=\"0\" style=\"stroke-width:2\" />\n",
       "  <line x1=\"0\" y1=\"120\" x2=\"120\" y2=\"120\" style=\"stroke-width:2\" />\n",
       "\n",
       "  <!-- Vertical lines -->\n",
       "  <line x1=\"0\" y1=\"0\" x2=\"0\" y2=\"120\" style=\"stroke-width:2\" />\n",
       "  <line x1=\"120\" y1=\"0\" x2=\"120\" y2=\"120\" style=\"stroke-width:2\" />\n",
       "\n",
       "  <!-- Colored Rectangle -->\n",
       "  <polygon points=\"0.000000,0.000000 120.000000,0.000000 120.000000,120.000000 0.000000,120.000000\" style=\"fill:#ECB172A0;stroke-width:0\"/>\n",
       "\n",
       "  <!-- Text -->\n",
       "  <text x=\"60.000000\" y=\"140.000000\" font-size=\"1.0rem\" font-weight=\"100\" text-anchor=\"middle\" >5</text>\n",
       "  <text x=\"140.000000\" y=\"60.000000\" font-size=\"1.0rem\" font-weight=\"100\" text-anchor=\"middle\" transform=\"rotate(0,140.000000,60.000000)\">5</text>\n",
       "</svg>\n",
       "</td>\n",
       "</tr>\n",
       "</table>"
      ],
      "text/plain": [
       "dask.array<getitem, shape=(5, 5), dtype=float64, chunksize=(5, 5), chunktype=numpy.ndarray>"
      ]
     },
     "execution_count": 19,
     "metadata": {},
     "output_type": "execute_result"
    }
   ],
   "source": [
    "result[:5,:5]"
   ]
  },
  {
   "cell_type": "code",
   "execution_count": 21,
   "metadata": {},
   "outputs": [
    {
     "data": {
      "text/plain": [
       "array([[25.50199644, 27.04757198, 28.59314752, 30.13872307, 31.68429861],\n",
       "       [27.04757198, 28.68681877, 30.32606556, 31.96531234, 33.60455913],\n",
       "       [28.59314752, 30.32606556, 32.05898359, 33.79190162, 35.52481965],\n",
       "       [30.13872307, 31.96531234, 33.79190162, 35.6184909 , 37.44508017],\n",
       "       [31.68429861, 33.60455913, 35.52481965, 37.44508017, 39.36534069]])"
      ]
     },
     "execution_count": 21,
     "metadata": {},
     "output_type": "execute_result"
    }
   ],
   "source": [
    "y = result[:5,:5]\n",
    "y.compute()"
   ]
  },
  {
   "cell_type": "markdown",
   "metadata": {},
   "source": [
    "**Plot the difference of the first day from the mean**"
   ]
  },
  {
   "cell_type": "code",
   "execution_count": null,
   "metadata": {},
   "outputs": [],
   "source": [
    "result = x[0] - x.mean(axis=0)\n",
    "#fig = plt.figure(figsize=(16, 8))\n",
    "#plt.imshow(result, cmap='RdBu_r');"
   ]
  },
  {
   "cell_type": "markdown",
   "metadata": {},
   "source": [
    "### Ejercicio Submuestree y almacene"
   ]
  },
  {
   "cell_type": "markdown",
   "metadata": {},
   "source": [
    "En el ejercicio anterior, el resultado de nuestro cálculo es pequeño, por lo que podemos llamar a `compute` de forma segura. A veces, nuestro resultado sigue siendo demasiado grande para caber en la memoria y queremos guardarlo en el disco. En estos casos, puede utilizar una de las dos funciones siguientes\n",
    "\n",
    "1. `da.store`: almacena dask.array en cualquier objeto que admita la sintaxis de numpy setitem, p.\n",
    "\n",
    "        f = h5py.File ('miarchivo.hdf5')\n",
    "        salida = f.create_dataset (forma = ..., dtype = ...)\n",
    "        \n",
    "        da.store (my_dask_array, salida)\n",
    "        \n",
    "2. `da.to_hdf5`: Una función especializada que crea y almacena un objeto` dask.array` en un archivo `HDF5`.\n",
    "\n",
    "        da.to_hdf5 ('datos/myfile.hdf5', '/salida', my_dask_array)\n",
    "        \n",
    "La tarea en este ejercicio es **usar un gran número de pasos para submuestrear el conjunto de datos completo por un factor de dos en la dirección de latitud y longitud y luego almacenar este resultado en el disco** usando una de las funciones enumeradas anteriormente.\n",
    "\n",
    "Como recordatorio, el corte(slice) de Python toma tres elementos\n",
    "\n",
    "    inicio: parada: paso\n",
    "\n",
    "    >>> L = [1, 2, 3, 4, 5, 6, 7]\n",
    "    >>> L [:: 3]\n",
    "    [1, 4, 7]"
   ]
  },
  {
   "cell_type": "code",
   "execution_count": null,
   "metadata": {},
   "outputs": [],
   "source": [
    "# ..."
   ]
  },
  {
   "cell_type": "code",
   "execution_count": null,
   "metadata": {},
   "outputs": [],
   "source": [
    "import h5py\n",
    "from glob import glob\n",
    "import os\n",
    "import dask.array as da\n",
    "\n",
    "filenames = sorted(glob(os.path.join('data', 'weather-big', '*.hdf5')))\n",
    "dsets = [h5py.File(filename, mode='r')['/t2m'] for filename in filenames]\n",
    "\n",
    "arrays = [da.from_array(dset, chunks=(500, 500)) for dset in dsets]\n",
    "\n",
    "x = da.stack(arrays, axis=0)\n",
    "\n",
    "result = x[:, ::2, ::2]\n",
    "\n",
    "da.to_zarr(result, os.path.join('data', 'myfile.zarr'), overwrite=True)"
   ]
  },
  {
   "cell_type": "markdown",
   "metadata": {},
   "source": [
    "### Ejemplo: Lennard-Jones potential"
   ]
  },
  {
   "cell_type": "markdown",
   "metadata": {},
   "source": [
    "El [Lennard-Jones potential](https://en.wikipedia.org/wiki/Lennard-Jones_potential) se utiliza en simulaciones particulares en física, química e ingeniería. Es altamente paralelizable.\n",
    "\n",
    "Primero, ejecutaremos y perfilaremos la versión de Numpy en 7,000 partículas."
   ]
  },
  {
   "cell_type": "code",
   "execution_count": null,
   "metadata": {},
   "outputs": [],
   "source": [
    "import numpy as np\n",
    "\n",
    "# make a random collection of particles\n",
    "def make_cluster(natoms, radius=40, seed=1981):\n",
    "    np.random.seed(seed)\n",
    "    cluster = np.random.normal(0, radius, (natoms,3))-0.5\n",
    "    return cluster\n",
    "\n",
    "def lj(r2):\n",
    "    sr6 = (1./r2)**3\n",
    "    pot = 4.*(sr6*sr6 - sr6)\n",
    "    return pot\n",
    "\n",
    "# build the matrix of distances\n",
    "def distances(cluster):\n",
    "    diff = cluster[:, np.newaxis, :] - cluster[np.newaxis, :, :]\n",
    "    mat = (diff*diff).sum(-1)\n",
    "    return mat\n",
    "\n",
    "# the lj function is evaluated over the upper traingle\n",
    "# after removing distances near zero\n",
    "def potential(cluster):\n",
    "    d2 = distances(cluster)\n",
    "    dtri = np.triu(d2)\n",
    "    energy = lj(dtri[dtri > 1e-6]).sum()\n",
    "    return energy"
   ]
  },
  {
   "cell_type": "code",
   "execution_count": null,
   "metadata": {},
   "outputs": [],
   "source": [
    "cluster = make_cluster(int(7e3), radius=500)"
   ]
  },
  {
   "cell_type": "code",
   "execution_count": null,
   "metadata": {},
   "outputs": [],
   "source": [
    "%time potential(cluster)"
   ]
  },
  {
   "cell_type": "markdown",
   "metadata": {},
   "source": [
    "Tenga en cuenta que la función que consume más tiempo es `distancias`:"
   ]
  },
  {
   "cell_type": "code",
   "execution_count": null,
   "metadata": {},
   "outputs": [],
   "source": [
    "# this would open in another browser tab\n",
    "# %load_ext snakeviz\n",
    "# %snakeviz potential(cluster)\n",
    "\n",
    "# alternative simple version given text results in this tab\n",
    "%prun -s tottime potential(cluster)"
   ]
  },
  {
   "cell_type": "markdown",
   "metadata": {},
   "source": [
    "### Versión Dask "
   ]
  },
  {
   "cell_type": "markdown",
   "metadata": {},
   "source": [
    "Aquí está la versión de Dask. Solo la función \"potencial\" necesita ser reescrita para utilizar mejor Dask.\n",
    "\n",
    "Tenga en cuenta que `da.nansum` se ha utilizado en toda la matriz de distancia $ NxN $ para mejorar la eficiencia en paralelo."
   ]
  },
  {
   "cell_type": "code",
   "execution_count": null,
   "metadata": {},
   "outputs": [],
   "source": [
    "import dask.array as da\n",
    "\n",
    "# compute the potential on the entire\n",
    "# matrix of distances and ignore division by zero\n",
    "def potential_dask(cluster):\n",
    "    d2 = distances(cluster)\n",
    "    energy = da.nansum(lj(d2))/2.\n",
    "    return energy"
   ]
  },
  {
   "cell_type": "markdown",
   "metadata": {},
   "source": [
    "Convirtamos la matriz NumPy en una matriz Dask. Dado que toda la matriz NumPy cabe en la memoria, es más eficiente computacionalmente dividir la matriz por número de núcleos de CPU."
   ]
  },
  {
   "cell_type": "code",
   "execution_count": null,
   "metadata": {},
   "outputs": [],
   "source": [
    "from os import cpu_count\n",
    "\n",
    "dcluster = da.from_array(cluster, chunks=cluster.shape[0]//cpu_count())"
   ]
  },
  {
   "cell_type": "markdown",
   "metadata": {},
   "source": [
    "Convirtamos la matriz NumPy en una matriz Dask. Dado que toda la matriz NumPy cabe en la memoria, es más eficiente computacionalmente dividir la matriz por número de núcleos de CPU."
   ]
  },
  {
   "cell_type": "code",
   "execution_count": null,
   "metadata": {},
   "outputs": [],
   "source": [
    "e = potential_dask(dcluster)\n",
    "%time e.compute()"
   ]
  },
  {
   "cell_type": "markdown",
   "metadata": {},
   "source": [
    "Limitaciones\n",
    "-----------\n",
    "\n",
    "Dask Array no implementa toda la interfaz numpy. Usuarios que esperan esto\n",
    "se sentirán decepcionados. En particular, Dask Array tiene las siguientes fallas:\n",
    "\n",
    "1. Dask no implementa todo ``np.linalg`` Esto ha sido hecho por un\n",
    "    número de excelentes implementaciones BLAS / LAPACK y es el foco de\n",
    "    numerosos proyectos de investigación académica en curso.\n",
    "2. Dask Array no admite algunas operaciones en las que la forma resultante\n",
    "    depende de los valores de la matriz. Para los que sí apoya\n",
    "    (por ejemplo, enmascarar un Dask Array con otra máscara booleana),\n",
    "    los tamaños de los fragmentos serán desconocidos, lo que puede causar problemas con otros\n",
    "    operaciones que necesitan conocer los tamaños de los fragmentos.\n",
    "3. Dask Array no intenta operaciones como ``ordenar`` que son notoriamente\n",
    "    difíciles de hacer en paralelo y tienen un valor algo disminuido en muy\n",
    "    datos grandes (rara vez se necesita una clasificación completa).\n",
    "    A menudo incluimos alternativas compatibles con el paralelo como ``topk``.\n",
    "4. El desarrollo de Dask está impulsado por una necesidad inmediata, y \n",
    "    funciones muchos menos utilizados, como ``np.sometrue`` no se han implementado por pura\n",
    "    pereza. Estos serían excelentes contribuciones a la comunidad.\n",
    "    \n",
    "* [Array documentation](https://docs.dask.org/en/latest/array.html)\n",
    "* [Array screencast](https://youtu.be/9h_61hXCDuI)\n",
    "* [Array API](https://docs.dask.org/en/latest/array-api.html)\n",
    "* [Array examples](https://examples.dask.org/array.html)"
   ]
  },
  {
   "cell_type": "code",
   "execution_count": 23,
   "metadata": {},
   "outputs": [
    {
     "name": "stderr",
     "output_type": "stream",
     "text": [
      "distributed.client - ERROR - Failed to reconnect to scheduler after 10.00 seconds, closing client\n",
      "_GatheringFuture exception was never retrieved\n",
      "future: <_GatheringFuture finished exception=CancelledError()>\n",
      "asyncio.exceptions.CancelledError\n"
     ]
    }
   ],
   "source": [
    "client.shutdown()"
   ]
  },
  {
   "cell_type": "code",
   "execution_count": null,
   "metadata": {},
   "outputs": [],
   "source": []
  }
 ],
 "metadata": {
  "anaconda-cloud": {},
  "kernelspec": {
   "display_name": "Python 3",
   "language": "python",
   "name": "python3"
  },
  "language_info": {
   "codemirror_mode": {
    "name": "ipython",
    "version": 3
   },
   "file_extension": ".py",
   "mimetype": "text/x-python",
   "name": "python",
   "nbconvert_exporter": "python",
   "pygments_lexer": "ipython3",
   "version": "3.8.8"
  }
 },
 "nbformat": 4,
 "nbformat_minor": 4
}
