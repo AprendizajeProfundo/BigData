{
 "cells": [
  {
   "cell_type": "markdown",
   "metadata": {
    "tags": []
   },
   "source": [
    "# <span style=\"color:green\"><center>Diplomado en Big Data</center></span>"
   ]
  },
  {
   "cell_type": "markdown",
   "metadata": {},
   "source": [
    "# <span style=\"color:red\"><center>Ejecución con un cluster en la nube: Coiled<center></span>"
   ]
  },
  {
   "cell_type": "markdown",
   "metadata": {},
   "source": [
    "<img src=\"../images/Coiled_Logo.jpg\" align=\"right\" width=\"30%\">"
   ]
  },
  {
   "cell_type": "markdown",
   "metadata": {},
   "source": [
    "##   <span style=\"color:blue\">Profesores</span>"
   ]
  },
  {
   "cell_type": "markdown",
   "metadata": {},
   "source": [
    "1. Alvaro Mauricio Montenegro Díaz, ammontenegrod@unal.edu.co\n",
    "2. Daniel Mauricio Montenegro Reyes, dextronomo@gmail.com "
   ]
  },
  {
   "cell_type": "markdown",
   "metadata": {},
   "source": [
    "##   <span style=\"color:blue\">Asesora Medios y Marketing digital</span>\n",
    " "
   ]
  },
  {
   "cell_type": "markdown",
   "metadata": {},
   "source": [
    "4. Maria del Pilar Montenegro, pmontenegro88@gmail.com "
   ]
  },
  {
   "cell_type": "markdown",
   "metadata": {},
   "source": [
    "## <span style=\"color:blue\">Contenido</span>"
   ]
  },
  {
   "cell_type": "markdown",
   "metadata": {},
   "source": [
    "\n",
    "* [Introducción](#Introducción)\n",
    "* [Lanzar un cluster](#Lanzar-un-cluster)\n",
    "* [Analizar datos en la nube](#Analizar-datos-en-la-nube)\n",
    "* [Detener un cluster](#Detener-un-cluster)\n",
    "* [Entornos de software](#Entornos-de-software)\n",
    "* [Crear un entorno de software](#Crear-un-entorno-de-software)\n"
   ]
  },
  {
   "cell_type": "markdown",
   "metadata": {},
   "source": [
    "## <span style=\"color:blue\">Fuente</span>"
   ]
  },
  {
   "cell_type": "markdown",
   "metadata": {},
   "source": [
    "Esta es una traducción libre del tutorial disponible en [coiled-tutorial](https://cloud.coiled.io/examples/notebooks)."
   ]
  },
  {
   "cell_type": "markdown",
   "metadata": {},
   "source": [
    "## <span style=\"color:blue\">Introducción</span>"
   ]
  },
  {
   "cell_type": "markdown",
   "metadata": {},
   "source": [
    "### Instalación de Coiled"
   ]
  },
  {
   "cell_type": "raw",
   "metadata": {},
   "source": [
    "conda create --name coiled python=3.8 jupyterlab\n",
    "conda activate coiled\n",
    "conda install -c conda-forge coiled dask\n",
    "conda upgrade coiled dask distributed"
   ]
  },
  {
   "cell_type": "markdown",
   "metadata": {},
   "source": [
    "## <span style=\"color:blue\">Lanzar un cluster</span>"
   ]
  },
  {
   "cell_type": "markdown",
   "metadata": {},
   "source": [
    "El primer paso es hacer girar un Dask Cluster. En Coiled, esto se hace creando una instancia `coiled.Cluster`, hay [ argumentos clave](https://docs.coiled.io/user_guide/api.html#coiled.Cluster) que puede utilizar para especificar más los detalles de su clúster. Por favor lea laa [cluster creation documentation](https://docs.coiled.io/user_guide/cluster_creation.html) para saber más.\n",
    "\n",
    "Tenga en cuenta que le daremos un nombre a este clúster, si no especifica este argumento de palabra clave, los clústeres recibirán un nombre único generado aleatoriamente."
   ]
  },
  {
   "cell_type": "code",
   "execution_count": 1,
   "metadata": {},
   "outputs": [
    {
     "name": "stderr",
     "output_type": "stream",
     "text": [
      "/home/alvaro/anaconda3/envs/coiled/lib/python3.8/site-packages/rich/live.py:227: UserWarning: install \"ipywidgets\" for Jupyter support\n",
      "  warnings.warn('install \"ipywidgets\" for Jupyter support')\n"
     ]
    },
    {
     "name": "stdout",
     "output_type": "stream",
     "text": [
      "Found software environment build\n"
     ]
    },
    {
     "data": {
      "text/html": [
       "<pre style=\"white-space:pre;overflow-x:auto;line-height:normal;font-family:Menlo,'DejaVu Sans Mono',consolas,'Courier New',monospace\"></pre>\n"
      ],
      "text/plain": []
     },
     "metadata": {},
     "output_type": "display_data"
    }
   ],
   "source": [
    "import coiled\n",
    "\n",
    "cluster = coiled.Cluster(name=\"quickstart-example\", n_workers=10)"
   ]
  },
  {
   "cell_type": "markdown",
   "metadata": {},
   "source": [
    "Una vez que se ha creado un clúster (puede ver el estado en su [Panel de control en espiral] (https://cloud.coiled.io/)), puede conectar Dask al clúster creando una instancia de *cliente distribuido*."
   ]
  },
  {
   "cell_type": "code",
   "execution_count": null,
   "metadata": {},
   "outputs": [],
   "source": [
    "from dask.distributed import Client\n",
    "\n",
    "client = Client(cluster)\n",
    "client"
   ]
  },
  {
   "cell_type": "markdown",
   "metadata": {},
   "source": [
    "## <span style=\"color:blue\">Analizar datos en la nube</span>"
   ]
  },
  {
   "cell_type": "markdown",
   "metadata": {},
   "source": [
    "Ahora que tenemos nuestro clúster en ejecución y Dask conectado a él, ejecutemos un cálculo. Este ejemplo ejecutará el cálculo en aproximadamente 84 millones de filas."
   ]
  },
  {
   "cell_type": "code",
   "execution_count": null,
   "metadata": {},
   "outputs": [],
   "source": [
    "import dask.dataframe as dd\n",
    "\n",
    "df = dd.read_csv(\n",
    "    \"s3://nyc-tlc/trip data/yellow_tripdata_2019-*.csv\",\n",
    "    dtype={\n",
    "        \"payment_type\": \"UInt8\",\n",
    "        \"VendorID\": \"UInt8\",\n",
    "        \"passenger_count\": \"UInt8\",\n",
    "        \"RatecodeID\": \"UInt8\",\n",
    "    },\n",
    "    storage_options={\"anon\": True},\n",
    "    blocksize=\"16 MiB\",\n",
    ").persist()\n",
    "\n",
    "df.groupby(\"passenger_count\").tip_amount.mean().compute()"
   ]
  },
  {
   "cell_type": "markdown",
   "metadata": {},
   "source": [
    "## <span style=\"color:blue\">Detener un cluster</span>"
   ]
  },
  {
   "cell_type": "markdown",
   "metadata": {},
   "source": [
    "De forma predeterminada, los clústeres se cerrarán después de 20 minutos de inactividad. Puede detener un clúster presionando el botón de parada en el [Coiled dashboard](https://cloud.coiled.io/). Alternativamente, podemos obtener una lista de todos los clústeres en ejecución y usar el nombre del clúster para detenerlo."
   ]
  },
  {
   "cell_type": "code",
   "execution_count": 3,
   "metadata": {},
   "outputs": [
    {
     "data": {
      "text/plain": [
       "{'quickstart-example': {'id': 18813,\n",
       "  'status': 'running',\n",
       "  'account': 'alvaro-montenegro',\n",
       "  'dashboard_address': 'http://ec2-100-26-244-131.compute-1.amazonaws.com:8787',\n",
       "  'configuration': 310,\n",
       "  'options': {'region': 'us-east-1',\n",
       "   'credentials': {},\n",
       "   'account_role': None,\n",
       "   'target_environment': 'dev',\n",
       "   'spot': True},\n",
       "  'address': 'tls://ec2-100-26-244-131.compute-1.amazonaws.com:8786'}}"
      ]
     },
     "execution_count": 3,
     "metadata": {},
     "output_type": "execute_result"
    }
   ],
   "source": [
    "coiled.list_clusters()"
   ]
  },
  {
   "cell_type": "markdown",
   "metadata": {},
   "source": [
    "El comando `list_clusters` devuelve un diccionario con el nombre del clúster utilizado como clave. Podemos tomar eso y luego llamar al comando `coiled.delete_cluster()` para detener el clúster en ejecución, y `client.close()` para cerrar el cliente."
   ]
  },
  {
   "cell_type": "code",
   "execution_count": 4,
   "metadata": {},
   "outputs": [
    {
     "data": {
      "text/html": [
       "<pre style=\"white-space:pre;overflow-x:auto;line-height:normal;font-family:Menlo,'DejaVu Sans Mono',consolas,'Courier New',monospace\"><span style=\"color: #008000; text-decoration-color: #008000\">Cluster deleted successfully.</span>\n",
       "</pre>\n"
      ],
      "text/plain": [
       "\u001b[32mCluster deleted successfully.\u001b[0m\n"
      ]
     },
     "metadata": {},
     "output_type": "display_data"
    }
   ],
   "source": [
    "coiled.delete_cluster(name=\"quickstart-example\")\n",
    "client.close()"
   ]
  },
  {
   "cell_type": "markdown",
   "metadata": {},
   "source": [
    "Ahora puede regresa a [Coiled dashboard](https://cloud.coiled.io/) y verificar que el cluster está deteniendose/detenido"
   ]
  },
  {
   "cell_type": "markdown",
   "metadata": {},
   "source": [
    "## <span style=\"color:blue\">Entornos de software</span>\n"
   ]
  },
  {
   "cell_type": "markdown",
   "metadata": {},
   "source": [
    "Los entornos de software son imágenes de Docker (el equivalente de Kubernet de Google) que contienen todas sus dependencias y archivos que podría necesitar para ejecutar sus cálculos. Si no especifica un entorno de software para el constructor `coiled.Cluster`, usaremos el entorno de software predeterminado de Coiled. Puede obtener más información sobre los entornos de software en nuestro[documentation](https://docs.coiled.io/user_guide/software_environment.html)."
   ]
  },
  {
   "cell_type": "markdown",
   "metadata": {},
   "source": [
    "## <span style=\"color:blue\">Crear un entorno de software</span>"
   ]
  },
  {
   "cell_type": "markdown",
   "metadata": {},
   "source": [
    "Al crear entornos de software, hay [varios argumentos clave](https://docs.coiled.io/user_guide/api.html#coiled.create_software_environment) que puede utilizar para crear un entorno personalizado para su trabajo."
   ]
  },
  {
   "cell_type": "code",
   "execution_count": null,
   "metadata": {},
   "outputs": [],
   "source": [
    "coiled.create_software_environment(\n",
    "    name=\"quickstart\", \n",
    "    conda={\n",
    "        \"channels\": [\"conda-forge\"], \n",
    "        \"dependencies\": [\"coiled\"]\n",
    "    }\n",
    ")"
   ]
  },
  {
   "cell_type": "markdown",
   "metadata": {},
   "source": [
    "Ahora podemos seguir nuestro flujo de trabajo anterior de creación de un clúster; esta vez, usaremos nuestro entorno de software recién creado, conectar el clúster a Dask y luego ejecutar el mismo ejemplo."
   ]
  },
  {
   "cell_type": "code",
   "execution_count": null,
   "metadata": {},
   "outputs": [],
   "source": [
    "cluster = coiled.Cluster(n_workers=10, software=\"quickstart\")\n",
    "client = Client(cluster)\n",
    "client"
   ]
  },
  {
   "cell_type": "markdown",
   "metadata": {},
   "source": [
    "Si usted va a [Coiled dashboard](https://cloud.coiled.io/), en la columna **Entorno de software**, puede ver que estamos usando el entorno de software de inicio rápido que acabamos de crear. Tenga en cuenta también que esta vez, el clúster tendrá un nombre generado aleatoriamente.\n",
    "\n",
    "Ahora ejecutemos el mismo cálculo que antes, pero utilizando el clúster que se ejecuta con el entorno de software que hemos creado recientemente."
   ]
  },
  {
   "cell_type": "code",
   "execution_count": null,
   "metadata": {},
   "outputs": [],
   "source": [
    "df = dd.read_csv(\n",
    "    \"s3://nyc-tlc/trip data/yellow_tripdata_2019-*.csv\",\n",
    "    dtype={\n",
    "        \"payment_type\": \"UInt8\",\n",
    "        \"VendorID\": \"UInt8\",\n",
    "        \"passenger_count\": \"UInt8\",\n",
    "        \"RatecodeID\": \"UInt8\",\n",
    "    },\n",
    "    storage_options={\"anon\": True},\n",
    "    blocksize=\"16 MiB\",\n",
    ").persist()\n",
    "\n",
    "df.groupby(\"passenger_count\").tip_amount.mean().compute()"
   ]
  }
 ],
 "metadata": {
  "kernelspec": {
   "display_name": "Python 3",
   "language": "python",
   "name": "python3"
  },
  "language_info": {
   "codemirror_mode": {
    "name": "ipython",
    "version": 3
   },
   "file_extension": ".py",
   "mimetype": "text/x-python",
   "name": "python",
   "nbconvert_exporter": "python",
   "pygments_lexer": "ipython3",
   "version": "3.8.10"
  }
 },
 "nbformat": 4,
 "nbformat_minor": 4
}
