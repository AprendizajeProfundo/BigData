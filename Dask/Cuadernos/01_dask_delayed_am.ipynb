{
 "cells": [
  {
   "cell_type": "markdown",
   "id": "sustainable-watson",
   "metadata": {
    "tags": []
   },
   "source": [
    "# <span style=\"color:green\"><center>Diplomado en Big Data</center></span>"
   ]
  },
  {
   "cell_type": "markdown",
   "id": "modern-roots",
   "metadata": {},
   "source": [
    "# <span style=\"color:red\"><center>Introducción al Procesamiento Paralelo<center></span>"
   ]
  },
  {
   "cell_type": "markdown",
   "id": "solved-pocket",
   "metadata": {},
   "source": [
    "<img src=\"http://dask.readthedocs.io/en/latest/_images/dask_horizontal.svg\"\n",
    "     align=\"right\"\n",
    "     width=\"30%\"\n",
    "     alt=\"Dask logo\\\">\n",
    "\n",
    "# Paralelización con `dask.delayed`"
   ]
  },
  {
   "cell_type": "markdown",
   "id": "regional-stable",
   "metadata": {},
   "source": [
    "##   <span style=\"color:blue\">Profesores</span>"
   ]
  },
  {
   "cell_type": "markdown",
   "id": "iraqi-sheffield",
   "metadata": {},
   "source": [
    "1. Alvaro Mauricio Montenegro Díaz, ammontenegrod@unal.edu.co\n",
    "2. Daniel Mauricio Montenegro Reyes, dextronomo@gmail.com "
   ]
  },
  {
   "cell_type": "markdown",
   "id": "iraqi-vinyl",
   "metadata": {},
   "source": [
    "##   <span style=\"color:blue\">Asesora Medios y Marketing digital</span>\n",
    " "
   ]
  },
  {
   "cell_type": "markdown",
   "id": "known-bouquet",
   "metadata": {},
   "source": [
    "4. Maria del Pilar Montenegro, pmontenegro88@gmail.com "
   ]
  },
  {
   "cell_type": "markdown",
   "id": "competitive-butter",
   "metadata": {},
   "source": [
    "## <span style=\"color:blue\">Contenido</span>"
   ]
  },
  {
   "cell_type": "markdown",
   "id": "unlimited-illinois",
   "metadata": {},
   "source": [
    "* [Introducción](#Introducción)\n",
    "* [Bases](Bases)\n",
    "* [Paralelización usando delayed](#Paralelización-usando-delayed)\n",
    "* [Ejemplo con Pandas groupby](#Ejemplo-con-Pandas-groupby)\n",
    "* [Usando decoradores directamente](#Usando-decoradores-directamente)\n",
    "* [Cerrar el cliente](#Cerrar-el-cliente)"
   ]
  },
  {
   "cell_type": "markdown",
   "id": "chinese-above",
   "metadata": {},
   "source": [
    "## <span style=\"color:blue\">Introducción</span>"
   ]
  },
  {
   "cell_type": "markdown",
   "id": "further-registrar",
   "metadata": {},
   "source": [
    "En esta sección paralelizamos el código de estilo de ciclos de ejecución  con Dask y `dask.delayed`. A menudo, esta es la única función que necesitará para convertir funciones y usarlas con Dask.\n",
    "\n",
    "Esta es una forma sencilla de usar `dask` para paralelizar bases de código existentes o construir [sistemas complejos] (https://blog.dask.org/2018/02/09/credit-models-with-dask). \n",
    "\n",
    "Esto también nos ayudará a comprender mejor las secciones posteriores.\n",
    "\n",
    "** Documentación relacionada **\n",
    "\n",
    "* [Delayed documentation](https://docs.dask.org/en/latest/delayed.html)\n",
    "* [Delayed screencast](https://www.youtube.com/watch?v=SHqFmynRxVU)\n",
    "* [Delayed API](https://docs.dask.org/en/latest/delayed-api.html)\n",
    "* [Delayed examples](https://examples.dask.org/delayed.html)\n",
    "* [Delayed best practices](https://docs.dask.org/en/latest/delayed-best-practices.html)"
   ]
  },
  {
   "cell_type": "markdown",
   "id": "patent-ceremony",
   "metadata": {},
   "source": [
    "Para instalar dask con conda:"
   ]
  },
  {
   "cell_type": "code",
   "execution_count": null,
   "id": "middle-encounter",
   "metadata": {},
   "outputs": [],
   "source": [
    "# conda install -c anaconda dask"
   ]
  },
  {
   "cell_type": "code",
   "execution_count": 1,
   "id": "graphic-atmosphere",
   "metadata": {},
   "outputs": [],
   "source": [
    "from dask.distributed import Client\n",
    "\n",
    "client = Client(n_workers=4)"
   ]
  },
  {
   "cell_type": "markdown",
   "id": "sitting-draft",
   "metadata": {},
   "source": [
    "## <span style=\"color:blue\">Bases</span>"
   ]
  },
  {
   "cell_type": "markdown",
   "id": "northern-preview",
   "metadata": {},
   "source": [
    "Primero hagamos algunas funciones de juguete, `inc` y` add`, que duerman un rato para simular el trabajo. Luego, ejecutaremos estas funciones normalmente.\n",
    "\n",
    "En la siguiente sección, paralelizaremos este código."
   ]
  },
  {
   "cell_type": "code",
   "execution_count": 3,
   "id": "preceding-sister",
   "metadata": {},
   "outputs": [],
   "source": [
    "from time import sleep\n",
    "\n",
    "def inc(x):\n",
    "    sleep(1)\n",
    "    return x+1\n",
    "\n",
    "def add(x, y):\n",
    "    sleep(1)\n",
    "    return(x+y)\n"
   ]
  },
  {
   "cell_type": "markdown",
   "id": "built-console",
   "metadata": {},
   "source": [
    "Calculamos el tiempo de ejecución de este código normal usando el comando mágico `%% time`, que es una función especial del Jupyter Notebook."
   ]
  },
  {
   "cell_type": "code",
   "execution_count": 4,
   "id": "honest-mistake",
   "metadata": {},
   "outputs": [
    {
     "name": "stdout",
     "output_type": "stream",
     "text": [
      "CPU times: user 293 ms, sys: 50.5 ms, total: 344 ms\n",
      "Wall time: 3 s\n"
     ]
    }
   ],
   "source": [
    "%%time\n",
    "# esto debe tomar 3 segundos para correr debido a que\n",
    "# llamamos cada función de manera secuencial, una después de la otra.\n",
    "\n",
    "x = inc(1)\n",
    "y = inc(3)\n",
    "z = add(x, y)"
   ]
  },
  {
   "cell_type": "markdown",
   "id": "emotional-particular",
   "metadata": {},
   "source": [
    "## <span style=\"color:blue\">Paralelización usando dask.delayed</span>"
   ]
  },
  {
   "cell_type": "markdown",
   "id": "worth-novelty",
   "metadata": {},
   "source": [
    "Esas dos llamadas de incremento se pueden llamar en paralelo, porque son totalmente independientes entre sí.\n",
    "\n",
    "Transformaremos las funciones *inc* y *add* usando la función `dask.delayed`. Cuando llamamos a la versión retrasada pasando los argumentos, exactamente como antes, la función original todavía no se llama, por lo que la ejecución de la celda finaliza muy rápidamente. En su lugar, se crea un objeto retrasado, que realiza un seguimiento de la función a llamar y los argumentos que se le pasan."
   ]
  },
  {
   "cell_type": "code",
   "execution_count": 5,
   "id": "alpha-offense",
   "metadata": {},
   "outputs": [],
   "source": [
    "from dask import delayed"
   ]
  },
  {
   "cell_type": "code",
   "execution_count": 6,
   "id": "dressed-yellow",
   "metadata": {},
   "outputs": [
    {
     "name": "stdout",
     "output_type": "stream",
     "text": [
      "CPU times: user 5.75 ms, sys: 0 ns, total: 5.75 ms\n",
      "Wall time: 5.64 ms\n"
     ]
    }
   ],
   "source": [
    "%%time\n",
    "\n",
    "# Esto corre inmediatamente, todo lo que hace es construir un grafo\n",
    "x = delayed(inc)(1)\n",
    "y = delayed(inc)(2)\n",
    "z = delayed(add)(x,y)"
   ]
  },
  {
   "cell_type": "markdown",
   "id": "heavy-plate",
   "metadata": {},
   "source": [
    "Esto se ejecutó de inmediato, ya que todavía no ha se ha ejecutado ningún cálculo. Sin embargo, Dask acaba de crear el grafo para hacer el cálculo.\n",
    "\n",
    "Para observar el grafo usaremos el método *visualize()* del objeto z que es de tipo `Delayed`."
   ]
  },
  {
   "cell_type": "code",
   "execution_count": 7,
   "id": "delayed-virgin",
   "metadata": {},
   "outputs": [
    {
     "data": {
      "image/png": "[encoded data removed]",
      "text/plain": [
       "<IPython.core.display.Image object>"
      ]
     },
     "execution_count": 7,
     "metadata": {},
     "output_type": "execute_result"
    }
   ],
   "source": [
    "z.visualize()"
   ]
  },
  {
   "cell_type": "markdown",
   "id": "measured-belief",
   "metadata": {},
   "source": [
    "Para obtener el resultado, llame al método *compute()* del objeto z. Tenga en cuenta que esto se ejecuta más rápido que el código original."
   ]
  },
  {
   "cell_type": "code",
   "execution_count": 7,
   "id": "aggressive-aruba",
   "metadata": {},
   "outputs": [
    {
     "name": "stdout",
     "output_type": "stream",
     "text": [
      "CPU times: user 226 ms, sys: 38.6 ms, total: 265 ms\n",
      "Wall time: 2.08 s\n"
     ]
    },
    {
     "data": {
      "text/plain": [
       "5"
      ]
     },
     "execution_count": 7,
     "metadata": {},
     "output_type": "execute_result"
    }
   ],
   "source": [
    "%%time\n",
    "# Esto realmente ejecuta nuestro cálculo usando un grupo de subprocesos local\n",
    "\n",
    "z.compute()"
   ]
  },
  {
   "cell_type": "code",
   "execution_count": 8,
   "id": "boxed-consequence",
   "metadata": {},
   "outputs": [
    {
     "data": {
      "text/plain": [
       "Delayed('add-e9f06843-12da-44e5-85d1-c279a7dae273')"
      ]
     },
     "execution_count": 8,
     "metadata": {},
     "output_type": "execute_result"
    }
   ],
   "source": [
    "z"
   ]
  },
  {
   "cell_type": "markdown",
   "id": "charged-heading",
   "metadata": {},
   "source": [
    "### ¿Qué es lo que acaba de suceder?"
   ]
  },
  {
   "cell_type": "markdown",
   "id": "killing-gathering",
   "metadata": {},
   "source": [
    "El objeto z es un objeto `Delayed`. Este objeto contiene todo lo que necesitamos para calcular el resultado final, incluidas las referencias a todas las funciones que se requieren y sus entradas y la relación entre sí. \n",
    "\n",
    "Podemos evaluar el resultado con el método *compute ()* como arriba o podemos visualizar el gráfico de tareas para este objeto de tipo *Delayed* con el método *visualize ()*."
   ]
  },
  {
   "cell_type": "code",
   "execution_count": 7,
   "id": "indonesian-republic",
   "metadata": {},
   "outputs": [
    {
     "data": {
      "image/png": "[encoded data removed]",
      "text/plain": [
       "<IPython.core.display.Image object>"
      ]
     },
     "execution_count": 7,
     "metadata": {},
     "output_type": "execute_result"
    }
   ],
   "source": [
    "z.visualize()"
   ]
  },
  {
   "cell_type": "markdown",
   "id": "pursuant-optics",
   "metadata": {},
   "source": [
    "Observe que esto incluye los nombres de las funciones anteriores y el flujo lógico de las salidas de las funciones inc a las entradas de add."
   ]
  },
  {
   "cell_type": "markdown",
   "id": "owned-rally",
   "metadata": {},
   "source": [
    "### Algunas preguntas a considerar:"
   ]
  },
  {
   "cell_type": "markdown",
   "id": "third-advice",
   "metadata": {},
   "source": [
    "+ ¿Por qué pasamos de 3 a 2? \n",
    "+ ¿Por qué no pudimos paralelizar hasta 1s?\n",
    "+ ¿Qué hubiera sucedido si las funciones inc y add no incluyeran sleep (1)? \n",
    "+ ¿Dask aún podría acelerar este código?\n",
    "+ ¿Qué pasa si tenemos múltiples salidas o también queremos tener acceso a x o y?"
   ]
  },
  {
   "cell_type": "markdown",
   "id": "dressed-blame",
   "metadata": {},
   "source": [
    "### Ejercicio: paralelizar un bucle for"
   ]
  },
  {
   "cell_type": "markdown",
   "id": "advised-lounge",
   "metadata": {},
   "source": [
    "Los bucles *for* son una de las cosas más comunes que queremos paralelizar. Utilice `dask.delayed` en *inc* y *sum* para paralelizar el cálculo a continuación:"
   ]
  },
  {
   "cell_type": "code",
   "execution_count": 9,
   "id": "occasional-fraction",
   "metadata": {},
   "outputs": [],
   "source": [
    "data = [1,2,3,4,5,6,7,8]"
   ]
  },
  {
   "cell_type": "code",
   "execution_count": 10,
   "id": "developed-tiffany",
   "metadata": {},
   "outputs": [
    {
     "name": "stdout",
     "output_type": "stream",
     "text": [
      "CPU times: user 599 ms, sys: 96.5 ms, total: 696 ms\n",
      "Wall time: 8.01 s\n"
     ]
    }
   ],
   "source": [
    "%%time\n",
    "# código secuencial\n",
    "\n",
    "results = []\n",
    "for x in data:\n",
    "    y = inc(x)\n",
    "    results.append(y)\n",
    "    \n",
    "total = sum(results)"
   ]
  },
  {
   "cell_type": "markdown",
   "id": "isolated-covering",
   "metadata": {},
   "source": [
    "### Una Solución"
   ]
  },
  {
   "cell_type": "markdown",
   "id": "continuous-webster",
   "metadata": {},
   "source": [
    "Paralelizar. Usaremos *delayed* para retrasar la ejecución. Dask creará el grafo del cómputo y estará listo para ejecutarlo en paralelo."
   ]
  },
  {
   "cell_type": "code",
   "execution_count": 11,
   "id": "competitive-weapon",
   "metadata": {},
   "outputs": [
    {
     "name": "stdout",
     "output_type": "stream",
     "text": [
      "Antes de calcular Delayed('sum-f0f287c3-be1f-415a-96cc-8c2e2c514d04')\n",
      "Después de calcular 44\n",
      "CPU times: user 185 ms, sys: 17.2 ms, total: 202 ms\n",
      "Wall time: 2.06 s\n"
     ]
    }
   ],
   "source": [
    "%%time\n",
    "results = []\n",
    "\n",
    "for x in data:\n",
    "    y = delayed(inc)(x)\n",
    "    results.append(y)\n",
    "    \n",
    "total = delayed(sum)(results)\n",
    "print('El objeto total es:', total)  # Veámos que cosa es total\n",
    "result = total.compute()\n",
    "print('Resultado del cálculo', result)  # Resultado del cálculo\n"
   ]
  },
  {
   "cell_type": "code",
   "execution_count": 12,
   "id": "original-hunger",
   "metadata": {},
   "outputs": [
    {
     "data": {
      "image/png": "[encoded data removed]",
      "text/plain": [
       "<IPython.core.display.Image object>"
      ]
     },
     "execution_count": 12,
     "metadata": {},
     "output_type": "execute_result"
    }
   ],
   "source": [
    "total.visualize()"
   ]
  },
  {
   "cell_type": "code",
   "execution_count": 12,
   "id": "logical-battlefield",
   "metadata": {},
   "outputs": [
    {
     "data": {
      "text/plain": [
       "Delayed('add-c4e85cbea87be44427591876fa5dce2b')"
      ]
     },
     "execution_count": 12,
     "metadata": {},
     "output_type": "execute_result"
    }
   ],
   "source": [
    "# tipo de objeto\n",
    "delayed(inc)(1) + delayed(inc)(2)"
   ]
  },
  {
   "cell_type": "markdown",
   "id": "split-triumph",
   "metadata": {},
   "source": [
    "### Ejercicio: paralelización de un código de bucle for con flujo de control"
   ]
  },
  {
   "cell_type": "markdown",
   "id": "recorded-fundamental",
   "metadata": {},
   "source": [
    "A menudo queremos retrasar solo algunas funciones, ejecutando algunas de ellas inmediatamente. Esto es especialmente útil cuando esas funciones son rápidas y nos ayudan a determinar qué otras funciones más lentas debemos llamar. Esta decisión, de retrasar o no retrasar, suele ser donde debemos ser reflexivos al utilizar *dask.delayed*.\n",
    "\n",
    "En el siguiente ejemplo, iteramos a través de una lista de entradas. Si esa entrada es par, entonces queremos llamar a *inc*. Si la entrada es impar, queremos llamar a *doble*. Esta  función de decisión *is_even* para llamar  *inc* o *double* debe tomarse de inmediato (no de manera perezosa) para que el código Python de creación de nuestro gráfo continúe."
   ]
  },
  {
   "cell_type": "code",
   "execution_count": 14,
   "id": "nuclear-danish",
   "metadata": {},
   "outputs": [],
   "source": [
    "def double(x):\n",
    "    sleep(1)\n",
    "    return 2*x\n",
    "\n",
    "def is_even(x):\n",
    "    return not x%2\n",
    "\n",
    "data = [1,2,3,4,5,6,7,8,9,10]"
   ]
  },
  {
   "cell_type": "code",
   "execution_count": 15,
   "id": "proprietary-explorer",
   "metadata": {},
   "outputs": [
    {
     "name": "stdout",
     "output_type": "stream",
     "text": [
      "[2, 3, 6, 5, 10, 7, 14, 9, 18, 11]\n",
      "85\n",
      "CPU times: user 657 ms, sys: 185 ms, total: 841 ms\n",
      "Wall time: 10 s\n"
     ]
    }
   ],
   "source": [
    "%%time\n",
    "# código secuencial\n",
    "\n",
    "results = []\n",
    "for x in data:\n",
    "    if is_even(x):\n",
    "        y = inc(x)\n",
    "    else:\n",
    "        y = double(x)\n",
    "    results.append(y)\n",
    "    \n",
    "total = sum(results)\n",
    "print(results)\n",
    "print(total)"
   ]
  },
  {
   "cell_type": "markdown",
   "id": "after-chamber",
   "metadata": {},
   "source": [
    "### Código paralelo"
   ]
  },
  {
   "cell_type": "code",
   "execution_count": 17,
   "id": "meaningful-logging",
   "metadata": {},
   "outputs": [
    {
     "name": "stdout",
     "output_type": "stream",
     "text": [
      "CPU times: user 0 ns, sys: 3.7 ms, total: 3.7 ms\n",
      "Wall time: 4.64 ms\n"
     ]
    }
   ],
   "source": [
    "%%time\n",
    "\n",
    "results = []\n",
    "for x in data:\n",
    "    if is_even(x):\n",
    "        y = delayed(inc)(x)\n",
    "    else:\n",
    "        y = delayed(double)(x)\n",
    "    results.append(y)\n",
    "\n",
    "total = delayed(sum)(results)\n"
   ]
  },
  {
   "cell_type": "code",
   "execution_count": 18,
   "id": "international-rouge",
   "metadata": {},
   "outputs": [
    {
     "name": "stdout",
     "output_type": "stream",
     "text": [
      "CPU times: user 285 ms, sys: 32.6 ms, total: 318 ms\n",
      "Wall time: 3.08 s\n"
     ]
    },
    {
     "data": {
      "text/plain": [
       "85"
      ]
     },
     "execution_count": 18,
     "metadata": {},
     "output_type": "execute_result"
    }
   ],
   "source": [
    "%time total.compute()"
   ]
  },
  {
   "cell_type": "code",
   "execution_count": 17,
   "id": "painted-punishment",
   "metadata": {},
   "outputs": [
    {
     "data": {
      "image/png": "[encoded data removed]",
      "text/plain": [
       "<IPython.core.display.Image object>"
      ]
     },
     "execution_count": 17,
     "metadata": {},
     "output_type": "execute_result"
    }
   ],
   "source": [
    "total.visualize()"
   ]
  },
  {
   "cell_type": "markdown",
   "id": "attended-instrumentation",
   "metadata": {},
   "source": [
    "## <span style=\"color:blue\">Ejemplo con Pandas groupby</span>"
   ]
  },
  {
   "cell_type": "markdown",
   "id": "continued-underground",
   "metadata": {},
   "source": [
    "Paralelización de  un reducción *groupby* de Pandas"
   ]
  },
  {
   "cell_type": "markdown",
   "id": "alone-attraction",
   "metadata": {},
   "source": [
    "En este ejercicio leemos varios archivos CSV y realizamos una operación *groupby* en paralelo. Primero revisamos un código secuencial para hacer esto y luego lo paralelizamos con *dask.delayed*.\n",
    "\n",
    "El cálculo que paralelizaremos es calcular el retraso medio de salida por aeropuerto a partir de algunos datos históricos de vuelo. Haremos esto usando *dask.delayed* junto con Pandas. En una sección futura haremos este mismo ejercicio con  `dask.dataframe`."
   ]
  },
  {
   "cell_type": "markdown",
   "id": "significant-saying",
   "metadata": {},
   "source": [
    "### Crear datos"
   ]
  },
  {
   "cell_type": "markdown",
   "id": "located-techno",
   "metadata": {},
   "source": [
    "Ejecute este código para preparar algunos datos."
   ]
  },
  {
   "cell_type": "markdown",
   "id": "powered-alignment",
   "metadata": {},
   "source": [
    "Este código descarga y extrae algunos datos históricos de vuelos fuera de Nueva York entre 1990 y 2000. Los datos son originalmente de [ASA](http://stat-computing.org/dataexpo/2009/the-data.html)."
   ]
  },
  {
   "cell_type": "code",
   "execution_count": 21,
   "id": "unnecessary-dryer",
   "metadata": {},
   "outputs": [],
   "source": [
    "!pyhton prep.py -d flights"
   ]
  },
  {
   "cell_type": "markdown",
   "id": "black-melissa",
   "metadata": {},
   "source": [
    "o "
   ]
  },
  {
   "cell_type": "code",
   "execution_count": null,
   "id": "advisory-season",
   "metadata": {},
   "outputs": [],
   "source": [
    "%run prep.py -d flights"
   ]
  },
  {
   "cell_type": "markdown",
   "id": "ecological-release",
   "metadata": {},
   "source": [
    "### Inspección de los datos"
   ]
  },
  {
   "cell_type": "code",
   "execution_count": 20,
   "id": "affiliated-decision",
   "metadata": {},
   "outputs": [
    {
     "data": {
      "text/plain": [
       "['.ipynb_checkpoints',\n",
       " '1990.csv',\n",
       " '1991.csv',\n",
       " '1992.csv',\n",
       " '1993.csv',\n",
       " '1994.csv',\n",
       " '1995.csv',\n",
       " '1996.csv',\n",
       " '1997.csv',\n",
       " '1998.csv',\n",
       " '1999.csv']"
      ]
     },
     "execution_count": 20,
     "metadata": {},
     "output_type": "execute_result"
    }
   ],
   "source": [
    "import os\n",
    "sorted(os.listdir(os.path.join('../data', 'nycflights')))"
   ]
  },
  {
   "cell_type": "markdown",
   "id": "level-adjustment",
   "metadata": {},
   "source": [
    "Lee un archivo con `pandas.read_csv` y calcula la media de las demoras en salida de vuelos\n"
   ]
  },
  {
   "cell_type": "code",
   "execution_count": 21,
   "id": "natural-custom",
   "metadata": {},
   "outputs": [
    {
     "data": {
      "text/html": [
       "<div>\n",
       "<style scoped>\n",
       "    .dataframe tbody tr th:only-of-type {\n",
       "        vertical-align: middle;\n",
       "    }\n",
       "\n",
       "    .dataframe tbody tr th {\n",
       "        vertical-align: top;\n",
       "    }\n",
       "\n",
       "    .dataframe thead th {\n",
       "        text-align: right;\n",
       "    }\n",
       "</style>\n",
       "<table border=\"1\" class=\"dataframe\">\n",
       "  <thead>\n",
       "    <tr style=\"text-align: right;\">\n",
       "      <th></th>\n",
       "      <th>Year</th>\n",
       "      <th>Month</th>\n",
       "      <th>DayofMonth</th>\n",
       "      <th>DayOfWeek</th>\n",
       "      <th>DepTime</th>\n",
       "      <th>CRSDepTime</th>\n",
       "      <th>ArrTime</th>\n",
       "      <th>CRSArrTime</th>\n",
       "      <th>UniqueCarrier</th>\n",
       "      <th>FlightNum</th>\n",
       "      <th>...</th>\n",
       "      <th>AirTime</th>\n",
       "      <th>ArrDelay</th>\n",
       "      <th>DepDelay</th>\n",
       "      <th>Origin</th>\n",
       "      <th>Dest</th>\n",
       "      <th>Distance</th>\n",
       "      <th>TaxiIn</th>\n",
       "      <th>TaxiOut</th>\n",
       "      <th>Cancelled</th>\n",
       "      <th>Diverted</th>\n",
       "    </tr>\n",
       "  </thead>\n",
       "  <tbody>\n",
       "    <tr>\n",
       "      <th>0</th>\n",
       "      <td>1990</td>\n",
       "      <td>1</td>\n",
       "      <td>1</td>\n",
       "      <td>1</td>\n",
       "      <td>1621.0</td>\n",
       "      <td>1540</td>\n",
       "      <td>1747.0</td>\n",
       "      <td>1701</td>\n",
       "      <td>US</td>\n",
       "      <td>33</td>\n",
       "      <td>...</td>\n",
       "      <td>NaN</td>\n",
       "      <td>46.0</td>\n",
       "      <td>41.0</td>\n",
       "      <td>EWR</td>\n",
       "      <td>PIT</td>\n",
       "      <td>319.0</td>\n",
       "      <td>NaN</td>\n",
       "      <td>NaN</td>\n",
       "      <td>0</td>\n",
       "      <td>0</td>\n",
       "    </tr>\n",
       "    <tr>\n",
       "      <th>1</th>\n",
       "      <td>1990</td>\n",
       "      <td>1</td>\n",
       "      <td>2</td>\n",
       "      <td>2</td>\n",
       "      <td>1547.0</td>\n",
       "      <td>1540</td>\n",
       "      <td>1700.0</td>\n",
       "      <td>1701</td>\n",
       "      <td>US</td>\n",
       "      <td>33</td>\n",
       "      <td>...</td>\n",
       "      <td>NaN</td>\n",
       "      <td>-1.0</td>\n",
       "      <td>7.0</td>\n",
       "      <td>EWR</td>\n",
       "      <td>PIT</td>\n",
       "      <td>319.0</td>\n",
       "      <td>NaN</td>\n",
       "      <td>NaN</td>\n",
       "      <td>0</td>\n",
       "      <td>0</td>\n",
       "    </tr>\n",
       "    <tr>\n",
       "      <th>2</th>\n",
       "      <td>1990</td>\n",
       "      <td>1</td>\n",
       "      <td>3</td>\n",
       "      <td>3</td>\n",
       "      <td>1546.0</td>\n",
       "      <td>1540</td>\n",
       "      <td>1710.0</td>\n",
       "      <td>1701</td>\n",
       "      <td>US</td>\n",
       "      <td>33</td>\n",
       "      <td>...</td>\n",
       "      <td>NaN</td>\n",
       "      <td>9.0</td>\n",
       "      <td>6.0</td>\n",
       "      <td>EWR</td>\n",
       "      <td>PIT</td>\n",
       "      <td>319.0</td>\n",
       "      <td>NaN</td>\n",
       "      <td>NaN</td>\n",
       "      <td>0</td>\n",
       "      <td>0</td>\n",
       "    </tr>\n",
       "    <tr>\n",
       "      <th>3</th>\n",
       "      <td>1990</td>\n",
       "      <td>1</td>\n",
       "      <td>4</td>\n",
       "      <td>4</td>\n",
       "      <td>1542.0</td>\n",
       "      <td>1540</td>\n",
       "      <td>1710.0</td>\n",
       "      <td>1701</td>\n",
       "      <td>US</td>\n",
       "      <td>33</td>\n",
       "      <td>...</td>\n",
       "      <td>NaN</td>\n",
       "      <td>9.0</td>\n",
       "      <td>2.0</td>\n",
       "      <td>EWR</td>\n",
       "      <td>PIT</td>\n",
       "      <td>319.0</td>\n",
       "      <td>NaN</td>\n",
       "      <td>NaN</td>\n",
       "      <td>0</td>\n",
       "      <td>0</td>\n",
       "    </tr>\n",
       "    <tr>\n",
       "      <th>4</th>\n",
       "      <td>1990</td>\n",
       "      <td>1</td>\n",
       "      <td>5</td>\n",
       "      <td>5</td>\n",
       "      <td>1549.0</td>\n",
       "      <td>1540</td>\n",
       "      <td>1706.0</td>\n",
       "      <td>1701</td>\n",
       "      <td>US</td>\n",
       "      <td>33</td>\n",
       "      <td>...</td>\n",
       "      <td>NaN</td>\n",
       "      <td>5.0</td>\n",
       "      <td>9.0</td>\n",
       "      <td>EWR</td>\n",
       "      <td>PIT</td>\n",
       "      <td>319.0</td>\n",
       "      <td>NaN</td>\n",
       "      <td>NaN</td>\n",
       "      <td>0</td>\n",
       "      <td>0</td>\n",
       "    </tr>\n",
       "  </tbody>\n",
       "</table>\n",
       "<p>5 rows × 23 columns</p>\n",
       "</div>"
      ],
      "text/plain": [
       "   Year  Month  DayofMonth  DayOfWeek  DepTime  CRSDepTime  ArrTime  \\\n",
       "0  1990      1           1          1   1621.0        1540   1747.0   \n",
       "1  1990      1           2          2   1547.0        1540   1700.0   \n",
       "2  1990      1           3          3   1546.0        1540   1710.0   \n",
       "3  1990      1           4          4   1542.0        1540   1710.0   \n",
       "4  1990      1           5          5   1549.0        1540   1706.0   \n",
       "\n",
       "   CRSArrTime UniqueCarrier  FlightNum  ...  AirTime  ArrDelay  DepDelay  \\\n",
       "0        1701            US         33  ...      NaN      46.0      41.0   \n",
       "1        1701            US         33  ...      NaN      -1.0       7.0   \n",
       "2        1701            US         33  ...      NaN       9.0       6.0   \n",
       "3        1701            US         33  ...      NaN       9.0       2.0   \n",
       "4        1701            US         33  ...      NaN       5.0       9.0   \n",
       "\n",
       "   Origin  Dest  Distance TaxiIn TaxiOut  Cancelled  Diverted  \n",
       "0     EWR   PIT     319.0    NaN     NaN          0         0  \n",
       "1     EWR   PIT     319.0    NaN     NaN          0         0  \n",
       "2     EWR   PIT     319.0    NaN     NaN          0         0  \n",
       "3     EWR   PIT     319.0    NaN     NaN          0         0  \n",
       "4     EWR   PIT     319.0    NaN     NaN          0         0  \n",
       "\n",
       "[5 rows x 23 columns]"
      ]
     },
     "execution_count": 21,
     "metadata": {},
     "output_type": "execute_result"
    }
   ],
   "source": [
    "import pandas as pd\n",
    "df = pd.read_csv(os.path.join('../data', 'nycflights', '1990.csv'))\n",
    "df.head()"
   ]
  },
  {
   "cell_type": "code",
   "execution_count": 22,
   "id": "plastic-chinese",
   "metadata": {},
   "outputs": [
    {
     "data": {
      "text/plain": [
       "Year                   int64\n",
       "Month                  int64\n",
       "DayofMonth             int64\n",
       "DayOfWeek              int64\n",
       "DepTime              float64\n",
       "CRSDepTime             int64\n",
       "ArrTime              float64\n",
       "CRSArrTime             int64\n",
       "UniqueCarrier         object\n",
       "FlightNum              int64\n",
       "TailNum              float64\n",
       "ActualElapsedTime    float64\n",
       "CRSElapsedTime         int64\n",
       "AirTime              float64\n",
       "ArrDelay             float64\n",
       "DepDelay             float64\n",
       "Origin                object\n",
       "Dest                  object\n",
       "Distance             float64\n",
       "TaxiIn               float64\n",
       "TaxiOut              float64\n",
       "Cancelled              int64\n",
       "Diverted               int64\n",
       "dtype: object"
      ]
     },
     "execution_count": 22,
     "metadata": {},
     "output_type": "execute_result"
    }
   ],
   "source": [
    "# ¿Cuál es el esquema de la tabla?\n",
    "df.dtypes"
   ]
  },
  {
   "cell_type": "code",
   "execution_count": 23,
   "id": "leading-black",
   "metadata": {},
   "outputs": [
    {
     "data": {
      "text/plain": [
       "array(['EWR', 'LGA', 'JFK'], dtype=object)"
      ]
     },
     "execution_count": 23,
     "metadata": {},
     "output_type": "execute_result"
    }
   ],
   "source": [
    "# ¿A cuáles aeropuertos pertenecen los datos?\n",
    "df.Origin.unique()"
   ]
  },
  {
   "cell_type": "code",
   "execution_count": 24,
   "id": "coordinate-transaction",
   "metadata": {},
   "outputs": [
    {
     "data": {
      "text/plain": [
       "Origin\n",
       "EWR     9.168411\n",
       "JFK    11.857274\n",
       "LGA     8.560045\n",
       "Name: DepDelay, dtype: float64"
      ]
     },
     "execution_count": 24,
     "metadata": {},
     "output_type": "execute_result"
    }
   ],
   "source": [
    "# Promedio de los relatrasos de despegue por aeropuerto para un año (1990)\n",
    "df.groupby('Origin').DepDelay.mean()"
   ]
  },
  {
   "cell_type": "markdown",
   "id": "documentary-matter",
   "metadata": {},
   "source": [
    "### Código secuencial : demora media  en el despegue por aeropuerto.\n",
    "\n",
    "La celda anterior calcula la demora media de salida por aeropuerto durante un año. Aquí lo ampliamos a todos los años usando un ciclo for secuencial.\n",
    "\n",
    "Haremos ahora el cálculo global usando todos los archivos de datos disponibles."
   ]
  },
  {
   "cell_type": "code",
   "execution_count": 25,
   "id": "ceramic-producer",
   "metadata": {},
   "outputs": [],
   "source": [
    "from glob import glob\n",
    "filenames = sorted(glob(os.path.join('../data', 'nycflights', '*.csv')))"
   ]
  },
  {
   "cell_type": "code",
   "execution_count": 26,
   "id": "legendary-estonia",
   "metadata": {},
   "outputs": [
    {
     "data": {
      "text/plain": [
       "['../data/nycflights/1990.csv',\n",
       " '../data/nycflights/1991.csv',\n",
       " '../data/nycflights/1992.csv',\n",
       " '../data/nycflights/1993.csv',\n",
       " '../data/nycflights/1994.csv',\n",
       " '../data/nycflights/1995.csv',\n",
       " '../data/nycflights/1996.csv',\n",
       " '../data/nycflights/1997.csv',\n",
       " '../data/nycflights/1998.csv',\n",
       " '../data/nycflights/1999.csv']"
      ]
     },
     "execution_count": 26,
     "metadata": {},
     "output_type": "execute_result"
    }
   ],
   "source": [
    "filenames"
   ]
  },
  {
   "cell_type": "code",
   "execution_count": 27,
   "id": "lasting-venice",
   "metadata": {},
   "outputs": [
    {
     "name": "stdout",
     "output_type": "stream",
     "text": [
      "CPU times: user 8.13 s, sys: 465 ms, total: 8.59 s\n",
      "Wall time: 8.13 s\n"
     ]
    }
   ],
   "source": [
    "%%time\n",
    "\n",
    "sums = []\n",
    "counts = []\n",
    "for fn in filenames:\n",
    "    # lee del archivo\n",
    "    df = pd.read_csv(fn)\n",
    "    \n",
    "    # Agrupa por aeropuerto de origen: groupby origin airport\n",
    "    by_origin = df.groupby('Origin')\n",
    "    \n",
    "    # Sum of all departure delays by origin\n",
    "    total = by_origin.DepDelay.sum()\n",
    "    \n",
    "    # Número de vuelos por origin\n",
    "    count = by_origin.DepDelay.count()\n",
    "    \n",
    "    # Guarda sumas y conteos intermedias (map reduce)\n",
    "    sums.append(total)\n",
    "    counts.append(count)\n",
    "\n",
    "# Combina los datos intermedios para obtener el dato buscado: mean-delay-per-origin\n",
    "total_delays = sum(sums)\n",
    "n_flights = sum(counts)\n",
    "mean = total_delays / n_flights"
   ]
  },
  {
   "cell_type": "code",
   "execution_count": 21,
   "id": "ideal-effect",
   "metadata": {},
   "outputs": [
    {
     "data": {
      "text/plain": [
       "[Origin\n",
       " EWR    115895\n",
       " JFK     46803\n",
       " LGA    104947\n",
       " Name: DepDelay, dtype: int64,\n",
       " Origin\n",
       " EWR    112234\n",
       " JFK     41832\n",
       " LGA    100882\n",
       " Name: DepDelay, dtype: int64,\n",
       " Origin\n",
       " EWR    113801\n",
       " JFK     42030\n",
       " LGA    101553\n",
       " Name: DepDelay, dtype: int64,\n",
       " Origin\n",
       " EWR    110286\n",
       " JFK     41280\n",
       " LGA    101122\n",
       " Name: DepDelay, dtype: int64,\n",
       " Origin\n",
       " EWR    112516\n",
       " JFK     42243\n",
       " LGA     98571\n",
       " Name: DepDelay, dtype: int64,\n",
       " Origin\n",
       " EWR    106398\n",
       " JFK     45412\n",
       " LGA     96810\n",
       " Name: DepDelay, dtype: int64,\n",
       " Origin\n",
       " EWR    114019\n",
       " JFK     42688\n",
       " LGA     92367\n",
       " Name: DepDelay, dtype: int64,\n",
       " Origin\n",
       " EWR    118228\n",
       " JFK     39246\n",
       " LGA     94042\n",
       " Name: DepDelay, dtype: int64,\n",
       " Origin\n",
       " EWR    116028\n",
       " JFK     41865\n",
       " LGA     91025\n",
       " Name: DepDelay, dtype: int64,\n",
       " Origin\n",
       " EWR    120046\n",
       " JFK     43844\n",
       " LGA     92948\n",
       " Name: DepDelay, dtype: int64]"
      ]
     },
     "execution_count": 21,
     "metadata": {},
     "output_type": "execute_result"
    }
   ],
   "source": [
    "counts"
   ]
  },
  {
   "cell_type": "code",
   "execution_count": 39,
   "id": "committed-serial",
   "metadata": {},
   "outputs": [
    {
     "data": {
      "text/plain": [
       "pandas.core.series.Series"
      ]
     },
     "execution_count": 39,
     "metadata": {},
     "output_type": "execute_result"
    }
   ],
   "source": [
    "type(sums[0])"
   ]
  },
  {
   "cell_type": "code",
   "execution_count": 43,
   "id": "mechanical-award",
   "metadata": {},
   "outputs": [
    {
     "data": {
      "text/plain": [
       "[Index(['EWR', 'JFK', 'LGA'], dtype='object', name='Origin')]"
      ]
     },
     "execution_count": 43,
     "metadata": {},
     "output_type": "execute_result"
    }
   ],
   "source": [
    "sums[0].axes"
   ]
  },
  {
   "cell_type": "code",
   "execution_count": 41,
   "id": "provincial-cookie",
   "metadata": {},
   "outputs": [
    {
     "data": {
      "text/plain": [
       "<bound method NDFrame.describe of Origin\n",
       "EWR    1062573.0\n",
       "JFK     554956.0\n",
       "LGA     898351.0\n",
       "Name: DepDelay, dtype: float64>"
      ]
     },
     "execution_count": 41,
     "metadata": {},
     "output_type": "execute_result"
    }
   ],
   "source": [
    "sums[0].describe"
   ]
  },
  {
   "cell_type": "markdown",
   "id": "heated-assembly",
   "metadata": {},
   "source": [
    "### Parallelización del código anterior"
   ]
  },
  {
   "cell_type": "markdown",
   "id": "following-parker",
   "metadata": {},
   "source": [
    "Usaremos `dask.delayed` para paralelizar el código anterior.  Necesitamos saber algunas cosas extras.\n",
    "\n",
    "1.  Los métodos y el acceso a los atributos en los objetos retrasados funcionan automáticamente, por lo que si tiene un objeto retrasado, puede realizar operaciones aritméticas, segmentadas y de métodos normales en él y producirá las llamadas retrasadas correctas.\n",
    "\n",
    "    ```python\n",
    "    x = delayed(np.arange)(10)\n",
    "    y = (x + 1)[::2].sum()  # todo fue retrasado (delayed)\n",
    "    ```\n",
    "2.  Llamar al método `.compute ()` funciona bien cuando tiene una única salida. Cuando tenga varias salidas, es posible que desee utilizar la función `dask.compute`:\n",
    "\n",
    "    ```python\n",
    "    >>> from dask import compute\n",
    "    >>> x = delayed(np.arange)(10)\n",
    "    >>> y = x ** 2\n",
    "    >>> min_, max_ = compute(y.min(), y.max())\n",
    "    >>> min_, max_\n",
    "    (0, 81)\n",
    "    ```\n",
    "    \n",
    "    De esta forma Dask puede compartir los valores intermedios (como `y = x**2`)\n",
    "    \n",
    "Entonces, nuestro objetivo es paralelizar el código anterior (que se ha copiado a continuación) usando `dask.delayed`. También es posible que se desee visualizar un poco del cálculo para ver si lo está haciendo correctamente."
   ]
  },
  {
   "cell_type": "code",
   "execution_count": 28,
   "id": "regulated-portland",
   "metadata": {},
   "outputs": [],
   "source": [
    "from dask import compute"
   ]
  },
  {
   "cell_type": "code",
   "execution_count": 29,
   "id": "reported-angel",
   "metadata": {},
   "outputs": [
    {
     "name": "stdout",
     "output_type": "stream",
     "text": [
      "CPU times: user 8.65 s, sys: 175 ms, total: 8.82 s\n",
      "Wall time: 8.55 s\n"
     ]
    }
   ],
   "source": [
    "%%time\n",
    "\n",
    "# copia del código secuencial\n",
    "\n",
    "sums = []\n",
    "counts = []\n",
    "for fn in filenames:\n",
    "    # Read in file\n",
    "    df = pd.read_csv(fn)\n",
    "    \n",
    "    # Groupby origin airport\n",
    "    by_origin = df.groupby('Origin')\n",
    "    \n",
    "    # Sum of all departure delays by origin\n",
    "    total = by_origin.DepDelay.sum()\n",
    "    \n",
    "    # Number of flights by origin\n",
    "    count = by_origin.DepDelay.count()\n",
    "    \n",
    "    # Save the intermediates\n",
    "    sums.append(total)\n",
    "    counts.append(count)\n",
    "\n",
    "# Combine intermediates to get total mean-delay-per-origin\n",
    "total_delays = sum(sums)\n",
    "n_flights = sum(counts)\n",
    "mean = total_delays / n_flights"
   ]
  },
  {
   "cell_type": "code",
   "execution_count": 30,
   "id": "productive-amount",
   "metadata": {},
   "outputs": [
    {
     "data": {
      "text/plain": [
       "Origin\n",
       "EWR    10.295469\n",
       "JFK    10.351299\n",
       "LGA     7.431142\n",
       "Name: DepDelay, dtype: float64"
      ]
     },
     "execution_count": 30,
     "metadata": {},
     "output_type": "execute_result"
    }
   ],
   "source": [
    "mean"
   ]
  },
  {
   "cell_type": "code",
   "execution_count": null,
   "id": "junior-minnesota",
   "metadata": {},
   "outputs": [],
   "source": [
    "%%time\n",
    "# escriba su código paralelizado aquí"
   ]
  },
  {
   "cell_type": "markdown",
   "id": "august-bronze",
   "metadata": {},
   "source": [
    "Si carga la solución, agregue `%%time` en la parte superior de la celda para medir el tiempo de ejecución."
   ]
  },
  {
   "cell_type": "code",
   "execution_count": 31,
   "id": "gentle-network",
   "metadata": {},
   "outputs": [
    {
     "name": "stdout",
     "output_type": "stream",
     "text": [
      "CPU times: user 1.12 s, sys: 143 ms, total: 1.26 s\n",
      "Wall time: 6.61 s\n"
     ]
    }
   ],
   "source": [
    "%%time\n",
    "\n",
    "# Esta es una posible solución, hay\n",
    "# varia cosas por hacer usando `delayed`\n",
    "\n",
    "sums = []\n",
    "counts = []\n",
    "for fn in filenames:\n",
    "    # Retrasa la lectura de los archivos\n",
    "    df = delayed(pd.read_csv)(fn)\n",
    "\n",
    "    # Groupby origin airport\n",
    "    by_origin = df.groupby('Origin')\n",
    "\n",
    "    # Sum of all departure delays by origin\n",
    "    total = by_origin.DepDelay.sum()\n",
    "\n",
    "    # Number of flights by origin\n",
    "    count = by_origin.DepDelay.count()\n",
    "\n",
    "    # Save the intermediates\n",
    "    sums.append(total)\n",
    "    counts.append(count)\n",
    "\n",
    "# Compute the intermediates\n",
    "sums, counts = compute(sums, counts)\n",
    "\n",
    "# Combine intermediates to get total mean-delay-per-origin\n",
    "total_delays = sum(sums)\n",
    "n_flights = sum(counts)\n",
    "mean = total_delays / n_flights"
   ]
  },
  {
   "cell_type": "code",
   "execution_count": 48,
   "id": "nasty-array",
   "metadata": {},
   "outputs": [
    {
     "data": {
      "text/plain": [
       "Origin\n",
       "EWR    10.295469\n",
       "JFK    10.351299\n",
       "LGA     7.431142\n",
       "Name: DepDelay, dtype: float64"
      ]
     },
     "execution_count": 48,
     "metadata": {},
     "output_type": "execute_result"
    }
   ],
   "source": [
    "# ensure the results still match\n",
    "mean"
   ]
  },
  {
   "cell_type": "code",
   "execution_count": 55,
   "id": "false-domain",
   "metadata": {},
   "outputs": [
    {
     "data": {
      "image/png": "[encoded data removed]",
      "text/plain": [
       "<IPython.core.display.Image object>"
      ]
     },
     "execution_count": 55,
     "metadata": {},
     "output_type": "execute_result"
    }
   ],
   "source": [
    "df.visualize()"
   ]
  },
  {
   "cell_type": "markdown",
   "id": "aggressive-gallery",
   "metadata": {},
   "source": [
    "### Algunas preguntas a considerar:"
   ]
  },
  {
   "cell_type": "markdown",
   "id": "shaped-bacon",
   "metadata": {},
   "source": [
    "- ¿Cuánta aceleración obtuviste? ¿Es esta la cantidad de aceleración que esperarías?\n",
    "- Experimente con dónde llamar a \"compute\". ¿Qué sucede cuando lo llamas en \"sumas\" y \"recuentos\"? ¿Qué pasa si esperas y lo llamas en \"mean\"?\n",
    "- Experimente retrasando la llamada a \"sum\". ¿Cómo se ve el gráfico si se retrasa \"suma\"? ¿Cómo se ve el gráfico si no lo es?\n",
    "- ¿Puedes pensar en alguna razón por la que querrías hacer la reducción de una forma sobre la otra?"
   ]
  },
  {
   "cell_type": "markdown",
   "id": "expanded-stuart",
   "metadata": {},
   "source": [
    "### Aprende más"
   ]
  },
  {
   "cell_type": "markdown",
   "id": "acquired-alcohol",
   "metadata": {},
   "source": [
    "Visite la [documentación retrasada] (https://docs.dask.org/en/latest/delayed.html). En particular, este [screencast retrasado] (https://www.youtube.com/watch?v=SHqFmynRxVU) reforzará los conceptos que aprendió aquí y las [mejores prácticas retrasadas] (https://docs.dask.org/ en / latest / delayed-best-practices.html) recopila consejos sobre el uso correcto de `dask.delayed`."
   ]
  },
  {
   "cell_type": "markdown",
   "id": "typical-clearance",
   "metadata": {},
   "source": [
    "## <span style=\"color:blue\">Usando decoradores directamente</span>"
   ]
  },
  {
   "cell_type": "code",
   "execution_count": 32,
   "id": "further-harrison",
   "metadata": {},
   "outputs": [],
   "source": [
    "import dask\n",
    "\n",
    "@dask.delayed\n",
    "def inc(x):\n",
    "    return x + 1\n",
    "\n",
    "@dask.delayed\n",
    "def double(x):\n",
    "    return x * 2\n",
    "\n",
    "@dask.delayed\n",
    "def add(x, y):\n",
    "    return x + y\n",
    "\n",
    "data = [1, 2, 3, 4, 5]\n",
    "\n",
    "output = []\n",
    "for x in data:\n",
    "    a = inc(x)\n",
    "    b = double(x)\n",
    "    c = add(a, b)\n",
    "    output.append(c)\n",
    "\n",
    "total = dask.delayed(sum)(output)"
   ]
  },
  {
   "cell_type": "code",
   "execution_count": 33,
   "id": "through-approval",
   "metadata": {},
   "outputs": [
    {
     "data": {
      "text/plain": [
       "50"
      ]
     },
     "execution_count": 33,
     "metadata": {},
     "output_type": "execute_result"
    }
   ],
   "source": [
    "total.compute()"
   ]
  },
  {
   "cell_type": "code",
   "execution_count": 58,
   "id": "united-hartford",
   "metadata": {},
   "outputs": [
    {
     "data": {
      "image/png": "[encoded data removed]",
      "text/plain": [
       "<IPython.core.display.Image object>"
      ]
     },
     "execution_count": 58,
     "metadata": {},
     "output_type": "execute_result"
    }
   ],
   "source": [
    "total.visualize()"
   ]
  },
  {
   "cell_type": "markdown",
   "id": "second-paradise",
   "metadata": {},
   "source": [
    "## <span style=\"color:blue\">Cerrar el cliente</span>"
   ]
  },
  {
   "cell_type": "markdown",
   "id": "robust-louisiana",
   "metadata": {},
   "source": [
    "Before moving on to the next exercise, make sure to close your client or stop this kernel."
   ]
  },
  {
   "cell_type": "code",
   "execution_count": 34,
   "id": "naughty-salvation",
   "metadata": {},
   "outputs": [],
   "source": [
    "client.close()"
   ]
  },
  {
   "cell_type": "code",
   "execution_count": null,
   "id": "extra-thought",
   "metadata": {},
   "outputs": [],
   "source": []
  }
 ],
 "metadata": {
  "kernelspec": {
   "display_name": "Python 3",
   "language": "python",
   "name": "python3"
  },
  "language_info": {
   "codemirror_mode": {
    "name": "ipython",
    "version": 3
   },
   "file_extension": ".py",
   "mimetype": "text/x-python",
   "name": "python",
   "nbconvert_exporter": "python",
   "pygments_lexer": "ipython3",
   "version": "3.8.8"
  }
 },
 "nbformat": 4,
 "nbformat_minor": 5
}
