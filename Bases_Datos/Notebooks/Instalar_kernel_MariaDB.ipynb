{
 "cells": [
  {
   "cell_type": "markdown",
   "id": "orange-local",
   "metadata": {},
   "source": [
    "## Instalación del kernel de MariaDB para Jupyter Lab (version 2.2.6)"
   ]
  },
  {
   "cell_type": "markdown",
   "id": "adjustable-galaxy",
   "metadata": {},
   "source": [
    "Siga las siguient3s instrucciones que encuentra en [MariaDB Jupyter Kernel Installation](https://mariadb.com/kb/en/mariadb-jupyter-kernel-installation/)"
   ]
  },
  {
   "cell_type": "markdown",
   "id": "popular-river",
   "metadata": {},
   "source": [
    "python3 -m pip install mariadb_kernel"
   ]
  },
  {
   "cell_type": "raw",
   "id": "monthly-ireland",
   "metadata": {},
   "source": [
    "(bigdata_c) alvaro@Lenovo:~$ python3 -m pip install mariadb_kernel\n",
    "(bigdata_c) alvaro@Lenovo:~$ python3 -m mariadb_kernel.install"
   ]
  },
  {
   "cell_type": "markdown",
   "id": "endless-savannah",
   "metadata": {},
   "source": [
    "# Configuración de MariaDB para el IKernel de MariaDB"
   ]
  },
  {
   "cell_type": "raw",
   "id": "minor-undergraduate",
   "metadata": {},
   "source": [
    "Ahora vaya a la carpeta \n",
    "\n",
    "~/.jupyter \n",
    "\n",
    "y cree el archivo mariadb_config.json. por ejemplo, si tiene instalado el editor gedit escriba\n",
    "\n",
    "gedit mariadb_config.json\n",
    "\n",
    "Copie el siguiente código que define un string de conección que usara Jupyter LAb apatr conectarse con MariaDB. Coloque su password(en el lugar de \"securepassword\" de root, si va a comunicarse con este usuario"
   ]
  },
  {
   "cell_type": "raw",
   "id": "amateur-somalia",
   "metadata": {},
   "source": [
    "{\n",
    "    \"user\": \"root\",\n",
    "    \"host\": \"localhost\",\n",
    "    \"port\": \"3306\",\n",
    "    \"password\": \"securepassword\",\n",
    "    \"start_server\": \"True\",\n",
    "    \"client_bin\": \"/usr/bin/mariadb\",\n",
    "    \"server_bin\": \"/usr/bin/mariadbd\"\n",
    "}\n"
   ]
  },
  {
   "cell_type": "markdown",
   "id": "determined-applicant",
   "metadata": {},
   "source": [
    "Si necesita cambiar el password de root siga las siguientes instrucciones [Cambiar password en mariadb](https://blog.carreralinux.com.ar/2017/03/cambiar-la-clave-de-root-mysql-mariadb/)\n",
    "\n",
    "Si perdió el password de root entre coo super usuario de linux asi y siga las instrucciones del enlace."
   ]
  },
  {
   "cell_type": "raw",
   "id": "minor-kazakhstan",
   "metadata": {},
   "source": [
    "(bigdata_c) alvaro@Lenovo:~$ sudo mariadb"
   ]
  },
  {
   "cell_type": "code",
   "execution_count": null,
   "id": "social-timer",
   "metadata": {},
   "outputs": [],
   "source": [
    "# Prueba"
   ]
  },
  {
   "cell_type": "markdown",
   "id": "optical-dragon",
   "metadata": {},
   "source": [
    "Seleccione el kernel de Mariadb arriba. O lanzar un nuevo kernel. Apenas entre escriba "
   ]
  },
  {
   "cell_type": "code",
   "execution_count": 1,
   "id": "twelve-australia",
   "metadata": {
    "jupyter": {
     "source_hidden": true
    }
   },
   "outputs": [],
   "source": []
  },
  {
   "cell_type": "code",
   "execution_count": 1,
   "id": "established-backing",
   "metadata": {
    "jupyter": {
     "source_hidden": true
    }
   },
   "outputs": [
    {
     "data": {
      "text/html": [
       "<TABLE BORDER=1><TR><TH>Database</TH></TR><TR><TD>birdwatchers</TD></TR><TR><TD>information_schema</TD></TR><TR><TD>mysql</TD></TR><TR><TD>performance_schema</TD></TR><TR><TD>rookery</TD></TR><TR><TD>test</TD></TR></TABLE>"
      ]
     },
     "metadata": {},
     "output_type": "display_data"
    }
   ],
   "source": [
    "show databases;"
   ]
  },
  {
   "cell_type": "markdown",
   "id": "cooperative-peeing",
   "metadata": {},
   "source": [
    "etc."
   ]
  },
  {
   "cell_type": "code",
   "execution_count": 2,
   "id": "instant-decision",
   "metadata": {},
   "outputs": [
    {
     "data": {
      "text/html": []
     },
     "metadata": {},
     "output_type": "display_data"
    }
   ],
   "source": [
    "use test;"
   ]
  },
  {
   "cell_type": "code",
   "execution_count": 3,
   "id": "destroyed-fisher",
   "metadata": {},
   "outputs": [
    {
     "data": {
      "text/html": [
       "<TABLE BORDER=1><TR><TH>Tables_in_test</TH></TR><TR><TD>books</TD></TR><TR><TD>status_names</TD></TR></TABLE>"
      ]
     },
     "metadata": {},
     "output_type": "display_data"
    }
   ],
   "source": [
    "show tables;"
   ]
  },
  {
   "cell_type": "code",
   "execution_count": 4,
   "id": "painful-scotland",
   "metadata": {},
   "outputs": [
    {
     "data": {
      "text/html": [
       "<TABLE BORDER=1><TR><TH>book_id</TH><TH>title</TH><TH>status</TH></TR><TR><TD>100</TD><TD>The Catche in the Rye</TD><TD>1</TD></TR><TR><TD>200</TD><TD>The Catcher of the Rye</TD><TD>1</TD></TR><TR><TD>300</TD><TD>My Antonia</TD><TD>0</TD></TR></TABLE>"
      ]
     },
     "metadata": {},
     "output_type": "display_data"
    }
   ],
   "source": [
    "select * from books;"
   ]
  },
  {
   "cell_type": "code",
   "execution_count": null,
   "id": "rotary-victorian",
   "metadata": {},
   "outputs": [],
   "source": []
  }
 ],
 "metadata": {
  "kernelspec": {
   "display_name": "MariaDB",
   "language": "SQL",
   "name": "mariadb_kernel"
  },
  "language_info": {
   "file_extension": ".sql",
   "mimetype": "text/plain",
   "name": "SQL"
  }
 },
 "nbformat": 4,
 "nbformat_minor": 5
}
