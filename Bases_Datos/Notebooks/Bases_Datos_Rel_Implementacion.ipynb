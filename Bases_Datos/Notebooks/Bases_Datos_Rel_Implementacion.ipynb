{
 "cells": [
  {
   "cell_type": "markdown",
   "id": "protected-military",
   "metadata": {
    "tags": []
   },
   "source": [
    "<figure>\n",
    "<img src=\"../Imagenes/logo-final-ap.png\"  width=\"80\" height=\"80\" align=\"left\"/> \n",
    "</figure>\n",
    "\n",
    "# <span style=\"color:blue\"><left>Aprendizaje Profundo</left></span>"
   ]
  },
  {
   "cell_type": "markdown",
   "id": "chicken-compilation",
   "metadata": {},
   "source": [
    "# <span style=\"color:red\"><center>Implementación de un base de datos<center></span>"
   ]
  },
  {
   "cell_type": "markdown",
   "id": "appreciated-border",
   "metadata": {},
   "source": [
    "##   <span style=\"color:blue\">Autores</span>"
   ]
  },
  {
   "cell_type": "markdown",
   "id": "egyptian-confidence",
   "metadata": {},
   "source": [
    "1. Alvaro Mauricio Montenegro Díaz, ammontenegrod@unal.edu.co\n",
    "2. Daniel Mauricio Montenegro Reyes, dextronomo@gmail.com "
   ]
  },
  {
   "cell_type": "markdown",
   "id": "reflected-nirvana",
   "metadata": {},
   "source": [
    "\n",
    "##   <span style=\"color:blue\">Asesora Medios y Marketing digital</span>\n",
    " "
   ]
  },
  {
   "cell_type": "markdown",
   "id": "resident-support",
   "metadata": {},
   "source": [
    "4. Maria del Pilar Montenegro, pmontenegro88@gmail.com "
   ]
  },
  {
   "cell_type": "markdown",
   "id": "existing-rugby",
   "metadata": {},
   "source": [
    "## <span style=\"color:blue\">Asistentes</span>"
   ]
  },
  {
   "cell_type": "markdown",
   "id": "packed-solid",
   "metadata": {},
   "source": []
  },
  {
   "cell_type": "markdown",
   "id": "novel-carbon",
   "metadata": {},
   "source": [
    "## <span style=\"color:blue\">Contenido</span>"
   ]
  },
  {
   "cell_type": "markdown",
   "id": "reverse-adult",
   "metadata": {},
   "source": [
    "* [Introducción](#Introducción)\n",
    "* [Tablas, registros y campos](#Tablas,-registros-y-campos)\n",
    "* [Restricciones de integridad](#Restricciones-de-integridad)\n",
    "* [Archivos de índices](#Archivos-de-índices)\n",
    "* [Principios de diseño de bases de datos. Normalización](#Principios-de-diseño-de-bases-de-datos.-Normalización)"
   ]
  },
  {
   "cell_type": "markdown",
   "id": "lesser-somalia",
   "metadata": {},
   "source": [
    "## <span style=\"color:blue\">Introducción</span>"
   ]
  },
  {
   "cell_type": "markdown",
   "id": "facial-channel",
   "metadata": {},
   "source": [
    "Un modelo entidad – relación (E/R) de una base de datos es un modelo abstracto, visualizado en un diagrama E/R. \n",
    "\n",
    "En esta sección se traslada el modelo abstracto en un modelo concreto. En otras palabras se va a mostrar como implementar el modelo E/R. Esto requiere la implementación de los siguiente objetos:\n",
    "\n",
    "\n",
    "+ Las entidades\n",
    "+ Las clases de entidades\n",
    "+ Los conjuntos de entidades\n",
    "+ Las relaciones entre entidades\n",
    "\n",
    "El resultado de esta implementación es una base de datos relacional."
   ]
  },
  {
   "cell_type": "markdown",
   "id": "sealed-pound",
   "metadata": {},
   "source": [
    "## <span style=\"color:blue\">Tablas, registros y campos</span>"
   ]
  },
  {
   "cell_type": "markdown",
   "id": "english-cooler",
   "metadata": {},
   "source": [
    "\n",
    "La implementación de una entidad es el esquema de **una tabla**. El esquema de una tabla es un archivo físico de la base de datos que contiene las definiciones asociadas a los objetos de una tabla. Una entidad puede ser identificada mediante el conjunto de sus atributos.\n",
    "\n",
    "Por ejemplo {IdInst, NomInst, SiglaInst, AmbitoInst, CaracterInst, TamañoInst, DirInst, TeInstl, FaxInst, EmaiInstl ,wwwInst } identifica una  entidad INSTITUCION en una base de datos.\n",
    "\n",
    "\n",
    "Los atributos de una  entidad corresponden a los **nombres de las columnas** de una tabla, y usualmente reciben el nombre de **campos** de la tabla, aunque el nombre atributo también se usa con frecuencia. Como se mencionó arriba, se usará la notación \n",
    "\n",
    "- Institucion(IdInst,Nombre, Sigla, IdCiu) \n",
    "\n",
    "para representar una entidad IINSTITUCION Revise la tabla 2 arriba.\n",
    "\n",
    "Esta notación hace explícitos el nombre de la clase entidad y el nombre de los atributos.\n",
    "\n",
    "Los conceptos de llave y súper llave de una clase entidad aplican de la misma forma en el esquema de una tabla. Así, si un conjunto de campos (atributos) forma una llave para el esquema de una tabla, entonces esos atributos forman una llave para la respectiva entidad implementada por el esquema de la tabla."
   ]
  },
  {
   "cell_type": "markdown",
   "id": "functional-muslim",
   "metadata": {},
   "source": [
    "### Registros de una tabla"
   ]
  },
  {
   "cell_type": "markdown",
   "id": "widespread-assignment",
   "metadata": {},
   "source": [
    "Las instancias de una entidad se denominan **registros**. Los registros en una tabla se muestran generalmente como filas de la tabla. Por ejemplo los dos primeros registros de la tabla INSTITUCION son\n",
    "\n",
    "|IdInst|Nombre|Sigla|IdCiu|\n",
    "|---|---|---|---|\n",
    "|2202|Instituto Colombiano de la Reforma Agraria|INCORA|2019|\n",
    "|2204|Instituto Colombiano de Medicina Tropical Antonio Roldan Betancur|ICMT|1324|\n",
    "\n",
    "Tabla 7. Algunos registros de la tabla INSTITUCION."
   ]
  },
  {
   "cell_type": "markdown",
   "id": "dressed-triangle",
   "metadata": {},
   "source": [
    "### Atributos o campos de una tabla"
   ]
  },
  {
   "cell_type": "markdown",
   "id": "renewable-flexibility",
   "metadata": {},
   "source": [
    "Los atributos de una tabla usualmente se denominan campos (también se usa el termino atributo). En el  ejemplo anterior, los campos de la tabla son  {idInst, Nombre, Sigla, IdCiu}.\n",
    "\n"
   ]
  },
  {
   "cell_type": "markdown",
   "id": "modified-burner",
   "metadata": {},
   "source": [
    "### Implementación de relaciones: llaves foráneas"
   ]
  },
  {
   "cell_type": "markdown",
   "id": "crazy-momentum",
   "metadata": {},
   "source": [
    "#### Relaciones uno a muchos"
   ]
  },
  {
   "cell_type": "markdown",
   "id": "described-insured",
   "metadata": {},
   "source": [
    "La implementación de una relación entre tablas se realiza de manera sencilla, incluyendo un campo en la tabla del lado muchos que será del mismo tipo de la llave primaria del lado uno. La relación entre los registros se establece colocando en la tabla del lado muchos el valor del identificador usado como llave primaria en la tabla del lado muchos. En la tabla del lado N, este campo se declara como **llave foránea**. En ejemplo de la tabla 7, el campo {IdCiu} establece la relación entre la tabla INSTITUCION y la tabla CIUDAD. Entonces, {IdCiu} es la llave primaria de la tabla CIUDAD y es llave foránea en la tabla INSTITUCION.\n",
    "\n",
    "La siguiente gráfica ilustra una relación uno a muchos entre dos tablas."
   ]
  },
  {
   "cell_type": "markdown",
   "id": "regulated-artist",
   "metadata": {},
   "source": [
    "\n",
    "![SGBD](../Imagenes/Relacion_entre_tablas.jpeg)\n",
    "\n",
    "\n",
    "Figura 23. Relación uno a muchos entre dos tablas S y T."
   ]
  },
  {
   "cell_type": "markdown",
   "id": "verbal-narrative",
   "metadata": {},
   "source": [
    "### Relaciones uno a uno"
   ]
  },
  {
   "cell_type": "markdown",
   "id": "random-spotlight",
   "metadata": {},
   "source": [
    "Una relación uno a uno entre dos esquemas de tablas se establece de la misma forma que una relación uno a muchos, agregando la restricción de que la llave foránea no tenga elementos repetidos en la tabla que referencia. Esto se consigue, construyendo un índice único para este atributo. La construcción de índices se explica más adelante."
   ]
  },
  {
   "cell_type": "markdown",
   "id": "effective-trustee",
   "metadata": {},
   "source": [
    "### Relaciones muchos a muchos"
   ]
  },
  {
   "cell_type": "markdown",
   "id": "weekly-kernel",
   "metadata": {},
   "source": [
    "\n",
    "La implementación de una relación muchos a muchos entre dos tablas, implica la creación de una nueva tabla en la base de datos. \n",
    "\n",
    "Supóngase que  $S(A_1 ,A_2 , \\cdots, A_n)$  y  $T(B_1 ,B_2 ,\\cdots, Bm)$  son dos tablas con llaves primarias {A1} y {B1} respectivamente  y que existe una relación muchos a muchos entre estas. \n",
    "\n",
    "La forma  de implementar la relación es construir una nueva tabla rel_S_T con atributos { A1 ,B1}. Es decir, la relación muchos a muchos es implementada mediante el esquema de tabla rel_S_T(A1 ,B1). \n",
    "\n",
    "En ejemplo de las tablas LIBRO y  AUTOR, supongamos que se tienen los siguientes campos:\n",
    "\n",
    "- LIBRO(IdLibro, NombreLibro)\n",
    "- AUTOR(IdAutor, NombreAutor)\n",
    "\n",
    "Entonces la relación se implementa en una tabla que llamaremos relLibroAutor así:\n",
    "\n",
    "- rel_LIBRO_AUTOR(IdLibro,IdAutor)\n",
    "\n",
    "Esta tabla no tiene atributos propios. Solamente dos llaves foráneas que se declaran obligatorias.\n",
    "\n"
   ]
  },
  {
   "cell_type": "markdown",
   "id": "faced-madness",
   "metadata": {},
   "source": [
    "## <span style=\"color:blue\">Restricciones de integridad</span>"
   ]
  },
  {
   "cell_type": "markdown",
   "id": "passing-skill",
   "metadata": {},
   "source": [
    "Con lo visto hasta ahora es posible la existencia de situaciones indeseables como las siguientes:\n",
    " \n",
    "- Dos personas en la tabla PERSONA con el mismo número de cédula. Asumiendo que el  campo cédula no es la llave primaria de la tabla como hemos discutido antes.\n",
    "- Dos o más estudiantes con el mismo código.\n",
    "- Un persona sin nombre.\n",
    "- Una referencia de la tabla CIUDAD a un Departamento que no existe en la tabla DEPARTAMENTO, en la relación CIUDAD>--DEPARTAMENTO.\n",
    " \n",
    " \n",
    "Para evitar este tipo de problemas se pueden introducir restricciones de integridad en el esquema de la base de datos.\n",
    " \n",
    "En general se contemplan cuatro de tipos de restricciones de integridad.\n",
    " \n",
    "1. Restricción de valor no nulo de atributos.\n",
    "2. Restrición de unicidad de atributos.\n",
    "3. Restricción de clave primaria.\n",
    "4. Restriccion de integridad referencial.\n",
    " \n",
    "La restricción de valor no nulo (**NOT NULL**) corresponden a los valores obligatorios. La restricción impide que se creen registros con campos vacios declarados no nulos.\n",
    " \n",
    "La restricción de unicidad (**UNIQUE**) impiden que hayan valores repetidos en los atributos con esta restricción. \n",
    " \n",
    "La restricción de llave primaria (**PRIMARY KEY**) define a un conjuntos de atributos (recomendadas llaves simples) como únicos. Es decir, la llave primaria de una tabla no admite repeticiones.\n",
    " \n",
    " **Integridad Referencial.** La integridad referencial es la exigencia (restricción) de que cada valor en una llave foránea sea un valor existente en la llave de la entidad referenciada. \n",
    " \n",
    " En general, es importante evitar que la llave foránea contenga valores inexistentes en la tabla referenciada. Permitir esto implica que una entidad esta relacionada con otra que no se sabe cual es. El motor de la base de datos permite establecer y eliminar  la integridad referencial. \n",
    " \n",
    "**Actualización y eliminación en cascada.** Las bases de datos modernas permiten la opción de ejecutar  actualizaciones en cascada, que significa que si una valor en la llave referenciada es cambiado, entonces todas las entradas relacionadas a este valor en la llave foránea son cambiados automáticamente a ese nuevo valor. \n",
    "\n",
    "Por ejemplo, si en la tabla CIUDAD de la base de datos  el identificador 1324 de la ciudad “Medellín”, es  cambiado por 3030, entonces automáticamente la llave foránea en  los registros asociados de la tabla INSTITUCIÓN son actualizados también al valor 3030.  \n",
    "\n",
    "Similarmente, eliminación en cascada significa que si un registro en la tabla referenciada es eliminado, entonces todos los registro relacionados en la tabla referenciante son también eliminados. En el mismo ejemplo,  si el registro con identificador 1324 (“Medellín”) es  eliminado en la tabla CIUDAD entonces los registros asociados de la tabla INSTITUCION también lo son.\n",
    "\n",
    "La práctica común es forzar la actualización en cascada y prohibir le eliminación en cascada para prevenir, la eliminación no deseada de algunos registros."
   ]
  },
  {
   "cell_type": "markdown",
   "id": "adopted-opportunity",
   "metadata": {},
   "source": [
    "## <span style=\"color:blue\">Archivos de índices</span>"
   ]
  },
  {
   "cell_type": "markdown",
   "id": "stunning-biography",
   "metadata": {},
   "source": [
    "Debido a que el acceso al disco es generalmente lento, es importante reducir la cantidad de información que es necesario acceder para recuperar un registro particular en una tabla. Los registros de una tabla son almacenados en forma secuencial en un archivo, pero sin ningún ordenamiento particular, por lo que recuperar un registro puede llegar a tomar mucho tiempo, si el registro se encuentra lejos del comienzo del archivo que contiene la tabla. El propósito  de un índice (mas correctamente de una archivo de índices) es proporcionar un acceso directo a los datos (también llamado acceso aleatorio)."
   ]
  },
  {
   "cell_type": "markdown",
   "id": "welcome-dinner",
   "metadata": {},
   "source": [
    "![SGBD](../Imagenes/indices.png)\n",
    "\n",
    "\n",
    "Figura 24. Archivo de índices entre las tablas CIUDAD e INSTITUCION."
   ]
  },
  {
   "cell_type": "markdown",
   "id": "front-wireless",
   "metadata": {},
   "source": [
    "La Figura 24 ilustra el concepto de una archivo de índices. Para facilitar, se ha reemplazado el campo IdCiu de INSTITUCION por Ciudad (Ciudad en la figura). \n",
    "\n",
    "El archivo de la izquierda es el archivo de índices, e indexa el archivo de datos de INSTITUCION por el campo Ciudad, que se llamará  **campo indexado**. El archivo de la izquierda que se llamará  por ejemplo IndiceCiudad es llamado un índice para la tabla INSTITUCION. \n",
    "\n",
    "El archivo índice es en realidad una estructura de datos conocida como  árbol binario que es capaz de mantener un orden. Lo que se ha representado en la Figura 24 corresponde en realidad a la forma como el archivo índice mantiene ordenados los datos de NomCiudad. \n",
    "\n",
    "El principio que se maneja es que para la estructura de datos ordenadas existen algoritmos de búsqueda extremadamente rápidos. En particular los algoritmos de búsqueda en árboles binario de búsqueda es muy rápida. Además, el gráfico no corresponde exactamente a la situación debido a que en este caso por lo general existe un archivo de índices adicional, que contiene los nombres de la ciudades solamente una vez.  \n",
    "\n",
    "Cada ciudad tiene entonces un puntero a la primera vez en donde aparece la ciudad  en el archivo IndiceCiudad. En la gráfica se observa que el archivo IndiceCiudad contiene las ciudades para cada institución, con un puntero al correspondiente registro en el archivo de la tabla INSTITUCION.\n",
    "\n",
    "Una tabla puede estar indexada sobre mas de un campo. Adicionalmente, una tabla puede ser indexada combinando dos o mas tablas. \n",
    "\n",
    "Por lo general las base de datos modernas crean automáticamente índices para la llave primaria de las tablas. Tal índice se llama índice primario. Los demás índices de la tabla se llaman índices secundarios."
   ]
  },
  {
   "cell_type": "markdown",
   "id": "structural-morris",
   "metadata": {},
   "source": [
    "##   <span style=\"color:blue\">Principios de diseño de bases de datos. Normalización </span>"
   ]
  },
  {
   "cell_type": "markdown",
   "id": "structural-recipient",
   "metadata": {},
   "source": [
    "Como se indicó desde el inicio de este mini-curso de bases de datos, un buen diseño de una base de datos debe organizarse  como una base de datos relacional en lugar de una única tabla plana, es decir, es necesario separar la información en varias tablas y definir conjuntos de relaciones entre ellas. \n",
    "\n",
    "El problema para diseñar grandes sistemas de bases de datos reales es que no es claro, al menos al comienzo, como organizar los datos en múltiple tablas. \n",
    "\n",
    "- ¿Cómo identificar las entidades? \n",
    "- ¿Cómo identificar las relaciones entre las entidades?.\n",
    "\n",
    "En realidad diseñar una base de datos es un problema complejo. Muchas personas lo consideran un arte en lugar de una ciencia. Esto implica que es más importante la intuición, que un procedimiento establecido. \n",
    "\n",
    "Por otro lado, si bien es cierto que no existe una receta para cada tipo problema, también lo es que, existe una abundante teoría para el diseño de bases de datos.\n",
    "\n",
    "En este documento se hace una presentación general de la teoría del diseño de bases de datos, sin entrar demasiado en los detalles, con el propósito de ayudar a despertar la intuición.\n",
    "\n",
    "El proceso de normalización de datos consiste en aplicar rigurosas reglas de dependencia de datos a las estructuras de datos del sistema.  El resultado es un conjunto de datos sin redundancia y sin ambigüedades. \n",
    "\n",
    "Con el proceso de  normalización se busca:\n",
    "\n",
    "\n",
    "+ Ayudar a entender mejor el negocio.\n",
    "+ Minimiza la redundancia e inconsistencia de los datos.\n",
    "+ Minimizar el impacto de futuros cambios.\n",
    "+ Minimiza el mantenimiento de los datos.\n",
    "+ Prevenir operaciones anómalas sobre los datos"
   ]
  },
  {
   "cell_type": "markdown",
   "id": "satisfactory-insulin",
   "metadata": {},
   "source": [
    "### Conceptos básicos"
   ]
  },
  {
   "cell_type": "markdown",
   "id": "tender-cambridge",
   "metadata": {},
   "source": [
    "#### Forma normal. Proceso de normalización."
   ]
  },
  {
   "cell_type": "markdown",
   "id": "unsigned-rotation",
   "metadata": {},
   "source": [
    "Una **forma normal** es una propiedad o restricción que un esquema de una tabla deber poseer, con el objeto de alcanzar algunas metas como las mencionadas antes. \n",
    "\n",
    "El proceso de normalización de una base de datos es el proceso de conducir el diseño de la base de datos en formas normales.\n",
    "\n",
    "Existen seis formas normales comúnmente reconocidas, denominadas\n",
    "\n",
    "- Primera forma normal  (1 FN)\n",
    "- Segunda forma normal  (2 FN)\n",
    "- Tercera forma normal  (3 FN)\n",
    "- Forma normal de Boyce Codd  (FNBC)\n",
    "- Cuarta forma normal  (4 FN)\n",
    "- Quinta forma normal  (5 FN)\n",
    "\n",
    "En este documento consideramos solamente las tres primeras forma normales,\n",
    "debido a que son las más importantes y de uso común. Cada una de estas formas es más fuerte que sus predecesoras. Por ejemplo, el esquema de una tablas está en tercera forma normal está también en segunda forma normal."
   ]
  },
  {
   "cell_type": "markdown",
   "id": "suffering-cycling",
   "metadata": {},
   "source": [
    "#### Dependencia funcional. "
   ]
  },
  {
   "cell_type": "markdown",
   "id": "young-alfred",
   "metadata": {},
   "source": [
    "Se dice que un atributo $B$ del esquema de una tabla es funcionalmente dependiente de otro atributo $A$ del mismo esquema, sí y solo si cada valor de $A$ determina completamente el valor de $B$.  Para notar esta situación se escribe \n",
    "\n",
    "$$\n",
    "A\\to B.\n",
    "$$\n",
    "\n",
    "\n",
    "Mas generalmente, Supongamos que $\\{A_1, \\cdots, A_k\\}$ son atributos del esquema de una tabla y que $\\{B_1, \\cdots, B_n\\}$ también son atributos del mismo esquema de tabla. \n",
    "\n",
    "No se requiere que los $B$'s sean diferentes de los $A$'s. Entonces los atributos $B_1, \\cdots, B_n$ dependen funcionalmente de los atributos  $A_1, \\cdots, A_k$ denotado por:\n",
    "\n",
    "$$\n",
    "\\{A_1, \\cdots, A_k\\}\\to \\{ B_1, \\cdots, B_n\\}\n",
    "$$\n",
    "\n",
    "\n",
    "si los valores de $A_1, \\cdots, A_k$  determinan completamente los valores de $B_1, \\cdots, B_n $.\n",
    "\n",
    "El principal interés en el proceso de normalización es el caso cuando aparece solamente un atributo al lado derecho:\n",
    "\n",
    "$$\\{A_1, \\cdots, A_k\\}\\to \\{B\\}$$\n",
    "\n",
    "\n",
    "La Dependencia Funcional (DF), es una relación entre atributos. Por ejemplo, el atributo $B$ es funcionalmente dependiente de $A$ si el valor de $A$ determina el valor de $B$. (Si se conoce el valor de $A$, se puede determinar el valor de $B$).\n",
    "\n",
    "\n",
    "Recordemos que una súper llave del esquema de una tabla es un conjunto de atributos que determinan unívocamente una entidad. Estos quiere decir, que una súper llave es un conjunto de atributos de los cuales todos los demás atributos del esquema de una tabla dependen funcionalmente.\n",
    "\n",
    "\n",
    "Algunas dependencias funcionales son obvias. Por ejemplo cualquier atributo depende funcionalmente de sí mismo. También, todo conjunto de atributos determina cualquier subconjunto de estos. Estas son llamadas dependencias funcionales triviales. Todas las demás son dependencias funcionales no triviales."
   ]
  },
  {
   "cell_type": "markdown",
   "id": "endangered-defeat",
   "metadata": {},
   "source": [
    "#### Atributo determinante"
   ]
  },
  {
   "cell_type": "markdown",
   "id": "thirty-switzerland",
   "metadata": {},
   "source": [
    "Un atributo es determinante si esta en el lado izquierdo de una dependencia funcional."
   ]
  },
  {
   "cell_type": "markdown",
   "id": "accurate-mortgage",
   "metadata": {},
   "source": [
    "#### Independencia mutua."
   ]
  },
  {
   "cell_type": "markdown",
   "id": "another-buying",
   "metadata": {},
   "source": [
    "Dos atributos del esquema de una tabla son mutuamente independientes, si ninguno depende funcionalmente del otro."
   ]
  },
  {
   "cell_type": "markdown",
   "id": "sticky-injection",
   "metadata": {},
   "source": [
    "#### Dependencia funcional transitiva."
   ]
  },
  {
   "cell_type": "markdown",
   "id": "prime-georgia",
   "metadata": {},
   "source": [
    "Un atributo del esquema de una tabla depende funcionalmente en forma transitiva de la llave, sí y solo si no depende directamente de esta."
   ]
  },
  {
   "cell_type": "markdown",
   "id": "parliamentary-decline",
   "metadata": {},
   "source": [
    "### Primera Forma Normal (1FN)"
   ]
  },
  {
   "cell_type": "markdown",
   "id": "sustained-norwegian",
   "metadata": {},
   "source": [
    "El esquema de una tabla está en primera forma normal sí y sólo si todos sus atributos son indivisibles. También se dice que son unitarios o no descomponibles. \n",
    "\n",
    "El siguiente es un ejemplo de un esquema que viola la primera forma normal.\n",
    "\n",
    "|IdInst|NomInst|DirInst|ObjetoSocial|\n",
    "|---|---|---|---|\n",
    "|9|Academia Colombiana de Ciencias Económicas|Calle 39B No. 21-42, Bogotá|Educación, Asesoría|\n",
    "\n",
    "\n",
    "Tabla 8. Ejemplo de tabla que viola la primera forma normal. Atributos no atómicos"
   ]
  },
  {
   "cell_type": "markdown",
   "id": "catholic-vitamin",
   "metadata": {},
   "source": [
    "En el ejemplo se puede observar  que los  atributos DirInst y ObjetoSocial son descomponibles\n",
    "\n",
    "+ El atributo DirtInst, es descomponible en : Dirección y Ciudad.\n",
    "+ El atributo ObjetoSocial, no tiene un único valor, por el contrario contiene (o puede contener) más de un valor: Educación, Asesoría.\n",
    "\n",
    "La estructura se normaliza teniendo en cuenta las siguientes consideraciones:\n",
    "\n",
    "- Los atributos que son descomponibles, pueden dar origen a nuevos atributos. (Véanse  las tablas 9 y 10).\n",
    "- Atributos de múltiples valores originan la creación de una nueva entidad con la cual se establece una relación de uno a muchos o de muchos a muchos (según el caso)  entre la entidad existente y la nueva entidad, Véase la tabla 10.\n",
    "\n",
    "\n",
    "En general, la relación entre las  entidades INSTITUCION y OBJETO_SOCIAL debería ser de muchos a muchos. La decisión depende de si la relación es de uno a muchos o de muchos a muchos depende de la forma en que se relacionan las entidades de la nueva entidad con las entidades de la entidad  original. \n",
    "\n",
    "Por ejemplo, si se tiene una entidad  CUENTA_BANCARIA y el atributo multivaluado corresponde al valor de las transacciones de la cuenta, la solución  es una relación una a muchos, debido a que el valor de cada transacción se relaciona con una única cuenta. \n",
    "\n",
    "En el ejemplo INSTITUCION y OBJETO_SOCIAL, la solución es una relación de muchos a muchos, debido a que cada objeto social se relaciona con un número cualquiera de instituciones.\n",
    "\n",
    "\n",
    "|IdInst|NomInst|DirInst|Ciudad|\n",
    "|---|---|---|---|\n",
    "|9|Academia Colombiana de Ciencias Económicas|Calle 39B No. 21-42|Bogotá|\n",
    "\n",
    "Tabla 9. Ejemplo de cómo romper los atributos no atómicas de la tabla 8.\n",
    "\n",
    "|IdInst|ObjetoSocial|\n",
    "|---|---|\n",
    "|9|Educación|\n",
    "|9|Asesoría|\n",
    "\n",
    "Tabla 10. Ejemplo de cómo romper los atributos no atómicas de la tabla 8, introduciendo una nueva tabla OBJETO_SOCIAL."
   ]
  },
  {
   "cell_type": "markdown",
   "id": "broken-daniel",
   "metadata": {},
   "source": [
    "### Segunda Forma Normal (2 FN)"
   ]
  },
  {
   "cell_type": "markdown",
   "id": "middle-ethiopia",
   "metadata": {},
   "source": [
    "El esquema de una tabla está en segunda forma normal sí y sólo si está en primera forma normal y todo atributo que no pertenezca a la llave debe depender de la llave en su totalidad y no sólo de una parte. Formalmente, el esquema de una tabla está en segundad forma normal si no es posible tener una dependencia funcional de la forma $\\{A_1, \\dots, A_k\\}\\to \\{B\\}$, en donde $B$ no pertenece a una llave, es decir, es estrictamente informacional y $\\{A_1,\\cdot, A_k\\}$ es un subconjunto propio de alguna llave.\n",
    "\n",
    "Con propósito ilustrativo, supóngase que se tiene el siguiente esquema de una tabla de clase CIUDAD: CIUDAD\n",
    "{NomCiu, IdDep, PoblActDep}\n",
    "\n",
    "Si se considera el caso real, en el que puede haber nombres de ciudad repetidos en el país, pero no en un departamento, se tiene que {NomCiu, IdDep} es una súper llave de CIUDAD. El atributo PoblActDep (población actual del departamento, solo depende de {IdDep}, que es subconjunto propio de las llave, por lo tanto este esquema viola la segunda forma normal.\n",
    "\n",
    "El esquema anterior se normaliza, descomponiendo la entidad en dos  entidades (CIUDAD y DEPARTAMENTO para el ejemplo) y estableciendo una relación uno a muchos entre ambas.\n",
    "\n",
    "La tabla 11 presenta un segundo ejemplo:\n",
    "\n",
    "\n",
    "\n",
    "|NombreProveedor|CodigoElemento|DescripcionElemento|DireccionProveedor|PrecioElemento|\n",
    "|---|---|---|---|---|\n",
    "|3M|A1|Memoria USB|Cra. 5 Nº8-94|$ 10,000|\n",
    "\n",
    "\n",
    "Tabla 11. Ejemplo del esquema de una tabla que viola la segunda forma normal"
   ]
  },
  {
   "cell_type": "markdown",
   "id": "loaded-startup",
   "metadata": {},
   "source": [
    "En el ejemplo anterior se observan las siguientes situaciones:\n",
    "\n",
    "- La llave primaria del esquema está conformada por los atributos NombreProveedor y CodigoElemento.\n",
    "- El atributo NombreElemento depende del atributo CodigoElemento, o sea de una parte de la llave.\n",
    "- DireccionProveedor depende de NombreProveedor, o sea de otra parte de la llave.\n",
    "- El atributo PrecioElemento, está determinado tanto por el elemento como por el proveedor que lo suministra, es decir depende totalmente de la llave.\n",
    "\n",
    "El esquema se normaliza teniendo en cuenta las siguientes consideraciones:\n",
    "\n",
    "- Identificar los atributos determinantes de las dependencias funcionales\n",
    "- El atributo DireccionProveedor esta determinada únicamente por el atributo NombreProveedor\n",
    "- El atributo DescripcionElemento esta determinado únicamente por el atributo CodigoElemento\n",
    "- Crear una(s) nueva(s) clases de entidad(es) (**tablas**) por cada dependencia funcional que causa la desnormalización de la clase entidad, tomando como atributos para las nuevas tablas el atributo determinante que causa la dependencia y los atributos dependendientes.\n",
    "- El esquema de tabla normalizado queda conformada por los atributos determinantes y los atributos dependientes en su totalidad de la llave.\n",
    "\n",
    "La tabla 12 presenta el resultado del proceso de normalización del ejemplo\n",
    "\n",
    "\n",
    "|NombreProveedor|DirecciónProveedor|\n",
    "|---|---|\n",
    "|3M|Cra. 5 Nº8-94|\n",
    "\n",
    "|CodigoElemento|DescripcionElemento|\n",
    "|---|---|\n",
    "|A1|Memoria USB|\n",
    "\n",
    "|Nombre Proveedor|CodigoElemento|Precio|\n",
    "|---|---|---|\n",
    "|3M|A1|$10,000|\n",
    "\n",
    "Tabla 12.  Proceso de normalización del ejemplo de la Tabla 11."
   ]
  },
  {
   "cell_type": "markdown",
   "id": "geological-moderator",
   "metadata": {},
   "source": [
    "### Tercera Forma Normal (3 FN)"
   ]
  },
  {
   "cell_type": "markdown",
   "id": "furnished-lemon",
   "metadata": {},
   "source": [
    "El esquema de una tabla está en tercera forma normal sí y sólo si  está en segunda forma normal y todo atributo que no pertenezca a la llave no depende de un atributo no llave, es decir, si para cada atributo no llave no existe dependencia transitiva de la llave.\n",
    "\n",
    "Formalmente, un esquema de una tabla está en tercera forma normal, si no es posible tener una dependencia funcional de la forma $\\{A_1, \\cdots, A_k\\}\\to \\{B\\}$. En donde $B$ no pertenece a una llave (es estrictamente informacional) y ${A_1, \\cdots, A_k}$ no es una súper llave. En otras palabras, la tercera forma normal no admite que atributos estrictamente informacionales  dependan de alguna cosa que no sea una súper llave.\n",
    "\n",
    "La Tabla 13 presenta un ejemplo de violación de la tercera forma normal.\n",
    "\n",
    "\n",
    "|CodigoCliente|NombreCliente|Factura|DireccionEnvio |\n",
    "|---|---|---|---|\n",
    "|0001|Luis Perez|1345|Cra. 5 Nº8-94|\n",
    "\n",
    "\n",
    "\n",
    "Tabla 13. Ejemplo de un esquema de tabla que viola la tercera forma normal"
   ]
  },
  {
   "cell_type": "markdown",
   "id": "appropriate-young",
   "metadata": {},
   "source": [
    "Bajo los supuestos:\n",
    "\n",
    "- El Cliente tiene varias direcciones\n",
    "- La numeración de facturación no se realiza con base en el atributo CodigoCliente. En realidad de espera que el número de factura sea único, por lo que puede ser la llave primaria de la tabla.\n",
    "- El atributo DireccionEnvio está determinada por el número de la factura.\n",
    "\n",
    "En el ejemplo anterior se observa que el atributo NombreCliente, está determinado por CodigoCliente, qun no es parte de la llave primaria de la tabla, por lo tanto se presenta una dependencia transitiva del atributo NombreCliente, hacia la llave.\n",
    "\n",
    "El esquema de la tabla  se normaliza, creando una nueva entidad con base en los atributos que causan la dependencia transitiva hacia la llave."
   ]
  },
  {
   "cell_type": "markdown",
   "id": "3e5d1258-e292-4dfa-8811-c7395306f0cf",
   "metadata": {},
   "source": [
    "### Ejercicio"
   ]
  },
  {
   "cell_type": "markdown",
   "id": "6ef450a6-af27-45b6-9386-fcef026d070a",
   "metadata": {},
   "source": [
    "Cree un esquema de tablas que normalice este último ejemplo."
   ]
  }
 ],
 "metadata": {
  "kernelspec": {
   "display_name": "Python 3 (ipykernel)",
   "language": "python",
   "name": "python3"
  },
  "language_info": {
   "codemirror_mode": {
    "name": "ipython",
    "version": 3
   },
   "file_extension": ".py",
   "mimetype": "text/x-python",
   "name": "python",
   "nbconvert_exporter": "python",
   "pygments_lexer": "ipython3",
   "version": "3.8.12"
  }
 },
 "nbformat": 4,
 "nbformat_minor": 5
}
