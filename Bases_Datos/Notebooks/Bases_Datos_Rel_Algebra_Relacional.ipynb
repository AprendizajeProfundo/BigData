{
 "cells": [
  {
   "cell_type": "markdown",
   "id": "aware-software",
   "metadata": {
    "tags": []
   },
   "source": [
    "<figure>\n",
    "<img src=\"../Imagenes/logo-final-ap.png\"  width=\"80\" height=\"80\" align=\"left\"/> \n",
    "</figure>\n",
    "\n",
    "# <span style=\"color:blue\"><left>Aprendizaje Profundo</left></span>"
   ]
  },
  {
   "cell_type": "markdown",
   "id": "swiss-armstrong",
   "metadata": {},
   "source": [
    "# <span style=\"color:red\"><center>Algebra relacional<center></span>"
   ]
  },
  {
   "cell_type": "markdown",
   "id": "external-greek",
   "metadata": {},
   "source": [
    "##   <span style=\"color:blue\">Autores</span>"
   ]
  },
  {
   "cell_type": "markdown",
   "id": "analyzed-runner",
   "metadata": {},
   "source": [
    "1. Alvaro Mauricio Montenegro Díaz, ammontenegrod@unal.edu.co\n",
    "2. Daniel Mauricio Montenegro Reyes, dextronomo@gmail.com "
   ]
  },
  {
   "cell_type": "markdown",
   "id": "august-convergence",
   "metadata": {},
   "source": [
    "##   <span style=\"color:blue\">Asesora Medios y Marketing digital</span>\n",
    " "
   ]
  },
  {
   "cell_type": "markdown",
   "id": "accepted-paint",
   "metadata": {},
   "source": [
    "4. Maria del Pilar Montenegro, pmontenegro88@gmail.com "
   ]
  },
  {
   "cell_type": "markdown",
   "id": "historical-brown",
   "metadata": {},
   "source": [
    "## <span style=\"color:blue\">Asistentes</span>"
   ]
  },
  {
   "cell_type": "markdown",
   "id": "amber-blind",
   "metadata": {},
   "source": []
  },
  {
   "cell_type": "markdown",
   "id": "understood-harassment",
   "metadata": {},
   "source": [
    "## <span style=\"color:blue\">Contenido</span>"
   ]
  },
  {
   "cell_type": "markdown",
   "id": "loose-chick",
   "metadata": {},
   "source": [
    "* [Introducción](#Introducción)\n",
    "* [Operaciones fundamentales](#Operaciones-fundamentales)\n",
    "* [La operación seleccionar (SELECT)](#La-operación-seleccionar-(SELECT))\n",
    "* [La operación proyección](#La-operación-proyección)\n",
    "* [La operación producto cartesiano (JOIN)](#La-operación-producto-cartesiano (JOIN))\n",
    "* [Operaciones renombrar entidades y atributos](#Operaciones-renombrar-entidades-y-atributos)\n",
    "* [La operación unión](#La-operación-unión)\n",
    "* [La operación diferencia de conjuntos](#La-operación-diferencia-de-conjuntos)\n",
    "* [Definición formal del álgebra relacional](#Definición-formal-del-álgebra-relacional)\n",
    "* [Operaciones secundarias](#Operaciones-secundarias)"
   ]
  },
  {
   "cell_type": "markdown",
   "id": "0ee46200-19fd-4ae1-9d49-1ff1ac31afbc",
   "metadata": {},
   "source": [
    "## <span style=\"color:blue\">Introducción</span>"
   ]
  },
  {
   "cell_type": "markdown",
   "id": "opposed-dallas",
   "metadata": {},
   "source": [
    "\n",
    "El álgebra  relacional es un lenguaje de consulta procedimental.  Consta de un conjunto de operaciones que toman una o dos tablas como entrada y producen una nueva tabla como resultado.  Las operaciones  fundamentales en el álgebra relacional son proyectar, producto cartesiano, renombrar, unión y diferencia de conjuntos.  \n",
    "\n",
    "Además de las operaciones fundamentales existen otras operaciones, a saber, intersección de conjuntos, producto natural, división y asignación.  Estas operaciones  se definirán en términos de las operaciones fundamentales. \n",
    "\n",
    "\n",
    "El resultado de una operación es un conjunto de instancias, es decir, de n-plas.\n",
    "\n",
    "Las operaciones descritas en este cuaderno son abstractas, es decir, refieren a entidades e instancias de entidades. En el cuaderno de SQL, estas operaciones se transforman en **consultas** específicas de la base de datos.\n",
    "\n",
    "Una consulta se puede pensar como una tabla virtual, en el sentido que existe, mientras no se destruya la consulta. Pero una consulta se puede guardar permanentemente en la base de datos. En ese caso se convierte en una **vista**.\n",
    "\n",
    "\n",
    "Para ilustrar los resultados de las operaciones usaremos fragmentos de tablas."
   ]
  },
  {
   "cell_type": "markdown",
   "id": "nutritional-gothic",
   "metadata": {},
   "source": [
    "## <span style=\"color:blue\">Operaciones fundamentales</span>"
   ]
  },
  {
   "cell_type": "markdown",
   "id": "extraordinary-blood",
   "metadata": {},
   "source": [
    "Las operaciones seleccionar, proyectar y renombrar  se llaman operaciones unitarias, ya que operan sobre una tabla.  Las otras  tres operaciones operan sobre pares de tablas y, por tanto, se llaman operaciones binarias. \n",
    "\n",
    "El resultado de una operación siempre es un conjunto de instancias nuevo que mostraremos en este documento como \n",
    "una tabla, la cual puede ser almacenada o no. Es decir, en principio el resultado es una tabla virtual que se destruye al cerrar la consulta asociada.\n",
    "\n",
    "Si la consulta se almacena, se convierte en una vista de la bases de datos.\n",
    "\n",
    "\n",
    "Todas las operaciones del álgebra relacional se llaman genéricamente consultas."
   ]
  },
  {
   "cell_type": "markdown",
   "id": "color-bridges",
   "metadata": {},
   "source": [
    "## <span style=\"color:blue\">La operación seleccionar (SELECT)</span>"
   ]
  },
  {
   "cell_type": "markdown",
   "id": "systematic-radius",
   "metadata": {},
   "source": [
    "La operación seleccionar selecciona n-plas que satisfacen  un predicado dado.  Se usará la letra griega minúscula sigma ($\\sigma$) para indicar la selección.  El predicado aparece como subíndice de $\\sigma$.\n",
    "\n",
    "\n",
    "La operación selección se denota en general como:\n",
    "\n",
    "$$\n",
    "\\sigma_P(T)\n",
    "$$\n",
    "\n",
    "en donde *T* es una tabla y *P* un predicado.\n",
    "\n",
    " Así para seleccionar  aquellas n-plas de la tabla  INSTITUCION en las que la ciudad es “Pereira”, la cual tiene IdCiu = 1163, se escribe\n",
    "\n",
    "$$\n",
    "\\sigma_{IdCiu = 1163} (INSTITUCION)\n",
    "$$\n",
    "\n",
    "\n",
    "\n",
    "Un ejemplo de la tabla que resulta de esta operación SELECT  de arriba es como la que se muestra en la tabla 14.\n",
    "\n",
    "|IdInst|NomInst|DirInst|Idciu|\n",
    "|---|---|---|---|\n",
    "|200|Asocítricos|calle 3 No 11-51 este|1163|\n",
    "|422|Servicultura|carrera 30 No 45-21|1163|\n",
    "|1729|Corpo Risaralda|avenida Bolivar y tres quebradas |1163|\n",
    "|...|...|...|...|\n",
    "\n",
    "\n",
    "Tabla 14. Ejemplo del resultado de la consulta $\n",
    "\\sigma_{IdCiu = 1163} (INSTITUCION)\n",
    "$."
   ]
  },
  {
   "cell_type": "markdown",
   "id": "proud-vertical",
   "metadata": {},
   "source": [
    "Se puede encontrar todas las n – plas  cuyo IdInst es menor que 10 escribiendo $\\sigma_{IdInst<10}(INSTITUCION)$.\n",
    "\n",
    "\n",
    "|IdInst|NomInst|DirInst|Idciu|\n",
    "|---|---|---|---|\n",
    "|3|Centro de Consulta|Avenida Caracas cruce Santafé|1094|\n",
    "|1|Acorpore|carrera 50 No 15-01|1421|\n",
    "|6|La Luz|Ayacucho  No. 131 |0119|\n",
    "|...|...|...|...|\n",
    "\n",
    "Tabla 15. Ejemplo del resultado de la consulta $\\sigma_{IdInst<10} (INSTITUCION)$"
   ]
  },
  {
   "cell_type": "markdown",
   "id": "attached-glenn",
   "metadata": {},
   "source": [
    "En general, se permiten las comparaciones usando los operadores de comparación $=,\\ne,\\le,\\ge,<,>$ en el predicado de la selección. \n",
    "\n",
    "Además, pueden  combinarse varios predicados en un predicado más complejo usando los conectores lógicos **and** representado por el símbolo $ \\land$  y **or** representado por el símbolo $ \\lor$.  \n",
    "\n",
    "Así para encontrar las n-plas pertenecientes a la tabla INSTITUCION  con ciudad  “Pereira” e identificador menor o igual a 1000  se escribe $\\sigma_{IdCiu = 1163 \\land IdInst\\le 1000}(INSTITUCION)$. Un ejemplo del resultado se observa en la Tabla 16.\n",
    "\n",
    "|IdInst|NomInst|DirInst|Idciu|\n",
    "|---|---|---|---|\n",
    "|200|Asocítricos|calle 3 No 11-51 este|1163|\n",
    "|422|Servicultura|carrera 30 No 45-21|1163|\n",
    "|...|...|...|...|\n",
    "\n",
    "Tabla 16. Ejemplo del resultado de la consulta $\\sigma_{IdCiu = 1163 \\land IdInst\\le 1000}(INSTITUCION)$.\n"
   ]
  },
  {
   "cell_type": "markdown",
   "id": "finished-lobby",
   "metadata": {},
   "source": [
    "## <span style=\"color:blue\">La operación proyección</span>"
   ]
  },
  {
   "cell_type": "markdown",
   "id": "vital-effect",
   "metadata": {},
   "source": [
    "La operación proyectar es una operación unitaria que devuelve la tabla argumento con ciertas columnas omitidas.   La proyección se indica por la letra griega $\\Pi$. Se listan los atributos que se quiere que aparezcan en el resultado como subíndices de $\\Pi$.  La tabla argumento se escribe a continuación de $\\Pi$ entre paréntesis. Formalmente se escribe: \n",
    "\n",
    "$$\n",
    "\\Pi_{A_1,\\cdots, A_k}  (T)\n",
    "$$\n",
    "\n"
   ]
  },
  {
   "cell_type": "markdown",
   "id": "entire-rover",
   "metadata": {},
   "source": [
    "En ejemplo de la sección anterior, supongamos que solamente se desean la columnas nombre, dirección y el identificador dela ciudad. Entonces la operación se escribe $\\Pi_{NomInst, DirInst, IdCiu}(INSTITUCION)$.\n",
    "\n",
    "Un ejemplo de salida sería\n",
    "\n",
    "|NomInst|DirInst|Idciu|\n",
    "|---|---|---|\n",
    "|Centro de Consulta|Avenida Caracas cruce Santafé|1094|\n",
    "|Acorpore|carrera 50 No 15-01|1421|\n",
    "|La Luz|Ayacucho  No. 131 |0119|\n",
    "|Asocítricos|calle 3 No 11-51 este|1163|\n",
    "|Servicultura|carrera 30 No 45-21|1163|\n",
    "|Corpo Risaralda|avenida Bolivar y tres quebradas |1163|\n",
    "|...|...|...|\n",
    "\n",
    "\n",
    "Tabla 17. Ejemplo del resultado de la consulta $\\Pi_{NomInst, DirInst, IdCiu}(INSTITUCION)$."
   ]
  },
  {
   "cell_type": "markdown",
   "id": "adaptive-constant",
   "metadata": {},
   "source": [
    "Las operaciones se puede concatenar. Por ejemplo, si desea proyectar únicamente el nombre de la institución y la dirección de las instituciones de la ciudad Pereira (IdCiu = 1163) con IdInst menor que 1000 se puede escribir:\n",
    "\n",
    "$$\n",
    "\\Pi_{NomInst,DirInst}(\\sigma_{IdCiu=1163\\land IdInst>1000}(INSTITUCION)\n",
    "$$"
   ]
  },
  {
   "cell_type": "markdown",
   "id": "particular-lawrence",
   "metadata": {},
   "source": [
    "### Ejercicio"
   ]
  },
  {
   "cell_type": "markdown",
   "id": "helpful-british",
   "metadata": {},
   "source": [
    "Con base en los ejemplos anteriores ¿Cuál sería un posible resultado de esta última operación?"
   ]
  },
  {
   "cell_type": "markdown",
   "id": "visible-argument",
   "metadata": {},
   "source": [
    "Escriba su solución aquí."
   ]
  },
  {
   "cell_type": "markdown",
   "id": "related-triangle",
   "metadata": {},
   "source": [
    "## <span style=\"color:blue\">La operación producto cartesiano (JOIN)</span>"
   ]
  },
  {
   "cell_type": "markdown",
   "id": "international-header",
   "metadata": {},
   "source": [
    "La operación anteriores permiten extraer información únicamente de una tabla cada vez. Una operación que permite trabajar con más de una tabla a la vez es el producto cartesiano representada por el símbolo $\\times$.  Esta operación es una operación binaria.  \n",
    "\n",
    "\n",
    "Se usará notación infija para operaciones binarias, así, el producto cartesiano de las tablas $R_1$ y $R_2$  se escribe como $R_1\\times R_2$. \n",
    "\n",
    "Recuérdese que una tabla se define como un subconjunto de un producto cartesiano de un conjunto de dominios. Partiendo de esta definición ya se puede tener alguna intuición de la definición de la operación $\\times$ del álgebra relacional. \n",
    "\n",
    "Sin embargo se enfrenta el problema de elegir los nombres de los atributos para la tabla que resulta de un producto cartesiano.  Para escribir el nombre de los atributos en el caso en que las dos tablas tiene atributos comunes se usa la notación *ENTIDAD.atributo*.\n",
    "\n",
    "\n",
    "\n",
    "Si por ejemplo $S(A_1,\\cdots,A_n)$ y $T(B_1,\\cdots,B_n)$  son entidades, entonces el producto cartesiano  $S \\times T$ es la entidad con atributos $\\{ A_1,\\cdots,A_n , B_1,\\cdots,B_n \\}$ formada con cada una de las instancias de $S$ con cada una de las instancias de $T$."
   ]
  },
  {
   "cell_type": "markdown",
   "id": "occupational-territory",
   "metadata": {},
   "source": [
    "#### Ejemplo"
   ]
  },
  {
   "cell_type": "markdown",
   "id": "soviet-durham",
   "metadata": {},
   "source": [
    "Se desea obtener la lista de las instituciones con los siguientes atributos: NomInst, DirInst, NomCiu.\n",
    "\n",
    "En este caso es necesario hacer un produto entre las tablas INSTITUCION y CIUDAD, debido a que la tabla INSTITUCION no contiene los nombres de las ciudades. Solamente su identificador IdCiu, que a su vez es la llave primaria de la entidad CIUDAD. Entonces, desde el álgebra relacional una solución puede ser la siguiente:\n",
    "\n",
    "$$\n",
    "\\Pi_{NomInst, DirInst,NomCiu}(\\sigma_{INSTITUCION.IdCiu = CIUDAD.idCiu}(INSTITUCION \\times CIUDAD))\n",
    "$$"
   ]
  },
  {
   "cell_type": "markdown",
   "id": "opposite-tanzania",
   "metadata": {},
   "source": [
    "#### Ejercicio"
   ]
  },
  {
   "cell_type": "markdown",
   "id": "german-heater",
   "metadata": {},
   "source": [
    "Con base en los ejemplos anteriores escriba una posible salida de ésta operación."
   ]
  },
  {
   "cell_type": "markdown",
   "id": "imposed-appliance",
   "metadata": {},
   "source": [
    "Escriba su solución aqui"
   ]
  },
  {
   "cell_type": "markdown",
   "id": "surrounded-friend",
   "metadata": {},
   "source": [
    "## <span style=\"color:blue\">Operaciones renombrar entidades y atributos</span>"
   ]
  },
  {
   "cell_type": "markdown",
   "id": "removable-kingdom",
   "metadata": {},
   "source": [
    "En la última operación mostrada, se insinúa que escribir las consultas puede llegar a ser muy laborioso, debido a lo largo de los nombres de las entidades. \n",
    "\n",
    "Adicionalmente aparece el problema en las relaciones recursivas, de tener que usar la misma entidad en el producto cartesiano, lo cual puede confundir en la implementación al motor de la base de datos. \n",
    "\n",
    "Para ayudar a resolver esto posibles inconvenientes, se introduce la operación renombrar, cuyo propósito es dar a las entidades, nombres alternativos, que de manera practicas sería muy cortos (una letra en principio).\n"
   ]
  },
  {
   "cell_type": "markdown",
   "id": "indirect-leone",
   "metadata": {},
   "source": [
    "#### Renombrar tablas"
   ]
  },
  {
   "cell_type": "markdown",
   "id": "middle-article",
   "metadata": {},
   "source": [
    "La operación renombrar una entidad (tabla) se denota de la siguiente manera genérica.\n",
    "\n",
    "$$\n",
    "\\rho_{R}(S)\n",
    "$$"
   ]
  },
  {
   "cell_type": "markdown",
   "id": "acquired-mexican",
   "metadata": {},
   "source": [
    "### Ejemplo"
   ]
  },
  {
   "cell_type": "markdown",
   "id": "mysterious-router",
   "metadata": {},
   "source": [
    "Vamos a repetir la última consulta del ejemplo anterior, renombrando las tablas INSTITUCION somo $R$ y CIUDAD como $S$.\n",
    "\n",
    "La consulta podría  ser escrita como\n",
    "$$\n",
    "\\Pi_{NomInst, DirInst,NomCiu}(\\sigma_{R.IdCiu = S.IdCiu}(\\rho_R(INSTITUCION) \\times \\rho_S(CIUDAD))\n",
    "$$"
   ]
  },
  {
   "cell_type": "markdown",
   "id": "proud-paint",
   "metadata": {},
   "source": [
    "#### Renombrar atributos"
   ]
  },
  {
   "cell_type": "markdown",
   "id": "protected-delhi",
   "metadata": {},
   "source": [
    "Los atributos también pueden ser renombrados. Se usará la nomenclatura\n",
    "\n",
    "$$\n",
    "ren_{A\\to B}(T)\n",
    "$$\n",
    "\n",
    "En donde $T$ es un entidad con un atributo $B$, el cual es renombrado como $B$."
   ]
  },
  {
   "cell_type": "markdown",
   "id": "regulation-apache",
   "metadata": {},
   "source": [
    "### Ejemplo"
   ]
  },
  {
   "cell_type": "markdown",
   "id": "engaging-worst",
   "metadata": {},
   "source": [
    "De nuevo se desea obtener la lista de las instituciones con los siguientes atributos: NomInst, DirInst, NomCiu, pero ahora renombrando los atributos así\n",
    "\n",
    "- NomIns -> Nombre\n",
    "- DirInst -> Dirección\n",
    "- NomCiu -> Ciudad\n",
    "\n",
    "Una forma de escribir la consulta es\n",
    "\n",
    "$$\n",
    "\\Pi_{Nombre, Direccion,Ciudad}(\n",
    "\\sigma_{T.IdCiu = S.IdCiu}(ren_{T.NomInst->Nombre, T.DirInst ->Direccion, S.NomCiu->Ciudad}(\\rho_T(INSTITUCION)\\times \\rho_S(CIUDAD))\n",
    "$$\n",
    "\n",
    "Asegúrese de entender la consulta."
   ]
  },
  {
   "cell_type": "markdown",
   "id": "precious-remains",
   "metadata": {},
   "source": [
    "## <span style=\"color:blue\">La operación unión</span>"
   ]
  },
  {
   "cell_type": "markdown",
   "id": "seven-identifier",
   "metadata": {},
   "source": [
    "Corresponde a la unión matemática de conjuntos de los registros de dos tablas $S$ y $T$, bajo las siguientes restricciones:\n",
    "\n",
    "+ Las tablas S y T deben tener el mismo número de atributos.\n",
    "+ Los dominios del atributo i-ésimo de S y del atributo i-ésimo de T deben ser los mismos\n",
    "\n",
    "Bajo esta dos restricciones la unión de las tablas $S$ y $T$ se denota por\n",
    "\n",
    "$$\n",
    "S\\cup T\n",
    "$$\n",
    "\n",
    "\n",
    "Por ejemplo la unión de los identificadores de ciudades que aparecen  en las tablas EDITORIAL y INSTITUCION se denota por\n",
    "\n",
    "$$\n",
    "\\Pi_{IdCiu}(EDITORIAL) \\cup \\Pi_{IdCiu}(INSTITUCION)\n",
    "$$\n",
    ".\n",
    "\n",
    "Dado que la unión matemática de conjuntos no admite repetidos, estos son eliminados automáticamente en esta consulta.\n",
    "\n",
    "\n"
   ]
  },
  {
   "cell_type": "markdown",
   "id": "organized-secretariat",
   "metadata": {},
   "source": [
    "## <span style=\"color:blue\">La operación diferencia de conjuntos </span>"
   ]
  },
  {
   "cell_type": "markdown",
   "id": "transsexual-monday",
   "metadata": {},
   "source": [
    "La diferencia de conjuntos, representada por  el símbolo $-$,  permite encontrar n-plas que estén en una entidad pero no en otra.  La expresión  \n",
    "\n",
    "$$\n",
    "R – S\n",
    "$$\n",
    "\n",
    "da como resultado una tabla que contiene aquellas n-plas que están en $R$ pero no en $S$.\n",
    "\n",
    "\n",
    "\n",
    "La expresión\n",
    "\n",
    "$$\n",
    "\\Pi_{IdCiu}(EDITORIAL) - \\Pi_{IdCiu}(INSTITUCION)\n",
    "$$\n",
    "\n",
    "calcula las ciudades que están relacionadas con editoriales, pero no con instituciones. "
   ]
  },
  {
   "cell_type": "markdown",
   "id": "finite-coverage",
   "metadata": {},
   "source": [
    "## <span style=\"color:blue\">Definición formal del álgebra relacional </span>"
   ]
  },
  {
   "cell_type": "markdown",
   "id": "unexpected-liberia",
   "metadata": {},
   "source": [
    "Las operaciones que acabamos de ver nos permiten dar una definición completa de una expresión en  el álgebra relacional.  Una expresión básica en el álgebra relacional  incluye al menos una tabla en la base de datos.\n",
    "\n",
    "\n",
    "Una expresión general en el álgebra relacional se construye a partir de sub-expresiones.  Sean $E_1$   y   $E_2$ expresiones del álgebra relacional.  Entonces las siguientes son todas expresiones del álgebra relacional:\n",
    "\n",
    "\n",
    "\n",
    "+ $E_1  \\cup  E_2$\n",
    "+ $E_1  \\times  E_2$\n",
    "+ $E_1  -  E_2$\n",
    "+ $\\sigma_P (E_1 )$, donde $P$ es un predicado con atributos de  $E_1$.\n",
    "+ $\\Pi_S(E_1 )$,  donde $S$ es un lista de algunos de los atributos de $E_1$.\n",
    "+ $\\rho_x  (E_1 )$,   donde $x$ es el nuevo nombre de la tabla $E_1$.\n",
    "\n",
    "\n",
    "Así, la intersección de conjuntos no es una operación fundamental y no añade potencia al álgebra relacional.  Sencillamente es más conveniente escribir  $R \\cap S$ que $R - (R - s)$.\n",
    "\n",
    "Las operaciones definidas en seguida se derivan de las anteriores."
   ]
  },
  {
   "cell_type": "markdown",
   "id": "decimal-voice",
   "metadata": {},
   "source": [
    "## <span style=\"color:blue\">Operaciones secundarias </span>"
   ]
  },
  {
   "cell_type": "markdown",
   "id": "uniform-lemon",
   "metadata": {},
   "source": [
    "#### La operación intersección de conjuntos "
   ]
  },
  {
   "cell_type": "markdown",
   "id": "corporate-track",
   "metadata": {},
   "source": [
    "La intersección  de conjuntos, representada por  $\\cap$,  permite encontrar n-plas que están tanto en $R$ como  en $S$.\n",
    "\n",
    "La expresión\n",
    "\n",
    "$$\n",
    "\\Pi_{IdCiu}(EDITORIAL) \\cap \\Pi_{IdCiu}(INSTITUCION)\n",
    "$$\n",
    "\n",
    "calcula las ciudades que están relacionadas con editoriales, y  con instituciones.  Esta es en realidad una operación derivada, porque puede calcularse haciendo uso de la diferencia. Puede comprobarse que\n",
    "\n",
    "$$\n",
    "R \\cap S = R – (R – S)\n",
    "$$"
   ]
  },
  {
   "cell_type": "markdown",
   "id": "honey-affect",
   "metadata": {},
   "source": [
    "#### La Operación Producto Natural"
   ]
  },
  {
   "cell_type": "markdown",
   "id": "known-idaho",
   "metadata": {},
   "source": [
    "Frecuentemente se desea simplificar ciertas consultas que requieren un producto cartesiano.  Típicamente una consulta que implica un producto cartesiano  incluye una operación de selección  en el resultado del producto cartesiano. \n",
    "\n",
    "El producto natural es una operación binaria que permite combinar ciertas selecciones y un producto cartesiano en una operación.  Se representa por el símbolo de $|\\times|$. \n",
    "\n",
    "La operación producto natural forma un producto cartesiano de sus dos argumentos, realiza una selección forzando la igualdad en aquellos atributos que aparezcan en ambos esquemas de tablas y, finalmente, quita las columnas duplicadas.\n",
    "\n",
    "Aunque la definición de producto natural es un poco complicada, la operación se aplica fácilmente.  Por ejemplo la expresión\n",
    "\n",
    "$$\n",
    "\\Pi_{NomInst, NomCiu}(INSTITUCION |\\times| CIUDAD)\n",
    "$$\n",
    "\n",
    "calcula el nombre de la institución y el nombre de la ciudad correspondientes  de la tabla INSTITUCION. Se requiere el producto natural debido a que la tabla INSTITUCION contiene el identificador de la tabla CIUDAD y no su nombre, de acuerdo a la normalización de la base de datos.\n"
   ]
  }
 ],
 "metadata": {
  "kernelspec": {
   "display_name": "Python 3 (ipykernel)",
   "language": "python",
   "name": "python3"
  },
  "language_info": {
   "codemirror_mode": {
    "name": "ipython",
    "version": 3
   },
   "file_extension": ".py",
   "mimetype": "text/x-python",
   "name": "python",
   "nbconvert_exporter": "python",
   "pygments_lexer": "ipython3",
   "version": "3.8.12"
  }
 },
 "nbformat": 4,
 "nbformat_minor": 5
}
