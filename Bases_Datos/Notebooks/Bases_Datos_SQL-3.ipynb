{
 "cells": [
  {
   "cell_type": "markdown",
   "id": "operating-welcome",
   "metadata": {
    "tags": []
   },
   "source": [
    "# <span style=\"color:green\"><center>Diplomado en Big Data</center></span>"
   ]
  },
  {
   "cell_type": "markdown",
   "id": "invalid-muslim",
   "metadata": {},
   "source": [
    "# <span style=\"color:red\"><center>SQL -Base de datos Sakila<center></span>"
   ]
  },
  {
   "cell_type": "markdown",
   "id": "streaming-input",
   "metadata": {},
   "source": [
    "##   <span style=\"color:blue\">Profesores</span>"
   ]
  },
  {
   "cell_type": "markdown",
   "id": "younger-doctrine",
   "metadata": {},
   "source": [
    "1. Alvaro Mauricio Montenegro Díaz, ammontenegrod@unal.edu.co\n",
    "2. Daniel Mauricio Montenegro Reyes, dextronomo@gmail.com "
   ]
  },
  {
   "cell_type": "markdown",
   "id": "complete-hybrid",
   "metadata": {},
   "source": [
    "##   <span style=\"color:blue\">Asesora Medios y Marketing digital</span>\n",
    " "
   ]
  },
  {
   "cell_type": "markdown",
   "id": "unsigned-officer",
   "metadata": {},
   "source": [
    "4. Maria del Pilar Montenegro, pmontenegro88@gmail.com "
   ]
  },
  {
   "cell_type": "markdown",
   "id": "lesbian-facial",
   "metadata": {},
   "source": [
    "## <span style=\"color:blue\">Asistentes</span>"
   ]
  },
  {
   "cell_type": "markdown",
   "id": "graduate-danish",
   "metadata": {},
   "source": []
  },
  {
   "cell_type": "markdown",
   "id": "sonic-upset",
   "metadata": {},
   "source": [
    "## <span style=\"color:blue\">Contenido</span>"
   ]
  },
  {
   "cell_type": "markdown",
   "id": "opposed-stewart",
   "metadata": {},
   "source": []
  },
  {
   "cell_type": "markdown",
   "id": "wicked-government",
   "metadata": {},
   "source": [
    "## <span style=\"color:blue\">Introducción</span>"
   ]
  },
  {
   "cell_type": "markdown",
   "id": "metallic-anniversary",
   "metadata": {},
   "source": [
    "La base de datos de muestra de Sakila fue desarrollada inicialmente por Mike Hillyer, un ex miembro del equipo de documentación de MySQL AB, y está destinada a proporcionar un esquema estándar que se puede utilizar para ejemplos en libros, tutoriales, artículos, muestras, etc. La base de datos de muestra de Sakila también sirve para resaltar características de MySQL como Vistas, Procedimientos almacenados y Disparadores."
   ]
  },
  {
   "cell_type": "markdown",
   "id": "charming-glasgow",
   "metadata": {},
   "source": [
    "## <span style=\"color:blue\">Instalación</span>"
   ]
  },
  {
   "cell_type": "markdown",
   "id": "alternative-tours",
   "metadata": {},
   "source": [
    "La base de datos de muestra de Sakila está disponible en[sakila download](https://dev.mysql.com/doc/index-other.html). n archivo descargable está disponible en un archivo tar comprimido o en formato Zip. El archivo comprimido contiene tres archivos:  sakila-schema.sql, sakila-data.sql, and sakila.mwb.\n",
    "\n",
    "Descarge la base Sakila en uno de los formatos TAR o ZIP."
   ]
  },
  {
   "cell_type": "markdown",
   "id": "official-logic",
   "metadata": {},
   "source": [
    "Sakila contiene comentarios específicos de la versión de MySQL, ya que el esquema y los datos de sakila dependen de la versión de su servidor MySQL. Por ejemplo, el servidor MySQL 5.7.5 agregó soporte para la indexación de datos espaciales a InnoDB, por lo que la tabla de direcciones incluirá una columna de ubicación con reconocimiento espacial para MySQL 5.7.5 y superior."
   ]
  },
  {
   "cell_type": "markdown",
   "id": "automotive-quarter",
   "metadata": {},
   "source": [
    "El archivo sakila-schema.sql contiene todas las declaraciones CREATE necesarias para crear la estructura de la base de datos de Sakila, incluidas tablas, vistas, procedimientos almacenados y desencadenadores.\n",
    "\n",
    "El archivo sakila-data.sql contiene las instrucciones INSERT necesarias para completar la estructura creada por el archivo sakila-schema.sql, junto con las definiciones de los desencadenantes que deben crearse después de la carga de datos inicial.\n",
    "\n",
    "El archivo sakila.mwb es un modelo de datos de MySQL Workbench que puede abrir dentro de MySQL Workbench para examinar la estructura de la base de datos. Para obtener más información, consulte MySQL Workbench.\n",
    "\n",
    "Para instalar la base de datos de muestra de Sakila, siga estos pasos:"
   ]
  },
  {
   "cell_type": "markdown",
   "id": "graduate-footwear",
   "metadata": {},
   "source": [
    "1. Extraiga el archivo de instalación en una ubicación temporal como C: \\ temp \\ o / tmp /. Cuando descomprime el archivo, crea un directorio llamado sakila-db que contiene los archivos sakila-schema.sql y sakila-data.sql.\n",
    "\n",
    "2. Conéctese al servidor MariaDB o MySQL desde la terminal, según sea su caso.\n"
   ]
  },
  {
   "cell_type": "code",
   "execution_count": null,
   "id": "arbitrary-redhead",
   "metadata": {},
   "outputs": [],
   "source": [
    "mysql -u root -p"
   ]
  },
  {
   "cell_type": "code",
   "execution_count": null,
   "id": "dramatic-venture",
   "metadata": {},
   "outputs": [],
   "source": [
    "mariadb -u root -p"
   ]
  },
  {
   "cell_type": "markdown",
   "id": "prerequisite-pontiac",
   "metadata": {},
   "source": [
    "Ejecute el script sakila-schema.sql para crear la estructura de la base de datos y ejecute el script sakila-data.sql para completar la estructura de la base de datos, utilizando los siguientes comandos: (reemplace /temp/ por la carpeta ebn donde haya descargado y descomprimido los archivos)"
   ]
  },
  {
   "cell_type": "code",
   "execution_count": null,
   "id": "whole-boutique",
   "metadata": {},
   "outputs": [],
   "source": [
    "SOURCE /temp/sakila-db/sakila-schema.sql;"
   ]
  },
  {
   "cell_type": "code",
   "execution_count": null,
   "id": "diagnostic-color",
   "metadata": {},
   "outputs": [],
   "source": [
    "SOURCE /temp/sakila-db/sakila-data.sql;"
   ]
  },
  {
   "cell_type": "markdown",
   "id": "illegal-belle",
   "metadata": {},
   "source": [
    "Ya estamos listos. Verifiquemos"
   ]
  },
  {
   "cell_type": "code",
   "execution_count": null,
   "id": "cutting-rider",
   "metadata": {},
   "outputs": [],
   "source": [
    "USE sakila;"
   ]
  },
  {
   "cell_type": "code",
   "execution_count": null,
   "id": "shared-sterling",
   "metadata": {},
   "outputs": [],
   "source": [
    "SHOW FULL TABLES;"
   ]
  },
  {
   "cell_type": "code",
   "execution_count": null,
   "id": "solar-campbell",
   "metadata": {},
   "outputs": [],
   "source": [
    "SELECT COUNT(*) FROM film;"
   ]
  },
  {
   "cell_type": "code",
   "execution_count": null,
   "id": "corresponding-canyon",
   "metadata": {},
   "outputs": [],
   "source": [
    "SELECT COUNT(*) FROM film_text;"
   ]
  },
  {
   "cell_type": "markdown",
   "id": "designing-argument",
   "metadata": {},
   "source": [
    "### Esquema de la base de datos"
   ]
  },
  {
   "cell_type": "markdown",
   "id": "documented-orientation",
   "metadata": {},
   "source": [
    "El esquema de la base de datos se muestra en el siguiente diagrma producido por [worbench](https://www.mysql.com/products/workbench/)."
   ]
  },
  {
   "cell_type": "markdown",
   "id": "contrary-conviction",
   "metadata": {},
   "source": [
    "![Esquema sakila](../Imagenes/sakila-skema_e_r.png)"
   ]
  },
  {
   "cell_type": "markdown",
   "id": "friendly-leeds",
   "metadata": {},
   "source": [
    "### Ejercicio"
   ]
  },
  {
   "cell_type": "markdown",
   "id": "numerous-particle",
   "metadata": {},
   "source": [
    "Use [DBeaver](https://dbeaver.io/) para reproducir el diagrama."
   ]
  },
  {
   "cell_type": "markdown",
   "id": "higher-tamil",
   "metadata": {},
   "source": [
    "### Inspección General de la base de datos"
   ]
  },
  {
   "cell_type": "markdown",
   "id": "serious-applicant",
   "metadata": {},
   "source": [
    "Revise en este enlace lso principales aspectos de la base de datos: [descripción de la base de datos](https://www3.ntu.edu.sg/home/ehchua/programming/sql/SampleDatabases.html#zz-2.)"
   ]
  },
  {
   "cell_type": "markdown",
   "id": "collected-acting",
   "metadata": {},
   "source": [
    "### Consultando la base de datos"
   ]
  },
  {
   "cell_type": "markdown",
   "id": "hollywood-strength",
   "metadata": {},
   "source": [
    "1. Lista de nombre completo de actores ordenada por appelido\n",
    "2. Número de actores por categoría del film, orden descendiente\n",
    "3. Actor qua más ventas genera por tienda (store)\n",
    "4. Ventas totales por tienda"
   ]
  },
  {
   "cell_type": "code",
   "execution_count": null,
   "id": "purple-soldier",
   "metadata": {},
   "outputs": [],
   "source": [
    "SELECT CONCAT(s.first_name, _utf8' ',  s.last_name) AS Actor \n",
    "FROM actor as s\n",
    "order by s.last_name;"
   ]
  },
  {
   "cell_type": "code",
   "execution_count": null,
   "id": "protecting-registrar",
   "metadata": {},
   "outputs": [],
   "source": [
    "SELECT c.name as categoria, COUNT(actor_id) AS numero_actores\n",
    "FROM category AS c\n",
    "JOIN film_category as fc ON c.category_id = fc.category_id\n",
    "JOIN film as f ON fc.film_id = f.film_id\n",
    "JOIN film_actor as fa ON f.film_id = fa.film_id\n",
    "GROUP BY categoria\n",
    "ORDER BY numero_actores DESC;"
   ]
  },
  {
   "cell_type": "code",
   "execution_count": null,
   "id": "occupied-latino",
   "metadata": {},
   "outputs": [],
   "source": [
    "SELECT  d.address as tienda,\n",
    "        CONCAT(a.first_name, _utf8' ',  a.last_name) AS actor_estrella,\n",
    "        MAX(p.amount) as valor\n",
    "FROM actor AS a\n",
    "JOIN film_actor AS fa ON a.actor_id = fa.actor_id\n",
    "JOIN film AS f ON fa.film_id = f.film_id\n",
    "JOIN inventory AS i ON f.film_id = i.film_id\n",
    "JOIN rental AS r ON i.inventory_id = r.inventory_id\n",
    "JOIN payment AS p ON r.rental_id = p.rental_id\n",
    "JOIN store AS s ON i.store_id = s.store_id\n",
    "JOIN address AS d ON s.address_id = d.address_id\n",
    "GROUP BY tienda;"
   ]
  },
  {
   "cell_type": "code",
   "execution_count": null,
   "id": "moving-fabric",
   "metadata": {},
   "outputs": [],
   "source": [
    "select  d.address as tienda,\n",
    "        SUM(p.amount) as valor\n",
    "from    address as d\n",
    "join    store as s on s.address_id = d.address_id\n",
    "join    inventory as i on i.store_id = s.store_id\n",
    "join    rental as r on r.inventory_id = i.inventory_id\n",
    "join    payment as p on p.rental_id = r.rental_id\n",
    "group by tienda;"
   ]
  },
  {
   "cell_type": "code",
   "execution_count": null,
   "id": "neural-fountain",
   "metadata": {},
   "outputs": [],
   "source": [
    "\n"
   ]
  }
 ],
 "metadata": {
  "kernelspec": {
   "display_name": "MariaDB",
   "language": "SQL",
   "name": "mariadb_kernel"
  },
  "language_info": {
   "file_extension": ".sql",
   "mimetype": "text/plain",
   "name": "SQL"
  }
 },
 "nbformat": 4,
 "nbformat_minor": 5
}
