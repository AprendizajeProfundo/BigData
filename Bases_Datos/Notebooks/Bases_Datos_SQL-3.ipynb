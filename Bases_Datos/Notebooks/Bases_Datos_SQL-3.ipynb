{
 "cells": [
  {
   "cell_type": "markdown",
   "id": "respective-miniature",
   "metadata": {
    "tags": []
   },
   "source": [
    "<figure>\n",
    "<img src=\"../Imagenes/logo-final-ap.png\"  width=\"80\" height=\"80\" align=\"left\"/> \n",
    "</figure>\n",
    "\n",
    "# <span style=\"color:blue\"><left>Aprendizaje Profundo</left></span>"
   ]
  },
  {
   "cell_type": "markdown",
   "id": "blond-video",
   "metadata": {},
   "source": [
    "# <span style=\"color:red\"><center>SQL -Base de datos Sakila<center></span>"
   ]
  },
  {
   "cell_type": "markdown",
   "id": "confident-aruba",
   "metadata": {},
   "source": [
    "##   <span style=\"color:blue\">Profesores</span>"
   ]
  },
  {
   "cell_type": "markdown",
   "id": "buried-raising",
   "metadata": {},
   "source": [
    "1. Alvaro Mauricio Montenegro Díaz, ammontenegrod@unal.edu.co\n",
    "2. Daniel Mauricio Montenegro Reyes, dextronomo@gmail.com "
   ]
  },
  {
   "cell_type": "markdown",
   "id": "sized-scholar",
   "metadata": {},
   "source": [
    "##   <span style=\"color:blue\">Asesora Medios y Marketing digital</span>\n",
    " "
   ]
  },
  {
   "cell_type": "markdown",
   "id": "convinced-enzyme",
   "metadata": {},
   "source": [
    "4. Maria del Pilar Montenegro, pmontenegro88@gmail.com "
   ]
  },
  {
   "cell_type": "markdown",
   "id": "secondary-accountability",
   "metadata": {},
   "source": [
    "## <span style=\"color:blue\">Contenido</span>"
   ]
  },
  {
   "cell_type": "markdown",
   "id": "boxed-jimmy",
   "metadata": {},
   "source": [
    "* [Introducción](#Introducción)\n",
    "* [Instalación](#Instalación)\n",
    "* [Inspección General de la base de datos](#Inspección-General-de-la-base-de-datos)\n"
   ]
  },
  {
   "cell_type": "markdown",
   "id": "prime-secret",
   "metadata": {},
   "source": [
    "## <span style=\"color:blue\">Introducción</span>"
   ]
  },
  {
   "cell_type": "markdown",
   "id": "unauthorized-essence",
   "metadata": {},
   "source": [
    "La base de datos de muestra de Sakila fue desarrollada inicialmente por Mike Hillyer, un ex miembro del equipo de documentación de MySQL AB, y está destinada a proporcionar un esquema estándar que se puede utilizar para ejemplos en libros, tutoriales, artículos, muestras, etc. La base de datos de muestra de Sakila también sirve para resaltar características de MySQL como Vistas, Procedimientos almacenados y Disparadores."
   ]
  },
  {
   "cell_type": "markdown",
   "id": "careful-diving",
   "metadata": {},
   "source": [
    "## <span style=\"color:blue\">Instalación</span>"
   ]
  },
  {
   "cell_type": "markdown",
   "id": "indian-potato",
   "metadata": {},
   "source": [
    "La base de datos de muestra de Sakila está disponible en [sakila download](https://dev.mysql.com/doc/index-other.html). El archivo descargable está disponible en un archivo tar comprimido o en formato Zip. El archivo comprimido contiene tres archivos:  sakila-schema.sql, sakila-data.sql, and sakila.mwb.\n",
    "\n",
    "Descarge la base Sakila en uno de los formatos TAR o ZIP."
   ]
  },
  {
   "cell_type": "markdown",
   "id": "brutal-console",
   "metadata": {},
   "source": [
    "Sakila contiene comentarios específicos de la versión de MySQL, ya que el esquema y los datos de sakila dependen de la versión de su servidor MySQL. Por ejemplo, el servidor MySQL 5.7.5 agregó soporte para la indexación de datos espaciales a InnoDB, por lo que la tabla de direcciones incluirá una columna de ubicación con reconocimiento espacial para MySQL 5.7.5 y superior."
   ]
  },
  {
   "cell_type": "markdown",
   "id": "institutional-damage",
   "metadata": {},
   "source": [
    "El archivo sakila-schema.sql contiene todas las declaraciones CREATE necesarias para crear la estructura de la base de datos de Sakila, incluidas tablas, vistas, procedimientos almacenados y desencadenadores.\n",
    "\n",
    "El archivo sakila-data.sql contiene las instrucciones INSERT necesarias para completar la estructura creada por el archivo sakila-schema.sql, junto con las definiciones de los desencadenantes que deben crearse después de la carga de datos inicial.\n",
    "\n",
    "El archivo sakila.mwb es un modelo de datos de MySQL Workbench que puede abrir dentro de MySQL Workbench para examinar la estructura de la base de datos. Para obtener más información, consulte MySQL Workbench.\n",
    "\n",
    "Para instalar la base de datos de muestra de Sakila, siga estos pasos:"
   ]
  },
  {
   "cell_type": "markdown",
   "id": "educated-austin",
   "metadata": {},
   "source": [
    "1. Extraiga el archivo de instalación en una ubicación temporal como C: \\ temp \\ o / tmp /. Cuando descomprime el archivo, crea un directorio llamado sakila-db que contiene los archivos sakila-schema.sql y sakila-data.sql.\n",
    "\n",
    "2. Conéctese al servidor MariaDB o MySQL desde la terminal, según sea su caso.\n"
   ]
  },
  {
   "cell_type": "code",
   "execution_count": null,
   "id": "occupational-bloom",
   "metadata": {},
   "outputs": [],
   "source": [
    "mysql -u root -p"
   ]
  },
  {
   "cell_type": "code",
   "execution_count": null,
   "id": "unnecessary-mentor",
   "metadata": {},
   "outputs": [],
   "source": [
    "mariadb -u root -p"
   ]
  },
  {
   "cell_type": "markdown",
   "id": "medical-channel",
   "metadata": {},
   "source": [
    "Ejecute el script sakila-schema.sql para crear la estructura de la base de datos y ejecute el script sakila-data.sql para completar la estructura de la base de datos, utilizando los siguientes comandos: (reemplace /temp/ por la carpeta ebn donde haya descargado y descomprimido los archivos)"
   ]
  },
  {
   "cell_type": "code",
   "execution_count": null,
   "id": "packed-minority",
   "metadata": {},
   "outputs": [],
   "source": [
    "SOURCE /temp/sakila-db/sakila-schema.sql;"
   ]
  },
  {
   "cell_type": "code",
   "execution_count": null,
   "id": "monetary-theta",
   "metadata": {},
   "outputs": [],
   "source": [
    "SOURCE /temp/sakila-db/sakila-data.sql;"
   ]
  },
  {
   "cell_type": "markdown",
   "id": "angry-death",
   "metadata": {},
   "source": [
    "Ya estamos listos. Verifiquemos"
   ]
  },
  {
   "cell_type": "code",
   "execution_count": null,
   "id": "comic-council",
   "metadata": {},
   "outputs": [],
   "source": [
    "USE sakila;"
   ]
  },
  {
   "cell_type": "code",
   "execution_count": null,
   "id": "immune-philadelphia",
   "metadata": {},
   "outputs": [],
   "source": [
    "SHOW FULL TABLES;"
   ]
  },
  {
   "cell_type": "code",
   "execution_count": null,
   "id": "chinese-conflict",
   "metadata": {},
   "outputs": [],
   "source": [
    "SELECT COUNT(*) FROM film;"
   ]
  },
  {
   "cell_type": "code",
   "execution_count": null,
   "id": "herbal-welcome",
   "metadata": {},
   "outputs": [],
   "source": [
    "SELECT COUNT(*) FROM film_text;"
   ]
  },
  {
   "cell_type": "markdown",
   "id": "activated-paste",
   "metadata": {},
   "source": [
    "### Esquema de la base de datos"
   ]
  },
  {
   "cell_type": "markdown",
   "id": "liable-elephant",
   "metadata": {},
   "source": [
    "El esquema de la base de datos se muestra en el siguiente diagrama producido por [worbench](https://www.mysql.com/products/workbench/)."
   ]
  },
  {
   "cell_type": "markdown",
   "id": "naval-storage",
   "metadata": {},
   "source": [
    "![Esquema sakila](../Imagenes/sakila-skema_e_r.png)"
   ]
  },
  {
   "cell_type": "markdown",
   "id": "colonial-forty",
   "metadata": {},
   "source": [
    "### Ejercicio"
   ]
  },
  {
   "cell_type": "markdown",
   "id": "existing-being",
   "metadata": {},
   "source": [
    "Use [DBeaver](https://dbeaver.io/) para reproducir el diagrama."
   ]
  },
  {
   "cell_type": "markdown",
   "id": "sustained-egyptian",
   "metadata": {},
   "source": [
    "## <span style=\"color:blue\">Inspección General de la base de datos</span> "
   ]
  },
  {
   "cell_type": "markdown",
   "id": "returning-petersburg",
   "metadata": {},
   "source": [
    "Revise en este enlace los principales aspectos de la base de datos: [descripción de la base de datos](https://www3.ntu.edu.sg/home/ehchua/programming/sql/SampleDatabases.html#zz-2.)"
   ]
  },
  {
   "cell_type": "markdown",
   "id": "sustainable-minute",
   "metadata": {},
   "source": [
    "### Consultando la base de datos"
   ]
  },
  {
   "cell_type": "markdown",
   "id": "greenhouse-belgium",
   "metadata": {},
   "source": [
    "1. Lista de nombre completo de actores ordenada por appelido\n",
    "2. Número de actores por categoría del film, orden descendiente\n",
    "3. Actor que más ventas genera por tienda (store)\n",
    "4. Ventas totales por tienda"
   ]
  },
  {
   "cell_type": "code",
   "execution_count": null,
   "id": "stretch-third",
   "metadata": {},
   "outputs": [],
   "source": [
    "SELECT CONCAT(s.first_name, _utf8' ',  s.last_name) AS Actor \n",
    "FROM actor as s\n",
    "order by s.last_name\n",
    "limit 10;"
   ]
  },
  {
   "cell_type": "code",
   "execution_count": null,
   "id": "sorted-helen",
   "metadata": {},
   "outputs": [],
   "source": [
    "SELECT c.name as categoria, COUNT(actor_id) AS numero_actores\n",
    "FROM category AS c\n",
    "JOIN film_category as fc ON c.category_id = fc.category_id\n",
    "JOIN film as f ON fc.film_id = f.film_id\n",
    "JOIN film_actor as fa ON f.film_id = fa.film_id\n",
    "GROUP BY categoria\n",
    "ORDER BY numero_actores DESC;"
   ]
  },
  {
   "cell_type": "code",
   "execution_count": null,
   "id": "useful-distinction",
   "metadata": {},
   "outputs": [],
   "source": [
    "SELECT  d.address as tienda,\n",
    "        CONCAT(a.first_name, _utf8' ',  a.last_name) AS actor_estrella,\n",
    "        MAX(p.amount) as valor\n",
    "FROM actor AS a\n",
    "JOIN film_actor AS fa ON a.actor_id = fa.actor_id\n",
    "JOIN film AS f ON fa.film_id = f.film_id\n",
    "JOIN inventory AS i ON f.film_id = i.film_id\n",
    "JOIN rental AS r ON i.inventory_id = r.inventory_id\n",
    "JOIN payment AS p ON r.rental_id = p.rental_id\n",
    "JOIN store AS s ON i.store_id = s.store_id\n",
    "JOIN address AS d ON s.address_id = d.address_id\n",
    "GROUP BY tienda;"
   ]
  },
  {
   "cell_type": "code",
   "execution_count": null,
   "id": "ranging-hearing",
   "metadata": {},
   "outputs": [],
   "source": [
    "select  d.address as tienda,\n",
    "        SUM(p.amount) as valor\n",
    "from    address as d\n",
    "join    store as s on s.address_id = d.address_id\n",
    "join    inventory as i on i.store_id = s.store_id\n",
    "join    rental as r on r.inventory_id = i.inventory_id\n",
    "join    payment as p on p.rental_id = r.rental_id\n",
    "group by tienda;"
   ]
  },
  {
   "cell_type": "markdown",
   "id": "passing-being",
   "metadata": {},
   "source": [
    "### Los actores que más actuan"
   ]
  },
  {
   "cell_type": "code",
   "execution_count": null,
   "id": "derived-cradle",
   "metadata": {},
   "outputs": [],
   "source": [
    "select CONCAT(a.first_name, _utf8' ',  a.last_name) as actor,\n",
    "    count(a.actor_id) as numero_actuaciones\n",
    "from actor as a\n",
    "join film_actor as fa on a.actor_id = fa.actor_id\n",
    "group by (a.actor_id)\n",
    "having numero_actuaciones>15\n",
    "order by numero_actuaciones desc\n",
    ";"
   ]
  },
  {
   "cell_type": "code",
   "execution_count": null,
   "id": "failing-digit",
   "metadata": {},
   "outputs": [],
   "source": [
    "select CONCAT(f.title,_utf8' ',  f.description)\n",
    "from film as f\n",
    "limit 10;"
   ]
  }
 ],
 "metadata": {
  "kernelspec": {
   "display_name": "MariaDB",
   "language": "SQL",
   "name": "mariadb_kernel"
  },
  "language_info": {
   "file_extension": ".sql",
   "mimetype": "text/plain",
   "name": "SQL"
  }
 },
 "nbformat": 4,
 "nbformat_minor": 5
}
