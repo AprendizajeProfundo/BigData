{
 "cells": [
  {
   "cell_type": "markdown",
   "id": "abstract-sentence",
   "metadata": {
    "tags": []
   },
   "source": [
    "<figure>\n",
    "<img src=\"../Imagenes/logo-final-ap.png\"  width=\"80\" height=\"80\" align=\"left\"/> \n",
    "</figure>\n",
    "\n",
    "# <span style=\"color:blue\"><left>Aprendizaje Profundo</left></span>"
   ]
  },
  {
   "cell_type": "markdown",
   "id": "fancy-sharing",
   "metadata": {},
   "source": [
    "# <span style=\"color:red\"><center>Introducción a bases de datos relacionales<center></span>"
   ]
  },
  {
   "cell_type": "markdown",
   "id": "mental-authorization",
   "metadata": {},
   "source": [
    "##   <span style=\"color:blue\">Profesores</span>"
   ]
  },
  {
   "cell_type": "markdown",
   "id": "alone-incidence",
   "metadata": {},
   "source": [
    "1. Alvaro Mauricio Montenegro Díaz, ammontenegrod@unal.edu.co\n",
    "2. Daniel Mauricio Montenegro Reyes, dextronomo@gmail.com \n",
    "3. Campo Elías Pardo Turriago, cepardot@unal.edu.co "
   ]
  },
  {
   "cell_type": "markdown",
   "id": "racial-penny",
   "metadata": {},
   "source": [
    "##   <span style=\"color:blue\">Asesora Medios y Marketing digital</span>\n",
    " "
   ]
  },
  {
   "cell_type": "markdown",
   "id": "official-allergy",
   "metadata": {},
   "source": [
    "4. Maria del Pilar Montenegro, pmontenegro88@gmail.com "
   ]
  },
  {
   "cell_type": "markdown",
   "id": "alleged-basis",
   "metadata": {},
   "source": [
    "## <span style=\"color:blue\">Asistentes</span>"
   ]
  },
  {
   "cell_type": "markdown",
   "id": "flush-puppy",
   "metadata": {},
   "source": [
    "5. Oleg Jarma, ojarmam@unal.edu.co \n",
    "6. Laura Lizarazo, ljlizarazore@unal.edu.co "
   ]
  },
  {
   "cell_type": "markdown",
   "id": "presidential-european",
   "metadata": {},
   "source": [
    "## <span style=\"color:blue\">Contenido</span>"
   ]
  },
  {
   "cell_type": "markdown",
   "id": "cross-notification",
   "metadata": {},
   "source": [
    "* [Introducción](#Introducción)\n",
    "* [Problemas que se resuelven con una base de datos relacional](#Problemas-que-se-resuelven-con-una-base-de-datos-relacional)\n",
    "* [Arquitectura de un sistema de bases de datos](#Arquitectura-de-un-sistema-de-bases-de-datos)"
   ]
  },
  {
   "cell_type": "markdown",
   "id": "charitable-solomon",
   "metadata": {},
   "source": [
    "##   <span style=\"color:blue\">Introducción</span>"
   ]
  },
  {
   "cell_type": "markdown",
   "id": "incredible-adoption",
   "metadata": {},
   "source": [
    "Los sistemas de información empresariales son implementados clásicamente sobre sistemas de gestión de bases de datos, cuya identificación genérica es  DBMS del inglés Data Base Management System. Una base de datos es una colección de datos relacionados. \n",
    "\n",
    "Un sistema de gestión de bases de datos (DBMS) es un sistema diseñado fundamentalmente con dos propósitos:\n",
    "\n",
    "+ Adicionar, eliminar o actualizar datos en una base de datos.\n",
    "+ Proveer varios caminos para visualizar los datos contenidos en las bases de datos. \n",
    "\n",
    "Si los datos son simples y los datos son pocos, la base de datos puede constar de una sola tabla (hoja de datos),  en cuyo caso una hoja electrónica y aún un editor de texto puede ser suficiente para mantener el sistema de información. \n",
    "\n",
    "Una base de datos que consta de una única tabla recibe el nombre de base de datos plana, y su construcción y mantenimiento no requiere del conocimiento de la teoría de bases de datos. \n",
    "\n",
    "Sin embargo los sistemas de información de aplicación real constan de cientos miles y aún millones de datos, con muchas e intrincadas relaciones entre ellos. \n",
    "\n",
    "En estos casos es esencial la construcción del diseño de una base de datos relacional. En adelante cada fila de una tabla se llamará registro y cada columna campo.\n"
   ]
  },
  {
   "cell_type": "markdown",
   "id": "failing-uganda",
   "metadata": {},
   "source": [
    "##   <span style=\"color:blue\">Problemas que se resuelven con una base de datos relacional</span>"
   ]
  },
  {
   "cell_type": "markdown",
   "id": "becoming-philip",
   "metadata": {},
   "source": [
    "El diseño de una base de datos relacional resuelve varios problemas que se presentan al usar una base de datos plana, y otros que estaban presenten en los sistemas de información antiguos diseñados sobre la plataforma de lenguajes de programación puros como Cobol, C, Pascal, etc."
   ]
  },
  {
   "cell_type": "markdown",
   "id": "hundred-martin",
   "metadata": {},
   "source": [
    "### Redundancia"
   ]
  },
  {
   "cell_type": "markdown",
   "id": "moving-prison",
   "metadata": {},
   "source": [
    "El principal problema asociado con la implementación  de una única tabla es la utilización innecesaria de información repetida. La repetición de alguna información es siempre necesaria y lo se busca es remover hasta donde sea posible la información repetida.\n",
    "\n",
    "La siguiente tabla ilustra una base de datos plana. La base contiene datos de algunas instituciones colombianas e incluye un identificador, el nombre de la entidad, el objeto social, que como se observa puede ser mas de uno, la ciudad de ubicación y el departamento al que pertenece la ciudad. "
   ]
  },
  {
   "cell_type": "markdown",
   "id": "cordless-radical",
   "metadata": {},
   "source": [
    "La redundancia es evidente. Por ejemplo la institución de sigla “INCONTEC” con su *IdInst* (identificador de la institución),  *Nombre*, *Ciudad* y *Departamento* esta repetida cuatro  veces, cada una con un objeto social distinto."
   ]
  },
  {
   "cell_type": "markdown",
   "id": "sweet-peace",
   "metadata": {},
   "source": [
    "\n",
    "\n",
    "|IdInst|Nombre|Sigla|Objeto|Ciudad|Departamento|\n",
    "|---|---|---|---|---|---|\n",
    "|2202|Instituto Colombiano de la Reforma Agraria|INCORA|Educación|Santa Marta|Magdalena|\n",
    "|2202|Instituto Colombiano de la Reforma Agraria|INCORA|Investigación|Santa Marta|Magdalena|\n",
    "|2204|Instituto Colombiano de Medicina Tropical Antonio Roldan Betancur|ICMT|Educación|Medellín|Antioquia|\n",
    "|2204|Instituto Colombiano de Medicina Tropical Antonio Roldan Betancur|ICMT|Investigación|Medellín|Antioquia|\n",
    "|2204|Instituto Colombiano de Medicina Tropical Antonio Roldan Betancur|ICMT|Asesoría|Medellín|Antioquia|\n",
    "|2208|Instituto Colombiano de Normas Técnicas y Certificación|ICONTEC|Educación|Bogotá|Distrito Capital|\n",
    "|2208|Instituto Colombiano de Normas Técnicas y Certificación|ICONTEC|Investigación|Bogotá|Distrito Capital|\n",
    "|2208|Instituto Colombiano de Normas Técnicas y Certificación|ICONTEC|Asesoría|Bogotá|Distrito Capital|\n",
    "|2208|Instituto Colombiano de Normas Técnicas y Certificación|ICONTEC|Financiación|Bogotá|Distrito Capital|\n",
    "|2215|Instituto Colombiano para el Desarrollo de la Ciencia y la Tecnología Francisco José de Caldas|COLCIENCIAS|Educación|Bogotá|Distrito Capital|\n",
    "|2215|Instituto Colombiano para el Desarrollo de la Ciencia y la Tecnología Francisco José de Caldas|COLCIENCIAS|Investigación|Bogotá|Distrito Capital|\n",
    "\n",
    "\n",
    "<center> Tabla 1. Ejemplo de una base de datos plana: INSTITUCION_PLANA</center>"
   ]
  },
  {
   "cell_type": "markdown",
   "id": "medium-albania",
   "metadata": {},
   "source": [
    "### Resolviendo la redundancia"
   ]
  },
  {
   "cell_type": "markdown",
   "id": "deadly-latvia",
   "metadata": {},
   "source": [
    "Con el propósito eliminar la redundancia hasta donde sea posible el diseñador de la base de datos debe dividir los datos en múltiples tablas. \n",
    "\n",
    "En el ejemplo anterior, se puede optar por dividir la base en cinco tablas separadas como sigue.\n",
    "\n",
    "+ Una tabla INSTITUCION mostrada en la tabla 2, en la cual cada registro corresponde a una institución.\n",
    "+ Una tabla OBJETO_SOCIAL que se muestra en la tabla   3, en la cual cada objeto corresponde a un registro de la tabla.\n",
    "+ Una tabla CIUDAD que se encuentra en la  tabla   4, en la cual cada registro corresponde a una ciudad.\n",
    "+ Una tabla DEPARTAMENTO que se observa en tabla   5, en la que cada registro corresponde a un departamento.\n",
    "+ Finalmente la tabla rel_INSTITUCION_OBJETO_SOCIAL mostrada en la Tabla   6, es requerida para conservar la información el objeto social de las instituciones.\n",
    "\n",
    "\n",
    "Ahora los nombres siglas de las instituciones, al igual que los nombres de las ciudades, de los departamentos y de los objetos sociales aparecen una sola vez. Es claro que aún existe redundancia en los datos, pero como se mencionó antes alguna redundancia es necesaria para mantener las relaciones entre los datos."
   ]
  },
  {
   "cell_type": "markdown",
   "id": "coral-affairs",
   "metadata": {},
   "source": [
    "\n",
    "|IdInst|Nombre|Sigla|IdCiu|\n",
    "|---|---|---|---|\n",
    "|2202|Instituto Colombiano de la Reforma Agraria|INCORA|2019|\n",
    "|2204|Instituto Colombiano de Medicina Tropical Antonio Roldan Betancur|ICMT|1324|\n",
    "|2208|Instituto Colombiano de Normas Técnicas y Certificación|ICONTEC|2032|\n",
    "|2215|Instituto Colombiano para el Desarrollo de la Ciencia y la Tecnología Francisco José de Caldas|COLCIENCIAS|2032|\n",
    "\n",
    "\n",
    "<center> Tabla 2. Tabla INSTITUCION Normalizada</center>\n"
   ]
  },
  {
   "cell_type": "markdown",
   "id": "gorgeous-kazakhstan",
   "metadata": {},
   "source": [
    "|IdObjetoSocial|Objeto|\n",
    "|---|---|\n",
    "|1|Educación|\n",
    "|2|Investigación|\n",
    "|3|Tecnología|\n",
    "|4|Asesoría|\n",
    "|5|Financiación|\n",
    "\n",
    "<center> Tabla 3. Tabla OBJETO_SOCIAL Normalizada</center>"
   ]
  },
  {
   "cell_type": "markdown",
   "id": "straight-chosen",
   "metadata": {},
   "source": [
    "|IdCiu|Ciudad|IdDep|\n",
    "|---|---|---|\n",
    "|1324|Medellín|70|\n",
    "|2019|Santa Marta|88|\n",
    "|2032|Bogotá|83|\n",
    "\n",
    "<center> Tabla 4. Tabla CIUDAD Normalizada</center>"
   ]
  },
  {
   "cell_type": "markdown",
   "id": "particular-sheffield",
   "metadata": {},
   "source": [
    "|IdDep|NomDep|\n",
    "|---|---|\n",
    "|70|Antioquia|\n",
    "|88||Magdalena|\n",
    "|83|Distrito Capital|\n",
    "\n",
    "<center> Tabla 5. Tabla DEPARTAMENTO Normalizada</center>"
   ]
  },
  {
   "cell_type": "markdown",
   "id": "unnecessary-salvation",
   "metadata": {},
   "source": [
    "|IdInst|IdObjetoSocial|\n",
    "|---|---|\n",
    "|2202|1|\n",
    "|2202|2|\n",
    "|2204|1|\n",
    "|2204|2|\n",
    "|2204|4|\n",
    "|2208|1|\n",
    "|2208|2|\n",
    "|2208|4|\n",
    "|2208|5|\n",
    "|2215|1|\n",
    "|2215|2|\n",
    "\n",
    "<center> Tabla 6. Tabla de Relación rel_INSTITUCION_OBJETO_SOCIAL</center>"
   ]
  },
  {
   "cell_type": "markdown",
   "id": "residential-nation",
   "metadata": {},
   "source": [
    "Ahora los nombres siglas de las instituciones, al igual que loa nombres de las ciudades, de los departamentos y de los objetos sociales aparecen una sola vez. Es claro que aún existe redundancia en los datos, pero como se mencionó antes alguna redundancia es necesaria para mantener las relaciones entre los datos.\n",
    "\n",
    "\n",
    "Para el lector tenga una idea del ahorro de espacio al abrir la base plana en cinco tablas, suponga que para el almacenamiento de los campos numéricos se requieren 4 bytes de información y para la información textual se usa el siguiente almacenamiento: 30 caracteres para el nombre de la institución, 20 para el nombre de la ciudad y el departamento y 10 para la sigla. \n",
    "\n",
    "Un carácter por lo general se guarda en 2 bytes. ¿Cuál es la diferencia de almacenamiento si se tienen mil instituciones, 33 departamento, 1031 municipios (ciudades) y 50 objetos sociales?. Supóngase que las instituciones tienen en promedio 1.5  objetos sociales, es decir, que la base plana  tiene mil quinientos registros."
   ]
  },
  {
   "cell_type": "markdown",
   "id": "hydraulic-chaos",
   "metadata": {},
   "source": [
    "### Problemas de múltiples valores"
   ]
  },
  {
   "cell_type": "markdown",
   "id": "incoming-gospel",
   "metadata": {},
   "source": [
    "En el ejemplo se ha observado que una institución puede tener múltiples objetos sociales. Varias soluciones pueden proponerse para almacenar la información. \n",
    "\n",
    "+ La primera es la optada en la Tabla 1, en la cual se incluyen múltiples filas para cada institución, una por cada objeto social. \n",
    "+ Se pueden acomodar varias columnas para acomodar los múltiples objetos, una columna por cada objeto posible.\n",
    "+ Se pueden incluir todos los objetos sociales en la misma columna. \n",
    "\n",
    "La primera solución es un caso obvio de redundancia, como se vio antes. \n",
    "\n",
    "El problema de la segunda solución es que es necesario conocer de antemano el número máximo de posibles objetos sociales, lo que en la práctica es poco probable, además del enorme desperdicio de espacio por columnas  no utilizadas. \n",
    "\n",
    "La tercera solución es la mejor en manejo de espacio, sin embargo tiene el gran inconveniente de no permitir manipular individualmente los objetos sociales. Por ejemplo no es posible obtener directamente la lista de las instituciones que tienen por objeto social *investigación*, u obtener un listado de los objetos sociales."
   ]
  },
  {
   "cell_type": "markdown",
   "id": "laden-wallace",
   "metadata": {},
   "source": [
    "### Anomalías de actualización"
   ]
  },
  {
   "cell_type": "markdown",
   "id": "infrared-summer",
   "metadata": {},
   "source": [
    "Si se requiere actualizar, por ejemplo la ciudad de una institución en la base plana, es necesario hacer cambios en cada fila que contiene la respectiva institución. \n",
    "\n",
    "Si se olvida una fila se obtiene una anomalía de actualización y da como resultado una tabla inservible. "
   ]
  },
  {
   "cell_type": "markdown",
   "id": "resistant-wonder",
   "metadata": {},
   "source": [
    "### Anomalías de inserción"
   ]
  },
  {
   "cell_type": "markdown",
   "id": "enhanced-facial",
   "metadata": {},
   "source": [
    "Supóngase que se requiere insertar un nuevo objeto social en la base de datos plana INSTITUCION_PLANA (Tabla   1), pero aun no se tiene información de instituciones con ese objeto social. \n",
    "\n",
    "Si la información debe ser almacenada de todas maneras, se deben almacenar valores NULL en los campos para los cuales no hay información. \n",
    "\n",
    "Pero esto puede tener un problema. Por ejemplo el identificador de la institución(que podría ser el NIT)   puede tener la restricción de no admitir repeticiones con distintas instituciones. \n",
    "\n",
    "Si se incluyen varios registros con campos NULL en campos con tal restricción se genera una anomalía de inserción."
   ]
  },
  {
   "cell_type": "markdown",
   "id": "joined-israeli",
   "metadata": {},
   "source": [
    "### Anomalías de eliminación"
   ]
  },
  {
   "cell_type": "markdown",
   "id": "arranged-taiwan",
   "metadata": {},
   "source": [
    "\n",
    "Si se eliminan todas las instituciones de la base INSTITUCION_PLANA (tabla   1),  ubicadas en una  determinada ciudad se pierde la información de tal ciudad. \n",
    "\n",
    "Imagine que de la ciudad se tiene información adicional, por ejemplo de tipo estadístico, tal información se pierde. \n",
    "\n",
    "Este problema se conoce como anomalía de eliminación. \n",
    "\n",
    "Los problemas anteriores son suficientes para justificar la afirmación de que usar una única tabla no es una buena idea. \n",
    "\n",
    "Un buen diseño de base de datos implica que los datos deben ser divididos en varias tablas y que algunas relaciones deben establecerse entre tales tablas. \n",
    "\n",
    "Una base construida de tal forma recibe el nombre de base de datos relacional. No obstante, un diseño de una base de datos relacional no  garantiza eliminar todos los posibles problemas que pueden presentarse con los datos. \n",
    "\n",
    "Existen ejemplos de problemas adicionales que no discutimos en este documento, pero usted puede empezar a imaginar.\n"
   ]
  },
  {
   "cell_type": "markdown",
   "id": "japanese-riding",
   "metadata": {},
   "source": [
    "##   <span style=\"color:blue\">Arquitectura de un sistema de bases de datos </span>"
   ]
  },
  {
   "cell_type": "markdown",
   "id": "frozen-timber",
   "metadata": {},
   "source": [
    "### Niveles de abstracción de los datos"
   ]
  },
  {
   "cell_type": "markdown",
   "id": "general-phone",
   "metadata": {},
   "source": [
    "Un sistema de gestión de base de datos (DBMS) es una colección de archivos interrelacionados y un conjunto de programas que permiten acceder y modificar esos archivos. Un objetivo importante de un sistema de gestión de bases de datos es proporcionar a los usuarios una visión abstracta de los datos. El sistema esconde los detalles de cómo se almacenan y mantienen los datos. Un sistema de bases normalmente se representa como en la figura 1."
   ]
  },
  {
   "cell_type": "markdown",
   "id": "ruled-nevada",
   "metadata": {},
   "source": [
    "![image.png](../Imagenes/abstraccion.jpeg)\n",
    "<center> Figura 1. Niveles de abstracción de datos</center>"
   ]
  },
  {
   "cell_type": "markdown",
   "id": "concrete-grace",
   "metadata": {},
   "source": [
    "+ **Nivel conceptual.** Es la vista de un sistema de gestión de base de datos (DBMS) es una colección de archivos interrelacionados y un conjunto de programas que permiten acceder y modificar esos archivos. Un objetivo importante de un sistema de gestión de bases de datos es proporcionar a los usuarios una visión abstracta de los datos. El sistema esconde los detalles de cómo se almacenan y mantienen los datos. Un sistema de bases normalmente se representa como en la Figura   1 .3.\n",
    "+ **Nivel físico.** Es  el nivel más bajo de abstracción y describe la forma como los datos se almacenan realmente los datos. En este nivel se describen las estructuras de datos la base de datos como un todo. Este nivel describe la estructura lógica de los datos. En una base de datos relacional los datos son vistos en este nivel como una colección de tablas, con títulos en las columnas que describen los atributos o campos de aquellas. Algunas columnas son utilizadas para establecer relaciones entre tablas.\n",
    "    \n",
    "+ **Nivel de visión.** El nivel más alto de abstracción sólo describe una parte de la base de datos completa. Muchos usuarios de la base de datos están interesados solo en una parte de la base de datos. Para facilitar la interacción de tales usuarios con el sistema se define el nivel de abstracción de visión. El sistema puede proporcionar muchas visiones de la misma base de datos."
   ]
  },
  {
   "cell_type": "markdown",
   "id": "micro-average",
   "metadata": {},
   "source": [
    "### Sistema de gestión de una base de datos (DBMS)"
   ]
  },
  {
   "cell_type": "markdown",
   "id": "sexual-interference",
   "metadata": {},
   "source": [
    "Un DBMS es un sistema software responsable del manejo de todos los aspectos de una base de datos en todos los niveles. \n",
    "\n",
    "Las principales características de que dispone un DBMS son las siguientes:\n",
    "\n",
    "+ **Un mecanismo para la definición de la estructura de una base de datos.** Compilador de DDL (data definition language). Por lo general este mecanismo tiene la forma externa de un lenguaje de definición de datos, o DDL (Data Definition Language). \n",
    "+ **Un mecanismo para la manipulación de los datos.** Precompilador DML(data manipulation language). Incluye acceso a los datos, ordenación, búsqueda, y definición de filtros. Este mecanismo se conoce externamente como lenguaje de manipulación de datos, o DML.\n",
    "+ **Interacción con lenguajes o con aplicaciones de alto nivel.** Tales lenguajes toman el nombre de lenguajes anfitrión (host language) y las aplicaciones de alto nivel son llamadas aplicaciones anfitrionas (host application), que permiten la construcción de aplicaciones de propósitos específicos. La idea central es que el manejo de los datos se deja a la base de datos y las aplicaciones para los usuario se construyen en lenguajes anfitriones como C, C++, Visual Basic, etc., en lenguajes aplicativos de bases de datos como MySQL, PostgreSQL, MariaDB, etc.,  o en aplicaciones anfitrionas como hojas electrónicas y aun procesadores de palabra. \n",
    "+ **Control de concurrencia** para administrar el acceso multiusuario eficiente y correctamente.\n",
    "+ **Un Sistema de seguridad** de los datos.\n",
    "+ **Robustez**, es decir, la habilidad para recuperarse de fallas en el sistema sin pérdida de datos.\n",
    "+ **Un diccionario de datos**. Este es en realidad una base de datos que contiene la lista de definiciones de todos los aspectos de la base de datos. Esto quiere decir que el diccionario de datos es una base de datos de metadatos, es decir de datos sobre los datos. \n",
    "+ **Archivos de datos.** En donde se almacena la base de datos.\n",
    "+ **Indices**, que proporcionan acceso rápido a los elementos de datos que contienen determinados valores.\n",
    "+ **Un mecanismo de réplica**, conocido como motor de réplica (replication engine). El motor de réplica permite replicar o duplicar total o parcialmente los datos en diferentes sitios con el propósito de facilitar la manipulación desde distintos sitios. El motor de réplicas efectúa sincronizaciones periódicas.\n",
    "+ **Un gestor de archivos o administrador de interno de archivos**, que es responsable del almacenamiento y recuperación de los datos desde el archivo físico de la base de datos.\n",
    "+ **Una interfaz para comunicarse con bases de datos de otros DBMS**. El estándar de interoperatividad entre bases de datos actual es conocido como ODBC (Open Data Base Connetitivy)\n",
    "\n",
    "Los dos primeros mecanismos conforman lo que genéricamente se conoce como **motor de consulta (query engine)** de la base de datos. "
   ]
  },
  {
   "cell_type": "markdown",
   "id": "activated-satellite",
   "metadata": {},
   "source": [
    "![SGBD](../Imagenes/SGBD.jpeg)\n",
    "\n",
    "<center>Figura 2. Sistema de gestión de una base de datos</center>"
   ]
  },
  {
   "cell_type": "code",
   "execution_count": null,
   "id": "4fbbd77f-ceb7-4b64-94a4-a8a6736b8713",
   "metadata": {},
   "outputs": [],
   "source": []
  }
 ],
 "metadata": {
  "kernelspec": {
   "display_name": "Python 3 (ipykernel)",
   "language": "python",
   "name": "python3"
  },
  "language_info": {
   "codemirror_mode": {
    "name": "ipython",
    "version": 3
   },
   "file_extension": ".py",
   "mimetype": "text/x-python",
   "name": "python",
   "nbconvert_exporter": "python",
   "pygments_lexer": "ipython3",
   "version": "3.8.12"
  }
 },
 "nbformat": 4,
 "nbformat_minor": 5
}
