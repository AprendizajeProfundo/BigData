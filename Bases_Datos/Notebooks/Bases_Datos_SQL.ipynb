{
 "cells": [
  {
   "cell_type": "markdown",
   "id": "accepting-israeli",
   "metadata": {
    "tags": []
   },
   "source": [
    "<figure>\n",
    "<img src=\"../Imagenes/logo-final-ap.png\"  width=\"80\" height=\"80\" align=\"left\"/> \n",
    "</figure>\n",
    "\n",
    "# <span style=\"color:blue\"><left>Aprendizaje Profundo</left></span>"
   ]
  },
  {
   "cell_type": "markdown",
   "id": "exotic-robinson",
   "metadata": {},
   "source": [
    "# <span style=\"color:red\"><center>SQL<center></span>"
   ]
  },
  {
   "cell_type": "markdown",
   "id": "cleared-breed",
   "metadata": {},
   "source": [
    "##   <span style=\"color:blue\">Profesores</span>"
   ]
  },
  {
   "cell_type": "markdown",
   "id": "included-incident",
   "metadata": {},
   "source": [
    "1. Alvaro Mauricio Montenegro Díaz, ammontenegrod@unal.edu.co\n",
    "2. Daniel Mauricio Montenegro Reyes, dextronomo@gmail.com "
   ]
  },
  {
   "cell_type": "markdown",
   "id": "regulation-castle",
   "metadata": {},
   "source": [
    "##   <span style=\"color:blue\">Asesora Medios y Marketing digital</span>\n",
    " "
   ]
  },
  {
   "cell_type": "markdown",
   "id": "latter-declaration",
   "metadata": {},
   "source": [
    "4. Maria del Pilar Montenegro, pmontenegro88@gmail.com "
   ]
  },
  {
   "cell_type": "markdown",
   "id": "alive-division",
   "metadata": {},
   "source": [
    "## <span style=\"color:blue\">Contenido</span>"
   ]
  },
  {
   "cell_type": "markdown",
   "id": "clear-survivor",
   "metadata": {},
   "source": [
    "* [Introducción](#Introducción)\n",
    "* [Instalar Kernel MariaDB en Jupiter Lab](#Instalar-Kernel-MariaDB-en-Jupiter-Lab)\n",
    "* [Primera base de datos: create database](#Primera-base-de-datos:-create-database)\n",
    "* [Creación de tablas: create table](#Creación-de-tablas:-create-table)\n",
    "* [Consultas iniciales en SQL: insert into, select](#Consultas-iniciales-en-SQL:-insert,-select)\n",
    "* [Llaves foráneas: foreign key](#Llaves-foráneas:-foreign-key)\n",
    "* [Producto cartesiano: select where](#Producto-cartesiano:-select-where)\n",
    "* [Producto natural: join](#Producto-natural:-join)\n",
    "* [Relaciones muchos a muchos](#Relaciones-muchos-a-muchos)\n",
    "* [Subida de datos desde una archivo extrerno](#Subida-de-datos-desde-un-archivo-externo)"
   ]
  },
  {
   "cell_type": "markdown",
   "id": "sized-cinema",
   "metadata": {},
   "source": [
    "## <span style=\"color:blue\">Introducción</span>"
   ]
  },
  {
   "cell_type": "markdown",
   "id": "threaded-robertson",
   "metadata": {},
   "source": [
    "Para este cuaderno, se sugiere instalar el kernel de MariaDB como se explica a continuación y simultáneamente tener abierta una terminal para conectar la base directamente, dado que las consultas de datos pueden ser un poco demoradas en Jupyter Lab.\n",
    "\n",
    "Puede seguir todo el cuaderno directamente en la terminal. "
   ]
  },
  {
   "cell_type": "markdown",
   "id": "afraid-female",
   "metadata": {},
   "source": [
    "## <span style=\"color:blue\">Instalar Kernel MariaDB en Jupiter Lab</span>"
   ]
  },
  {
   "cell_type": "markdown",
   "id": "demonstrated-telescope",
   "metadata": {},
   "source": [
    "Siga las siguientes instrucciones que encuentra en [MariaDB Jupyter Kernel Installation](https://mariadb.com/kb/en/mariadb-jupyter-kernel-installation/)"
   ]
  },
  {
   "cell_type": "markdown",
   "id": "permanent-english",
   "metadata": {},
   "source": [
    "En la terminal:\n",
    "\n",
    "python3 -m pip install mariadb_kernel\n",
    "\n",
    "python3 -m mariadb_kernel.install\n",
    "\n",
    "Por ejemplo en mi laptop lo hice de la siguiente manera."
   ]
  },
  {
   "cell_type": "raw",
   "id": "silver-provider",
   "metadata": {},
   "source": [
    "(bigdata_c) alvaro@Lenovo:~$ python3 -m pip install mariadb_kernel\n",
    "(bigdata_c) alvaro@Lenovo:~$ python3 -m mariadb_kernel.install"
   ]
  },
  {
   "cell_type": "markdown",
   "id": "conventional-cloud",
   "metadata": {},
   "source": [
    "#### Configuración de MariaDB para el IKernel de MariaDB"
   ]
  },
  {
   "cell_type": "raw",
   "id": "enhanced-karen",
   "metadata": {},
   "source": [
    "Ahora vaya a la carpeta \n",
    "\n",
    "~/.jupyter \n",
    "\n",
    "y cree el archivo mariadb_config.json. por ejemplo, si tiene instalado el editor gedit escriba\n",
    "\n",
    "gedit mariadb_config.json\n",
    "\n",
    "Copie el siguiente código que define un string de conección que usara Jupyter Lab para conectarse con MariaDB. Coloque su password(en el lugar de \"securepassword\" de root, si va a comunicarse con este usuario"
   ]
  },
  {
   "cell_type": "raw",
   "id": "national-nancy",
   "metadata": {},
   "source": [
    "{\n",
    "    \"user\": \"root\",\n",
    "    \"host\": \"localhost\",\n",
    "    \"port\": \"3306\",\n",
    "    \"password\": \"securepassword\",\n",
    "    \"start_server\": \"True\",\n",
    "    \"client_bin\": \"/usr/bin/mariadb\",\n",
    "    \"server_bin\": \"/usr/bin/mariadbd\"\n",
    "}\n"
   ]
  },
  {
   "cell_type": "markdown",
   "id": "distributed-palestinian",
   "metadata": {},
   "source": [
    "Si necesita cambiar el password de root siga las siguientes instrucciones [Cambiar password en mariadb](https://blog.carreralinux.com.ar/2017/03/cambiar-la-clave-de-root-mysql-mariadb/)\n",
    "\n",
    "Si perdió el password de root entre como super usuario de Linux asi y siga las instrucciones del enlace."
   ]
  },
  {
   "cell_type": "raw",
   "id": "residential-morris",
   "metadata": {},
   "source": [
    "(bigdata_c) alvaro@Lenovo:~$ sudo mariadb"
   ]
  },
  {
   "cell_type": "markdown",
   "id": "united-spouse",
   "metadata": {},
   "source": [
    "Normalmente entra a mariadb de la siguiente forma como usuario root desde la consola"
   ]
  },
  {
   "cell_type": "code",
   "execution_count": null,
   "id": "emerging-asian",
   "metadata": {},
   "outputs": [],
   "source": [
    "(bigdata_c) alvaro@Lenovo:~$ mysql -u root -p"
   ]
  },
  {
   "cell_type": "code",
   "execution_count": null,
   "id": "growing-affiliation",
   "metadata": {},
   "outputs": [],
   "source": [
    "En este punto mariadb le solicita su pasword"
   ]
  },
  {
   "cell_type": "markdown",
   "id": "static-removal",
   "metadata": {},
   "source": [
    "Si todo ah ido bien Recibe el siguiente mensaje indicando que se encuentra dentro del sistema de la base de datos"
   ]
  },
  {
   "cell_type": "code",
   "execution_count": null,
   "id": "promotional-creativity",
   "metadata": {},
   "outputs": [],
   "source": [
    "MariaDB [(none)]>"
   ]
  },
  {
   "cell_type": "markdown",
   "id": "asian-murder",
   "metadata": {},
   "source": [
    "## <span style=\"color:blue\">Primera base de datos: create database</span>"
   ]
  },
  {
   "cell_type": "code",
   "execution_count": 57,
   "id": "suspended-camcorder",
   "metadata": {},
   "outputs": [
    {
     "data": {
      "text/html": []
     },
     "metadata": {},
     "output_type": "display_data"
    }
   ],
   "source": [
    "CREATE DATABASE GRUPOS;"
   ]
  },
  {
   "cell_type": "code",
   "execution_count": 5,
   "id": "stupid-oregon",
   "metadata": {},
   "outputs": [
    {
     "data": {
      "text/html": []
     },
     "metadata": {},
     "output_type": "display_data"
    }
   ],
   "source": [
    "DROP DATABASE GRUPOS;"
   ]
  },
  {
   "cell_type": "code",
   "execution_count": 9,
   "id": "moved-disability",
   "metadata": {},
   "outputs": [
    {
     "data": {
      "text/html": []
     },
     "metadata": {},
     "output_type": "display_data"
    }
   ],
   "source": [
    "CREATE DATABASE GRUPOS \n",
    "CHARACTER SET latin1 \n",
    "COLLATE latin1_bin;"
   ]
  },
  {
   "cell_type": "code",
   "execution_count": 8,
   "id": "spectacular-porter",
   "metadata": {},
   "outputs": [
    {
     "data": {
      "text/html": [
       "<html><body><table border=\"1\"><tr><th style=\"text-align:left;white-space:pre\">Database</th></tr><tr><td style=\"text-align:left;white-space:pre\">CLASE_INFO</td></tr><tr><td style=\"text-align:left;white-space:pre\">GRUPOS</td></tr><tr><td style=\"text-align:left;white-space:pre\">GRUPOS_COLOMBIA</td></tr><tr><td style=\"text-align:left;white-space:pre\">birdwatchers</td></tr><tr><td style=\"text-align:left;white-space:pre\">information_schema</td></tr><tr><td style=\"text-align:left;white-space:pre\">mysql</td></tr><tr><td style=\"text-align:left;white-space:pre\">performance_schema</td></tr><tr><td style=\"text-align:left;white-space:pre\">rookery</td></tr><tr><td style=\"text-align:left;white-space:pre\">sakila</td></tr><tr><td style=\"text-align:left;white-space:pre\">test</td></tr></table></body></html>"
      ]
     },
     "metadata": {},
     "output_type": "display_data"
    }
   ],
   "source": [
    "SHOW DATABASES;"
   ]
  },
  {
   "cell_type": "code",
   "execution_count": 9,
   "id": "secondary-three",
   "metadata": {},
   "outputs": [
    {
     "data": {
      "text/html": [
       "Query OK"
      ]
     },
     "metadata": {},
     "output_type": "display_data"
    }
   ],
   "source": [
    "USE GRUPOS;"
   ]
  },
  {
   "cell_type": "code",
   "execution_count": 10,
   "id": "native-transcript",
   "metadata": {},
   "outputs": [
    {
     "data": {
      "text/html": [
       "<html><body><table border=\"1\"><tr><th style=\"text-align:left;white-space:pre\">Tables_in_GRUPOS</th></tr><tr><td style=\"text-align:left;white-space:pre\">AUTOR</td></tr><tr><td style=\"text-align:left;white-space:pre\">AUTOR_LIBRO</td></tr><tr><td style=\"text-align:left;white-space:pre\">EDITORIAL</td></tr><tr><td style=\"text-align:left;white-space:pre\">LIBRO</td></tr><tr><td style=\"text-align:left;white-space:pre\">PAIS</td></tr><tr><td style=\"text-align:left;white-space:pre\">PAIS_ONU</td></tr></table></body></html>"
      ]
     },
     "metadata": {},
     "output_type": "display_data"
    }
   ],
   "source": [
    "SHOW TABLES;"
   ]
  },
  {
   "cell_type": "markdown",
   "id": "resident-jacket",
   "metadata": {},
   "source": [
    "## <span style=\"color:blue\">Creación de tablas: create table</span>"
   ]
  },
  {
   "cell_type": "code",
   "execution_count": 12,
   "id": "excessive-waterproof",
   "metadata": {},
   "outputs": [
    {
     "data": {
      "text/html": []
     },
     "metadata": {},
     "output_type": "display_data"
    }
   ],
   "source": [
    "CREATE OR REPLACE TABLE PAIS(\n",
    "IdPai MEDIUMINT UNSIGNED AUTO_INCREMENT PRIMARY KEY,\n",
    "NomPai VARCHAR(100) UNIQUE NOT NULL,\n",
    "AbrevPai VARCHAR(3) UNIQUE\n",
    ");"
   ]
  },
  {
   "cell_type": "code",
   "execution_count": 11,
   "id": "quiet-whole",
   "metadata": {},
   "outputs": [
    {
     "data": {
      "text/html": [
       "<html><body><table border=\"1\"><tr><th style=\"text-align:left;white-space:pre\">Field</th><th style=\"text-align:left;white-space:pre\">Type</th><th style=\"text-align:left;white-space:pre\">Null</th><th style=\"text-align:left;white-space:pre\">Key</th><th style=\"text-align:left;white-space:pre\">Default</th><th style=\"text-align:left;white-space:pre\">Extra</th></tr><tr><td style=\"text-align:left;white-space:pre\">IdPai</td><td style=\"text-align:left;white-space:pre\">int(11)</td><td style=\"text-align:left;white-space:pre\">NO</td><td style=\"text-align:left;white-space:pre\">PRI</td><td style=\"text-align:left;white-space:pre\">NULL</td><td style=\"text-align:left;white-space:pre\">auto_increment</td></tr><tr><td style=\"text-align:left;white-space:pre\">NomPai</td><td style=\"text-align:left;white-space:pre\">varchar(255)</td><td style=\"text-align:left;white-space:pre\">NO</td><td style=\"text-align:left;white-space:pre\">UNI</td><td style=\"text-align:left;white-space:pre\">NULL</td><td style=\"text-align:left;white-space:pre\"></td></tr><tr><td style=\"text-align:left;white-space:pre\">AbrevPai</td><td style=\"text-align:left;white-space:pre\">varchar(3)</td><td style=\"text-align:left;white-space:pre\">YES</td><td style=\"text-align:left;white-space:pre\">UNI</td><td style=\"text-align:left;white-space:pre\">NULL</td><td style=\"text-align:left;white-space:pre\"></td></tr></table></body></html>"
      ]
     },
     "metadata": {},
     "output_type": "display_data"
    }
   ],
   "source": [
    "DESCRIBE PAIS;"
   ]
  },
  {
   "cell_type": "markdown",
   "id": "incorporated-defensive",
   "metadata": {},
   "source": [
    "## <span style=\"color:blue\">Consultas iniciales en SQL: insert into, select</span>"
   ]
  },
  {
   "cell_type": "markdown",
   "id": "balanced-miracle",
   "metadata": {},
   "source": [
    "### Inserta datos"
   ]
  },
  {
   "cell_type": "code",
   "execution_count": 15,
   "id": "apart-shift",
   "metadata": {},
   "outputs": [
    {
     "data": {
      "text/html": []
     },
     "metadata": {},
     "output_type": "display_data"
    }
   ],
   "source": [
    "INSERT INTO PAIS(NomPai, AbrevPai)\n",
    "VALUES ('Colombia', 'col'),\n",
    "('Estados Unidos','usa'),\n",
    "('España', 'esp');"
   ]
  },
  {
   "cell_type": "markdown",
   "id": "loved-rings",
   "metadata": {},
   "source": [
    "### Consulta Valores en la tabla"
   ]
  },
  {
   "cell_type": "code",
   "execution_count": 12,
   "id": "optional-wagner",
   "metadata": {},
   "outputs": [
    {
     "data": {
      "text/html": [
       "<html><body><table border=\"1\"><tr><th style=\"text-align:left;white-space:pre\">IdPai</th><th style=\"text-align:left;white-space:pre\">NomPai</th><th style=\"text-align:left;white-space:pre\">AbrevPai</th></tr><tr><td style=\"text-align:left;white-space:pre\">1</td><td style=\"text-align:left;white-space:pre\">Colombia</td><td style=\"text-align:left;white-space:pre\">col</td></tr><tr><td style=\"text-align:left;white-space:pre\">2</td><td style=\"text-align:left;white-space:pre\">Estados Unidos</td><td style=\"text-align:left;white-space:pre\">usa</td></tr><tr><td style=\"text-align:left;white-space:pre\">3</td><td style=\"text-align:left;white-space:pre\">España</td><td style=\"text-align:left;white-space:pre\">esp</td></tr><tr><td style=\"text-align:left;white-space:pre\">4</td><td style=\"text-align:left;white-space:pre\">Francia</td><td style=\"text-align:left;white-space:pre\">NULL</td></tr></table></body></html>"
      ]
     },
     "metadata": {},
     "output_type": "display_data"
    }
   ],
   "source": [
    "SELECT * FROM PAIS;"
   ]
  },
  {
   "cell_type": "markdown",
   "id": "hybrid-millennium",
   "metadata": {},
   "source": [
    "## <span style=\"color:blue\">Llaves foráneas</span>"
   ]
  },
  {
   "cell_type": "markdown",
   "id": "innocent-seattle",
   "metadata": {},
   "source": [
    "### Creando la tabla EDITORIAL"
   ]
  },
  {
   "cell_type": "markdown",
   "id": "arabic-radio",
   "metadata": {},
   "source": [
    "Consulte [Foreign Keys](https://mariadb.com/kb/en/foreign-keys/)"
   ]
  },
  {
   "cell_type": "code",
   "execution_count": 39,
   "id": "extensive-brunswick",
   "metadata": {},
   "outputs": [
    {
     "data": {
      "text/html": []
     },
     "metadata": {},
     "output_type": "display_data"
    }
   ],
   "source": [
    "CREATE OR REPLACE TABLE EDITORIAL(\n",
    "  IdEdi MEDIUMINT UNSIGNED NOT NULL AUTO_INCREMENT PRIMARY KEY,\n",
    "  NomEdi VARCHAR(100) NOT NULL,\n",
    "  IdPai MEDIUMINT UNSIGNED  NOT NULL,\n",
    "  CONSTRAINT\n",
    "    fk_EDITORIAL_LIBRO FOREIGN KEY (IdPai) REFERENCES PAIS (IdPai)\n",
    "    ON DELETE CASCADE\n",
    "    ON UPDATE RESTRICT\n",
    ") ENGINE = InnoDB;\n"
   ]
  },
  {
   "cell_type": "code",
   "execution_count": 13,
   "id": "appropriate-imperial",
   "metadata": {},
   "outputs": [
    {
     "data": {
      "text/html": [
       "<html><body><table border=\"1\"><tr><th style=\"text-align:left;white-space:pre\">Field</th><th style=\"text-align:left;white-space:pre\">Type</th><th style=\"text-align:left;white-space:pre\">Null</th><th style=\"text-align:left;white-space:pre\">Key</th><th style=\"text-align:left;white-space:pre\">Default</th><th style=\"text-align:left;white-space:pre\">Extra</th></tr><tr><td style=\"text-align:left;white-space:pre\">IdEdi</td><td style=\"text-align:left;white-space:pre\">mediumint(8) unsigned</td><td style=\"text-align:left;white-space:pre\">NO</td><td style=\"text-align:left;white-space:pre\">PRI</td><td style=\"text-align:left;white-space:pre\">NULL</td><td style=\"text-align:left;white-space:pre\">auto_increment</td></tr><tr><td style=\"text-align:left;white-space:pre\">NomEdi</td><td style=\"text-align:left;white-space:pre\">varchar(100)</td><td style=\"text-align:left;white-space:pre\">NO</td><td style=\"text-align:left;white-space:pre\"></td><td style=\"text-align:left;white-space:pre\">NULL</td><td style=\"text-align:left;white-space:pre\"></td></tr><tr><td style=\"text-align:left;white-space:pre\">IdPai</td><td style=\"text-align:left;white-space:pre\">int(11)</td><td style=\"text-align:left;white-space:pre\">NO</td><td style=\"text-align:left;white-space:pre\">MUL</td><td style=\"text-align:left;white-space:pre\">NULL</td><td style=\"text-align:left;white-space:pre\"></td></tr></table></body></html>"
      ]
     },
     "metadata": {},
     "output_type": "display_data"
    }
   ],
   "source": [
    "DESCRIBE EDITORIAL;"
   ]
  },
  {
   "cell_type": "code",
   "execution_count": 14,
   "id": "powered-magnet",
   "metadata": {},
   "outputs": [
    {
     "data": {
      "text/html": [
       "<html><body><table border=\"1\"><tr><th style=\"text-align:left;white-space:pre\">Field</th><th style=\"text-align:left;white-space:pre\">Type</th><th style=\"text-align:left;white-space:pre\">Null</th><th style=\"text-align:left;white-space:pre\">Key</th><th style=\"text-align:left;white-space:pre\">Default</th><th style=\"text-align:left;white-space:pre\">Extra</th></tr><tr><td style=\"text-align:left;white-space:pre\">IdPai</td><td style=\"text-align:left;white-space:pre\">int(11)</td><td style=\"text-align:left;white-space:pre\">NO</td><td style=\"text-align:left;white-space:pre\">PRI</td><td style=\"text-align:left;white-space:pre\">NULL</td><td style=\"text-align:left;white-space:pre\">auto_increment</td></tr><tr><td style=\"text-align:left;white-space:pre\">NomPai</td><td style=\"text-align:left;white-space:pre\">varchar(255)</td><td style=\"text-align:left;white-space:pre\">NO</td><td style=\"text-align:left;white-space:pre\">UNI</td><td style=\"text-align:left;white-space:pre\">NULL</td><td style=\"text-align:left;white-space:pre\"></td></tr><tr><td style=\"text-align:left;white-space:pre\">AbrevPai</td><td style=\"text-align:left;white-space:pre\">varchar(3)</td><td style=\"text-align:left;white-space:pre\">YES</td><td style=\"text-align:left;white-space:pre\">UNI</td><td style=\"text-align:left;white-space:pre\">NULL</td><td style=\"text-align:left;white-space:pre\"></td></tr></table></body></html>"
      ]
     },
     "metadata": {},
     "output_type": "display_data"
    }
   ],
   "source": [
    "describe PAIS;"
   ]
  },
  {
   "cell_type": "code",
   "execution_count": null,
   "id": "young-effect",
   "metadata": {},
   "outputs": [],
   "source": [
    "crea un registro en Editorial"
   ]
  },
  {
   "cell_type": "code",
   "execution_count": 40,
   "id": "interior-motel",
   "metadata": {},
   "outputs": [
    {
     "data": {
      "text/html": []
     },
     "metadata": {},
     "output_type": "display_data"
    }
   ],
   "source": [
    "INSERT INTO EDITORIAL(NomEdi, IdPai)\n",
    "VALUES ('Unibiblos', 1),\n",
    "('Springer',2),\n",
    "('Oveja Negra', 3);"
   ]
  },
  {
   "cell_type": "code",
   "execution_count": 15,
   "id": "absolute-wesley",
   "metadata": {},
   "outputs": [
    {
     "data": {
      "text/html": [
       "<html><body><table border=\"1\"><tr><th style=\"text-align:left;white-space:pre\">IdEdi</th><th style=\"text-align:left;white-space:pre\">NomEdi</th><th style=\"text-align:left;white-space:pre\">IdPai</th></tr><tr><td style=\"text-align:left;white-space:pre\">1</td><td style=\"text-align:left;white-space:pre\">Unibiblos</td><td style=\"text-align:left;white-space:pre\">1</td></tr><tr><td style=\"text-align:left;white-space:pre\">2</td><td style=\"text-align:left;white-space:pre\">Springer</td><td style=\"text-align:left;white-space:pre\">2</td></tr><tr><td style=\"text-align:left;white-space:pre\">3</td><td style=\"text-align:left;white-space:pre\">Oveja Negra</td><td style=\"text-align:left;white-space:pre\">3</td></tr></table></body></html>"
      ]
     },
     "metadata": {},
     "output_type": "display_data"
    }
   ],
   "source": [
    "SELECT * FROM EDITORIAL;"
   ]
  },
  {
   "cell_type": "markdown",
   "id": "early-activation",
   "metadata": {},
   "source": [
    "## <span style=\"color:blue\">Producto cartesiano: select where</span>"
   ]
  },
  {
   "cell_type": "markdown",
   "id": "sticky-latino",
   "metadata": {},
   "source": [
    "Recupera el identificador de la editorial , nombre y pais"
   ]
  },
  {
   "cell_type": "code",
   "execution_count": 16,
   "id": "geographic-character",
   "metadata": {},
   "outputs": [
    {
     "data": {
      "text/html": [
       "<html><body><table border=\"1\"><tr><th style=\"text-align:left;white-space:pre\">Identificador</th><th style=\"text-align:left;white-space:pre\">Editorial</th><th style=\"text-align:left;white-space:pre\">País</th></tr><tr><td style=\"text-align:left;white-space:pre\">1</td><td style=\"text-align:left;white-space:pre\">Unibiblos</td><td style=\"text-align:left;white-space:pre\">Colombia</td></tr><tr><td style=\"text-align:left;white-space:pre\">2</td><td style=\"text-align:left;white-space:pre\">Springer</td><td style=\"text-align:left;white-space:pre\">Colombia</td></tr><tr><td style=\"text-align:left;white-space:pre\">3</td><td style=\"text-align:left;white-space:pre\">Oveja Negra</td><td style=\"text-align:left;white-space:pre\">Colombia</td></tr><tr><td style=\"text-align:left;white-space:pre\">1</td><td style=\"text-align:left;white-space:pre\">Unibiblos</td><td style=\"text-align:left;white-space:pre\">España</td></tr><tr><td style=\"text-align:left;white-space:pre\">2</td><td style=\"text-align:left;white-space:pre\">Springer</td><td style=\"text-align:left;white-space:pre\">España</td></tr><tr><td style=\"text-align:left;white-space:pre\">3</td><td style=\"text-align:left;white-space:pre\">Oveja Negra</td><td style=\"text-align:left;white-space:pre\">España</td></tr><tr><td style=\"text-align:left;white-space:pre\">1</td><td style=\"text-align:left;white-space:pre\">Unibiblos</td><td style=\"text-align:left;white-space:pre\">Estados Unidos</td></tr><tr><td style=\"text-align:left;white-space:pre\">2</td><td style=\"text-align:left;white-space:pre\">Springer</td><td style=\"text-align:left;white-space:pre\">Estados Unidos</td></tr><tr><td style=\"text-align:left;white-space:pre\">3</td><td style=\"text-align:left;white-space:pre\">Oveja Negra</td><td style=\"text-align:left;white-space:pre\">Estados Unidos</td></tr><tr><td style=\"text-align:left;white-space:pre\">1</td><td style=\"text-align:left;white-space:pre\">Unibiblos</td><td style=\"text-align:left;white-space:pre\">Francia</td></tr><tr><td style=\"text-align:left;white-space:pre\">2</td><td style=\"text-align:left;white-space:pre\">Springer</td><td style=\"text-align:left;white-space:pre\">Francia</td></tr><tr><td style=\"text-align:left;white-space:pre\">3</td><td style=\"text-align:left;white-space:pre\">Oveja Negra</td><td style=\"text-align:left;white-space:pre\">Francia</td></tr></table></body></html>"
      ]
     },
     "metadata": {},
     "output_type": "display_data"
    }
   ],
   "source": [
    "SELECT IdEdi as Identificador, NomEdi AS Editorial, NomPai AS País\n",
    "FROM EDITORIAL, PAIS;"
   ]
  },
  {
   "cell_type": "markdown",
   "id": "missing-railway",
   "metadata": {},
   "source": [
    "## <span style=\"color:blue\">Producto Natural: join</span>"
   ]
  },
  {
   "cell_type": "markdown",
   "id": "sharp-channel",
   "metadata": {},
   "source": [
    "El producto natural sirve para especificar las relaciones entra tablas en una consulta.  La cláusula básica para indicar el producto natural es `JOIN`. El siguiente ejemlo ilustra el uso básico de JOIN."
   ]
  },
  {
   "cell_type": "code",
   "execution_count": 43,
   "id": "figured-thong",
   "metadata": {},
   "outputs": [],
   "source": [
    "SELECT IdEdi as iIdentificador, NomEdi AS Editorial, NomPai AS País\n",
    "FROM EDITORIAL  \n",
    "INNER JOIN PAIS\n",
    "ON  EDITORIAL.IdPai = PAIS.IdPai;"
   ]
  },
  {
   "cell_type": "markdown",
   "id": "inclusive-dublin",
   "metadata": {},
   "source": [
    "Observe que hemos usado `INNER JOIN` para establecer la relación entre las dos tablas. La claúsula `ON` indica como se forma la relación. En el ejemplo, dice que establecemos una relación entre las tablas EDITORIAL y PAIS mediante los campos `IdPai` que aparecen en ambas tabla. El realidad los nombre de los campos con los cuales se establece no tiene porque llamarse igual.\n",
    "\n",
    "Lo que hace el  motor de la base de datos en este caso es calcular el producto cartesiano entre las dos tablas, con la restrcción que solamente quedaran los registros en donde el valor en los campos IdPai coincide.\n",
    "\n",
    "En general hay tres tipos de JOIN. Observe la siguiente imagen."
   ]
  },
  {
   "cell_type": "markdown",
   "id": "banned-venice",
   "metadata": {},
   "source": [
    "<figure>\n",
    "<img src=\"../Imagenes/JOIN.png\"  width=\"500\" height=\"500\" align=\"center\"/> \n",
    "</figure>\n",
    "\n",
    "Fuente: Alvaro Montenegro"
   ]
  },
  {
   "cell_type": "markdown",
   "id": "radical-neighborhood",
   "metadata": {},
   "source": [
    "Debe interpretar de la siguiente manera:\n",
    "\n",
    "1. `INNER JOIN` incluye todos los registros en donde EDITORIAL.IdPai y PAIS.IdPai coinciden.\n",
    "1. `LEFT JOIN` Incluye todos los registro de la tabla de la izquierda (EDITORIAL). En los campos de la tabla de la derecha que no coinciden se rellenan en la consukta con NULL.\n",
    "1. `RIGHT JOIN` Incluye todos los registro de la tabla de la derecha (PAIS). En los campos de la tabla de la izquierda que no coinciden se rellenan en la consuta con NULL.\n",
    "\n",
    "Por ejemplo, supongamos que el pais Francia no tiene vinculado ninguna editorial. Consideremos la consulta"
   ]
  },
  {
   "cell_type": "code",
   "execution_count": 21,
   "id": "solid-retrieval",
   "metadata": {},
   "outputs": [
    {
     "data": {
      "text/html": [
       "<html><body><table border=\"1\"><tr><th style=\"text-align:left;white-space:pre\">iIdentificador</th><th style=\"text-align:left;white-space:pre\">Editorial</th><th style=\"text-align:left;white-space:pre\">País</th></tr><tr><td style=\"text-align:left;white-space:pre\">1</td><td style=\"text-align:left;white-space:pre\">Unibiblos</td><td style=\"text-align:left;white-space:pre\">Colombia</td></tr><tr><td style=\"text-align:left;white-space:pre\">2</td><td style=\"text-align:left;white-space:pre\">Springer</td><td style=\"text-align:left;white-space:pre\">Estados Unidos</td></tr><tr><td style=\"text-align:left;white-space:pre\">3</td><td style=\"text-align:left;white-space:pre\">Oveja Negra</td><td style=\"text-align:left;white-space:pre\">España</td></tr><tr><td style=\"text-align:left;white-space:pre\">NULL</td><td style=\"text-align:left;white-space:pre\">NULL</td><td style=\"text-align:left;white-space:pre\">Francia</td></tr></table></body></html>"
      ]
     },
     "metadata": {},
     "output_type": "display_data"
    }
   ],
   "source": [
    "SELECT IdEdi as iIdentificador, NomEdi AS Editorial, NomPai AS País\n",
    "FROM EDITORIAL  \n",
    "RIGHT JOIN PAIS\n",
    "ON  EDITORIAL.IdPai = PAIS.IdPai;"
   ]
  },
  {
   "cell_type": "markdown",
   "id": "inside-contract",
   "metadata": {},
   "source": [
    "El registro de salida en tal caso sería\n",
    "\n",
    "|Identificador|Editorial|País|\n",
    "|---|---|---|\n",
    "|NULL|NULL|Francia|"
   ]
  },
  {
   "cell_type": "markdown",
   "id": "covered-october",
   "metadata": {},
   "source": [
    "### Solución alternativa del producto natural"
   ]
  },
  {
   "cell_type": "code",
   "execution_count": 44,
   "id": "front-robinson",
   "metadata": {},
   "outputs": [
    {
     "data": {
      "text/html": [
       "<TABLE BORDER=1><TR><TH>iIdentificador</TH><TH>Editorial</TH><TH>País</TH></TR><TR><TD>1</TD><TD>Unibiblos</TD><TD>Colombia</TD></TR><TR><TD>2</TD><TD>Springer</TD><TD>Estados Unidos</TD></TR><TR><TD>3</TD><TD>Oveja Negra</TD><TD>España</TD></TR></TABLE>"
      ]
     },
     "metadata": {},
     "output_type": "display_data"
    }
   ],
   "source": [
    "SELECT IdEdi as Identificador, NomEdi AS Editorial, NomPai AS País\n",
    "FROM EDITORIAL as E, PAIS as P\n",
    "WHERE E.idPai = P.IdPai;"
   ]
  },
  {
   "cell_type": "markdown",
   "id": "social-appeal",
   "metadata": {},
   "source": [
    "## <span style=\"color:blue\">Relaciones muchos a muchos</span>"
   ]
  },
  {
   "cell_type": "markdown",
   "id": "dangerous-attribute",
   "metadata": {},
   "source": [
    "### Tabla LIBRO"
   ]
  },
  {
   "cell_type": "code",
   "execution_count": 46,
   "id": "wicked-intent",
   "metadata": {},
   "outputs": [
    {
     "data": {
      "text/html": []
     },
     "metadata": {},
     "output_type": "display_data"
    }
   ],
   "source": [
    "CREATE TABLE LIBRO(\n",
    "  IdLib MEDIUMINT UNSIGNED NOT NULL AUTO_INCREMENT PRIMARY KEY,\n",
    "  Titulo VARCHAR(200) NOT NULL,\n",
    "  ISSN VARCHAR(15),\n",
    "  IdEdi MEDIUMINT UNSIGNED  NOT NULL,\n",
    "  CONSTRAINT \n",
    "    fk_LIBRO_EDITORIAL  FOREIGN KEY (IdEdi) REFERENCES EDITORIAL (IdEdi)\n",
    "    ON DELETE CASCADE\n",
    "    ON UPDATE RESTRICT\n",
    ") ENGINE = InnoDB;\n"
   ]
  },
  {
   "cell_type": "markdown",
   "id": "excited-thursday",
   "metadata": {},
   "source": [
    "### Tabla AUTOR"
   ]
  },
  {
   "cell_type": "code",
   "execution_count": 48,
   "id": "technical-bumper",
   "metadata": {},
   "outputs": [
    {
     "data": {
      "text/html": []
     },
     "metadata": {},
     "output_type": "display_data"
    }
   ],
   "source": [
    "CREATE TABLE AUTOR(\n",
    "  IdAut MEDIUMINT UNSIGNED NOT NULL AUTO_INCREMENT PRIMARY KEY,\n",
    "  Nombre VARCHAR(100) NOT NULL,\n",
    "  Ide VARCHAR(50) DEFAULT 'N.D.',\n",
    "  IdPai INT  NOT NULL,\n",
    "  CONSTRAINT \n",
    "    fk_AUTOR_PAIS FOREIGN KEY (IdPai) REFERENCES PAIS (IdPai)\n",
    "    ON DELETE CASCADE\n",
    "    ON UPDATE RESTRICT\n",
    ") ENGINE = InnoDB;"
   ]
  },
  {
   "cell_type": "markdown",
   "id": "going-confidentiality",
   "metadata": {},
   "source": [
    "### Tabla de intersección AUTOR_LIBRO"
   ]
  },
  {
   "cell_type": "code",
   "execution_count": 54,
   "id": "married-clark",
   "metadata": {},
   "outputs": [
    {
     "data": {
      "text/html": []
     },
     "metadata": {},
     "output_type": "display_data"
    }
   ],
   "source": [
    "CREATE TABLE AUTOR_LIBRO(\n",
    "  Orden SMALLINT UNSIGNED ,\n",
    "  IdAut MEDIUMINT UNSIGNED NOT NULL,\n",
    "  IdLib MEDIUMINT UNSIGNED NOT NULL,\n",
    "  PRIMARY KEY (IdAut,IdLib ),\n",
    "  CONSTRAINT \n",
    "    fk_AUTOR_LIBRO_AUTOR  FOREIGN KEY (IdAut) REFERENCES AUTOR (IdAut)\n",
    "    ON DELETE CASCADE\n",
    "    ON UPDATE RESTRICT,\n",
    "  CONSTRAINT \n",
    "    fk_AUTOR_LIBRO_LIBRO  FOREIGN KEY (IdLib) REFERENCES LIBRO (IdLib) \n",
    "    ON DELETE CASCADE\n",
    "    ON UPDATE RESTRICT\n",
    ") ENGINE = InnoDB;"
   ]
  },
  {
   "cell_type": "code",
   "execution_count": 22,
   "id": "ready-oxide",
   "metadata": {},
   "outputs": [
    {
     "data": {
      "text/html": [
       "<html><body><table border=\"1\"><tr><th style=\"text-align:left;white-space:pre\">Field</th><th style=\"text-align:left;white-space:pre\">Type</th><th style=\"text-align:left;white-space:pre\">Null</th><th style=\"text-align:left;white-space:pre\">Key</th><th style=\"text-align:left;white-space:pre\">Default</th><th style=\"text-align:left;white-space:pre\">Extra</th></tr><tr><td style=\"text-align:left;white-space:pre\">Orden</td><td style=\"text-align:left;white-space:pre\">smallint(5) unsigned</td><td style=\"text-align:left;white-space:pre\">YES</td><td style=\"text-align:left;white-space:pre\"></td><td style=\"text-align:left;white-space:pre\">NULL</td><td style=\"text-align:left;white-space:pre\"></td></tr><tr><td style=\"text-align:left;white-space:pre\">IdAut</td><td style=\"text-align:left;white-space:pre\">mediumint(8) unsigned</td><td style=\"text-align:left;white-space:pre\">NO</td><td style=\"text-align:left;white-space:pre\">PRI</td><td style=\"text-align:left;white-space:pre\">NULL</td><td style=\"text-align:left;white-space:pre\"></td></tr><tr><td style=\"text-align:left;white-space:pre\">IdLib</td><td style=\"text-align:left;white-space:pre\">mediumint(8) unsigned</td><td style=\"text-align:left;white-space:pre\">NO</td><td style=\"text-align:left;white-space:pre\">PRI</td><td style=\"text-align:left;white-space:pre\">NULL</td><td style=\"text-align:left;white-space:pre\"></td></tr></table></body></html>"
      ]
     },
     "metadata": {},
     "output_type": "display_data"
    }
   ],
   "source": [
    "describe AUTOR_LIBRO;"
   ]
  },
  {
   "cell_type": "markdown",
   "id": "talented-constant",
   "metadata": {},
   "source": [
    "## <span style=\"color:blue\">Subida de datos desde una archivo externo</span>"
   ]
  },
  {
   "cell_type": "markdown",
   "id": "wired-montana",
   "metadata": {},
   "source": [
    "### Creación de una segunda tabla PAIS (PAIS_ONU)"
   ]
  },
  {
   "cell_type": "markdown",
   "id": "developmental-final",
   "metadata": {},
   "source": [
    "Subiremos los datos de países desde un  archivo externo. Los datos tiene un esqumea propio, por lo que los subiremos en una seguna tabla para luego alimentar nuestra tabla PAIS:"
   ]
  },
  {
   "cell_type": "code",
   "execution_count": 19,
   "id": "competent-production",
   "metadata": {},
   "outputs": [
    {
     "data": {
      "text/html": []
     },
     "metadata": {},
     "output_type": "display_data"
    }
   ],
   "source": [
    "CREATE OR REPLACE TABLE PAIS_ONU(\n",
    "NomPai_Esp VARCHAR(255) UNIQUE NOT NULL,\n",
    "NomPai_Ing VARCHAR(255) UNIQUE NOT NULL,\n",
    "NomPai_Fra VARCHAR(255) UNIQUE NOT NULL,\n",
    "iso2 VARCHAR(2) UNIQUE,\n",
    "iso3 VARCHAR(3) UNIQUE,\n",
    "phonecode  VARCHAR(3)   \n",
    ");"
   ]
  },
  {
   "cell_type": "code",
   "execution_count": null,
   "id": "indirect-moral",
   "metadata": {},
   "outputs": [],
   "source": [
    "VIEW WARNINGS;"
   ]
  },
  {
   "cell_type": "markdown",
   "id": "buried-balloon",
   "metadata": {},
   "source": [
    "### Cómo eliminar una tabla: drop table"
   ]
  },
  {
   "cell_type": "code",
   "execution_count": null,
   "id": "caroline-belgium",
   "metadata": {},
   "outputs": [],
   "source": [
    "DROP TABLE PAIS_ONU;"
   ]
  },
  {
   "cell_type": "markdown",
   "id": "common-swaziland",
   "metadata": {},
   "source": [
    "### Cómo cambiar la extructura de una tabla: alter table"
   ]
  },
  {
   "cell_type": "code",
   "execution_count": null,
   "id": "quarterly-walnut",
   "metadata": {},
   "outputs": [],
   "source": [
    "ALTER TABLE PAIS_ONU\n",
    "ALTER COLUMN phonecode set VARCHAR(5);"
   ]
  },
  {
   "cell_type": "code",
   "execution_count": 23,
   "id": "interesting-ballet",
   "metadata": {},
   "outputs": [
    {
     "data": {
      "text/html": [
       "<html><body><table border=\"1\"><tr><th style=\"text-align:left;white-space:pre\">Field</th><th style=\"text-align:left;white-space:pre\">Type</th><th style=\"text-align:left;white-space:pre\">Null</th><th style=\"text-align:left;white-space:pre\">Key</th><th style=\"text-align:left;white-space:pre\">Default</th><th style=\"text-align:left;white-space:pre\">Extra</th></tr><tr><td style=\"text-align:left;white-space:pre\">NomPai_Esp</td><td style=\"text-align:left;white-space:pre\">varchar(255)</td><td style=\"text-align:left;white-space:pre\">NO</td><td style=\"text-align:left;white-space:pre\">PRI</td><td style=\"text-align:left;white-space:pre\">NULL</td><td style=\"text-align:left;white-space:pre\"></td></tr><tr><td style=\"text-align:left;white-space:pre\">NomPai_Ing</td><td style=\"text-align:left;white-space:pre\">varchar(255)</td><td style=\"text-align:left;white-space:pre\">NO</td><td style=\"text-align:left;white-space:pre\">UNI</td><td style=\"text-align:left;white-space:pre\">NULL</td><td style=\"text-align:left;white-space:pre\"></td></tr><tr><td style=\"text-align:left;white-space:pre\">NomPai_Fra</td><td style=\"text-align:left;white-space:pre\">varchar(255)</td><td style=\"text-align:left;white-space:pre\">NO</td><td style=\"text-align:left;white-space:pre\">UNI</td><td style=\"text-align:left;white-space:pre\">NULL</td><td style=\"text-align:left;white-space:pre\"></td></tr><tr><td style=\"text-align:left;white-space:pre\">iso2</td><td style=\"text-align:left;white-space:pre\">varchar(10)</td><td style=\"text-align:left;white-space:pre\">YES</td><td style=\"text-align:left;white-space:pre\">UNI</td><td style=\"text-align:left;white-space:pre\">NULL</td><td style=\"text-align:left;white-space:pre\"></td></tr><tr><td style=\"text-align:left;white-space:pre\">iso3</td><td style=\"text-align:left;white-space:pre\">varchar(10)</td><td style=\"text-align:left;white-space:pre\">YES</td><td style=\"text-align:left;white-space:pre\">UNI</td><td style=\"text-align:left;white-space:pre\">NULL</td><td style=\"text-align:left;white-space:pre\"></td></tr><tr><td style=\"text-align:left;white-space:pre\">phonecode</td><td style=\"text-align:left;white-space:pre\">varchar(10)</td><td style=\"text-align:left;white-space:pre\">YES</td><td style=\"text-align:left;white-space:pre\">UNI</td><td style=\"text-align:left;white-space:pre\">NULL</td><td style=\"text-align:left;white-space:pre\"></td></tr></table></body></html>"
      ]
     },
     "metadata": {},
     "output_type": "display_data"
    }
   ],
   "source": [
    "describe PAIS_ONU;"
   ]
  },
  {
   "cell_type": "markdown",
   "id": "elegant-queensland",
   "metadata": {},
   "source": [
    "### Subir datos a una tabla desde un archivo externo"
   ]
  },
  {
   "cell_type": "markdown",
   "id": "piano-messenger",
   "metadata": {},
   "source": [
    "\n",
    "Subiremos uno datos que tenemos en una carpeta local. En realidad puede hacerse desde cualquier sitio en la Internet. Para detalles y ampliación puede consultar por ejemplo [Introduciendo datos al servidor MySQL desde CSV](https://poesiabinaria.net/2013/02/introduciendo-datos-al-servidor-mysql-desde-csv-con-ejemplos/)"
   ]
  },
  {
   "cell_type": "markdown",
   "id": "native-czech",
   "metadata": {},
   "source": [
    "#### Ejercicio"
   ]
  },
  {
   "cell_type": "markdown",
   "id": "economic-relative",
   "metadata": {},
   "source": [
    "Cree una tabla y carge en ella datos directamente desde un fuente de alguna URL."
   ]
  },
  {
   "cell_type": "code",
   "execution_count": null,
   "id": "prerequisite-maintenance",
   "metadata": {},
   "outputs": [],
   "source": [
    "Vamos con el ejemplo"
   ]
  },
  {
   "cell_type": "code",
   "execution_count": 28,
   "id": "geographic-filename",
   "metadata": {},
   "outputs": [
    {
     "data": {
      "text/html": []
     },
     "metadata": {},
     "output_type": "display_data"
    }
   ],
   "source": [
    "LOAD DATA\n",
    "LOCAL INFILE '/home/alvaro/Documents/Cursos_UN/Cursos_2021_01/Big_Data/Datos/paises.csv'\n",
    "INTO TABLE PAIS_ONU\n",
    "FIELDS TERMINATED BY ','\n",
    "LINES TERMINATED BY '\\n'\n",
    "IGNORE 1 LINES;"
   ]
  },
  {
   "cell_type": "raw",
   "id": "minimal-benchmark",
   "metadata": {},
   "source": [
    "Si nos muestra el siguiente error:\n",
    "ERROR 1148 (42000): The used command is not allowed with this MySQL version\n",
    "Se corrige así: \n",
    "\n",
    "mysql –local-infile=1 -u user -p\n"
   ]
  },
  {
   "cell_type": "code",
   "execution_count": 25,
   "id": "artistic-academy",
   "metadata": {},
   "outputs": [
    {
     "data": {
      "text/html": [
       "<html><body><table border=\"1\"><tr><th style=\"text-align:left;white-space:pre\">NomPai_Esp</th><th style=\"text-align:left;white-space:pre\">NomPai_Ing</th><th style=\"text-align:left;white-space:pre\">NomPai_Fra</th><th style=\"text-align:left;white-space:pre\">iso2</th><th style=\"text-align:left;white-space:pre\">iso3</th><th style=\"text-align:left;white-space:pre\">phonecode</th></tr><tr><td style=\"text-align:left;white-space:pre\">\"Afganistán\"</td><td style=\"text-align:left;white-space:pre\">\"Afghanistan\"</td><td style=\"text-align:left;white-space:pre\">\"Afghanistan\"</td><td style=\"text-align:left;white-space:pre\">\"AF\"</td><td style=\"text-align:left;white-space:pre\">\"AFG\"</td><td style=\"text-align:left;white-space:pre\">\"93\"</td></tr><tr><td style=\"text-align:left;white-space:pre\">\"Albania\"</td><td style=\"text-align:left;white-space:pre\">\"Albania\"</td><td style=\"text-align:left;white-space:pre\">\"Albanie\"</td><td style=\"text-align:left;white-space:pre\">\"AL\"</td><td style=\"text-align:left;white-space:pre\">\"ALB\"</td><td style=\"text-align:left;white-space:pre\">\"355\"</td></tr><tr><td style=\"text-align:left;white-space:pre\">\"Alemania\"</td><td style=\"text-align:left;white-space:pre\">\"Germany\"</td><td style=\"text-align:left;white-space:pre\">\"Allemagne\"</td><td style=\"text-align:left;white-space:pre\">\"DE\"</td><td style=\"text-align:left;white-space:pre\">\"DEU\"</td><td style=\"text-align:left;white-space:pre\">\"49\"</td></tr><tr><td style=\"text-align:left;white-space:pre\">\"Andorra\"</td><td style=\"text-align:left;white-space:pre\">\"Andorra\"</td><td style=\"text-align:left;white-space:pre\">\"Andorra\"</td><td style=\"text-align:left;white-space:pre\">\"AD\"</td><td style=\"text-align:left;white-space:pre\">\"AND\"</td><td style=\"text-align:left;white-space:pre\">\"376\"</td></tr><tr><td style=\"text-align:left;white-space:pre\">\"Angola\"</td><td style=\"text-align:left;white-space:pre\">\"Angola\"</td><td style=\"text-align:left;white-space:pre\">\"Angola\"</td><td style=\"text-align:left;white-space:pre\">\"AO\"</td><td style=\"text-align:left;white-space:pre\">\"AGO\"</td><td style=\"text-align:left;white-space:pre\">\"244\"</td></tr><tr><td style=\"text-align:left;white-space:pre\">\"Anguila\"</td><td style=\"text-align:left;white-space:pre\">\"Anguilla\"</td><td style=\"text-align:left;white-space:pre\">\"Anguilla\"</td><td style=\"text-align:left;white-space:pre\">\"AI\"</td><td style=\"text-align:left;white-space:pre\">\"AIA\"</td><td style=\"text-align:left;white-space:pre\">\"1 264\"</td></tr><tr><td style=\"text-align:left;white-space:pre\">\"Antártida\"</td><td style=\"text-align:left;white-space:pre\">\"Antarctica\"</td><td style=\"text-align:left;white-space:pre\">\"L'Antarctique\"</td><td style=\"text-align:left;white-space:pre\">\"AQ\"</td><td style=\"text-align:left;white-space:pre\">\"ATA\"</td><td style=\"text-align:left;white-space:pre\">\"672\"</td></tr><tr><td style=\"text-align:left;white-space:pre\">\"Antigua y Barbuda\"</td><td style=\"text-align:left;white-space:pre\">\"Antigua and Barbuda\"</td><td style=\"text-align:left;white-space:pre\">\"Antigua et Barbuda\"</td><td style=\"text-align:left;white-space:pre\">\"AG\"</td><td style=\"text-align:left;white-space:pre\">\"ATG\"</td><td style=\"text-align:left;white-space:pre\">\"1 268\"</td></tr><tr><td style=\"text-align:left;white-space:pre\">\"Arabia Saudita\"</td><td style=\"text-align:left;white-space:pre\">\"Saudi Arabia\"</td><td style=\"text-align:left;white-space:pre\">\"Arabie Saoudite\"</td><td style=\"text-align:left;white-space:pre\">\"SA\"</td><td style=\"text-align:left;white-space:pre\">\"SAU\"</td><td style=\"text-align:left;white-space:pre\">\"966\"</td></tr><tr><td style=\"text-align:left;white-space:pre\">\"Argelia\"</td><td style=\"text-align:left;white-space:pre\">\"Algeria\"</td><td style=\"text-align:left;white-space:pre\">\"Algérie\"</td><td style=\"text-align:left;white-space:pre\">\"DZ\"</td><td style=\"text-align:left;white-space:pre\">\"DZA\"</td><td style=\"text-align:left;white-space:pre\">\"213\"</td></tr></table></body></html>"
      ]
     },
     "metadata": {},
     "output_type": "display_data"
    }
   ],
   "source": [
    "SELECT  * FROM PAIS_ONU\n",
    "LIMIT 10;"
   ]
  },
  {
   "cell_type": "markdown",
   "id": "ecological-production",
   "metadata": {},
   "source": [
    "Hay problemas con algunos caracteres. Cúal es el problema y cómo resolverlo?\n",
    "\n",
    "Ayuda [Setting Character Sets and Collations em MariaDB](https://mariadb.com/kb/en/setting-character-sets-and-collations/)"
   ]
  },
  {
   "cell_type": "markdown",
   "id": "coordinated-adolescent",
   "metadata": {},
   "source": [
    "Vamo a consultar los juegos de caracters de nuestras bases de datos"
   ]
  },
  {
   "cell_type": "code",
   "execution_count": 2,
   "id": "ecological-projector",
   "metadata": {},
   "outputs": [
    {
     "data": {
      "text/html": [
       "<TABLE BORDER=1><TR><TH>CATALOG_NAME</TH><TH>SCHEMA_NAME</TH><TH>DEFAULT_CHARACTER_SET_NAME</TH><TH>DEFAULT_COLLATION_NAME</TH><TH>SQL_PATH</TH><TH>SCHEMA_COMMENT</TH></TR><TR><TD>def</TD><TD>information_schema</TD><TD>utf8</TD><TD>utf8_general_ci</TD><TD>NULL</TD><TD></TD></TR><TR><TD>def</TD><TD>performance_schema</TD><TD>utf8</TD><TD>utf8_general_ci</TD><TD>NULL</TD><TD></TD></TR><TR><TD>def</TD><TD>rookery</TD><TD>latin1</TD><TD>latin1_bin</TD><TD>NULL</TD><TD></TD></TR><TR><TD>def</TD><TD>birdwatchers</TD><TD>utf8mb4</TD><TD>utf8mb4_general_ci</TD><TD>NULL</TD><TD></TD></TR><TR><TD>def</TD><TD>test</TD><TD>utf8mb4</TD><TD>utf8mb4_general_ci</TD><TD>NULL</TD><TD></TD></TR><TR><TD>def</TD><TD>mysql</TD><TD>utf8mb4</TD><TD>utf8mb4_general_ci</TD><TD>NULL</TD><TD></TD></TR><TR><TD>def</TD><TD>GRUPOS</TD><TD>latin1</TD><TD>latin1_bin</TD><TD>NULL</TD><TD></TD></TR></TABLE>"
      ]
     },
     "metadata": {},
     "output_type": "display_data"
    }
   ],
   "source": [
    "SELECT * FROM INFORMATION_SCHEMA.SCHEMATA;"
   ]
  },
  {
   "cell_type": "markdown",
   "id": "foreign-practitioner",
   "metadata": {},
   "source": [
    "Fíjese que creamos intencionalmente la tabla GRUPOS con el juego latin1, que es el default de MariaDB. Vamos a cambiar esta característica de la base de datos. Colocaremos utf8."
   ]
  },
  {
   "cell_type": "code",
   "execution_count": 6,
   "id": "distant-cleanup",
   "metadata": {},
   "outputs": [
    {
     "data": {
      "text/html": []
     },
     "metadata": {},
     "output_type": "display_data"
    }
   ],
   "source": [
    "USE GRUPOS;"
   ]
  },
  {
   "cell_type": "code",
   "execution_count": 7,
   "id": "based-trainer",
   "metadata": {},
   "outputs": [
    {
     "data": {
      "text/html": [
       "Stage: 2 of 2 'Enabling keys'      0% of stage done\r",
       "                                                   \r"
      ]
     },
     "metadata": {},
     "output_type": "display_data"
    }
   ],
   "source": [
    "ALTER TABLE PAIS_ONU  \n",
    "CONVERT TO CHARACTER SET 'utf8'\n",
    "COLLATE  'utf8_general_ci';"
   ]
  },
  {
   "cell_type": "markdown",
   "id": "weird-carroll",
   "metadata": {},
   "source": [
    "### Juegos de caracteres dsiponibles"
   ]
  },
  {
   "cell_type": "code",
   "execution_count": null,
   "id": "environmental-software",
   "metadata": {},
   "outputs": [],
   "source": [
    "Esots son los juegos de caracters disponibles"
   ]
  },
  {
   "cell_type": "code",
   "execution_count": 8,
   "id": "partial-nursery",
   "metadata": {},
   "outputs": [
    {
     "data": {
      "text/html": [
       "<TABLE BORDER=1><TR><TH>Charset</TH><TH>Description</TH><TH>Default collation</TH><TH>Maxlen</TH></TR><TR><TD>big5</TD><TD>Big5 Traditional Chinese</TD><TD>big5_chinese_ci</TD><TD>2</TD></TR><TR><TD>dec8</TD><TD>DEC West European</TD><TD>dec8_swedish_ci</TD><TD>1</TD></TR><TR><TD>cp850</TD><TD>DOS West European</TD><TD>cp850_general_ci</TD><TD>1</TD></TR><TR><TD>hp8</TD><TD>HP West European</TD><TD>hp8_english_ci</TD><TD>1</TD></TR><TR><TD>koi8r</TD><TD>KOI8-R Relcom Russian</TD><TD>koi8r_general_ci</TD><TD>1</TD></TR><TR><TD>latin1</TD><TD>cp1252 West European</TD><TD>latin1_swedish_ci</TD><TD>1</TD></TR><TR><TD>latin2</TD><TD>ISO 8859-2 Central European</TD><TD>latin2_general_ci</TD><TD>1</TD></TR><TR><TD>swe7</TD><TD>7bit Swedish</TD><TD>swe7_swedish_ci</TD><TD>1</TD></TR><TR><TD>ascii</TD><TD>US ASCII</TD><TD>ascii_general_ci</TD><TD>1</TD></TR><TR><TD>ujis</TD><TD>EUC-JP Japanese</TD><TD>ujis_japanese_ci</TD><TD>3</TD></TR><TR><TD>sjis</TD><TD>Shift-JIS Japanese</TD><TD>sjis_japanese_ci</TD><TD>2</TD></TR><TR><TD>hebrew</TD><TD>ISO 8859-8 Hebrew</TD><TD>hebrew_general_ci</TD><TD>1</TD></TR><TR><TD>tis620</TD><TD>TIS620 Thai</TD><TD>tis620_thai_ci</TD><TD>1</TD></TR><TR><TD>euckr</TD><TD>EUC-KR Korean</TD><TD>euckr_korean_ci</TD><TD>2</TD></TR><TR><TD>koi8u</TD><TD>KOI8-U Ukrainian</TD><TD>koi8u_general_ci</TD><TD>1</TD></TR><TR><TD>gb2312</TD><TD>GB2312 Simplified Chinese</TD><TD>gb2312_chinese_ci</TD><TD>2</TD></TR><TR><TD>greek</TD><TD>ISO 8859-7 Greek</TD><TD>greek_general_ci</TD><TD>1</TD></TR><TR><TD>cp1250</TD><TD>Windows Central European</TD><TD>cp1250_general_ci</TD><TD>1</TD></TR><TR><TD>gbk</TD><TD>GBK Simplified Chinese</TD><TD>gbk_chinese_ci</TD><TD>2</TD></TR><TR><TD>latin5</TD><TD>ISO 8859-9 Turkish</TD><TD>latin5_turkish_ci</TD><TD>1</TD></TR><TR><TD>armscii8</TD><TD>ARMSCII-8 Armenian</TD><TD>armscii8_general_ci</TD><TD>1</TD></TR><TR><TD>utf8</TD><TD>UTF-8 Unicode</TD><TD>utf8_general_ci</TD><TD>3</TD></TR><TR><TD>ucs2</TD><TD>UCS-2 Unicode</TD><TD>ucs2_general_ci</TD><TD>2</TD></TR><TR><TD>cp866</TD><TD>DOS Russian</TD><TD>cp866_general_ci</TD><TD>1</TD></TR><TR><TD>keybcs2</TD><TD>DOS Kamenicky Czech-Slovak</TD><TD>keybcs2_general_ci</TD><TD>1</TD></TR><TR><TD>macce</TD><TD>Mac Central European</TD><TD>macce_general_ci</TD><TD>1</TD></TR><TR><TD>macroman</TD><TD>Mac West European</TD><TD>macroman_general_ci</TD><TD>1</TD></TR><TR><TD>cp852</TD><TD>DOS Central European</TD><TD>cp852_general_ci</TD><TD>1</TD></TR><TR><TD>latin7</TD><TD>ISO 8859-13 Baltic</TD><TD>latin7_general_ci</TD><TD>1</TD></TR><TR><TD>utf8mb4</TD><TD>UTF-8 Unicode</TD><TD>utf8mb4_general_ci</TD><TD>4</TD></TR><TR><TD>cp1251</TD><TD>Windows Cyrillic</TD><TD>cp1251_general_ci</TD><TD>1</TD></TR><TR><TD>utf16</TD><TD>UTF-16 Unicode</TD><TD>utf16_general_ci</TD><TD>4</TD></TR><TR><TD>utf16le</TD><TD>UTF-16LE Unicode</TD><TD>utf16le_general_ci</TD><TD>4</TD></TR><TR><TD>cp1256</TD><TD>Windows Arabic</TD><TD>cp1256_general_ci</TD><TD>1</TD></TR><TR><TD>cp1257</TD><TD>Windows Baltic</TD><TD>cp1257_general_ci</TD><TD>1</TD></TR><TR><TD>utf32</TD><TD>UTF-32 Unicode</TD><TD>utf32_general_ci</TD><TD>4</TD></TR><TR><TD>binary</TD><TD>Binary pseudo charset</TD><TD>binary</TD><TD>1</TD></TR><TR><TD>geostd8</TD><TD>GEOSTD8 Georgian</TD><TD>geostd8_general_ci</TD><TD>1</TD></TR><TR><TD>cp932</TD><TD>SJIS for Windows Japanese</TD><TD>cp932_japanese_ci</TD><TD>2</TD></TR><TR><TD>eucjpms</TD><TD>UJIS for Windows Japanese</TD><TD>eucjpms_japanese_ci</TD><TD>3</TD></TR></TABLE>"
      ]
     },
     "metadata": {},
     "output_type": "display_data"
    }
   ],
   "source": [
    "SHOW CHARACTER SET;"
   ]
  },
  {
   "cell_type": "markdown",
   "id": "descending-australian",
   "metadata": {},
   "source": [
    "Cambiamos el character set de la base de datos  [ALTER DATABASE](https://www.mariadbtutorial.com/mariadb-basics/mariadb-alter-database/)"
   ]
  },
  {
   "cell_type": "code",
   "execution_count": 11,
   "id": "overall-toronto",
   "metadata": {},
   "outputs": [
    {
     "data": {
      "text/html": []
     },
     "metadata": {},
     "output_type": "display_data"
    }
   ],
   "source": [
    "ALTER DATABASE GRUPOS\n",
    "character set = 'utf8mb4'\n",
    "collate = 'utf8mb4_general_ci';"
   ]
  },
  {
   "cell_type": "code",
   "execution_count": null,
   "id": "sufficient-hearts",
   "metadata": {},
   "outputs": [],
   "source": [
    "Verificamos"
   ]
  },
  {
   "cell_type": "code",
   "execution_count": 12,
   "id": "satisfied-class",
   "metadata": {},
   "outputs": [
    {
     "data": {
      "text/html": [
       "<TABLE BORDER=1><TR><TH>CATALOG_NAME</TH><TH>SCHEMA_NAME</TH><TH>DEFAULT_CHARACTER_SET_NAME</TH><TH>DEFAULT_COLLATION_NAME</TH><TH>SQL_PATH</TH><TH>SCHEMA_COMMENT</TH></TR><TR><TD>def</TD><TD>information_schema</TD><TD>utf8</TD><TD>utf8_general_ci</TD><TD>NULL</TD><TD></TD></TR><TR><TD>def</TD><TD>performance_schema</TD><TD>utf8</TD><TD>utf8_general_ci</TD><TD>NULL</TD><TD></TD></TR><TR><TD>def</TD><TD>rookery</TD><TD>latin1</TD><TD>latin1_bin</TD><TD>NULL</TD><TD></TD></TR><TR><TD>def</TD><TD>birdwatchers</TD><TD>utf8mb4</TD><TD>utf8mb4_general_ci</TD><TD>NULL</TD><TD></TD></TR><TR><TD>def</TD><TD>test</TD><TD>utf8mb4</TD><TD>utf8mb4_general_ci</TD><TD>NULL</TD><TD></TD></TR><TR><TD>def</TD><TD>mysql</TD><TD>utf8mb4</TD><TD>utf8mb4_general_ci</TD><TD>NULL</TD><TD></TD></TR><TR><TD>def</TD><TD>GRUPOS</TD><TD>utf8mb4</TD><TD>utf8mb4_general_ci</TD><TD>NULL</TD><TD></TD></TR></TABLE>"
      ]
     },
     "metadata": {},
     "output_type": "display_data"
    }
   ],
   "source": [
    "SELECT * FROM INFORMATION_SCHEMA.SCHEMATA;"
   ]
  },
  {
   "cell_type": "markdown",
   "id": "cellular-enzyme",
   "metadata": {},
   "source": [
    "### Eliminación de registros: delete"
   ]
  },
  {
   "cell_type": "markdown",
   "id": "descending-rapid",
   "metadata": {},
   "source": [
    "Vamos a eliminar todos los registros y los volvermos a leer. Esta sentencia es muy peligrosa en general.\n",
    "\n",
    "Luego vemos como eliminar más cuidadosamente"
   ]
  },
  {
   "cell_type": "code",
   "execution_count": 29,
   "id": "south-process",
   "metadata": {},
   "outputs": [
    {
     "data": {
      "text/html": [
       "Query OK"
      ]
     },
     "metadata": {},
     "output_type": "display_data"
    }
   ],
   "source": [
    "DELETE FROM PAIS_ONU\n",
    "WHERE NomPai_Esp=\"Venezuela\" \n",
    ";"
   ]
  },
  {
   "cell_type": "code",
   "execution_count": null,
   "id": "wooden-mortality",
   "metadata": {},
   "outputs": [],
   "source": [
    "SELECT * FROM PAIS_ONU;"
   ]
  },
  {
   "cell_type": "code",
   "execution_count": null,
   "id": "knowing-enzyme",
   "metadata": {},
   "outputs": [],
   "source": [
    "LOAD DATA\n",
    "LOCAL INFILE '/home/alvaro/Documents/Cursos_2021_01/Big_Data/Datos/paises.csv'\n",
    "INTO TABLE PAIS_ONU\n",
    "FIELDS TERMINATED BY ','\n",
    "LINES TERMINATED BY '\\n'\n",
    "IGNORE 1 LINES;"
   ]
  },
  {
   "cell_type": "code",
   "execution_count": null,
   "id": "executed-living",
   "metadata": {},
   "outputs": [],
   "source": [
    "SHOW WARNINGS;"
   ]
  },
  {
   "cell_type": "code",
   "execution_count": 16,
   "id": "clinical-candidate",
   "metadata": {},
   "outputs": [
    {
     "data": {
      "text/html": [
       "<TABLE BORDER=1><TR><TH>Field</TH><TH>Type</TH><TH>Null</TH><TH>Key</TH><TH>Default</TH><TH>Extra</TH></TR><TR><TD>NomPai_Esp</TD><TD>varchar(255)</TD><TD>NO</TD><TD>PRI</TD><TD>NULL</TD><TD></TD></TR><TR><TD>NomPai_Ing</TD><TD>varchar(255)</TD><TD>NO</TD><TD>UNI</TD><TD>NULL</TD><TD></TD></TR><TR><TD>NomPai_Fra</TD><TD>varchar(255)</TD><TD>NO</TD><TD>UNI</TD><TD>NULL</TD><TD></TD></TR><TR><TD>iso2</TD><TD>varchar(2)</TD><TD>YES</TD><TD>UNI</TD><TD>NULL</TD><TD></TD></TR><TR><TD>iso3</TD><TD>varchar(2)</TD><TD>YES</TD><TD>UNI</TD><TD>NULL</TD><TD></TD></TR><TR><TD>phonecode</TD><TD>varchar(3)</TD><TD>YES</TD><TD>UNI</TD><TD>NULL</TD><TD></TD></TR></TABLE>"
      ]
     },
     "metadata": {},
     "output_type": "display_data"
    }
   ],
   "source": [
    "DESCRIBE PAIS_ONU;\n"
   ]
  },
  {
   "cell_type": "markdown",
   "id": "hearing-theater",
   "metadata": {},
   "source": [
    "ALTER TABLE "
   ]
  },
  {
   "cell_type": "code",
   "execution_count": 30,
   "id": "wireless-photographer",
   "metadata": {},
   "outputs": [
    {
     "data": {
      "text/html": [
       "Query OK"
      ]
     },
     "metadata": {},
     "output_type": "display_data"
    }
   ],
   "source": [
    "ALTER TABLE PAIS_ONU\n",
    "CHANGE iso2 iso2 varchar(10),\n",
    "CHANGE iso3 iso3 varchar(10),\n",
    "CHANGE phonecode phonecode varchar(10);"
   ]
  },
  {
   "cell_type": "code",
   "execution_count": 21,
   "id": "separated-probe",
   "metadata": {},
   "outputs": [
    {
     "data": {
      "text/html": [
       "<TABLE BORDER=1><TR><TH>Field</TH><TH>Type</TH><TH>Null</TH><TH>Key</TH><TH>Default</TH><TH>Extra</TH></TR><TR><TD>NomPai_Esp</TD><TD>varchar(255)</TD><TD>NO</TD><TD>PRI</TD><TD>NULL</TD><TD></TD></TR><TR><TD>NomPai_Ing</TD><TD>varchar(255)</TD><TD>NO</TD><TD>UNI</TD><TD>NULL</TD><TD></TD></TR><TR><TD>NomPai_Fra</TD><TD>varchar(255)</TD><TD>NO</TD><TD>UNI</TD><TD>NULL</TD><TD></TD></TR><TR><TD>iso2</TD><TD>varchar(10)</TD><TD>YES</TD><TD>UNI</TD><TD>NULL</TD><TD></TD></TR><TR><TD>iso3</TD><TD>varchar(10)</TD><TD>YES</TD><TD>UNI</TD><TD>NULL</TD><TD></TD></TR><TR><TD>phonecode</TD><TD>varchar(10)</TD><TD>YES</TD><TD>UNI</TD><TD>NULL</TD><TD></TD></TR></TABLE>"
      ]
     },
     "metadata": {},
     "output_type": "display_data"
    }
   ],
   "source": [
    "DESCRIBE PAIS_ONU;"
   ]
  },
  {
   "cell_type": "code",
   "execution_count": null,
   "id": "removed-participation",
   "metadata": {},
   "outputs": [],
   "source": [
    "LOAD DATA\n",
    "LOCAL INFILE '/home/alvaro/Documents/Cursos/Big_Data/Datos/paises.csv'\n",
    "INTO TABLE PAIS_ONU\n",
    "FIELDS TERMINATED BY ','\n",
    "LINES TERMINATED BY '\\n'\n",
    "IGNORE 1 LINES;"
   ]
  },
  {
   "cell_type": "markdown",
   "id": "signed-geneva",
   "metadata": {},
   "source": [
    "¿Cómo va nuestra solución?\n",
    "\n",
    "Insista hasta que pueda subir toda la tabla sin errores ni warning"
   ]
  }
 ],
 "metadata": {
  "kernelspec": {
   "display_name": "MariaDB",
   "language": "SQL",
   "name": "mariadb_kernel"
  },
  "language_info": {
   "file_extension": ".sql",
   "mimetype": "text/plain",
   "name": "SQL"
  }
 },
 "nbformat": 4,
 "nbformat_minor": 5
}
