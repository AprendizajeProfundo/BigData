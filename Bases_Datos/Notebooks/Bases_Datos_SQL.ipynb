{
 "cells": [
  {
   "cell_type": "markdown",
   "id": "logical-nursery",
   "metadata": {
    "tags": []
   },
   "source": [
    "# <span style=\"color:green\"><center>Diplomado en Big Data</center></span>"
   ]
  },
  {
   "cell_type": "markdown",
   "id": "altered-operator",
   "metadata": {},
   "source": [
    "# <span style=\"color:red\"><center>SQL<center></span>"
   ]
  },
  {
   "cell_type": "markdown",
   "id": "indonesian-beverage",
   "metadata": {},
   "source": [
    "##   <span style=\"color:blue\">Profesores</span>"
   ]
  },
  {
   "cell_type": "markdown",
   "id": "boring-presentation",
   "metadata": {},
   "source": [
    "1. Alvaro Mauricio Montenegro Díaz, ammontenegrod@unal.edu.co\n",
    "2. Daniel Mauricio Montenegro Reyes, dextronomo@gmail.com "
   ]
  },
  {
   "cell_type": "markdown",
   "id": "improving-adams",
   "metadata": {},
   "source": [
    "##   <span style=\"color:blue\">Asesora Medios y Marketing digital</span>\n",
    " "
   ]
  },
  {
   "cell_type": "markdown",
   "id": "apparent-manor",
   "metadata": {},
   "source": [
    "4. Maria del Pilar Montenegro, pmontenegro88@gmail.com "
   ]
  },
  {
   "cell_type": "markdown",
   "id": "remarkable-student",
   "metadata": {},
   "source": [
    "## <span style=\"color:blue\">Asistentes</span>"
   ]
  },
  {
   "cell_type": "markdown",
   "id": "defensive-sheet",
   "metadata": {},
   "source": []
  },
  {
   "cell_type": "markdown",
   "id": "adjustable-requirement",
   "metadata": {},
   "source": [
    "## <span style=\"color:blue\">Contenido</span>"
   ]
  },
  {
   "cell_type": "markdown",
   "id": "minus-ranch",
   "metadata": {},
   "source": []
  },
  {
   "cell_type": "markdown",
   "id": "civic-replication",
   "metadata": {},
   "source": [
    "## <span style=\"color:blue\">Introducción</span>"
   ]
  },
  {
   "cell_type": "markdown",
   "id": "residential-duplicate",
   "metadata": {},
   "source": [
    "Para este cuaderno, se sugiere instalar el kernel de MariaDB como se explica a continuación y simultáneamente tener abierta una terminal para conectar la base directamente, dado que las consultas de datos pueden ser un poco demoradas en Jupyter Lab.\n",
    "\n",
    "Puede seguir todo el cuaderno directamente en la terminal. "
   ]
  },
  {
   "cell_type": "markdown",
   "id": "binary-breast",
   "metadata": {},
   "source": [
    "## <span style=\"color:blue\">Instalar Kernel MariaDB en Jupiter Lab</span>"
   ]
  },
  {
   "cell_type": "markdown",
   "id": "imperial-anthony",
   "metadata": {},
   "source": [
    "Siga las siguientes instrucciones que encuentra en [MariaDB Jupyter Kernel Installation](https://mariadb.com/kb/en/mariadb-jupyter-kernel-installation/)"
   ]
  },
  {
   "cell_type": "markdown",
   "id": "wired-priest",
   "metadata": {},
   "source": [
    "En la terminal:\n",
    "\n",
    "python3 -m pip install mariadb_kernel\n",
    "\n",
    "python3 -m mariadb_kernel.install\n",
    "\n",
    "Por ejemplo en mi laptop lo hice de la siguiente manera."
   ]
  },
  {
   "cell_type": "raw",
   "id": "stock-hebrew",
   "metadata": {},
   "source": [
    "(bigdata_c) alvaro@Lenovo:~$ python3 -m pip install mariadb_kernel\n",
    "(bigdata_c) alvaro@Lenovo:~$ python3 -m mariadb_kernel.install"
   ]
  },
  {
   "cell_type": "markdown",
   "id": "quantitative-delhi",
   "metadata": {},
   "source": [
    "#### Configuración de MariaDB para el IKernel de MariaDB"
   ]
  },
  {
   "cell_type": "raw",
   "id": "great-apparel",
   "metadata": {},
   "source": [
    "Ahora vaya a la carpeta \n",
    "\n",
    "~/.jupyter \n",
    "\n",
    "y cree el archivo mariadb_config.json. por ejemplo, si tiene instalado el editor gedit escriba\n",
    "\n",
    "gedit mariadb_config.json\n",
    "\n",
    "Copie el siguiente código que define un string de conección que usara Jupyter Lab para conectarse con MariaDB. Coloque su password(en el lugar de \"securepassword\" de root, si va a comunicarse con este usuario"
   ]
  },
  {
   "cell_type": "raw",
   "id": "mobile-merit",
   "metadata": {},
   "source": [
    "{\n",
    "    \"user\": \"root\",\n",
    "    \"host\": \"localhost\",\n",
    "    \"port\": \"3306\",\n",
    "    \"password\": \"securepassword\",\n",
    "    \"start_server\": \"True\",\n",
    "    \"client_bin\": \"/usr/bin/mariadb\",\n",
    "    \"server_bin\": \"/usr/bin/mariadbd\"\n",
    "}\n"
   ]
  },
  {
   "cell_type": "markdown",
   "id": "provincial-management",
   "metadata": {},
   "source": [
    "Si necesita cambiar el password de root siga las siguientes instrucciones [Cambiar password en mariadb](https://blog.carreralinux.com.ar/2017/03/cambiar-la-clave-de-root-mysql-mariadb/)\n",
    "\n",
    "Si perdió el password de root entre como super usuario de Linux asi y siga las instrucciones del enlace."
   ]
  },
  {
   "cell_type": "raw",
   "id": "alternate-juvenile",
   "metadata": {},
   "source": [
    "(bigdata_c) alvaro@Lenovo:~$ sudo mariadb"
   ]
  },
  {
   "cell_type": "code",
   "execution_count": null,
   "id": "noted-angle",
   "metadata": {},
   "outputs": [],
   "source": [
    "# Prueba"
   ]
  },
  {
   "cell_type": "code",
   "execution_count": 56,
   "id": "concrete-hungary",
   "metadata": {},
   "outputs": [
    {
     "data": {
      "text/html": [
       "<TABLE BORDER=1><TR><TH>Database</TH></TR><TR><TD>GRUPOS</TD></TR><TR><TD>birdwatchers</TD></TR><TR><TD>information_schema</TD></TR><TR><TD>mysql</TD></TR><TR><TD>performance_schema</TD></TR><TR><TD>rookery</TD></TR><TR><TD>test</TD></TR></TABLE>"
      ]
     },
     "metadata": {},
     "output_type": "display_data"
    }
   ],
   "source": [
    "SHOW DATABASES;"
   ]
  },
  {
   "cell_type": "markdown",
   "id": "durable-legend",
   "metadata": {},
   "source": [
    "## <span style=\"color:blue\">Primera base de datos</span>"
   ]
  },
  {
   "cell_type": "code",
   "execution_count": 57,
   "id": "mexican-booking",
   "metadata": {},
   "outputs": [
    {
     "data": {
      "text/html": []
     },
     "metadata": {},
     "output_type": "display_data"
    }
   ],
   "source": [
    "CREATE DATABASE GRUṔOS;"
   ]
  },
  {
   "cell_type": "code",
   "execution_count": 5,
   "id": "expressed-cross",
   "metadata": {},
   "outputs": [
    {
     "data": {
      "text/html": []
     },
     "metadata": {},
     "output_type": "display_data"
    }
   ],
   "source": [
    "DROP DATABASE GRUṔOS;"
   ]
  },
  {
   "cell_type": "code",
   "execution_count": 9,
   "id": "improved-visiting",
   "metadata": {},
   "outputs": [
    {
     "data": {
      "text/html": []
     },
     "metadata": {},
     "output_type": "display_data"
    }
   ],
   "source": [
    "CREATE DATABASE GRUPOS \n",
    "CHARACTER SET latin1 \n",
    "COLLATE latin1_bin;"
   ]
  },
  {
   "cell_type": "code",
   "execution_count": 10,
   "id": "framed-broad",
   "metadata": {},
   "outputs": [
    {
     "data": {
      "text/html": [
       "<TABLE BORDER=1><TR><TH>Database</TH></TR><TR><TD>GRUPOS</TD></TR><TR><TD>birdwatchers</TD></TR><TR><TD>information_schema</TD></TR><TR><TD>mysql</TD></TR><TR><TD>performance_schema</TD></TR><TR><TD>rookery</TD></TR><TR><TD>test</TD></TR></TABLE>"
      ]
     },
     "metadata": {},
     "output_type": "display_data"
    }
   ],
   "source": [
    "SHOW DATABASES;"
   ]
  },
  {
   "cell_type": "code",
   "execution_count": 58,
   "id": "joint-subscriber",
   "metadata": {},
   "outputs": [
    {
     "data": {
      "text/html": []
     },
     "metadata": {},
     "output_type": "display_data"
    }
   ],
   "source": [
    "USE GRUPOS;"
   ]
  },
  {
   "cell_type": "markdown",
   "id": "contrary-fighter",
   "metadata": {},
   "source": [
    "## Creación de tablas"
   ]
  },
  {
   "cell_type": "code",
   "execution_count": 12,
   "id": "clear-experiment",
   "metadata": {},
   "outputs": [
    {
     "data": {
      "text/html": []
     },
     "metadata": {},
     "output_type": "display_data"
    }
   ],
   "source": [
    "CREATE TABLE PAIS(\n",
    "IdPai INT AUTO_INCREMENT PRIMARY KEY,\n",
    "NomPai VARCHAR(255) UNIQUE NOT NULL,\n",
    "AbrevPai VARCHAR(3) UNIQUE;\n",
    ");"
   ]
  },
  {
   "cell_type": "code",
   "execution_count": 59,
   "id": "sacred-cathedral",
   "metadata": {},
   "outputs": [
    {
     "data": {
      "text/html": [
       "<TABLE BORDER=1><TR><TH>Field</TH><TH>Type</TH><TH>Null</TH><TH>Key</TH><TH>Default</TH><TH>Extra</TH></TR><TR><TD>IdPai</TD><TD>int(11)</TD><TD>NO</TD><TD>PRI</TD><TD>NULL</TD><TD>auto_increment</TD></TR><TR><TD>NomPai</TD><TD>varchar(255)</TD><TD>NO</TD><TD>UNI</TD><TD>NULL</TD><TD></TD></TR><TR><TD>AbrevPai</TD><TD>varchar(3)</TD><TD>YES</TD><TD>UNI</TD><TD>NULL</TD><TD></TD></TR></TABLE>"
      ]
     },
     "metadata": {},
     "output_type": "display_data"
    }
   ],
   "source": [
    "DESCRIBE PAIS;"
   ]
  },
  {
   "cell_type": "markdown",
   "id": "arbitrary-ethiopia",
   "metadata": {},
   "source": [
    "## Inserta datos"
   ]
  },
  {
   "cell_type": "code",
   "execution_count": 15,
   "id": "distant-swiss",
   "metadata": {},
   "outputs": [
    {
     "data": {
      "text/html": []
     },
     "metadata": {},
     "output_type": "display_data"
    }
   ],
   "source": [
    "INSERT INTO PAIS(NomPai, AbrevPai)\n",
    "VALUES ('Colombia', 'col'),\n",
    "('Estados Unidos','usa'),\n",
    "('España', 'esp');"
   ]
  },
  {
   "cell_type": "markdown",
   "id": "social-giant",
   "metadata": {},
   "source": [
    "## Consulta Valores en la tabla"
   ]
  },
  {
   "cell_type": "code",
   "execution_count": 60,
   "id": "closing-empire",
   "metadata": {},
   "outputs": [
    {
     "data": {
      "text/html": [
       "<TABLE BORDER=1><TR><TH>IdPai</TH><TH>NomPai</TH><TH>AbrevPai</TH></TR><TR><TD>1</TD><TD>Colombia</TD><TD>col</TD></TR><TR><TD>2</TD><TD>Estados Unidos</TD><TD>usa</TD></TR><TR><TD>3</TD><TD>España</TD><TD>esp</TD></TR><TR><TD>4</TD><TD>Francia</TD><TD>NULL</TD></TR></TABLE>"
      ]
     },
     "metadata": {},
     "output_type": "display_data"
    }
   ],
   "source": [
    "SELECT * FROM PAIS;"
   ]
  },
  {
   "cell_type": "markdown",
   "id": "wicked-christopher",
   "metadata": {},
   "source": [
    "### Creación de una segunda tabla PAIS (PAIS_ONU)"
   ]
  },
  {
   "cell_type": "markdown",
   "id": "tested-moment",
   "metadata": {},
   "source": [
    "Subiremos los datos de países desde una tabla. Como tiene un esqumea propia, la subimos en una seguna tabla para luego alimentar nuestra tabla PAIS:"
   ]
  },
  {
   "cell_type": "code",
   "execution_count": 19,
   "id": "seasonal-commercial",
   "metadata": {},
   "outputs": [
    {
     "data": {
      "text/html": []
     },
     "metadata": {},
     "output_type": "display_data"
    }
   ],
   "source": [
    "CREATE TABLE PAIS_ONU(\n",
    "NomPai_Esp VARCHAR(255) UNIQUE NOT NULL,\n",
    "NomPai_Ing VARCHAR(255) UNIQUE NOT NULL,\n",
    "NomPai_Fra VARCHAR(255) UNIQUE NOT NULL,\n",
    "iso2 VARCHAR(2) UNIQUE,\n",
    "iso3 VARCHAR(2) UNIQUE,\n",
    "phonecode  VARCHAR(3) UNIQUE   \n",
    ");"
   ]
  },
  {
   "cell_type": "code",
   "execution_count": 61,
   "id": "moderate-procedure",
   "metadata": {},
   "outputs": [
    {
     "data": {
      "text/html": [
       "<TABLE BORDER=1><TR><TH>Field</TH><TH>Type</TH><TH>Null</TH><TH>Key</TH><TH>Default</TH><TH>Extra</TH></TR><TR><TD>NomPai_Esp</TD><TD>varchar(255)</TD><TD>NO</TD><TD>PRI</TD><TD>NULL</TD><TD></TD></TR><TR><TD>NomPai_Ing</TD><TD>varchar(255)</TD><TD>NO</TD><TD>UNI</TD><TD>NULL</TD><TD></TD></TR><TR><TD>NomPai_Fra</TD><TD>varchar(255)</TD><TD>NO</TD><TD>UNI</TD><TD>NULL</TD><TD></TD></TR><TR><TD>iso2</TD><TD>varchar(10)</TD><TD>YES</TD><TD>UNI</TD><TD>NULL</TD><TD></TD></TR><TR><TD>iso3</TD><TD>varchar(10)</TD><TD>YES</TD><TD>UNI</TD><TD>NULL</TD><TD></TD></TR><TR><TD>phonecode</TD><TD>varchar(10)</TD><TD>YES</TD><TD>UNI</TD><TD>NULL</TD><TD></TD></TR></TABLE>"
      ]
     },
     "metadata": {},
     "output_type": "display_data"
    }
   ],
   "source": [
    "describe PAIS_ONU;"
   ]
  },
  {
   "cell_type": "code",
   "execution_count": null,
   "id": "blond-biodiversity",
   "metadata": {},
   "outputs": [],
   "source": [
    "nombre, name, nom, iso2, iso3, phone_code"
   ]
  },
  {
   "cell_type": "markdown",
   "id": "conditional-attachment",
   "metadata": {},
   "source": [
    "### Subir datos a una tabla desde un archivo externo"
   ]
  },
  {
   "cell_type": "markdown",
   "id": "champion-intensity",
   "metadata": {},
   "source": [
    "\n",
    "Subiremos uno datos que tenemos en una carpeta local. En realidad puede hacerse desde cualquier sitio en la Internet.\n",
    "\n",
    "Para detalles y ampliación puede consultar por ejemplo [Introduciendo datos al servidor MySQL desde CSV](https://poesiabinaria.net/2013/02/introduciendo-datos-al-servidor-mysql-desde-csv-con-ejemplos/)"
   ]
  },
  {
   "cell_type": "markdown",
   "id": "afraid-weight",
   "metadata": {},
   "source": [
    "#### Ejercicio"
   ]
  },
  {
   "cell_type": "markdown",
   "id": "quarterly-checklist",
   "metadata": {},
   "source": [
    "Cree una tabla y carge en ella datos directamente desde un fuente de alguna URL."
   ]
  },
  {
   "cell_type": "code",
   "execution_count": null,
   "id": "negative-appliance",
   "metadata": {},
   "outputs": [],
   "source": [
    "Vamos con el ejemplo"
   ]
  },
  {
   "cell_type": "code",
   "execution_count": 28,
   "id": "signal-finnish",
   "metadata": {},
   "outputs": [
    {
     "data": {
      "text/html": []
     },
     "metadata": {},
     "output_type": "display_data"
    }
   ],
   "source": [
    "LOAD DATA\n",
    "LOCAL INFILE '/home/alvaro/Documents/Cursos/Big_Data/Datos/paises.csv'\n",
    "INTO TABLE PAIS_ONU\n",
    "FIELDS TERMINATED BY ','\n",
    "LINES TERMINATED BY '\\n'\n",
    "IGNORE 1 LINES;"
   ]
  },
  {
   "cell_type": "raw",
   "id": "italic-liquid",
   "metadata": {},
   "source": [
    "Si nos muestra el siguiente error:\n",
    "ERROR 1148 (42000): The used command is not allowed with this MySQL version\n",
    "Se corrige así: \n",
    "\n",
    "mysql –local-infile=1 -u user -p\n"
   ]
  },
  {
   "cell_type": "code",
   "execution_count": 30,
   "id": "strong-development",
   "metadata": {},
   "outputs": [
    {
     "data": {
      "text/html": []
     },
     "metadata": {},
     "output_type": "display_data"
    }
   ],
   "source": [
    "SELECT TOP 10 * FROM PAIS_ONU;"
   ]
  },
  {
   "cell_type": "code",
   "execution_count": 31,
   "id": "patient-denial",
   "metadata": {},
   "outputs": [
    {
     "data": {
      "text/html": []
     },
     "metadata": {},
     "output_type": "display_data"
    }
   ],
   "source": [
    "SELECT  * FROM PAIS_ONU\n",
    "LIMIT 10;"
   ]
  },
  {
   "cell_type": "markdown",
   "id": "former-pakistan",
   "metadata": {},
   "source": [
    "Hay problemas con algunos caracteres. Cúal es el problema y cómo resolverlo?\n",
    "\n",
    "Ayuda [Setting Character Sets and Collations em MariaDB](https://mariadb.com/kb/en/setting-character-sets-and-collations/)"
   ]
  },
  {
   "cell_type": "markdown",
   "id": "controlling-allah",
   "metadata": {},
   "source": [
    "Vamo a consultar los juegos de caracters de nuestras bases de datos"
   ]
  },
  {
   "cell_type": "code",
   "execution_count": 2,
   "id": "roman-practice",
   "metadata": {},
   "outputs": [
    {
     "data": {
      "text/html": [
       "<TABLE BORDER=1><TR><TH>CATALOG_NAME</TH><TH>SCHEMA_NAME</TH><TH>DEFAULT_CHARACTER_SET_NAME</TH><TH>DEFAULT_COLLATION_NAME</TH><TH>SQL_PATH</TH><TH>SCHEMA_COMMENT</TH></TR><TR><TD>def</TD><TD>information_schema</TD><TD>utf8</TD><TD>utf8_general_ci</TD><TD>NULL</TD><TD></TD></TR><TR><TD>def</TD><TD>performance_schema</TD><TD>utf8</TD><TD>utf8_general_ci</TD><TD>NULL</TD><TD></TD></TR><TR><TD>def</TD><TD>rookery</TD><TD>latin1</TD><TD>latin1_bin</TD><TD>NULL</TD><TD></TD></TR><TR><TD>def</TD><TD>birdwatchers</TD><TD>utf8mb4</TD><TD>utf8mb4_general_ci</TD><TD>NULL</TD><TD></TD></TR><TR><TD>def</TD><TD>test</TD><TD>utf8mb4</TD><TD>utf8mb4_general_ci</TD><TD>NULL</TD><TD></TD></TR><TR><TD>def</TD><TD>mysql</TD><TD>utf8mb4</TD><TD>utf8mb4_general_ci</TD><TD>NULL</TD><TD></TD></TR><TR><TD>def</TD><TD>GRUPOS</TD><TD>latin1</TD><TD>latin1_bin</TD><TD>NULL</TD><TD></TD></TR></TABLE>"
      ]
     },
     "metadata": {},
     "output_type": "display_data"
    }
   ],
   "source": [
    "SELECT * FROM INFORMATION_SCHEMA.SCHEMATA;"
   ]
  },
  {
   "cell_type": "markdown",
   "id": "combined-coral",
   "metadata": {},
   "source": [
    "Fíjese que creamos intencionalmente la tabla GRUPOS con el juego latin1, que es el default de MariaDB. Vamos a cambiar esta característica de la base de datos. Colocaremos utf8."
   ]
  },
  {
   "cell_type": "code",
   "execution_count": 6,
   "id": "political-applicant",
   "metadata": {},
   "outputs": [
    {
     "data": {
      "text/html": []
     },
     "metadata": {},
     "output_type": "display_data"
    }
   ],
   "source": [
    "USE GRUPOS;"
   ]
  },
  {
   "cell_type": "code",
   "execution_count": 7,
   "id": "expressed-wallpaper",
   "metadata": {},
   "outputs": [
    {
     "data": {
      "text/html": [
       "Stage: 2 of 2 'Enabling keys'      0% of stage done\r",
       "                                                   \r"
      ]
     },
     "metadata": {},
     "output_type": "display_data"
    }
   ],
   "source": [
    "ALTER TABLE PAIS_ONU  \n",
    "CONVERT TO CHARACTER SET 'utf8'\n",
    "COLLATE  'utf8_general_ci';"
   ]
  },
  {
   "cell_type": "markdown",
   "id": "stock-booth",
   "metadata": {},
   "source": [
    "### Juegos de caracteres dsiponibles"
   ]
  },
  {
   "cell_type": "code",
   "execution_count": null,
   "id": "arabic-intermediate",
   "metadata": {},
   "outputs": [],
   "source": [
    "Esots son los juegos de caracters disponibles"
   ]
  },
  {
   "cell_type": "code",
   "execution_count": 8,
   "id": "existing-turning",
   "metadata": {},
   "outputs": [
    {
     "data": {
      "text/html": [
       "<TABLE BORDER=1><TR><TH>Charset</TH><TH>Description</TH><TH>Default collation</TH><TH>Maxlen</TH></TR><TR><TD>big5</TD><TD>Big5 Traditional Chinese</TD><TD>big5_chinese_ci</TD><TD>2</TD></TR><TR><TD>dec8</TD><TD>DEC West European</TD><TD>dec8_swedish_ci</TD><TD>1</TD></TR><TR><TD>cp850</TD><TD>DOS West European</TD><TD>cp850_general_ci</TD><TD>1</TD></TR><TR><TD>hp8</TD><TD>HP West European</TD><TD>hp8_english_ci</TD><TD>1</TD></TR><TR><TD>koi8r</TD><TD>KOI8-R Relcom Russian</TD><TD>koi8r_general_ci</TD><TD>1</TD></TR><TR><TD>latin1</TD><TD>cp1252 West European</TD><TD>latin1_swedish_ci</TD><TD>1</TD></TR><TR><TD>latin2</TD><TD>ISO 8859-2 Central European</TD><TD>latin2_general_ci</TD><TD>1</TD></TR><TR><TD>swe7</TD><TD>7bit Swedish</TD><TD>swe7_swedish_ci</TD><TD>1</TD></TR><TR><TD>ascii</TD><TD>US ASCII</TD><TD>ascii_general_ci</TD><TD>1</TD></TR><TR><TD>ujis</TD><TD>EUC-JP Japanese</TD><TD>ujis_japanese_ci</TD><TD>3</TD></TR><TR><TD>sjis</TD><TD>Shift-JIS Japanese</TD><TD>sjis_japanese_ci</TD><TD>2</TD></TR><TR><TD>hebrew</TD><TD>ISO 8859-8 Hebrew</TD><TD>hebrew_general_ci</TD><TD>1</TD></TR><TR><TD>tis620</TD><TD>TIS620 Thai</TD><TD>tis620_thai_ci</TD><TD>1</TD></TR><TR><TD>euckr</TD><TD>EUC-KR Korean</TD><TD>euckr_korean_ci</TD><TD>2</TD></TR><TR><TD>koi8u</TD><TD>KOI8-U Ukrainian</TD><TD>koi8u_general_ci</TD><TD>1</TD></TR><TR><TD>gb2312</TD><TD>GB2312 Simplified Chinese</TD><TD>gb2312_chinese_ci</TD><TD>2</TD></TR><TR><TD>greek</TD><TD>ISO 8859-7 Greek</TD><TD>greek_general_ci</TD><TD>1</TD></TR><TR><TD>cp1250</TD><TD>Windows Central European</TD><TD>cp1250_general_ci</TD><TD>1</TD></TR><TR><TD>gbk</TD><TD>GBK Simplified Chinese</TD><TD>gbk_chinese_ci</TD><TD>2</TD></TR><TR><TD>latin5</TD><TD>ISO 8859-9 Turkish</TD><TD>latin5_turkish_ci</TD><TD>1</TD></TR><TR><TD>armscii8</TD><TD>ARMSCII-8 Armenian</TD><TD>armscii8_general_ci</TD><TD>1</TD></TR><TR><TD>utf8</TD><TD>UTF-8 Unicode</TD><TD>utf8_general_ci</TD><TD>3</TD></TR><TR><TD>ucs2</TD><TD>UCS-2 Unicode</TD><TD>ucs2_general_ci</TD><TD>2</TD></TR><TR><TD>cp866</TD><TD>DOS Russian</TD><TD>cp866_general_ci</TD><TD>1</TD></TR><TR><TD>keybcs2</TD><TD>DOS Kamenicky Czech-Slovak</TD><TD>keybcs2_general_ci</TD><TD>1</TD></TR><TR><TD>macce</TD><TD>Mac Central European</TD><TD>macce_general_ci</TD><TD>1</TD></TR><TR><TD>macroman</TD><TD>Mac West European</TD><TD>macroman_general_ci</TD><TD>1</TD></TR><TR><TD>cp852</TD><TD>DOS Central European</TD><TD>cp852_general_ci</TD><TD>1</TD></TR><TR><TD>latin7</TD><TD>ISO 8859-13 Baltic</TD><TD>latin7_general_ci</TD><TD>1</TD></TR><TR><TD>utf8mb4</TD><TD>UTF-8 Unicode</TD><TD>utf8mb4_general_ci</TD><TD>4</TD></TR><TR><TD>cp1251</TD><TD>Windows Cyrillic</TD><TD>cp1251_general_ci</TD><TD>1</TD></TR><TR><TD>utf16</TD><TD>UTF-16 Unicode</TD><TD>utf16_general_ci</TD><TD>4</TD></TR><TR><TD>utf16le</TD><TD>UTF-16LE Unicode</TD><TD>utf16le_general_ci</TD><TD>4</TD></TR><TR><TD>cp1256</TD><TD>Windows Arabic</TD><TD>cp1256_general_ci</TD><TD>1</TD></TR><TR><TD>cp1257</TD><TD>Windows Baltic</TD><TD>cp1257_general_ci</TD><TD>1</TD></TR><TR><TD>utf32</TD><TD>UTF-32 Unicode</TD><TD>utf32_general_ci</TD><TD>4</TD></TR><TR><TD>binary</TD><TD>Binary pseudo charset</TD><TD>binary</TD><TD>1</TD></TR><TR><TD>geostd8</TD><TD>GEOSTD8 Georgian</TD><TD>geostd8_general_ci</TD><TD>1</TD></TR><TR><TD>cp932</TD><TD>SJIS for Windows Japanese</TD><TD>cp932_japanese_ci</TD><TD>2</TD></TR><TR><TD>eucjpms</TD><TD>UJIS for Windows Japanese</TD><TD>eucjpms_japanese_ci</TD><TD>3</TD></TR></TABLE>"
      ]
     },
     "metadata": {},
     "output_type": "display_data"
    }
   ],
   "source": [
    "SHOW CHARACTER SET;"
   ]
  },
  {
   "cell_type": "markdown",
   "id": "critical-fireplace",
   "metadata": {},
   "source": [
    "Cambiamos el character set de la base de datos  [ALTER DATABASE](https://www.mariadbtutorial.com/mariadb-basics/mariadb-alter-database/)"
   ]
  },
  {
   "cell_type": "code",
   "execution_count": 11,
   "id": "geological-canberra",
   "metadata": {},
   "outputs": [
    {
     "data": {
      "text/html": []
     },
     "metadata": {},
     "output_type": "display_data"
    }
   ],
   "source": [
    "ALTER DATABASE GRUPOS\n",
    "character set = 'utf8mb4'\n",
    "collate = 'utf8mb4_general_ci';"
   ]
  },
  {
   "cell_type": "code",
   "execution_count": null,
   "id": "anticipated-honduras",
   "metadata": {},
   "outputs": [],
   "source": [
    "Verificamos"
   ]
  },
  {
   "cell_type": "code",
   "execution_count": 12,
   "id": "saved-firmware",
   "metadata": {},
   "outputs": [
    {
     "data": {
      "text/html": [
       "<TABLE BORDER=1><TR><TH>CATALOG_NAME</TH><TH>SCHEMA_NAME</TH><TH>DEFAULT_CHARACTER_SET_NAME</TH><TH>DEFAULT_COLLATION_NAME</TH><TH>SQL_PATH</TH><TH>SCHEMA_COMMENT</TH></TR><TR><TD>def</TD><TD>information_schema</TD><TD>utf8</TD><TD>utf8_general_ci</TD><TD>NULL</TD><TD></TD></TR><TR><TD>def</TD><TD>performance_schema</TD><TD>utf8</TD><TD>utf8_general_ci</TD><TD>NULL</TD><TD></TD></TR><TR><TD>def</TD><TD>rookery</TD><TD>latin1</TD><TD>latin1_bin</TD><TD>NULL</TD><TD></TD></TR><TR><TD>def</TD><TD>birdwatchers</TD><TD>utf8mb4</TD><TD>utf8mb4_general_ci</TD><TD>NULL</TD><TD></TD></TR><TR><TD>def</TD><TD>test</TD><TD>utf8mb4</TD><TD>utf8mb4_general_ci</TD><TD>NULL</TD><TD></TD></TR><TR><TD>def</TD><TD>mysql</TD><TD>utf8mb4</TD><TD>utf8mb4_general_ci</TD><TD>NULL</TD><TD></TD></TR><TR><TD>def</TD><TD>GRUPOS</TD><TD>utf8mb4</TD><TD>utf8mb4_general_ci</TD><TD>NULL</TD><TD></TD></TR></TABLE>"
      ]
     },
     "metadata": {},
     "output_type": "display_data"
    }
   ],
   "source": [
    "SELECT * FROM INFORMATION_SCHEMA.SCHEMATA;"
   ]
  },
  {
   "cell_type": "markdown",
   "id": "charitable-upset",
   "metadata": {},
   "source": [
    "### Eliminación de registros"
   ]
  },
  {
   "cell_type": "code",
   "execution_count": null,
   "id": "instructional-pressing",
   "metadata": {},
   "outputs": [],
   "source": [
    "Vamos a elinar todos los registros y los volvermos a leer. Esta sentencia es muy peligora en general.\n",
    "\n",
    "Luego vemos como eliminar más cuidadosamente"
   ]
  },
  {
   "cell_type": "code",
   "execution_count": 14,
   "id": "listed-measurement",
   "metadata": {},
   "outputs": [
    {
     "data": {
      "text/html": []
     },
     "metadata": {},
     "output_type": "display_data"
    }
   ],
   "source": [
    "DELETE FROM PAIS_ONU;"
   ]
  },
  {
   "cell_type": "code",
   "execution_count": 15,
   "id": "imperial-acquisition",
   "metadata": {},
   "outputs": [
    {
     "data": {
      "text/html": []
     },
     "metadata": {},
     "output_type": "display_data"
    }
   ],
   "source": [
    "SELECT * FROM PAIS_ONU;"
   ]
  },
  {
   "cell_type": "code",
   "execution_count": null,
   "id": "beginning-platform",
   "metadata": {},
   "outputs": [],
   "source": [
    "LOAD DATA\n",
    "LOCAL INFILE '/home/alvaro/Documents/Cursos/Big_Data/Datos/paises.csv'\n",
    "INTO TABLE PAIS_ONU\n",
    "FIELDS TERMINATED BY ','\n",
    "LINES TERMINATED BY '\\n'\n",
    "IGNORE 1 LINES;"
   ]
  },
  {
   "cell_type": "code",
   "execution_count": null,
   "id": "computational-chance",
   "metadata": {},
   "outputs": [],
   "source": [
    "SHOW WARNINGS;"
   ]
  },
  {
   "cell_type": "code",
   "execution_count": 16,
   "id": "crazy-world",
   "metadata": {},
   "outputs": [
    {
     "data": {
      "text/html": [
       "<TABLE BORDER=1><TR><TH>Field</TH><TH>Type</TH><TH>Null</TH><TH>Key</TH><TH>Default</TH><TH>Extra</TH></TR><TR><TD>NomPai_Esp</TD><TD>varchar(255)</TD><TD>NO</TD><TD>PRI</TD><TD>NULL</TD><TD></TD></TR><TR><TD>NomPai_Ing</TD><TD>varchar(255)</TD><TD>NO</TD><TD>UNI</TD><TD>NULL</TD><TD></TD></TR><TR><TD>NomPai_Fra</TD><TD>varchar(255)</TD><TD>NO</TD><TD>UNI</TD><TD>NULL</TD><TD></TD></TR><TR><TD>iso2</TD><TD>varchar(2)</TD><TD>YES</TD><TD>UNI</TD><TD>NULL</TD><TD></TD></TR><TR><TD>iso3</TD><TD>varchar(2)</TD><TD>YES</TD><TD>UNI</TD><TD>NULL</TD><TD></TD></TR><TR><TD>phonecode</TD><TD>varchar(3)</TD><TD>YES</TD><TD>UNI</TD><TD>NULL</TD><TD></TD></TR></TABLE>"
      ]
     },
     "metadata": {},
     "output_type": "display_data"
    }
   ],
   "source": [
    "DESCRIBE PAIS_ONU;\n"
   ]
  },
  {
   "cell_type": "markdown",
   "id": "sophisticated-lightning",
   "metadata": {},
   "source": [
    "ALTER TABLE "
   ]
  },
  {
   "cell_type": "code",
   "execution_count": 20,
   "id": "solid-bearing",
   "metadata": {},
   "outputs": [
    {
     "data": {
      "text/html": []
     },
     "metadata": {},
     "output_type": "display_data"
    }
   ],
   "source": [
    "ALTER TABLE PAIS_ONU\n",
    "CHANGE iso2 iso2 varchar(10),\n",
    "CHANGE iso3 iso3 varchar(10),\n",
    "CHANGE phonecode phonecode varchar(10);"
   ]
  },
  {
   "cell_type": "code",
   "execution_count": 21,
   "id": "close-bidder",
   "metadata": {},
   "outputs": [
    {
     "data": {
      "text/html": [
       "<TABLE BORDER=1><TR><TH>Field</TH><TH>Type</TH><TH>Null</TH><TH>Key</TH><TH>Default</TH><TH>Extra</TH></TR><TR><TD>NomPai_Esp</TD><TD>varchar(255)</TD><TD>NO</TD><TD>PRI</TD><TD>NULL</TD><TD></TD></TR><TR><TD>NomPai_Ing</TD><TD>varchar(255)</TD><TD>NO</TD><TD>UNI</TD><TD>NULL</TD><TD></TD></TR><TR><TD>NomPai_Fra</TD><TD>varchar(255)</TD><TD>NO</TD><TD>UNI</TD><TD>NULL</TD><TD></TD></TR><TR><TD>iso2</TD><TD>varchar(10)</TD><TD>YES</TD><TD>UNI</TD><TD>NULL</TD><TD></TD></TR><TR><TD>iso3</TD><TD>varchar(10)</TD><TD>YES</TD><TD>UNI</TD><TD>NULL</TD><TD></TD></TR><TR><TD>phonecode</TD><TD>varchar(10)</TD><TD>YES</TD><TD>UNI</TD><TD>NULL</TD><TD></TD></TR></TABLE>"
      ]
     },
     "metadata": {},
     "output_type": "display_data"
    }
   ],
   "source": [
    "DESCRIBE PAIS_ONU;"
   ]
  },
  {
   "cell_type": "code",
   "execution_count": null,
   "id": "hairy-tomato",
   "metadata": {},
   "outputs": [],
   "source": [
    "LOAD DATA\n",
    "LOCAL INFILE '/home/alvaro/Documents/Cursos/Big_Data/Datos/paises.csv'\n",
    "INTO TABLE PAIS_ONU\n",
    "FIELDS TERMINATED BY ','\n",
    "LINES TERMINATED BY '\\n'\n",
    "IGNORE 1 LINES;"
   ]
  },
  {
   "cell_type": "markdown",
   "id": "corporate-columbus",
   "metadata": {},
   "source": [
    "¿Cómo va nuestra solución?\n",
    "\n",
    "Insista hasta que pueda subir toda la tabla sin errores ni warning"
   ]
  },
  {
   "cell_type": "markdown",
   "id": "middle-durham",
   "metadata": {},
   "source": [
    "## Creando la tabla EDITORIAL"
   ]
  },
  {
   "cell_type": "markdown",
   "id": "incredible-disability",
   "metadata": {},
   "source": [
    "Consulte [Foreign Keys](https://mariadb.com/kb/en/foreign-keys/)"
   ]
  },
  {
   "cell_type": "code",
   "execution_count": 39,
   "id": "sunset-thanksgiving",
   "metadata": {},
   "outputs": [
    {
     "data": {
      "text/html": []
     },
     "metadata": {},
     "output_type": "display_data"
    }
   ],
   "source": [
    "CREATE TABLE EDITORIAL(\n",
    "  IdEdi MEDIUMINT UNSIGNED NOT NULL AUTO_INCREMENT PRIMARY KEY,\n",
    "  NomEdi VARCHAR(100) NOT NULL,\n",
    "  IdPai INT  NOT NULL,\n",
    "  CONSTRAINT\n",
    "    fk_EDITORIAL_LIBRO FOREIGN KEY (IdPai) REFERENCES PAIS (IdPai)\n",
    "    ON DELETE CASCADE\n",
    "    ON UPDATE RESTRICT\n",
    ") ENGINE = InnoDB;\n",
    "\n"
   ]
  },
  {
   "cell_type": "code",
   "execution_count": 35,
   "id": "proud-jersey",
   "metadata": {},
   "outputs": [
    {
     "data": {
      "text/html": [
       "<TABLE BORDER=1><TR><TH>Field</TH><TH>Type</TH><TH>Null</TH><TH>Key</TH><TH>Default</TH><TH>Extra</TH></TR><TR><TD>IdEdi</TD><TD>mediumint(8) unsigned</TD><TD>NO</TD><TD>PRI</TD><TD>NULL</TD><TD>auto_increment</TD></TR><TR><TD>name</TD><TD>varchar(100)</TD><TD>NO</TD><TD></TD><TD>NULL</TD><TD></TD></TR><TR><TD>IdPai</TD><TD>int(11)</TD><TD>NO</TD><TD>MUL</TD><TD>NULL</TD><TD></TD></TR></TABLE>"
      ]
     },
     "metadata": {},
     "output_type": "display_data"
    }
   ],
   "source": [
    "DESCRIBE EDITORIAL;"
   ]
  },
  {
   "cell_type": "code",
   "execution_count": 27,
   "id": "ahead-clearing",
   "metadata": {},
   "outputs": [
    {
     "data": {
      "text/html": [
       "<TABLE BORDER=1><TR><TH>Field</TH><TH>Type</TH><TH>Null</TH><TH>Key</TH><TH>Default</TH><TH>Extra</TH></TR><TR><TD>IdPai</TD><TD>int(11)</TD><TD>NO</TD><TD>PRI</TD><TD>NULL</TD><TD>auto_increment</TD></TR><TR><TD>NomPai</TD><TD>varchar(255)</TD><TD>NO</TD><TD>UNI</TD><TD>NULL</TD><TD></TD></TR><TR><TD>AbrevPai</TD><TD>varchar(3)</TD><TD>YES</TD><TD>UNI</TD><TD>NULL</TD><TD></TD></TR></TABLE>"
      ]
     },
     "metadata": {},
     "output_type": "display_data"
    }
   ],
   "source": [
    "describe PAIS;"
   ]
  },
  {
   "cell_type": "code",
   "execution_count": null,
   "id": "solved-compact",
   "metadata": {},
   "outputs": [],
   "source": [
    "crea un registro en Editorial"
   ]
  },
  {
   "cell_type": "code",
   "execution_count": 40,
   "id": "meaningful-guarantee",
   "metadata": {},
   "outputs": [
    {
     "data": {
      "text/html": []
     },
     "metadata": {},
     "output_type": "display_data"
    }
   ],
   "source": [
    "INSERT INTO EDITORIAL(NomEdi, IdPai)\n",
    "VALUES ('Unibiblos', 1),\n",
    "('Springer',2),\n",
    "('Oveja Negra', 3);"
   ]
  },
  {
   "cell_type": "markdown",
   "id": "efficient-dominican",
   "metadata": {},
   "source": [
    "# PRODUCTO CARTESIANO"
   ]
  },
  {
   "cell_type": "markdown",
   "id": "thirty-discrimination",
   "metadata": {},
   "source": [
    "Recupera el identificador de la editorial , nombre y pais"
   ]
  },
  {
   "cell_type": "code",
   "execution_count": 41,
   "id": "billion-earthquake",
   "metadata": {},
   "outputs": [
    {
     "data": {
      "text/html": [
       "<TABLE BORDER=1><TR><TH>iIdentificador</TH><TH>Editorial</TH><TH>País</TH></TR><TR><TD>1</TD><TD>Unibiblos</TD><TD>Colombia</TD></TR><TR><TD>2</TD><TD>Springer</TD><TD>Colombia</TD></TR><TR><TD>3</TD><TD>Oveja Negra</TD><TD>Colombia</TD></TR><TR><TD>1</TD><TD>Unibiblos</TD><TD>España</TD></TR><TR><TD>2</TD><TD>Springer</TD><TD>España</TD></TR><TR><TD>3</TD><TD>Oveja Negra</TD><TD>España</TD></TR><TR><TD>1</TD><TD>Unibiblos</TD><TD>Estados Unidos</TD></TR><TR><TD>2</TD><TD>Springer</TD><TD>Estados Unidos</TD></TR><TR><TD>3</TD><TD>Oveja Negra</TD><TD>Estados Unidos</TD></TR></TABLE>"
      ]
     },
     "metadata": {},
     "output_type": "display_data"
    }
   ],
   "source": [
    "SELECT IdEdi as iIdentificador, NomEdi AS Editorial, NomPai AS País\n",
    "FROM EDITORIAL, PAIS;"
   ]
  },
  {
   "cell_type": "markdown",
   "id": "hungry-knight",
   "metadata": {},
   "source": [
    "## Producto Natural"
   ]
  },
  {
   "cell_type": "code",
   "execution_count": 43,
   "id": "crucial-williams",
   "metadata": {},
   "outputs": [
    {
     "data": {
      "text/html": [
       "<TABLE BORDER=1><TR><TH>iIdentificador</TH><TH>Editorial</TH><TH>País</TH></TR><TR><TD>1</TD><TD>Unibiblos</TD><TD>Colombia</TD></TR><TR><TD>2</TD><TD>Springer</TD><TD>Estados Unidos</TD></TR><TR><TD>3</TD><TD>Oveja Negra</TD><TD>España</TD></TR></TABLE>"
      ]
     },
     "metadata": {},
     "output_type": "display_data"
    }
   ],
   "source": [
    "SELECT IdEdi as iIdentificador, NomEdi AS Editorial, NomPai AS País\n",
    "FROM EDITORIAL  \n",
    "INNER JOIN PAIS\n",
    "ON  EDITORIAL.IdPai = PAIS.IdPai;"
   ]
  },
  {
   "cell_type": "markdown",
   "id": "verbal-glance",
   "metadata": {},
   "source": [
    "## Solución alternativa"
   ]
  },
  {
   "cell_type": "code",
   "execution_count": 44,
   "id": "mysterious-example",
   "metadata": {},
   "outputs": [
    {
     "data": {
      "text/html": [
       "<TABLE BORDER=1><TR><TH>iIdentificador</TH><TH>Editorial</TH><TH>País</TH></TR><TR><TD>1</TD><TD>Unibiblos</TD><TD>Colombia</TD></TR><TR><TD>2</TD><TD>Springer</TD><TD>Estados Unidos</TD></TR><TR><TD>3</TD><TD>Oveja Negra</TD><TD>España</TD></TR></TABLE>"
      ]
     },
     "metadata": {},
     "output_type": "display_data"
    }
   ],
   "source": [
    "SELECT IdEdi as Identificador, NomEdi AS Editorial, NomPai AS País\n",
    "FROM EDITORIAL as E, PAIS as P\n",
    "WHERE E.idPai = P.IdPai;"
   ]
  },
  {
   "cell_type": "markdown",
   "id": "artistic-colon",
   "metadata": {},
   "source": [
    "## Tabla LIBRO"
   ]
  },
  {
   "cell_type": "code",
   "execution_count": 46,
   "id": "korean-salem",
   "metadata": {},
   "outputs": [
    {
     "data": {
      "text/html": []
     },
     "metadata": {},
     "output_type": "display_data"
    }
   ],
   "source": [
    "CREATE TABLE LIBRO(\n",
    "  IdLib MEDIUMINT UNSIGNED NOT NULL AUTO_INCREMENT PRIMARY KEY,\n",
    "  Titulo VARCHAR(200) NOT NULL,\n",
    "  ISSN VARCHAR(15),\n",
    "  IdEdi MEDIUMINT UNSIGNED  NOT NULL,\n",
    "  CONSTRAINT \n",
    "    fk_LIBRO_EDITORIAL  FOREIGN KEY (IdEdi) REFERENCES EDITORIAL (IdEdi)\n",
    "    ON DELETE CASCADE\n",
    "    ON UPDATE RESTRICT\n",
    ") ENGINE = InnoDB;\n"
   ]
  },
  {
   "cell_type": "markdown",
   "id": "restricted-saying",
   "metadata": {},
   "source": [
    "## Tabla AUTOR"
   ]
  },
  {
   "cell_type": "code",
   "execution_count": 48,
   "id": "failing-glossary",
   "metadata": {},
   "outputs": [
    {
     "data": {
      "text/html": []
     },
     "metadata": {},
     "output_type": "display_data"
    }
   ],
   "source": [
    "CREATE TABLE AUTOR(\n",
    "  IdAut MEDIUMINT UNSIGNED NOT NULL AUTO_INCREMENT PRIMARY KEY,\n",
    "  Nombre VARCHAR(100) NOT NULL,\n",
    "  Ide VARCHAR(50) DEFAULT 'N.D.',\n",
    "  IdPai INT  NOT NULL,\n",
    "  CONSTRAINT \n",
    "    fk_AUTOR_PAIS FOREIGN KEY (IdPai) REFERENCES PAIS (IdPai)\n",
    "    ON DELETE CASCADE\n",
    "    ON UPDATE RESTRICT\n",
    ") ENGINE = InnoDB;"
   ]
  },
  {
   "cell_type": "markdown",
   "id": "sudden-degree",
   "metadata": {},
   "source": [
    "## Tabla de intersección AUTOR_LIBRO"
   ]
  },
  {
   "cell_type": "code",
   "execution_count": 54,
   "id": "charming-agenda",
   "metadata": {},
   "outputs": [
    {
     "data": {
      "text/html": []
     },
     "metadata": {},
     "output_type": "display_data"
    }
   ],
   "source": [
    "CREATE TABLE AUTOR_LIBRO(\n",
    "  Orden SMALLINT UNSIGNED ,\n",
    "  IdAut MEDIUMINT UNSIGNED NOT NULL,\n",
    "  IdLib MEDIUMINT UNSIGNED NOT NULL,\n",
    "  PRIMARY KEY (IdAut,IdLib ),\n",
    "  CONSTRAINT \n",
    "    fk_AUTOR_LIBRO_AUTOR  FOREIGN KEY (IdAut) REFERENCES AUTOR (IdAut)\n",
    "    ON DELETE CASCADE\n",
    "    ON UPDATE RESTRICT,\n",
    "  CONSTRAINT \n",
    "    fk_AUTOR_LIBRO_LIBRO  FOREIGN KEY (IdLib) REFERENCES LIBRO (IdLib) \n",
    "    ON DELETE CASCADE\n",
    "    ON UPDATE RESTRICT\n",
    ") ENGINE = InnoDB;"
   ]
  },
  {
   "cell_type": "code",
   "execution_count": 55,
   "id": "immune-external",
   "metadata": {},
   "outputs": [
    {
     "data": {
      "text/html": [
       "<TABLE BORDER=1><TR><TH>Field</TH><TH>Type</TH><TH>Null</TH><TH>Key</TH><TH>Default</TH><TH>Extra</TH></TR><TR><TD>Orden</TD><TD>smallint(5) unsigned</TD><TD>YES</TD><TD></TD><TD>NULL</TD><TD></TD></TR><TR><TD>IdAut</TD><TD>mediumint(8) unsigned</TD><TD>NO</TD><TD>PRI</TD><TD>NULL</TD><TD></TD></TR><TR><TD>IdLib</TD><TD>mediumint(8) unsigned</TD><TD>NO</TD><TD>PRI</TD><TD>NULL</TD><TD></TD></TR></TABLE>"
      ]
     },
     "metadata": {},
     "output_type": "display_data"
    }
   ],
   "source": [
    "describe AUTOR_LIBRO;"
   ]
  },
  {
   "cell_type": "markdown",
   "id": "talented-karma",
   "metadata": {},
   "source": [
    "#### Parte 2"
   ]
  }
 ],
 "metadata": {
  "kernelspec": {
   "display_name": "MariaDB",
   "language": "SQL",
   "name": "mariadb_kernel"
  },
  "language_info": {
   "file_extension": ".sql",
   "mimetype": "text/plain",
   "name": "SQL"
  }
 },
 "nbformat": 4,
 "nbformat_minor": 5
}
