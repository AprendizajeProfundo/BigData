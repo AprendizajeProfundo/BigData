{
 "cells": [
  {
   "cell_type": "markdown",
   "id": "reserved-athens",
   "metadata": {
    "tags": []
   },
   "source": [
    "# <span style=\"color:green\"><center>Diplomado en Big Data</center></span>"
   ]
  },
  {
   "cell_type": "markdown",
   "id": "applied-closure",
   "metadata": {},
   "source": [
    "# <span style=\"color:red\"><center>SQL -2<center></span>"
   ]
  },
  {
   "cell_type": "markdown",
   "id": "departmental-railway",
   "metadata": {},
   "source": [
    "##   <span style=\"color:blue\">Profesores</span>"
   ]
  },
  {
   "cell_type": "markdown",
   "id": "protecting-corpus",
   "metadata": {},
   "source": [
    "1. Alvaro Mauricio Montenegro Díaz, ammontenegrod@unal.edu.co\n",
    "2. Daniel Mauricio Montenegro Reyes, dextronomo@gmail.com "
   ]
  },
  {
   "cell_type": "markdown",
   "id": "prostate-proceeding",
   "metadata": {},
   "source": [
    "##   <span style=\"color:blue\">Asesora Medios y Marketing digital</span>\n",
    " "
   ]
  },
  {
   "cell_type": "markdown",
   "id": "mathematical-bristol",
   "metadata": {},
   "source": [
    "4. Maria del Pilar Montenegro, pmontenegro88@gmail.com "
   ]
  },
  {
   "cell_type": "markdown",
   "id": "listed-america",
   "metadata": {},
   "source": [
    "## <span style=\"color:blue\">Asistentes</span>"
   ]
  },
  {
   "cell_type": "markdown",
   "id": "banned-discount",
   "metadata": {},
   "source": []
  },
  {
   "cell_type": "markdown",
   "id": "ordered-river",
   "metadata": {},
   "source": [
    "## <span style=\"color:blue\">Contenido</span>"
   ]
  },
  {
   "cell_type": "code",
   "execution_count": 56,
   "id": "polished-china",
   "metadata": {},
   "outputs": [
    {
     "data": {
      "text/html": [
       "<TABLE BORDER=1><TR><TH>Database</TH></TR><TR><TD>GRUPOS</TD></TR><TR><TD>birdwatchers</TD></TR><TR><TD>information_schema</TD></TR><TR><TD>mysql</TD></TR><TR><TD>performance_schema</TD></TR><TR><TD>rookery</TD></TR><TR><TD>test</TD></TR></TABLE>"
      ]
     },
     "metadata": {},
     "output_type": "display_data"
    }
   ],
   "source": [
    "SHOW DATABASES;"
   ]
  },
  {
   "cell_type": "markdown",
   "id": "elect-marina",
   "metadata": {},
   "source": [
    "## <span style=\"color:blue\">Primera base de datos</span>"
   ]
  },
  {
   "cell_type": "code",
   "execution_count": 57,
   "id": "personalized-arctic",
   "metadata": {},
   "outputs": [
    {
     "data": {
      "text/html": []
     },
     "metadata": {},
     "output_type": "display_data"
    }
   ],
   "source": [
    "CREATE DATABASE GRUPOS_COLOMBIA\n",
    "CHARACTER SET 'utf8mb4'\n",
    "COLLATE 'utf8mb4_general_ci';"
   ]
  },
  {
   "cell_type": "code",
   "execution_count": null,
   "id": "fatty-browse",
   "metadata": {},
   "outputs": [],
   "source": [
    "SHOW DATABASES;"
   ]
  },
  {
   "cell_type": "code",
   "execution_count": null,
   "id": "statistical-attitude",
   "metadata": {},
   "outputs": [],
   "source": [
    "USE GRUPOS_COLOMBIA;"
   ]
  },
  {
   "cell_type": "markdown",
   "id": "defensive-invention",
   "metadata": {},
   "source": [
    "## Creación de tablas"
   ]
  },
  {
   "cell_type": "markdown",
   "id": "increasing-combine",
   "metadata": {},
   "source": [
    "### PAIS"
   ]
  },
  {
   "cell_type": "code",
   "execution_count": 12,
   "id": "urban-active",
   "metadata": {},
   "outputs": [
    {
     "data": {
      "text/html": []
     },
     "metadata": {},
     "output_type": "display_data"
    }
   ],
   "source": [
    "CREATE TABLE PAIS(\n",
    "IdPai MEDIUMINT UNSIGNED AUTO_INCREMENT PRIMARY KEY,\n",
    "NomPai VARCHAR(255) UNIQUE NOT NULL,\n",
    "AbrevPai VARCHAR(3) UNIQUE\n",
    ")ENGINE = InnoDB;"
   ]
  },
  {
   "cell_type": "code",
   "execution_count": null,
   "id": "differential-bahamas",
   "metadata": {},
   "outputs": [],
   "source": [
    "CREATE TABLE EN_PAIS(\n",
    "AbrevPai VARCHAR(3) UNIQUE NOT NULL,\n",
    "NomPai VARCHAR(255) UNIQUE NOT NULL\n",
    ")ENGINE = InnoDB;"
   ]
  },
  {
   "cell_type": "code",
   "execution_count": null,
   "id": "private-record",
   "metadata": {},
   "outputs": [],
   "source": [
    "LOAD DATA\n",
    "LOCAL INFILE '/home/alvaro/Documents/Cursos/Big_Data/Datos/EN_PAIS.csv'\n",
    "INTO TABLE EN_PAIS\n",
    "FIELDS TERMINATED BY ';'\n",
    "LINES TERMINATED BY '\\n'\n",
    "IGNORE 1 LINES;"
   ]
  },
  {
   "cell_type": "code",
   "execution_count": null,
   "id": "fiscal-manner",
   "metadata": {},
   "outputs": [],
   "source": [
    "INSERT INTO PAIS(NomPai, AbrevPai)\n",
    "SELECT NomPai, AbrevPai FROM EN_PAIS;\n"
   ]
  },
  {
   "cell_type": "code",
   "execution_count": null,
   "id": "miniature-spice",
   "metadata": {},
   "outputs": [],
   "source": [
    "SELECT COUNT(*) FROM PAIS;\n",
    "# 174"
   ]
  },
  {
   "cell_type": "markdown",
   "id": "acknowledged-european",
   "metadata": {},
   "source": [
    "### DEPARTAMENTO"
   ]
  },
  {
   "cell_type": "code",
   "execution_count": null,
   "id": "adjustable-dairy",
   "metadata": {},
   "outputs": [],
   "source": [
    "CREATE TABLE DEPARTAMENTO(\n",
    "  IdDep MEDIUMINT UNSIGNED NOT NULL AUTO_INCREMENT PRIMARY KEY,\n",
    "  NomDep VARCHAR(100) NOT NULL,\n",
    "  IdPai MEDIUMINT UNSIGNED NOT NULL,\n",
    "  CONSTRAINT\n",
    "    fk_DEPARTAMENTO_PAIS FOREIGN KEY (IdPai) REFERENCES PAIS (IdPai)\n",
    "    ON DELETE CASCADE\n",
    "    ON UPDATE RESTRICT\n",
    ") ENGINE = InnoDB;"
   ]
  },
  {
   "cell_type": "code",
   "execution_count": null,
   "id": "worthy-ready",
   "metadata": {},
   "outputs": [],
   "source": [
    "CREATE TABLE EN_DEPARTAMENTO(\n",
    "AbrevPai VARCHAR(3)  NOT NULL,\n",
    "Abrev_Dep VARCHAR(3)  NOT NULL,\n",
    "Abrev_Reg VARCHAR(3)  NOT NULL,    \n",
    "NomDep VARCHAR(255)  NOT NULL,\n",
    "NorDep VARCHAR(255)  NOT NULL\n",
    ")ENGINE = InnoDB;"
   ]
  },
  {
   "cell_type": "code",
   "execution_count": null,
   "id": "separate-taiwan",
   "metadata": {},
   "outputs": [],
   "source": [
    "LOAD DATA\n",
    "LOCAL INFILE '/home/alvaro/Documents/Cursos/Big_Data/Datos/EN_DEPARTAMENTO.csv'\n",
    "INTO TABLE EN_DEPARTAMENTO\n",
    "FIELDS TERMINATED BY ';'\n",
    "LINES TERMINATED BY '\\n'\n",
    "IGNORE 1 LINES;"
   ]
  },
  {
   "cell_type": "markdown",
   "id": "answering-bulgaria",
   "metadata": {},
   "source": [
    "### MODIFICA ALGUNOS REGISTROS"
   ]
  },
  {
   "cell_type": "code",
   "execution_count": null,
   "id": "intimate-texture",
   "metadata": {},
   "outputs": [],
   "source": [
    "UPDATE EN_DEPARTAMENTO\n",
    "SET NomDep = \"NA\"\n",
    "WHERE NomDep = \"No Aplica\";\n"
   ]
  },
  {
   "cell_type": "markdown",
   "id": "improving-collar",
   "metadata": {},
   "source": [
    "### VERIFICA"
   ]
  },
  {
   "cell_type": "code",
   "execution_count": null,
   "id": "processed-eating",
   "metadata": {},
   "outputs": [],
   "source": [
    "SELECT T.AbrevPai, S.NomDep, COUNT(S.NomDep) AS FRECUENCIA \n",
    "FROM EN_DEPARTAMENTO  AS S, EN_DEPARTAMENTO  AS T\n",
    "WHERE T.NomDep = S.NomDep AND T.AbrevPai = S.AbrevPai\n",
    "GROUP BY S.NomDep, T.AbrevPai\n",
    "HAVING FRECUENCIA > 0\n",
    "ORDER BY NomDep ASC, AbrevPai ASC;"
   ]
  },
  {
   "cell_type": "markdown",
   "id": "promotional-endorsement",
   "metadata": {},
   "source": [
    "## Sube datos"
   ]
  },
  {
   "cell_type": "code",
   "execution_count": null,
   "id": "textile-stocks",
   "metadata": {},
   "outputs": [],
   "source": [
    "INSERT INTO DEPARTAMENTO(NomDep, IdPai)\n",
    "SELECT D.NomDep, P.IdPai\n",
    "FROM PAIS AS P \n",
    "INNER JOIN EN_DEPARTAMENTO AS D\n",
    "ON P.AbrevPai = D.AbrevPai;"
   ]
  },
  {
   "cell_type": "markdown",
   "id": "wooden-mobility",
   "metadata": {},
   "source": [
    "### Verificacion"
   ]
  },
  {
   "cell_type": "code",
   "execution_count": null,
   "id": "cross-mixture",
   "metadata": {},
   "outputs": [],
   "source": [
    "SELECT NomDep, NomPai \n",
    "FROM DEPARTAMENTO AS D, PAIS AS P\n",
    "WHERE D.idPai = P.IdPai;"
   ]
  },
  {
   "cell_type": "markdown",
   "id": "considerable-stevens",
   "metadata": {},
   "source": [
    "### MUNICIPIO"
   ]
  },
  {
   "cell_type": "code",
   "execution_count": null,
   "id": "joined-convert",
   "metadata": {},
   "outputs": [],
   "source": [
    "CREATE TABLE MUNICIPIO(\n",
    "  IdMun MEDIUMINT UNSIGNED NOT NULL AUTO_INCREMENT PRIMARY KEY,\n",
    "  NomMun VARCHAR(100) NOT NULL,\n",
    "  IdDep MEDIUMINT UNSIGNED  NOT NULL,\n",
    "  CONSTRAINT\n",
    "    fk_MUNICIPIO_DEPARTAMENTO FOREIGN KEY (IdDep) REFERENCES DEPARTAMENTO (IdDep)\n",
    "    ON DELETE CASCADE\n",
    "    ON UPDATE RESTRICT\n",
    ") ENGINE = InnoDB;"
   ]
  },
  {
   "cell_type": "code",
   "execution_count": null,
   "id": "elementary-voluntary",
   "metadata": {},
   "outputs": [],
   "source": [
    "CREATE TABLE EN_MUNICIPIO(\n",
    "  CodRh    VARCHAR(100),\n",
    "  CodMun   MEDIUMINT UNSIGNED,\n",
    "  AbrevPai VARCHAR(3),\n",
    "  AbrevDep VARCHAR(3),\n",
    "  NomMun   VARCHAR(100) NOT NULL,\n",
    "  NorMun   VARCHAR(100) NOT NULL \n",
    ") ENGINE = InnoDB;"
   ]
  },
  {
   "cell_type": "code",
   "execution_count": null,
   "id": "asian-anthony",
   "metadata": {},
   "outputs": [],
   "source": [
    "LOAD DATA\n",
    "LOCAL INFILE '/home/alvaro/Documents/Cursos/Big_Data/Datos/EN_MUNICIPIO.csv'\n",
    "INTO TABLE EN_MUNICIPIO\n",
    "FIELDS TERMINATED BY ';'\n",
    "LINES TERMINATED BY '\\n'\n",
    "IGNORE 1 LINES;"
   ]
  },
  {
   "cell_type": "code",
   "execution_count": null,
   "id": "happy-victor",
   "metadata": {},
   "outputs": [],
   "source": [
    "ALTER TABLE EN_DEPARTAMENTO\n",
    "MODIFY COLUMN NomDep VARCHAR(100);"
   ]
  },
  {
   "cell_type": "code",
   "execution_count": null,
   "id": "raised-joint",
   "metadata": {},
   "outputs": [],
   "source": [
    "INSERT INTO MUNICIPIO(NomMun, IdDep)\n",
    "SELECT M.NomMun, D.IdDep\n",
    "FROM EN_DEPARTAMENTO AS P, DEPARTAMENTO AS D,  EN_MUNICIPIO AS M\n",
    "WHERE P.NomDep = D.NomDep AND M.AbrevDep = P.Abrev_Dep;"
   ]
  },
  {
   "cell_type": "code",
   "execution_count": null,
   "id": "angry-rugby",
   "metadata": {},
   "outputs": [],
   "source": []
  },
  {
   "cell_type": "markdown",
   "id": "adjustable-czech",
   "metadata": {},
   "source": [
    "## CREANDO VISTAS"
   ]
  },
  {
   "cell_type": "markdown",
   "id": "prepared-pilot",
   "metadata": {},
   "source": [
    "CREATE [OR REPLACE] VIEW nombre_vista [lista_columnas]\n",
    "AS consulta\n",
    "\n",
    "Primero verificamos la consulta de origen"
   ]
  },
  {
   "cell_type": "code",
   "execution_count": null,
   "id": "frank-parks",
   "metadata": {},
   "outputs": [],
   "source": [
    "SELECT D.IdDep, D.NomDep AS Departamento, P.NomPai AS Pais\n",
    "FROM PAIS AS P \n",
    "INNER JOIN DEPARTAMENTO AS D\n",
    "ON P.IdPai = D.IdPai\n",
    "WHERE D.NomDep <> \"No Aplica\";"
   ]
  },
  {
   "cell_type": "markdown",
   "id": "eligible-toyota",
   "metadata": {},
   "source": [
    "### Crea la vista"
   ]
  },
  {
   "cell_type": "code",
   "execution_count": null,
   "id": "compliant-fishing",
   "metadata": {},
   "outputs": [],
   "source": [
    "CREATE OR REPLACE VIEW vDEPARTAMENTO\n",
    "AS \n",
    "SELECT D.IdDep AS IdDep, D.NomDep AS Departamento, P.NomPai AS Pais\n",
    "FROM PAIS AS P \n",
    "INNER JOIN DEPARTAMENTO AS D\n",
    "ON P.IdPai = D.IdPai\n",
    "WHERE D.NomDep <> \"No Aplica\";"
   ]
  },
  {
   "cell_type": "markdown",
   "id": "homeless-apache",
   "metadata": {},
   "source": [
    "### USAR LA VISTA"
   ]
  },
  {
   "cell_type": "code",
   "execution_count": null,
   "id": "superior-surface",
   "metadata": {},
   "outputs": [],
   "source": [
    "SELECT Pais, count(Departamento) as Frecuencia\n",
    "FROM  vDEPARTAMENTO\n",
    "GROUP BY Pais;\n"
   ]
  },
  {
   "cell_type": "code",
   "execution_count": null,
   "id": "premier-steal",
   "metadata": {},
   "outputs": [],
   "source": [
    "SELECT Pais, count(Departamento) as Frecuencia\n",
    "FROM  vDEPARTAMENTO\n",
    "GROUP BY Pais\n",
    "HAVING Frecuencia > 12\n",
    "ORDER BY FRECUENCIA DESC;"
   ]
  },
  {
   "cell_type": "markdown",
   "id": "nutritional-india",
   "metadata": {},
   "source": [
    "### Verificación Colombia"
   ]
  },
  {
   "cell_type": "code",
   "execution_count": null,
   "id": "latest-tourist",
   "metadata": {},
   "outputs": [],
   "source": [
    "SELECT Departamento, count(Departamento) as Frecuencia\n",
    "FROM  vDEPARTAMENTO\n",
    "WHERE Pais =\"Colombia\"\n",
    "GROUP BY Departamento\n",
    "ORDER BY FRECUENCIA DESC;"
   ]
  },
  {
   "cell_type": "code",
   "execution_count": null,
   "id": "delayed-allergy",
   "metadata": {},
   "outputs": [],
   "source": [
    "SELECT * FROM vDEPARTAMENTO\n",
    "ORDER BY Pais ASC, Departamento ASC;"
   ]
  },
  {
   "cell_type": "code",
   "execution_count": null,
   "id": "controversial-flashing",
   "metadata": {},
   "outputs": [],
   "source": []
  }
 ],
 "metadata": {
  "kernelspec": {
   "display_name": "MariaDB",
   "language": "SQL",
   "name": "mariadb_kernel"
  },
  "language_info": {
   "file_extension": ".sql",
   "mimetype": "text/plain",
   "name": "SQL"
  }
 },
 "nbformat": 4,
 "nbformat_minor": 5
}
