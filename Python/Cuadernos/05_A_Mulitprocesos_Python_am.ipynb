{
 "cells": [
  {
   "cell_type": "markdown",
   "metadata": {
    "tags": []
   },
   "source": [
    "# <span style=\"color:green\"><center>Diplomado en Big Data</center></span>"
   ]
  },
  {
   "cell_type": "markdown",
   "metadata": {},
   "source": [
    "# <span style=\"color:red\"><center> Multi-procesos y Multi-hilos en Python<center></span>"
   ]
  },
  {
   "cell_type": "markdown",
   "metadata": {},
   "source": [
    "<img src=\"../images/dask_horizontal.svg\" align=\"right\" width=\"30%\">\n"
   ]
  },
  {
   "cell_type": "markdown",
   "metadata": {},
   "source": [
    "##   <span style=\"color:blue\">Profesores</span>"
   ]
  },
  {
   "cell_type": "markdown",
   "metadata": {},
   "source": [
    "1. Alvaro Mauricio Montenegro Díaz, ammontenegrod@unal.edu.co\n",
    "2. Daniel Mauricio Montenegro Reyes, dextronomo@gmail.com "
   ]
  },
  {
   "cell_type": "markdown",
   "metadata": {},
   "source": [
    "##   <span style=\"color:blue\">Asesora Medios y Marketing digital</span>\n",
    " "
   ]
  },
  {
   "cell_type": "markdown",
   "metadata": {},
   "source": [
    "4. Maria del Pilar Montenegro, pmontenegro88@gmail.com "
   ]
  },
  {
   "cell_type": "markdown",
   "metadata": {},
   "source": [
    "## <span style=\"color:blue\">Contenido</span>"
   ]
  },
  {
   "cell_type": "markdown",
   "metadata": {},
   "source": [
    "\n",
    "* [Introducción](#Introducción)\n",
    "* [Multiprocesos](#Multiprocesos)\n",
    "* [Multihilos](#Multihilos)\n",
    "* [Creando una sección crítica y Lock para compartir datos](#Creando-una-sección-crítica-y-Lock-para-compartir-datos)\n",
    "* [Usando un grupo (pool) de trabajadores](#Usando-un-grupo-(pool)-de-trabajadores)"
   ]
  },
  {
   "cell_type": "markdown",
   "metadata": {},
   "source": [
    "## <span style=\"color:blue\">Fuente</span>"
   ]
  },
  {
   "cell_type": "markdown",
   "metadata": {},
   "source": [
    "Esta es una adaptación libre del tutorial disponible en [Multiprocesos en Python](https://www.youtube.com/watch?v=ptiAjwyqm_s)."
   ]
  },
  {
   "cell_type": "markdown",
   "metadata": {},
   "source": [
    "## <span style=\"color:blue\">Introducción</span>"
   ]
  },
  {
   "cell_type": "markdown",
   "metadata": {},
   "source": [
    "En la primera parte de esta leccion estudiamos comos construir y lanzar múltiples proceso en paralelo con Python.\n",
    "\n",
    "Los múltiple procesos corren independientemente en cada `core`disponible en su máquina y usan memoria propia, es decir no comparten memoria entre sí. Además estos procesos pueden ser detenidos individualmente.\n",
    "\n",
    "La ejecución de los multiprocesos se basan en el [GIL](https://blockgeni.com/tutorial-python-global-interpreter-lock/) (Global Interpreter Lock). Un bloqueo de intérprete global (GIL) es un mecanismo para aplicar un bloqueo global a un intérprete. Se utiliza en intérpretes de lenguaje de computadora para sincronizar y administrar la ejecución de subprocesos de modo que solo se pueda ejecutar un subproceso nativo (programado por el sistema operativo) a la vez.\n",
    "\n",
    "En un escenario en el que tiene varios subprocesos, lo que puede suceder es que ambos subprocesos intenten adquirir la memoria al mismo tiempo y, como resultado, sobrescriban los datos en la memoria. De ahí surge la necesidad de contar con un mecanismo que pueda ayudar a prevenir este fenómeno.\n",
    "\n",
    "En programación de multiprocesos se usa un GIL en cada proceso. Por los requerimientos, los multiprocesos se demoran más al iniciar que los múltiple hilos (`multi-threads`) \n",
    "\n",
    "Por su parte los hilos correspnden a múltiples caminos que puede seguir un proceso y que pueden ejecutarse en paralelo. Lo hilos dependen de un proceso y no pueden interumpirse. A diferencia de los procesos, los hilos si pueden compartir memoria.\n"
   ]
  },
  {
   "cell_type": "markdown",
   "metadata": {},
   "source": [
    "## <span style=\"color:blue\">Multiprocesos</span>"
   ]
  },
  {
   "cell_type": "markdown",
   "metadata": {},
   "source": [
    "### Importa módulos"
   ]
  },
  {
   "cell_type": "code",
   "execution_count": 2,
   "metadata": {},
   "outputs": [],
   "source": [
    "from multiprocessing import Process, Value\n",
    "import os"
   ]
  },
  {
   "cell_type": "markdown",
   "metadata": {},
   "source": [
    "### Crea una función para correr en todos los módulos en paralelo"
   ]
  },
  {
   "cell_type": "code",
   "execution_count": null,
   "metadata": {},
   "outputs": [],
   "source": [
    "Reemplace esta función por una función útil en su caso."
   ]
  },
  {
   "cell_type": "code",
   "execution_count": 3,
   "metadata": {},
   "outputs": [],
   "source": [
    "def function(numero):\n",
    "    print(os.getpid())\n",
    "    valor = 0\n",
    "    for n in range(10):\n",
    "        valor += n * n + n\n",
    "        print(valor, '-->',numero)"
   ]
  },
  {
   "cell_type": "code",
   "execution_count": 225,
   "metadata": {},
   "outputs": [
    {
     "name": "stdout",
     "output_type": "stream",
     "text": [
      "8460\n",
      "0 --> 2\n",
      "2 --> 2\n",
      "8 --> 2\n",
      "20 --> 2\n",
      "40 --> 2\n",
      "70 --> 2\n",
      "112 --> 2\n",
      "168 --> 2\n",
      "240 --> 2\n",
      "330 --> 2\n"
     ]
    }
   ],
   "source": [
    "function(2)"
   ]
  },
  {
   "cell_type": "markdown",
   "metadata": {},
   "source": [
    "### Detecta los núcleos de la máquina"
   ]
  },
  {
   "cell_type": "markdown",
   "metadata": {},
   "source": [
    "Ya estamos listos. Empezamos creando una lista de procesos e investigamos el número de núcleos de la máquina."
   ]
  },
  {
   "cell_type": "code",
   "execution_count": 4,
   "metadata": {},
   "outputs": [
    {
     "name": "stdout",
     "output_type": "stream",
     "text": [
      "Esta máquina tiene  4 núcleos\n"
     ]
    }
   ],
   "source": [
    "procesos = []\n",
    "cores = os.cpu_count()\n",
    "print('Esta máquina tiene ', cores, 'núcleos')"
   ]
  },
  {
   "cell_type": "markdown",
   "metadata": {},
   "source": [
    "### Instanciar los procesos"
   ]
  },
  {
   "cell_type": "code",
   "execution_count": 5,
   "metadata": {},
   "outputs": [
    {
     "name": "stdout",
     "output_type": "stream",
     "text": [
      "... Ejecutar ...\n"
     ]
    }
   ],
   "source": [
    "for n in range(cores):\n",
    "    proceso = Process(target=function, args=(n,))\n",
    "    procesos.append(proceso)\n",
    "\n",
    "print('... Ejecutar ...')"
   ]
  },
  {
   "cell_type": "code",
   "execution_count": 6,
   "metadata": {},
   "outputs": [
    {
     "data": {
      "text/plain": [
       "[<Process name='Process-1' parent=3894 initial>,\n",
       " <Process name='Process-2' parent=3894 initial>,\n",
       " <Process name='Process-3' parent=3894 initial>,\n",
       " <Process name='Process-4' parent=3894 initial>]"
      ]
     },
     "execution_count": 6,
     "metadata": {},
     "output_type": "execute_result"
    }
   ],
   "source": [
    "procesos"
   ]
  },
  {
   "cell_type": "markdown",
   "metadata": {},
   "source": [
    "### Iniciar los procesos"
   ]
  },
  {
   "cell_type": "code",
   "execution_count": 7,
   "metadata": {},
   "outputs": [
    {
     "name": "stdout",
     "output_type": "stream",
     "text": [
      "Espera hasta terminar...\n",
      "1044210443\n",
      "\n",
      "0 --> 10446\n",
      "00\n",
      "104512 -->0\n",
      "  0 --> 1-->\n",
      "2-->  --> 3 \n",
      " 10\n",
      "\n",
      "8822 \n",
      "  2-->--> --> 1  \n",
      "0--> 203\n",
      "2\n",
      " \n",
      "88 20 -->-->  --> 0--> 1 2\n",
      "20 --> 3\n",
      "\n",
      "\n",
      "2\n",
      "40 4040 20  -->-->-->-->  0 \n",
      "1270\n",
      " \n",
      "70 703\n",
      "  -->-->  -->040\n",
      " --> 2112\n",
      "1 \n",
      " --> 1123112  0-->\n",
      "70-->  -->  \n",
      "1168\n",
      "32\n",
      "168168  \n",
      "-->  --> 2112 \n",
      "-->--> 30\n",
      "240 1681 \n",
      "\n",
      "-->240   3-->-->\n",
      "  2402401 \n",
      "2 -->\n",
      " -->0330\n",
      "  330330  3-->--> 0\n",
      "\n",
      "-->  1\n",
      "330 2\n",
      "--> 3\n"
     ]
    }
   ],
   "source": [
    "print('Espera hasta terminar...')\n",
    "for proceso in procesos:\n",
    "    proceso.start()\n"
   ]
  },
  {
   "cell_type": "markdown",
   "metadata": {},
   "source": [
    "### Regreso a la ejecución inicial"
   ]
  },
  {
   "cell_type": "markdown",
   "metadata": {},
   "source": [
    "Termina los procesos"
   ]
  },
  {
   "cell_type": "code",
   "execution_count": 8,
   "metadata": {},
   "outputs": [
    {
     "name": "stdout",
     "output_type": "stream",
     "text": [
      "Regreso a la ejecución incial\n"
     ]
    }
   ],
   "source": [
    "for proceso in procesos:\n",
    "    proceso.join()\n",
    "print('Regreso a la ejecución incial')"
   ]
  },
  {
   "cell_type": "markdown",
   "metadata": {},
   "source": [
    "### Retornando valores de un proceso paralelo"
   ]
  },
  {
   "cell_type": "markdown",
   "metadata": {},
   "source": [
    "Primero crea un objeto de tipo Value en donde el proceso regresará el valor. Este objeto es pasado a la función de trabajo. Allí se deposita el valor a retornar en la propiedad *value*:"
   ]
  },
  {
   "cell_type": "code",
   "execution_count": 15,
   "metadata": {},
   "outputs": [],
   "source": [
    "ret_value = Value(\"d\", 0.0, lock=False)\n",
    "\n",
    "def funcion(ret_value, my_value):\n",
    "    ret_value.value = my_value*2\n",
    "\n",
    "reader_process = Process(target=funcion, args=[ret_value, 200.])\n"
   ]
  },
  {
   "cell_type": "code",
   "execution_count": 13,
   "metadata": {},
   "outputs": [],
   "source": [
    "reader_process.start()\n",
    "reader_process.join()"
   ]
  },
  {
   "cell_type": "code",
   "execution_count": 14,
   "metadata": {},
   "outputs": [
    {
     "data": {
      "text/plain": [
       "400.0"
      ]
     },
     "execution_count": 14,
     "metadata": {},
     "output_type": "execute_result"
    }
   ],
   "source": [
    "ret_value.value"
   ]
  },
  {
   "cell_type": "markdown",
   "metadata": {},
   "source": [
    "### Ahora paralelicemos completamente el proceso"
   ]
  },
  {
   "cell_type": "code",
   "execution_count": 238,
   "metadata": {},
   "outputs": [
    {
     "name": "stdout",
     "output_type": "stream",
     "text": [
      "Esta máquina tiene  4 núcleos\n",
      "[<Process name='Process-117' parent=8460 initial>, <Process name='Process-118' parent=8460 initial>, <Process name='Process-119' parent=8460 initial>, <Process name='Process-120' parent=8460 initial>]\n",
      "[c_double(0.0), c_double(0.0), c_double(0.0), c_double(0.0)]\n"
     ]
    }
   ],
   "source": [
    "# lista de procesos\n",
    "procesos = []\n",
    "output = []\n",
    "cores = os.cpu_count()\n",
    "print('Esta máquina tiene ', cores, 'núcleos')\n",
    "\n",
    "\n",
    "# instancia objetos ctype con Value para regresar los valores\n",
    "for n in range(cores):\n",
    "    output.append(Value(\"d\", 0.0, lock=False))\n",
    "\n",
    "# instancia los procesos\n",
    "j= 100\n",
    "for n in range(cores):\n",
    "    proceso = Process(target=funcion, args=(output[n], j))\n",
    "    procesos.append(proceso)\n",
    "    j += 10\n",
    "\n",
    "print(procesos)\n",
    "print(output)"
   ]
  },
  {
   "cell_type": "code",
   "execution_count": 239,
   "metadata": {},
   "outputs": [
    {
     "name": "stdout",
     "output_type": "stream",
     "text": [
      "lanza los procesos...\n",
      "Procesos terminados\n"
     ]
    }
   ],
   "source": [
    "print('lanza los procesos...')\n",
    "for proceso in procesos:\n",
    "    proceso.start()\n",
    "\n",
    "# regresa a la ejecución inicial\n",
    "for proceso in procesos:\n",
    "    proceso.join()\n",
    "\n",
    "print('Procesos terminados')"
   ]
  },
  {
   "cell_type": "markdown",
   "metadata": {},
   "source": [
    "### Muestra el resultado de todos los procesos"
   ]
  },
  {
   "cell_type": "code",
   "execution_count": 240,
   "metadata": {},
   "outputs": [
    {
     "name": "stdout",
     "output_type": "stream",
     "text": [
      "200.0\n",
      "220.0\n",
      "240.0\n",
      "260.0\n"
     ]
    }
   ],
   "source": [
    "for value in output:\n",
    "    print(value.value)"
   ]
  },
  {
   "cell_type": "markdown",
   "metadata": {},
   "source": [
    "## <span style=\"color:blue\">Multihilos</span>"
   ]
  },
  {
   "cell_type": "code",
   "execution_count": 171,
   "metadata": {},
   "outputs": [],
   "source": [
    "from threading import Thread\n",
    "import os\n",
    "import time"
   ]
  },
  {
   "cell_type": "code",
   "execution_count": 172,
   "metadata": {},
   "outputs": [],
   "source": [
    "# lista de hilos\n",
    "\n",
    "hilos = []"
   ]
  },
  {
   "cell_type": "markdown",
   "metadata": {},
   "source": [
    "### Instanciar los hilos"
   ]
  },
  {
   "cell_type": "code",
   "execution_count": 173,
   "metadata": {},
   "outputs": [
    {
     "name": "stdout",
     "output_type": "stream",
     "text": [
      "... Ejecutar ...\n"
     ]
    }
   ],
   "source": [
    "for n in range(cores):\n",
    "    hilo = Thread(target=function, args=(n,))\n",
    "    hilos.append(hilo)\n",
    "\n",
    "print('... Ejecutar ...')"
   ]
  },
  {
   "cell_type": "code",
   "execution_count": 174,
   "metadata": {},
   "outputs": [
    {
     "data": {
      "text/plain": [
       "[<Thread(Thread-4, initial)>,\n",
       " <Thread(Thread-5, initial)>,\n",
       " <Thread(Thread-6, initial)>,\n",
       " <Thread(Thread-7, initial)>]"
      ]
     },
     "execution_count": 174,
     "metadata": {},
     "output_type": "execute_result"
    }
   ],
   "source": [
    "hilos"
   ]
  },
  {
   "cell_type": "markdown",
   "metadata": {},
   "source": [
    "### Iniciar y finalizar los hilos"
   ]
  },
  {
   "cell_type": "code",
   "execution_count": 175,
   "metadata": {},
   "outputs": [
    {
     "name": "stdout",
     "output_type": "stream",
     "text": [
      "Espera hasta terminar...\n",
      "8460\n",
      "0 --> 0\n",
      "2 --> 0\n",
      "8460\n",
      "0 --> 1\n",
      "2 --> 1\n",
      "8 --> 1\n",
      "20 --> 1\n",
      "40 --> 1\n",
      "70 --> 1\n",
      "112 --> 1\n",
      "168 --> 1\n",
      "240 --> 1\n",
      "330 --> 1\n",
      "8 --> 0\n",
      "20 --> 0\n",
      "40 --> 0\n",
      "70 --> 0\n",
      "112 --> 0\n",
      "168 --> 0\n",
      "240 --> 0\n",
      "330 --> 0\n",
      "8460\n",
      "0 --> 2\n",
      "2 --> 2\n",
      "8 --> 2\n",
      "20 --> 2\n",
      "40 --> 2\n",
      "70 --> 2\n",
      "112 --> 2\n",
      "168 --> 2\n",
      "240 --> 2\n",
      "330 --> 2\n",
      "8460\n",
      "0 --> 3\n",
      "2 --> 3\n",
      "8 --> 3\n",
      "20 --> 3\n",
      "40 --> 3\n",
      "70 --> 3\n",
      "112 --> 3\n",
      "168 --> 3\n",
      "240 --> 3\n",
      "330 --> 3\n",
      "Regreso a la ejecución inicial\n"
     ]
    }
   ],
   "source": [
    "print('Espera hasta terminar...')\n",
    "for hilo in hilos:\n",
    "    hilo.start()\n",
    "\n",
    "for hilo in hilos:\n",
    "    hilo.join()\n",
    "\n",
    "print('Regreso a la ejecución inicial')    \n",
    "\n"
   ]
  },
  {
   "cell_type": "markdown",
   "metadata": {},
   "source": [
    "### Un ejemplo de hilos usando colas para recibir la salida de los hilos"
   ]
  },
  {
   "cell_type": "code",
   "execution_count": 16,
   "metadata": {},
   "outputs": [
    {
     "name": "stdout",
     "output_type": "stream",
     "text": [
      "hello world!\n",
      "foo\n"
     ]
    }
   ],
   "source": [
    "from queue import Queue\n",
    "from threading import Thread\n",
    "\n",
    "def foo(bar):\n",
    "    print('hello {0}'.format(bar))\n",
    "    return 'foo'\n",
    "\n",
    "que = Queue()\n",
    "\n",
    "t = Thread(target=lambda q, arg1: q.put(foo(arg1)), args=(que, 'world!'))\n",
    "t.start()\n",
    "t.join()\n",
    "result = que.get()\n",
    "print(result)"
   ]
  },
  {
   "cell_type": "markdown",
   "metadata": {},
   "source": [
    "### Compartir datos en hilos"
   ]
  },
  {
   "cell_type": "markdown",
   "metadata": {},
   "source": [
    "En esta sección vemos lo que ocurre cuando compartimos una variable global (memoria) entre varios hilos"
   ]
  },
  {
   "cell_type": "code",
   "execution_count": 185,
   "metadata": {},
   "outputs": [],
   "source": [
    "from threading import Thread\n",
    "import time"
   ]
  },
  {
   "cell_type": "code",
   "execution_count": 188,
   "metadata": {},
   "outputs": [],
   "source": [
    "# variable global a compartir\n",
    "valor = 0"
   ]
  },
  {
   "cell_type": "code",
   "execution_count": 191,
   "metadata": {},
   "outputs": [],
   "source": [
    "# definimos el método (función) que usaran los hilos\n",
    "def procesa():\n",
    "    global valor\n",
    "    # copia local de la variable global\n",
    "    varLocal =  valor\n",
    "    # proceso con la variable local\n",
    "    varLocal += 1\n",
    "    # simula otro proceso adicional\n",
    "    time.sleep(0.1)\n",
    "    # después del proceso, actualizamos la variable global compartida\n",
    "    valor = varLocal"
   ]
  },
  {
   "cell_type": "code",
   "execution_count": 192,
   "metadata": {},
   "outputs": [
    {
     "name": "stdout",
     "output_type": "stream",
     "text": [
      "Valor al inicio  0\n"
     ]
    }
   ],
   "source": [
    "# valor global inicial\n",
    "print('Valor al inicio ', valor)"
   ]
  },
  {
   "cell_type": "code",
   "execution_count": 193,
   "metadata": {},
   "outputs": [],
   "source": [
    "# define dos hilos\n",
    "hilo1 = Thread(target=procesa)\n",
    "hilo2 = Thread(target=procesa)\n",
    "\n",
    "# lanza los hilos\n",
    "hilo1.start()\n",
    "hilo2.start()\n",
    "\n",
    "# temina los hilos\n",
    "hilo1.join()\n",
    "hilo2.join()"
   ]
  },
  {
   "cell_type": "code",
   "execution_count": 194,
   "metadata": {},
   "outputs": [
    {
     "name": "stdout",
     "output_type": "stream",
     "text": [
      "Valor al final  1\n"
     ]
    }
   ],
   "source": [
    "# valor global  final\n",
    "print('Valor al final ', valor)"
   ]
  },
  {
   "cell_type": "markdown",
   "metadata": {},
   "source": [
    "### ¿Qué ocurrió?"
   ]
  },
  {
   "cell_type": "markdown",
   "metadata": {},
   "source": [
    "Esperabamos un valor final de 2, pero el valor final fue 1. Recuerde que los procesos manejan sus propios recursos de manera separada a los demás procesos y que cada proceso tiene uno o más hilos. Por lo menos tiene un hilo principal. La imagen ilustra un proceso con varios hilos. El problema en nuestro ejercicio anterior es que el sistema operativo (S.O) otorga en secuencia fragmentos de tiempo a cada hilo. El usuario tiene la sensación de que el proceso es paralelo, pero en realidad no lo es. Es esta caso, al colocar el proceso dado por *time.sleep*, toma mucho tiempo y el S.O entrega el control al otro hilo.\n",
    "\n",
    "![Hilos](../Imagenes/threads_400.png)"
   ]
  },
  {
   "cell_type": "markdown",
   "metadata": {},
   "source": [
    "Vamos a modificar la función procesa, imprimiendo el valor dentro de cada hilo de cada  y observemos lo que sucede."
   ]
  },
  {
   "cell_type": "code",
   "execution_count": 201,
   "metadata": {},
   "outputs": [],
   "source": [
    "# definimos el método (función) que usaran los hilos\n",
    "def procesa():\n",
    "    global valor\n",
    "    # copia local de la variable global\n",
    "    varLocal =  valor\n",
    "    print(' valor global leído en el hilo ', varLocal)\n",
    "    # proceso con la variable local\n",
    "    varLocal += 1\n",
    "    # simula otro proceso adicional\n",
    "    time.sleep(0.1)\n",
    "    # después del proceso, actualizamos la variable global compartida\n",
    "    valor = varLocal"
   ]
  },
  {
   "cell_type": "code",
   "execution_count": 205,
   "metadata": {},
   "outputs": [
    {
     "name": "stdout",
     "output_type": "stream",
     "text": [
      "Valor al inicio  0\n",
      " valor global leído en el hilo  0 valor global leído en el hilo  0\n",
      "\n",
      "Valor al final  1\n"
     ]
    }
   ],
   "source": [
    "# define dos hilos\n",
    "valor =0\n",
    "print('Valor al inicio ', valor)\n",
    "\n",
    "hilo1 = Thread(target=procesa)\n",
    "hilo2 = Thread(target=procesa)\n",
    "\n",
    "# lanza los hilos\n",
    "hilo1.start()\n",
    "hilo2.start()\n",
    "\n",
    "# temina los hilos\n",
    "hilo1.join()\n",
    "hilo2.join()\n",
    "\n",
    "print('Valor al final ', valor)"
   ]
  },
  {
   "cell_type": "code",
   "execution_count": null,
   "metadata": {},
   "outputs": [],
   "source": [
    "Ahora vamos a quitar el segundo proceso en lña función y observamos"
   ]
  },
  {
   "cell_type": "code",
   "execution_count": 204,
   "metadata": {},
   "outputs": [],
   "source": [
    "# definimos el método (función) que usaran los hilos\n",
    "def procesa():\n",
    "    global valor\n",
    "    # copia local de la variable global\n",
    "    varLocal =  valor\n",
    "    print(' valor global leído en el hilo ', varLocal)\n",
    "    # proceso con la variable local\n",
    "    varLocal += 1\n",
    "    # simula otro proceso adicional\n",
    "    #time.sleep(0.1)\n",
    "    # después del proceso, actualizamos la variable global compartida\n",
    "    valor = varLocal"
   ]
  },
  {
   "cell_type": "code",
   "execution_count": 206,
   "metadata": {},
   "outputs": [
    {
     "name": "stdout",
     "output_type": "stream",
     "text": [
      "Valor al inicio  0\n",
      " valor global leído en el hilo  0\n",
      " valor global leído en el hilo  1\n",
      "Valor al final  2\n"
     ]
    }
   ],
   "source": [
    "# define dos hilos\n",
    "valor =0\n",
    "print('Valor al inicio ', valor)\n",
    "\n",
    "hilo1 = Thread(target=procesa)\n",
    "hilo2 = Thread(target=procesa)\n",
    "\n",
    "# lanza los hilos\n",
    "hilo1.start()\n",
    "hilo2.start()\n",
    "\n",
    "# temina los hilos\n",
    "hilo1.join()\n",
    "hilo2.join()\n",
    "\n",
    "print('Valor al final ', valor)"
   ]
  },
  {
   "cell_type": "markdown",
   "metadata": {},
   "source": [
    "Lo que comprueba lo dicho arriba. Queda entonces la tarea de ver como evitar el problema presentado aquí."
   ]
  },
  {
   "cell_type": "markdown",
   "metadata": {},
   "source": [
    "## <span style=\"color:blue\">Creando una sección crítica y Lock para compartir datos</span>"
   ]
  },
  {
   "cell_type": "markdown",
   "metadata": {},
   "source": [
    "### Compartir datos en hilos"
   ]
  },
  {
   "cell_type": "markdown",
   "metadata": {},
   "source": [
    "Estudiamos como crear una sección crítica y el uso de Lock en un hilo. Una sección crítica es una sección de código escrito de tal manera que solamente un hilo pueda ejecutar esa sección a la vez. con *Lock* podemos crear la sección crítica.\n",
    "\n",
    "Junto con Lock debemos indicar en donde comienza y en donde termina la sección crítica."
   ]
  },
  {
   "cell_type": "code",
   "execution_count": 212,
   "metadata": {},
   "outputs": [],
   "source": [
    "from threading import Thread, Lock\n",
    "import time"
   ]
  },
  {
   "cell_type": "code",
   "execution_count": 209,
   "metadata": {},
   "outputs": [],
   "source": [
    "# variable global que vamos a compartir\n",
    "valor = 0"
   ]
  },
  {
   "cell_type": "code",
   "execution_count": 210,
   "metadata": {},
   "outputs": [],
   "source": [
    "# definimos el método (función) que usaran los hilos\n",
    "def procesa(lock): # lock será un objeto de tipo Lock\n",
    "    # valor global a compartir\n",
    "    global valor\n",
    "    \n",
    "    # inicio de la sección crítica\n",
    "    lock.acquire()\n",
    "    \n",
    "    # copia local de la variable global\n",
    "    varLocal =  valor\n",
    "    \n",
    "\n",
    "    #print(' valor global leído en el hilo ', varLocal)\n",
    "    # proceso con la variable local\n",
    "    varLocal += 1\n",
    "    # simula otro proceso adicional\n",
    "    time.sleep(0.1)\n",
    "    # después del proceso, actualizamos la variable global compartida\n",
    "    valor = varLocal\n",
    "    \n",
    "    # final de l sección crítica\n",
    "    lock.release()\n",
    "    "
   ]
  },
  {
   "cell_type": "markdown",
   "metadata": {},
   "source": [
    "####  Ejecución con Lock para definir una sección crítica"
   ]
  },
  {
   "cell_type": "code",
   "execution_count": 213,
   "metadata": {},
   "outputs": [
    {
     "name": "stdout",
     "output_type": "stream",
     "text": [
      "valor de inicio  0\n",
      "Valor al final  2\n"
     ]
    }
   ],
   "source": [
    "print('valor de inicio ', valor)\n",
    "\n",
    "# crea el objeto Lock\n",
    "lock = Lock()\n",
    "\n",
    "# define dos hilos\n",
    "hilo1 = Thread(target=procesa, args=(lock,))\n",
    "hilo2 = Thread(target=procesa, args=(lock,))\n",
    "\n",
    "# lanza los hilos\n",
    "hilo1.start()\n",
    "hilo2.start()\n",
    "\n",
    "# temina los hilos\n",
    "hilo1.join()\n",
    "hilo2.join()\n",
    "\n",
    "print('Valor al final ', valor)"
   ]
  },
  {
   "cell_type": "markdown",
   "metadata": {},
   "source": [
    "### Compartir datos en procesos"
   ]
  },
  {
   "cell_type": "code",
   "execution_count": 214,
   "metadata": {},
   "outputs": [],
   "source": [
    "from multiprocessing import Process, Value\n",
    "import time"
   ]
  },
  {
   "cell_type": "code",
   "execution_count": 219,
   "metadata": {},
   "outputs": [],
   "source": [
    "# Definimos el proceso que correremos en paralelo\n",
    "\n",
    "def proceso(pNumero):\n",
    "    for n in range(100):\n",
    "        time.sleep(0.01)\n",
    "        pNumero.value += 1\n",
    "        "
   ]
  },
  {
   "cell_type": "markdown",
   "metadata": {},
   "source": [
    "#### Ejecución principal"
   ]
  },
  {
   "cell_type": "code",
   "execution_count": 220,
   "metadata": {},
   "outputs": [
    {
     "name": "stdout",
     "output_type": "stream",
     "text": [
      "Numero al final 172\n"
     ]
    }
   ],
   "source": [
    "# Creamos el objeto de tipo ctype con Value\n",
    "numero = Value('i',0)\n",
    "\n",
    "# Creamos instancias de los procesos\n",
    "\n",
    "p1 = Process(target=proceso, args=(numero,))\n",
    "p2 = Process(target=proceso, args=(numero,))\n",
    "\n",
    "# lanza y termina los procesos\n",
    "p1.start()\n",
    "p2.start()\n",
    "\n",
    "p1.join()\n",
    "p2.join()\n",
    "\n",
    "print('Numero al final', numero.value)"
   ]
  },
  {
   "cell_type": "markdown",
   "metadata": {},
   "source": [
    "#### Creación de la sección critica."
   ]
  },
  {
   "cell_type": "markdown",
   "metadata": {},
   "source": [
    "Como vemos el resultado no es el esperado como sucedióncon los hilos. Será necesario entonces pasar un objeto Lock a la función *proceso* y definir una sección crítica adentro. Veámos:"
   ]
  },
  {
   "cell_type": "code",
   "execution_count": 221,
   "metadata": {},
   "outputs": [],
   "source": [
    "# Definimos el proceso que correremos en paralelo, incluyeno un objeto Lock como parámetro\n",
    "\n",
    "def proceso(pNumero, lock):\n",
    "    for n in range(100):\n",
    "        time.sleep(0.01)\n",
    "        # sección crítica\n",
    "        lock.acquire()\n",
    "        pNumero.value += 1\n",
    "        lock.release()\n",
    "   "
   ]
  },
  {
   "cell_type": "markdown",
   "metadata": {},
   "source": [
    "#### Ejecución principal"
   ]
  },
  {
   "cell_type": "code",
   "execution_count": 223,
   "metadata": {},
   "outputs": [
    {
     "name": "stdout",
     "output_type": "stream",
     "text": [
      "Numero al comienzo 0\n",
      "Numero al final 200\n"
     ]
    }
   ],
   "source": [
    "# Creamos el objeto Value\n",
    "numero = Value('i',0)\n",
    "print('Numero al comienzo', numero.value)\n",
    "\n",
    "\n",
    "# creamos el objeto Lock\n",
    "lock = Lock()\n",
    "\n",
    "# Creamos instancias de los procesos\n",
    "\n",
    "p1 = Process(target=proceso, args=(numero, lock))\n",
    "p2 = Process(target=proceso, args=(numero, lock))\n",
    "\n",
    "# lanza y termina los procesos\n",
    "p1.start()\n",
    "p2.start()\n",
    "\n",
    "p1.join()\n",
    "p2.join()\n",
    "\n",
    "print('Numero al final', numero.value)"
   ]
  },
  {
   "cell_type": "markdown",
   "metadata": {},
   "source": [
    "## <span style=\"color:blue\">Usando un grupo (pool) de trabajadores </span>"
   ]
  },
  {
   "cell_type": "markdown",
   "metadata": {},
   "source": [
    "El objeto `Pool`, que ofrece un medio conveniente para paralelizar la ejecución de una función a través de múltiples valores de entrada, distribuyendo los datos de entrada entre procesos (paralelismo de datos).\n",
    "\n",
    "La clase Pool representa un grupo de procesos de trabajo. Tiene métodos que permiten que las tareas se descarguen a los procesos de trabajo de diferentes formas."
   ]
  },
  {
   "cell_type": "code",
   "execution_count": 1,
   "metadata": {},
   "outputs": [
    {
     "name": "stdout",
     "output_type": "stream",
     "text": [
      "[0, 1, 4, 9, 16, 25, 36, 49, 64, 81]\n",
      "0\n",
      "1\n",
      "9\n",
      "4\n",
      "16\n",
      "25\n",
      "36\n",
      "49\n",
      "64\n",
      "81\n",
      "400\n",
      "33857\n",
      "[33858, 33859, 33860, 33857]\n",
      "We lacked patience and got a multiprocessing.TimeoutError\n",
      "For the moment, the pool remains available for more work\n",
      "Now the pool is closed and no longer available\n"
     ]
    }
   ],
   "source": [
    "from multiprocessing import Pool, TimeoutError\n",
    "import time\n",
    "import os\n",
    "\n",
    "def f(x):\n",
    "    return x*x\n",
    "\n",
    "if __name__ == '__main__':\n",
    "    # start 4 worker processes\n",
    "    with Pool(processes=4) as pool:\n",
    "\n",
    "        # print \"[0, 1, 4,..., 81]\"\n",
    "        print(pool.map(f, range(10)))\n",
    "\n",
    "        # print same numbers in arbitrary order\n",
    "        for i in pool.imap_unordered(f, range(10)):\n",
    "            print(i)\n",
    "\n",
    "        # evaluate \"f(20)\" asynchronously\n",
    "        res = pool.apply_async(f, (20,))      # runs in *only* one process\n",
    "        print(res.get(timeout=1))             # prints \"400\"\n",
    "\n",
    "        # evaluate \"os.getpid()\" asynchronously\n",
    "        res = pool.apply_async(os.getpid, ()) # runs in *only* one process\n",
    "        print(res.get(timeout=1))             # prints the PID of that process\n",
    "\n",
    "        # launching multiple evaluations asynchronously *may* use more processes\n",
    "        multiple_results = [pool.apply_async(os.getpid, ()) for i in range(4)]\n",
    "        print([res.get(timeout=1) for res in multiple_results])\n",
    "\n",
    "        # make a single worker sleep for 10 secs\n",
    "        res = pool.apply_async(time.sleep, (10,))\n",
    "        try:\n",
    "            print(res.get(timeout=1))\n",
    "        except TimeoutError:\n",
    "            print(\"We lacked patience and got a multiprocessing TimeoutError\")\n",
    "\n",
    "        print(\"For the moment, the pool remains available for more work\")\n",
    "\n",
    "    # exiting the 'with'-block has stopped the pool\n",
    "    print(\"Now the pool is closed and no longer available\")"
   ]
  },
  {
   "cell_type": "markdown",
   "metadata": {},
   "source": [
    "Eso es todo!!!"
   ]
  }
 ],
 "metadata": {
  "anaconda-cloud": {},
  "kernelspec": {
   "display_name": "Python 3",
   "language": "python",
   "name": "python3"
  },
  "language_info": {
   "codemirror_mode": {
    "name": "ipython",
    "version": 3
   },
   "file_extension": ".py",
   "mimetype": "text/x-python",
   "name": "python",
   "nbconvert_exporter": "python",
   "pygments_lexer": "ipython3",
   "version": "3.8.8"
  }
 },
 "nbformat": 4,
 "nbformat_minor": 4
}
