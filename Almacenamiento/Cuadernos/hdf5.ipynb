{
 "cells": [
  {
   "cell_type": "markdown",
   "id": "steady-rocket",
   "metadata": {
    "tags": []
   },
   "source": [
    "# <span style=\"color:green\"><center>Diplomado en Big Data</center></span>"
   ]
  },
  {
   "cell_type": "markdown",
   "id": "competitive-makeup",
   "metadata": {},
   "source": [
    "# <span style=\"color:red\"><center>HDF5<center></span>"
   ]
  },
  {
   "cell_type": "markdown",
   "id": "satisfied-brass",
   "metadata": {},
   "source": [
    "##   <span style=\"color:blue\">Profesores</span>"
   ]
  },
  {
   "cell_type": "markdown",
   "id": "compatible-crest",
   "metadata": {},
   "source": [
    "1. Alvaro Mauricio Montenegro Díaz, ammontenegrod@unal.edu.co\n",
    "1. Daniel Mauricio Montenegro Reyes, dextronomo@gmail.com \n"
   ]
  },
  {
   "cell_type": "markdown",
   "id": "conservative-trading",
   "metadata": {},
   "source": [
    "##   <span style=\"color:blue\">Asesora Medios y Marketing digital</span>\n",
    " "
   ]
  },
  {
   "cell_type": "markdown",
   "id": "primary-module",
   "metadata": {},
   "source": [
    "1. Maria del Pilar Montenegro, pmontenegro88@gmail.com "
   ]
  },
  {
   "cell_type": "markdown",
   "id": "italian-debut",
   "metadata": {},
   "source": [
    "## <span style=\"color:blue\">Asistentes</span>"
   ]
  },
  {
   "cell_type": "markdown",
   "id": "awful-sucking",
   "metadata": {},
   "source": [
    "1. Oleg Jarma, ojarmam@unal.edu.co "
   ]
  },
  {
   "cell_type": "markdown",
   "id": "computational-speaking",
   "metadata": {},
   "source": [
    "## <span style=\"color:blue\">Contenido</span>"
   ]
  },
  {
   "cell_type": "markdown",
   "id": "controlled-balloon",
   "metadata": {},
   "source": [
    "* [Introducción](#Introducción)\n",
    "* [Primeros pasos con archivos HDF5](#Primeros-pasos-con-archivos-HDF5)\n",
    "* [Datasets HDF5](#Datasets-HDF5)\n",
    "* [Fragmentación (chunking) y compresión](#Fragmentación-(chunking)-y-compresión)\n",
    "* [Grupos, enlaces e iteración](#Grupos,-enlaces-e-iteración)\n"
   ]
  },
  {
   "cell_type": "markdown",
   "id": "thousand-lindsay",
   "metadata": {},
   "source": [
    "## <span style=\"color:blue\">Introducción</span>"
   ]
  },
  {
   "cell_type": "markdown",
   "id": "renewable-monaco",
   "metadata": {},
   "source": [
    "En esta lección revisamos uno de lso formatos más usados para el almacenamiento de datos de tipo científicos. HDF5 es recomendado para registrar informaciones secuenciales, por ejemplo proveniente de medidas de equipos científicos, salud, etc.\n",
    "\n",
    "Los datos que se almacenan en archivos de tipo HDF5 se llaman datasets y básicamente corresponden a arrays multidimensionales.\n",
    "\n",
    "Cuando los datos son de tipo tabular (tipos tabla de datos o dataframes) otrso formatos son recomendados, como por ejemplo el formato *parquet*."
   ]
  },
  {
   "cell_type": "code",
   "execution_count": 1,
   "id": "massive-eligibility",
   "metadata": {},
   "outputs": [],
   "source": [
    "#! conda install h5py"
   ]
  },
  {
   "cell_type": "markdown",
   "id": "forbidden-greeting",
   "metadata": {},
   "source": [
    "### Importar modulos"
   ]
  },
  {
   "cell_type": "code",
   "execution_count": 2,
   "id": "military-nickel",
   "metadata": {},
   "outputs": [],
   "source": [
    "import numpy as np\n",
    "import h5py\n",
    "\n",
    "import os"
   ]
  },
  {
   "cell_type": "code",
   "execution_count": 3,
   "id": "respiratory-genius",
   "metadata": {},
   "outputs": [],
   "source": [
    "### define carpeta de trabajo"
   ]
  },
  {
   "cell_type": "markdown",
   "id": "palestinian-translator",
   "metadata": {},
   "source": [
    "### Organización de datos y metadatos"
   ]
  },
  {
   "cell_type": "markdown",
   "id": "suspended-lewis",
   "metadata": {},
   "source": [
    "### Genera datos simulados"
   ]
  },
  {
   "cell_type": "code",
   "execution_count": 4,
   "id": "alert-retailer",
   "metadata": {},
   "outputs": [],
   "source": [
    "# reproducibilidad\n",
    "np.random.seed(100)\n",
    "\n",
    "# Temperatura\n",
    "temperatura_15 = np.random.random(1024) # temperaturas estación. 15\n",
    "temperatura_10 = np.random.random(1024)\n",
    "\n",
    "# Viento\n",
    "viento_15 = np.random.random(2048)\n",
    "viento_10 = np.random.random(2048)\n",
    "\n",
    "estacion_15 = 15  # estación 15\n",
    "estacion_10 = 10\n",
    "\n",
    "dt_temp = 10 # delta-T temperatura\n",
    "dt_viento = 20\n",
    "\n",
    "start_time_temp_15 = 1375204299 # en Unix time\n",
    "start_time_temp_10 = 1375204500 # en Unix time\n",
    "start_time_viento_15 = 137550000\n",
    "start_time_viento_10 = 137550000\n",
    "\n"
   ]
  },
  {
   "cell_type": "code",
   "execution_count": 5,
   "id": "resistant-caribbean",
   "metadata": {},
   "outputs": [
    {
     "name": "stdout",
     "output_type": "stream",
     "text": [
      "[0.54340494 0.27836939 0.42451759 ... 0.24908888 0.27119505 0.05880634]\n"
     ]
    }
   ],
   "source": [
    "print(temperatura_15)"
   ]
  },
  {
   "cell_type": "markdown",
   "id": "acting-sender",
   "metadata": {},
   "source": [
    "### Vamos a crear la siguiente estructura"
   ]
  },
  {
   "cell_type": "markdown",
   "id": "narrative-staff",
   "metadata": {},
   "source": [
    "* Archivo : clima.hdf5\n",
    "* Estación (15 para el ejemplo): /15/\n",
    "* Temperatura: /15/temperatura\n",
    "* Viento: /15/viento"
   ]
  },
  {
   "cell_type": "code",
   "execution_count": 6,
   "id": "express-figure",
   "metadata": {},
   "outputs": [
    {
     "name": "stdout",
     "output_type": "stream",
     "text": [
      "../Datos/clima.hdf5\n",
      "<HDF5 file \"clima.hdf5\" (mode r+)>\n"
     ]
    }
   ],
   "source": [
    "folder = '../Datos/'\n",
    "file_name = \"clima.hdf5\" # archivo\n",
    "file = os.path.join(folder, file_name)\n",
    "\n",
    "f = h5py.File(file, mode='w') \n",
    "print(file)\n",
    "print(f)"
   ]
  },
  {
   "cell_type": "code",
   "execution_count": 7,
   "id": "sensitive-thursday",
   "metadata": {},
   "outputs": [],
   "source": [
    " \n",
    "f['/15/temperatura'] = temperatura_15\n",
    "f['/15/temperatura'].attrs[\"dt\"] = dt_temp\n",
    "f['/15/temperatura'].attrs['star_time'] = start_time_temp_15\n",
    "\n",
    "f['/15/viento'] = viento_15\n",
    "f['/15/viento'].attrs[\"dt\"] = dt_viento\n",
    "f['/15/viento'].attrs['star_time'] = start_time_viento_15\n",
    "\n",
    "f['/10/temperatura'] = temperatura_10\n",
    "f['/10/temperatura'].attrs[\"dt\"] = dt_temp\n",
    "f['/10/temperatura'].attrs['star_time'] = start_time_temp_10\n",
    "\n",
    "f['/10/viento'] = viento_10\n",
    "f['/10/viento'].attrs[\"dt\"] = dt_viento\n",
    "f['/10/viento'].attrs['star_time'] = start_time_viento_10\n",
    "\n",
    "f.close()"
   ]
  },
  {
   "cell_type": "markdown",
   "id": "surprising-involvement",
   "metadata": {},
   "source": [
    "### Recupera datos del archivo"
   ]
  },
  {
   "cell_type": "code",
   "execution_count": 8,
   "id": "interior-drain",
   "metadata": {},
   "outputs": [],
   "source": [
    "file = os.path.join(folder, file_name)\n",
    "f = h5py.File(file, mode='r') \n"
   ]
  },
  {
   "cell_type": "code",
   "execution_count": 9,
   "id": "comic-patent",
   "metadata": {},
   "outputs": [
    {
     "data": {
      "text/plain": [
       "<KeysViewHDF5 ['10', '15']>"
      ]
     },
     "execution_count": 9,
     "metadata": {},
     "output_type": "execute_result"
    }
   ],
   "source": [
    "f.keys()"
   ]
  },
  {
   "cell_type": "code",
   "execution_count": 10,
   "id": "united-lodging",
   "metadata": {},
   "outputs": [],
   "source": [
    "group_15 = f['/15']"
   ]
  },
  {
   "cell_type": "code",
   "execution_count": 11,
   "id": "labeled-homework",
   "metadata": {},
   "outputs": [
    {
     "data": {
      "text/plain": [
       "<HDF5 group \"/15\" (2 members)>"
      ]
     },
     "execution_count": 11,
     "metadata": {},
     "output_type": "execute_result"
    }
   ],
   "source": [
    "group_15"
   ]
  },
  {
   "cell_type": "code",
   "execution_count": 12,
   "id": "athletic-privilege",
   "metadata": {},
   "outputs": [
    {
     "data": {
      "text/plain": [
       "<KeysViewHDF5 ['temperatura', 'viento']>"
      ]
     },
     "execution_count": 12,
     "metadata": {},
     "output_type": "execute_result"
    }
   ],
   "source": [
    "group_15.keys()"
   ]
  },
  {
   "cell_type": "code",
   "execution_count": 13,
   "id": "insured-miracle",
   "metadata": {},
   "outputs": [
    {
     "name": "stdout",
     "output_type": "stream",
     "text": [
      "dt: 10\n",
      "star_time: 1375204299\n"
     ]
    }
   ],
   "source": [
    "dataset = f['/15/temperatura']\n",
    "\n",
    "for key, value in dataset.attrs.items():\n",
    "    print('%s: %s' %  (key, value))"
   ]
  },
  {
   "cell_type": "markdown",
   "id": "polyphonic-stationery",
   "metadata": {},
   "source": [
    "### Rebanado(slicing) de datasets"
   ]
  },
  {
   "cell_type": "code",
   "execution_count": 14,
   "id": "proprietary-sponsorship",
   "metadata": {},
   "outputs": [
    {
     "data": {
      "text/plain": [
       "array([0.54340494, 0.27836939, 0.42451759, 0.84477613, 0.00471886,\n",
       "       0.12156912, 0.67074908, 0.82585276, 0.13670659, 0.57509333])"
      ]
     },
     "execution_count": 14,
     "metadata": {},
     "output_type": "execute_result"
    }
   ],
   "source": [
    "dataset[0:10]"
   ]
  },
  {
   "cell_type": "code",
   "execution_count": 15,
   "id": "documentary-jurisdiction",
   "metadata": {},
   "outputs": [
    {
     "data": {
      "text/plain": [
       "h5py._hl.dataset.Dataset"
      ]
     },
     "execution_count": 15,
     "metadata": {},
     "output_type": "execute_result"
    }
   ],
   "source": [
    "type(dataset)"
   ]
  },
  {
   "cell_type": "code",
   "execution_count": 16,
   "id": "adequate-filter",
   "metadata": {},
   "outputs": [
    {
     "data": {
      "text/plain": [
       "0.4948712717532915"
      ]
     },
     "execution_count": 16,
     "metadata": {},
     "output_type": "execute_result"
    }
   ],
   "source": [
    "np.mean(dataset)"
   ]
  },
  {
   "cell_type": "code",
   "execution_count": 17,
   "id": "crucial-stranger",
   "metadata": {},
   "outputs": [
    {
     "data": {
      "text/plain": [
       "(1024,)"
      ]
     },
     "execution_count": 17,
     "metadata": {},
     "output_type": "execute_result"
    }
   ],
   "source": [
    "dataset.shape"
   ]
  },
  {
   "cell_type": "markdown",
   "id": "informed-measurement",
   "metadata": {},
   "source": [
    "## <span style=\"color:blue\">Primeros pasos con archivos HDF5</span>"
   ]
  },
  {
   "cell_type": "markdown",
   "id": "eight-latex",
   "metadata": {},
   "source": [
    "HDF5 utiliza un sistema de tipos muy similar a Numpy. Cada `array` (dataset) o conjunto de datos en un archivo HDF5 tiene un tipo fijo representado por un objeto de tipo. El paquete `h5py` mapea automáticamente el HDF5\n",
    "type system en NumPy dtypes, lo que, entre otras cosas, facilita el intercambio\n",
    "datos con NumPy.\n",
    "\n",
    "Por ejemplo, HDF5, toma prestada esta sintaxis de \"corte\" para permitir cargar solo porciones de un conjunto de datos"
   ]
  },
  {
   "cell_type": "markdown",
   "id": "geographic-liquid",
   "metadata": {},
   "source": [
    "### Mi primer archivo hdf5 "
   ]
  },
  {
   "cell_type": "code",
   "execution_count": null,
   "id": "authorized-russian",
   "metadata": {},
   "outputs": [],
   "source": [
    "import h5py\n",
    "\n",
    "f = h5py.File(\"../Datos/nombre.hdf5\",\"a\")\n",
    "f.close()"
   ]
  },
  {
   "cell_type": "markdown",
   "id": "cosmetic-mississippi",
   "metadata": {},
   "source": [
    "### Modos de abrir una archivo"
   ]
  },
  {
   "cell_type": "raw",
   "id": "greater-tourist",
   "metadata": {},
   "source": [
    "f = h5py.File(\"../data/nombre.hdf5\",\"w\") # Nuevo archivo. Si existe lo reescribe\n",
    "f = h5py.File(\"../data/nombre.hdf5\",\"w-\") # Nuevo archivo, solo si no existe\n",
    "f = h5py.File(\"../data/nombre.hdf5\",\"r\") # Abre solo lectura. Debe existir\n",
    "f = h5py.File(\"../data/nombre.hdf5\",\"r+\") # Abre lectura y escritura. Debe existir\n",
    "f = h5py.File(\"../data/nombre.hdf5\",\"a\") # Abre lectura y escritura. Si no existe, lo crea"
   ]
  },
  {
   "cell_type": "markdown",
   "id": "brilliant-contact",
   "metadata": {},
   "source": [
    "### Usando un manejador de contexto"
   ]
  },
  {
   "cell_type": "markdown",
   "id": "angry-melissa",
   "metadata": {},
   "source": [
    "El  ejemplo típico de manejo de contexto con archivos es"
   ]
  },
  {
   "cell_type": "code",
   "execution_count": null,
   "id": "rubber-learning",
   "metadata": {},
   "outputs": [],
   "source": [
    "with open(\"../data/garbage.txt\",\"w\") as f:\n",
    "    f.write(\"Hello!\")\n",
    "    "
   ]
  },
  {
   "cell_type": "markdown",
   "id": "canadian-australia",
   "metadata": {},
   "source": [
    "Cuando se sale del contexto, el archvo se cierra automáticamente.\n",
    "\n",
    "Podemos hacer lo mismo con archivos hdf5"
   ]
  },
  {
   "cell_type": "code",
   "execution_count": null,
   "id": "choice-racing",
   "metadata": {},
   "outputs": [],
   "source": [
    "with h5py.File(\"../data/nombre.hdf5\",\"w\") as f:\n",
    "    print(f[\"dataset_perdido\"]) # error dataset no existe en el archivo\n",
    "\n"
   ]
  },
  {
   "cell_type": "code",
   "execution_count": null,
   "id": "major-strengthening",
   "metadata": {},
   "outputs": [],
   "source": [
    "list(f.keys()) # error. Archivo cerrado"
   ]
  },
  {
   "cell_type": "code",
   "execution_count": null,
   "id": "written-specific",
   "metadata": {},
   "outputs": [],
   "source": [
    "print(f)"
   ]
  },
  {
   "cell_type": "code",
   "execution_count": null,
   "id": "hairy-logan",
   "metadata": {},
   "outputs": [],
   "source": [
    "type(f)"
   ]
  },
  {
   "cell_type": "markdown",
   "id": "identified-beatles",
   "metadata": {},
   "source": [
    "### Controladores de archivos (file drivers)"
   ]
  },
  {
   "cell_type": "markdown",
   "id": "introductory-nigeria",
   "metadata": {},
   "source": [
    "Los controladores de archivos se encuentran entre el sistema de archivos y el mundo de alto nivel de los grupos HDF5, los datasets y atributos. Los controladores se ocupan de la mecánica del *manejo de espacio en memoria* de los   archivos HDF5 disponibles en el disco.\n",
    "\n",
    "Por lo general, no tendrá que preocuparse por cúal controlador está en uso, ya que el controlador predeterminado funciona bien para la mayoría de las aplicaciones.\n",
    "\n",
    "Lo mejor de los controladores es que una vez que se abre el archivo, son totalmente transparentes.\n",
    "Simplemente use la biblioteca HDF5 como de costumbre, y el controlador se encarga de la mecánica de almacenamiento."
   ]
  },
  {
   "cell_type": "markdown",
   "id": "thirty-arizona",
   "metadata": {},
   "source": [
    "#### Controlador (driver) core"
   ]
  },
  {
   "cell_type": "markdown",
   "id": "velvet-column",
   "metadata": {},
   "source": [
    "El controlador `core` almacena su archivo completamente en la memoria. Obviamente, hay un límite en cuanto a cómo\n",
    "gran cantidad de datos que puede almacenar, pero la compensación es lecturas y escrituras increíblemente rápidas. Es una gran elección cuando desea la velocidad de acceso a la memoria, pero también desea utilizar el HDF5\n",
    "estructuras. "
   ]
  },
  {
   "cell_type": "code",
   "execution_count": null,
   "id": "restricted-liechtenstein",
   "metadata": {},
   "outputs": [],
   "source": [
    "f = h5py.File('../data/nombre.hdf5', driver='core')"
   ]
  },
  {
   "cell_type": "markdown",
   "id": "stone-vegetation",
   "metadata": {},
   "source": [
    "Para decirle a HDF5 que cree un archivo  y que guarde la imagen actual del archivo cuando se cierre, puede usar `backing store`:"
   ]
  },
  {
   "cell_type": "code",
   "execution_count": null,
   "id": "extreme-democrat",
   "metadata": {},
   "outputs": [],
   "source": [
    "f = h5py.File('../data/nombre.hdf5', driver='core', backing_store=True)"
   ]
  },
  {
   "cell_type": "markdown",
   "id": "streaming-gossip",
   "metadata": {},
   "source": [
    "#### Controlador family"
   ]
  },
  {
   "cell_type": "markdown",
   "id": "needed-productivity",
   "metadata": {},
   "source": [
    "Permite separar un archivo en múltiple imágenes, cada de la cuales comparte cierto tamaño máximo. "
   ]
  },
  {
   "cell_type": "code",
   "execution_count": null,
   "id": "micro-learning",
   "metadata": {},
   "outputs": [],
   "source": [
    "# divide el archivo en trozos de 1Gb de memoria\n",
    "f = h5py.File('../data/family.hdf5', memb_size=1024**3)"
   ]
  },
  {
   "cell_type": "markdown",
   "id": "spiritual-outdoors",
   "metadata": {},
   "source": [
    "El tamaño por defecto es memb_size = $2^{31}-1$."
   ]
  },
  {
   "cell_type": "markdown",
   "id": "attractive-transition",
   "metadata": {},
   "source": [
    "#### Controlador mpio"
   ]
  },
  {
   "cell_type": "markdown",
   "id": "significant-satisfaction",
   "metadata": {},
   "source": [
    "Este controlador es el corazón de Parallel HDF5. Le permite acceder al mismo archivo desde múltiples\n",
    "procesos al mismo tiempo. Puede tener docenas o incluso cientos de procesos de computación paralela, todos los cuales comparten una vista coherente de un solo archivo en el disco."
   ]
  },
  {
   "cell_type": "markdown",
   "id": "comfortable-guarantee",
   "metadata": {},
   "source": [
    "### El bloque del usuario (user block)"
   ]
  },
  {
   "cell_type": "markdown",
   "id": "biological-nicholas",
   "metadata": {},
   "source": [
    "Una característica interesante de HDF5 es que los archivos pueden estar precedidos por datos arbitrarios de usuario.\n",
    "\n",
    "Cuando se abre un archivo, la biblioteca busca el encabezado HDF5 al comienzo del\n",
    "archivo, luego 512 bytes en, luego 1024, y así sucesivamente en potencias de 2. \n",
    "\n",
    "Dicho espacio al principio del archivo se denomina `bloque de usuario` y allí el usuario puede almacenar los datos que desee.\n",
    "Las únicas restricciones están en el tamaño del bloque (potencias de 2 y al menos 512), y que\n",
    "no debería tener el archivo abierto en HDF5 al escribir en el bloque de usuario. Aquí hay un\n",
    "ejemplo:"
   ]
  },
  {
   "cell_type": "code",
   "execution_count": 20,
   "id": "talented-feeling",
   "metadata": {},
   "outputs": [
    {
     "name": "stdout",
     "output_type": "stream",
     "text": [
      "512\n"
     ]
    }
   ],
   "source": [
    "f = h5py.File('../Datos/userblock_example.hdf5', 'w', userblock_size=512)\n",
    "print(f.userblock_size)\n",
    "f.close()"
   ]
  },
  {
   "cell_type": "code",
   "execution_count": 23,
   "id": "existing-brief",
   "metadata": {},
   "outputs": [],
   "source": [
    "palabra = 'a'*512\n",
    "with open('../Datos/userblock_example.hdf5', 'r+') as f:\n",
    "    f.write(palabra)"
   ]
  },
  {
   "cell_type": "code",
   "execution_count": 26,
   "id": "distributed-light",
   "metadata": {},
   "outputs": [
    {
     "data": {
      "text/plain": [
       "b'aaaaaaaaaaaaaaaaaaaaaaaaaaaaaaaaaaaaaaaaaaaaaaaaaaaaaaaaaaaaaaaaaaaaaaaaaaaaaaaaaaaaaaaaaaaaaaaaaaaaaaaaaaaaaaaaaaaaaaaaaaaaaaaaaaaaaaaaaaaaaaaaaaaaaaaaaaaaaaaaaaaaaaaaaaaaaaaaaaaaaaaaaaaaaaaaaaaaaaaaaaaaaaaaaaaaaaaaaaaaaaaaaaaaaaaaaaaaaaaaaaaaaaaaaaaaaaaaaaaaaaaaaaaaaaaaaaaaaaaaaaaaaaaaaaaaaaaaaaaaaaaaaaaaaaaaaaaaaaaaaaaaaaaaaaaaaaaaaaaaaaaaaaaaaaaaaaaaaaaaaaaaaaaaaaaaaaaaaaaaaaaaaaaaaaaaaaaaaaaaaaaaaaaaaaaaaaaaaaaaaaaaaaaaaaaaaaaaaaaaaaaaaaaaaaaaaaaaaaaaaaaaaaaaaaaaaaaaaaaaaaaaaaaaaaaaaaaaaaaaaaaaaaaaaaaa'"
      ]
     },
     "execution_count": 26,
     "metadata": {},
     "output_type": "execute_result"
    }
   ],
   "source": [
    "with open('../Datos/userblock_example.hdf5', 'rb+') as f: # abre como binario porque así está almacenado\n",
    "    pal = f.read(512)\n",
    "pal"
   ]
  },
  {
   "cell_type": "markdown",
   "id": "satisfied-permission",
   "metadata": {},
   "source": [
    "## <span style=\"color:blue\">Datasets HDF5</span>"
   ]
  },
  {
   "cell_type": "markdown",
   "id": "indoor-enhancement",
   "metadata": {},
   "source": [
    "Los conjuntos de datos (`datasets`) son la característica central de HDF5. Puede pensar en ellos como arreglos (arrays) NumPy que viven en disco. Cada conjunto de datos en HDF5 tiene un nombre, un tipo y una forma, y admite datos aleatorios.\n",
    "acceso. \n",
    "\n",
    "A diferencia de np.save y friends integrados en Numpy, no es necesario leer ni escribir el arreglo  completo como un bloque; puede usar la sintaxis estándar de NumPy para cortar, leer o\n",
    "escribir solo las partes que desee del array."
   ]
  },
  {
   "cell_type": "markdown",
   "id": "legislative-coordinate",
   "metadata": {},
   "source": [
    "### Elemento escenciales sobre datasets"
   ]
  },
  {
   "cell_type": "markdown",
   "id": "collaborative-participant",
   "metadata": {},
   "source": [
    "Primero, creemos un archivo para que tengamos un lugar donde almacenar nuestros conjuntos de datos:"
   ]
  },
  {
   "cell_type": "code",
   "execution_count": 27,
   "id": "favorite-diabetes",
   "metadata": {},
   "outputs": [],
   "source": [
    "f = h5py.File('../Datos/testfile.hdf5', 'w')"
   ]
  },
  {
   "cell_type": "markdown",
   "id": "round-sailing",
   "metadata": {},
   "source": [
    "Cada conjunto de datos de un archivo HDF5 tiene un nombre. Veamos qué sucede si asignamos un nuevo\n",
    "array NumPy a un nombre en el archivo:"
   ]
  },
  {
   "cell_type": "code",
   "execution_count": 28,
   "id": "illegal-light",
   "metadata": {},
   "outputs": [
    {
     "data": {
      "text/plain": [
       "<HDF5 dataset \"my_dataset\": shape (5, 2), type \"<f8\">"
      ]
     },
     "execution_count": 28,
     "metadata": {},
     "output_type": "execute_result"
    }
   ],
   "source": [
    "import numpy as np\n",
    "\n",
    "arr = np.ones((5,2))\n",
    "f['my_dataset'] = arr\n",
    "dset = f['my_dataset'] \n",
    "dset"
   ]
  },
  {
   "cell_type": "markdown",
   "id": "timely-strength",
   "metadata": {},
   "source": [
    "Observe que *dset* es una instancia de la clase *h5py-Dataset*. Este objeto se accesa como cualquier archivo Numpy. "
   ]
  },
  {
   "cell_type": "code",
   "execution_count": 29,
   "id": "painted-deployment",
   "metadata": {},
   "outputs": [
    {
     "name": "stdout",
     "output_type": "stream",
     "text": [
      "[[1. 1.]\n",
      " [1. 1.]\n",
      " [1. 1.]\n",
      " [1. 1.]\n",
      " [1. 1.]]\n",
      "[[1. 1.]\n",
      " [1. 1.]\n",
      " [1. 1.]\n",
      " [1. 1.]\n",
      " [1. 1.]]\n"
     ]
    }
   ],
   "source": [
    "print(dset[:])\n",
    "print(dset[...])"
   ]
  },
  {
   "cell_type": "markdown",
   "id": "catholic-nashville",
   "metadata": {},
   "source": [
    "### Type y shape"
   ]
  },
  {
   "cell_type": "code",
   "execution_count": 30,
   "id": "obvious-madrid",
   "metadata": {},
   "outputs": [
    {
     "name": "stdout",
     "output_type": "stream",
     "text": [
      "float64\n",
      "(5, 2)\n",
      "[1. 1. 1. 1. 1.]\n",
      "<class 'numpy.ndarray'>\n",
      "(5, 2)\n"
     ]
    }
   ],
   "source": [
    "print(dset.dtype)\n",
    "print(dset.shape)\n",
    "print(dset[:, -1])\n",
    "out = dset[...]\n",
    "print(type(out))\n",
    "print(out.shape)"
   ]
  },
  {
   "cell_type": "markdown",
   "id": "varied-indonesian",
   "metadata": {},
   "source": [
    "### Creación de datasets vacíos"
   ]
  },
  {
   "cell_type": "markdown",
   "id": "metric-toolbox",
   "metadata": {},
   "source": [
    "No es necesario tener una matriz NumPy lista para crear un conjunto de datos."
   ]
  },
  {
   "cell_type": "code",
   "execution_count": 31,
   "id": "flexible-samoa",
   "metadata": {},
   "outputs": [],
   "source": [
    "dset = f.create_dataset('test1', (10,10))\n"
   ]
  },
  {
   "cell_type": "code",
   "execution_count": 32,
   "id": "eastern-nutrition",
   "metadata": {},
   "outputs": [
    {
     "data": {
      "text/plain": [
       "<KeysViewHDF5 ['my_dataset', 'test1']>"
      ]
     },
     "execution_count": 32,
     "metadata": {},
     "output_type": "execute_result"
    }
   ],
   "source": [
    "f.keys()"
   ]
  },
  {
   "cell_type": "code",
   "execution_count": 33,
   "id": "boxed-evaluation",
   "metadata": {},
   "outputs": [
    {
     "data": {
      "text/plain": [
       "array([[0., 0., 0., 0., 0., 0., 0., 0., 0., 0.],\n",
       "       [0., 0., 0., 0., 0., 0., 0., 0., 0., 0.],\n",
       "       [0., 0., 0., 0., 0., 0., 0., 0., 0., 0.],\n",
       "       [0., 0., 0., 0., 0., 0., 0., 0., 0., 0.],\n",
       "       [0., 0., 0., 0., 0., 0., 0., 0., 0., 0.],\n",
       "       [0., 0., 0., 0., 0., 0., 0., 0., 0., 0.],\n",
       "       [0., 0., 0., 0., 0., 0., 0., 0., 0., 0.],\n",
       "       [0., 0., 0., 0., 0., 0., 0., 0., 0., 0.],\n",
       "       [0., 0., 0., 0., 0., 0., 0., 0., 0., 0.],\n",
       "       [0., 0., 0., 0., 0., 0., 0., 0., 0., 0.]], dtype=float32)"
      ]
     },
     "execution_count": 33,
     "metadata": {},
     "output_type": "execute_result"
    }
   ],
   "source": [
    "dset[...]"
   ]
  },
  {
   "cell_type": "markdown",
   "id": "rural-trading",
   "metadata": {},
   "source": [
    "HDF5 es lo suficientemente inteligente como para asignar solo la cantidad de espacio en el disco que realmente necesita\n",
    "almacenar los datos que escribe. A continuación, se muestra un ejemplo: suponga que desea crear un conjunto de datos 1D\n",
    "que puede contener muestras de datos de 4 gigabytes de un experimento de larga duración:"
   ]
  },
  {
   "cell_type": "code",
   "execution_count": null,
   "id": "increasing-peter",
   "metadata": {},
   "outputs": [],
   "source": [
    "dset = f.create_dataset('big_dataset', (1024**3), dtype= np.float32)\n",
    "dset[0:1024] = np.arange(1024)\n",
    "f.flush() # envia los datos al archivo\n",
    "#f.close()\n",
    "\n",
    "# Por favor revise el tamaño del archivo en el sistema operativo"
   ]
  },
  {
   "cell_type": "code",
   "execution_count": null,
   "id": "addressed-integral",
   "metadata": {},
   "outputs": [],
   "source": [
    "# ls -lh testfile.hdf5"
   ]
  },
  {
   "cell_type": "markdown",
   "id": "romance-democrat",
   "metadata": {},
   "source": [
    "### Conversión de tipos al enviar al archivo hdf5"
   ]
  },
  {
   "cell_type": "code",
   "execution_count": null,
   "id": "speaking-medline",
   "metadata": {},
   "outputs": [],
   "source": [
    "import numpy as np\n",
    "import h5py\n",
    "\n",
    "bigdata = np.ones((100,1000)) # np.float64\n",
    "print(bigdata.dtype)\n",
    "print(bigdata.shape)"
   ]
  },
  {
   "cell_type": "markdown",
   "id": "realistic-timber",
   "metadata": {},
   "source": [
    "Guarda con el tipo de dato original: np.float64"
   ]
  },
  {
   "cell_type": "code",
   "execution_count": null,
   "id": "legislative-vertical",
   "metadata": {},
   "outputs": [],
   "source": [
    "with h5py.File('../Datos/big1.hdf5','w') as f1:\n",
    "    f1['big'] = bigdata"
   ]
  },
  {
   "cell_type": "markdown",
   "id": "relative-mitchell",
   "metadata": {},
   "source": [
    "Cambia el tipo de dato al enviar al archivo"
   ]
  },
  {
   "cell_type": "code",
   "execution_count": null,
   "id": "discrete-reducing",
   "metadata": {},
   "outputs": [],
   "source": [
    "with h5py.File('../Datos/big2.hdf5', 'w') as f2:\n",
    "    f2.create_dataset('big', data=bigdata, dtype=np.float32)"
   ]
  },
  {
   "cell_type": "code",
   "execution_count": null,
   "id": "quiet-cuisine",
   "metadata": {},
   "outputs": [],
   "source": [
    "Recupera los datos"
   ]
  },
  {
   "cell_type": "code",
   "execution_count": null,
   "id": "conceptual-judges",
   "metadata": {},
   "outputs": [],
   "source": [
    "f1 = h5py.File('../Datos/big1.hdf5')\n",
    "f2 = h5py.File('../Datos/big2.hdf5')\n",
    "print(f1['big'].dtype)\n",
    "print(f2['big'].dtype)"
   ]
  },
  {
   "cell_type": "markdown",
   "id": "answering-walnut",
   "metadata": {},
   "source": [
    "Conversión automática de tipos"
   ]
  },
  {
   "cell_type": "markdown",
   "id": "pending-perfume",
   "metadata": {},
   "source": [
    "La propia biblioteca HDF5 maneja la conversión de tipos y lo hace sobre la marcha (*on the fly*) cuando se guarda en o se lee de un archivo.\n",
    "\n",
    "Vemos como sucede esto."
   ]
  },
  {
   "cell_type": "code",
   "execution_count": null,
   "id": "medium-ordinance",
   "metadata": {},
   "outputs": [],
   "source": [
    "dset = f2['big']\n",
    "print(dset.dtype)\n",
    "print(dset.shape)"
   ]
  },
  {
   "cell_type": "markdown",
   "id": "mounted-formula",
   "metadata": {},
   "source": [
    "En este momento *dset* apunta a los datos en el archivo, pero no han sido cargados en memoria. Para cargarlos con 'float64' lo que debe hacer asignar primero un arreglo vacío de doble precisión en la memoria:"
   ]
  },
  {
   "cell_type": "code",
   "execution_count": null,
   "id": "brief-impact",
   "metadata": {},
   "outputs": [],
   "source": [
    "big_out = np.empty((100, 1000), dtype= np.float64)"
   ]
  },
  {
   "cell_type": "markdown",
   "id": "sealed-british",
   "metadata": {},
   "source": [
    "Ahora cargamos los datos a la memoria en ese espacio asignao en memoria. La API de HDF5 hace la conversón por el camino (*on the fly*):"
   ]
  },
  {
   "cell_type": "code",
   "execution_count": null,
   "id": "split-survivor",
   "metadata": {},
   "outputs": [],
   "source": [
    "dset.read_direct(big_out)\n",
    "print(dset.dtype)\n",
    "print(big_out.dtype)"
   ]
  },
  {
   "cell_type": "markdown",
   "id": "configured-boutique",
   "metadata": {},
   "source": [
    "*dset* sigue apuntando al archivo, mientras que big_out apunta a los datos (convertidos) en memoria.\n",
    "\n",
    "En realidad con *read_direct* no necesariamente tiene que leer todos los datos."
   ]
  },
  {
   "cell_type": "markdown",
   "id": "through-guest",
   "metadata": {},
   "source": [
    "#### Lectura con astype"
   ]
  },
  {
   "cell_type": "code",
   "execution_count": null,
   "id": "modified-finger",
   "metadata": {},
   "outputs": [],
   "source": [
    "with dset.astype('float64'):\n",
    "    out = dset[0,:]\n",
    "\n",
    "print(out.dtype)\n",
    "print(out.shape)"
   ]
  },
  {
   "cell_type": "markdown",
   "id": "bigger-steps",
   "metadata": {},
   "source": [
    "### Lectura y escritura de datos"
   ]
  },
  {
   "cell_type": "markdown",
   "id": "meaningful-mentor",
   "metadata": {},
   "source": [
    "En esta seccion estudiamos inportantes asuntos de implementación  que mejoran el desempeño de los programas con hdf5. Primero estudiamos algunas diferencias entre los arreglos de Numpy y los datasets de hdf5."
   ]
  },
  {
   "cell_type": "markdown",
   "id": "mobile-shareware",
   "metadata": {},
   "source": [
    "#### Rebanado"
   ]
  },
  {
   "cell_type": "markdown",
   "id": "looking-attendance",
   "metadata": {},
   "source": [
    "Empezamos leyendo de un dataset existente"
   ]
  },
  {
   "cell_type": "code",
   "execution_count": null,
   "id": "thorough-printing",
   "metadata": {},
   "outputs": [],
   "source": [
    "import numpy as np\n",
    "import h5py\n",
    "\n",
    "f2 = h5py.File('../Datos/big1.hdf5','r+')\n",
    "print(f2.keys())"
   ]
  },
  {
   "cell_type": "code",
   "execution_count": null,
   "id": "meaning-classroom",
   "metadata": {},
   "outputs": [],
   "source": [
    "dset = f2['big']\n",
    "dset"
   ]
  },
  {
   "cell_type": "code",
   "execution_count": null,
   "id": "photographic-apparatus",
   "metadata": {},
   "outputs": [],
   "source": [
    "out = dset[0:10, 20:70]\n",
    "out.shape"
   ]
  },
  {
   "cell_type": "markdown",
   "id": "olive-origin",
   "metadata": {},
   "source": [
    "#### ¿Que ocurrió?"
   ]
  },
  {
   "cell_type": "markdown",
   "id": "accompanied-indonesia",
   "metadata": {},
   "source": [
    "1. h5py calcula la forma (10, 50) del array resultante.\n",
    "2. A un array  NumPy vacío se le asigna la forma (10, 50).\n",
    "3. HDF5 selecciona la parte apropiada del conjunto de datos.\n",
    "4. HDF5 copia datos del conjunto de datos en el arreglo NumPy vacía.\n",
    "5. Se devuelve el arreglo NumPy recién llenado."
   ]
  },
  {
   "cell_type": "markdown",
   "id": "martial-peeing",
   "metadata": {},
   "source": [
    "#### Tip 1"
   ]
  },
  {
   "cell_type": "markdown",
   "id": "lesser-specific",
   "metadata": {},
   "source": [
    "Tomar rebabadas de tamaño razonable. Revise los dos siguientes snippets de código. ¿Cuál es más eficiente?"
   ]
  },
  {
   "cell_type": "code",
   "execution_count": null,
   "id": "defined-anatomy",
   "metadata": {},
   "outputs": [],
   "source": [
    "# Chequear valiores negativos y reemplazarlos por cero (0).\n",
    "from time import time"
   ]
  },
  {
   "cell_type": "code",
   "execution_count": null,
   "id": "valid-library",
   "metadata": {},
   "outputs": [],
   "source": [
    "%time\n",
    "f2 = h5py.File('../Datos/big1.hdf5','r+')\n",
    "\n",
    "for ix in range(100):\n",
    "    for iy in range(1000):\n",
    "        val = dset[ix,iy]     # lee elemento\n",
    "        if val < 0: \n",
    "            dset[ix,iy] = 0   # recorta a 0 si es negativo\n",
    "    "
   ]
  },
  {
   "cell_type": "code",
   "execution_count": null,
   "id": "collect-south",
   "metadata": {},
   "outputs": [],
   "source": [
    "# Chequear valiores negativos y reemplazarlos por cero (0).\n",
    "\n",
    "%time\n",
    "for ix in range(100):\n",
    "    val = dset[ix,:] # lee una fila\n",
    "    val[val<0] = 0    # recorta si es negativo\n",
    "    dset[ix,:] = val  # escribe de regreso en el dataset hdf5\n",
    "    "
   ]
  },
  {
   "cell_type": "markdown",
   "id": "simple-revelation",
   "metadata": {},
   "source": [
    "#### Comparación con dask- array"
   ]
  },
  {
   "cell_type": "code",
   "execution_count": null,
   "id": "cardiac-duplicate",
   "metadata": {},
   "outputs": [],
   "source": [
    "from dask.distributed import Client\n",
    "\n",
    "client = Client(n_workers=4)"
   ]
  },
  {
   "cell_type": "code",
   "execution_count": null,
   "id": "desirable-binary",
   "metadata": {},
   "outputs": [],
   "source": [
    "import dask.array as da\n",
    "x = da.from_array(dset, chunks=(100))\n",
    "x"
   ]
  },
  {
   "cell_type": "code",
   "execution_count": null,
   "id": "handled-canada",
   "metadata": {},
   "outputs": [],
   "source": [
    "%time\n",
    "\n",
    "x[x<0] = 0\n",
    "dset[:] = x"
   ]
  },
  {
   "cell_type": "code",
   "execution_count": null,
   "id": "associate-prescription",
   "metadata": {},
   "outputs": [],
   "source": [
    "f2.close()"
   ]
  },
  {
   "cell_type": "markdown",
   "id": "neural-backup",
   "metadata": {},
   "source": [
    "#### Indexación de datasets hdf5"
   ]
  },
  {
   "cell_type": "code",
   "execution_count": null,
   "id": "facial-estimate",
   "metadata": {},
   "outputs": [],
   "source": [
    "import numpy as np\n",
    "import h5py\n",
    "\n",
    "\n",
    "f = h5py.File('../Datos/example1.hdf5','w')\n",
    "dset = f.create_dataset('range', data=range(10))"
   ]
  },
  {
   "cell_type": "code",
   "execution_count": null,
   "id": "comprehensive-reply",
   "metadata": {},
   "outputs": [],
   "source": [
    "print(dset[4])   # un elemento\n",
    "print(dset[4:8]) # rebanado\n",
    "print(dset[...]) # notación puntos suspensivos (ellipsis) todo\n",
    "print(dset[:])   # todo en una dimensión\n",
    "print(dset[4:-1]) # notación del último elemento\n",
    "print(dset[::-1])   # Fallo. Recorrer en modo reverse"
   ]
  },
  {
   "cell_type": "markdown",
   "id": "stunning-paragraph",
   "metadata": {},
   "source": [
    "#### Rebanado multidimensional"
   ]
  },
  {
   "cell_type": "code",
   "execution_count": null,
   "id": "separated-setting",
   "metadata": {},
   "outputs": [],
   "source": [
    "dset = f.create_dataset('4d', shape=(100,80,50,20))\n",
    "print(dset.shape)\n",
    "print(dset[...].shape)"
   ]
  },
  {
   "cell_type": "code",
   "execution_count": null,
   "id": "organized-programmer",
   "metadata": {},
   "outputs": [],
   "source": [
    "dset = f.create_dataset('1d', shape=(1,), data = 42)\n",
    "\n",
    "print(dset[0])  \n",
    "print(dset.shape)\n",
    "print(dset[...].shape) \n",
    "print(dset[:])  "
   ]
  },
  {
   "cell_type": "markdown",
   "id": "conscious-transformation",
   "metadata": {},
   "source": [
    "#### Indexación boolena"
   ]
  },
  {
   "cell_type": "markdown",
   "id": "contained-celebration",
   "metadata": {},
   "source": [
    "Como en Numpy. se pueden usar máscara con valores boolenos para extraer  elementos de un dataset."
   ]
  },
  {
   "cell_type": "code",
   "execution_count": null,
   "id": "optical-couple",
   "metadata": {},
   "outputs": [],
   "source": [
    "data = np.random.random(10)*2 -1\n",
    "data"
   ]
  },
  {
   "cell_type": "code",
   "execution_count": null,
   "id": "funky-separate",
   "metadata": {},
   "outputs": [],
   "source": [
    "dset = f.create_dataset('random', data=data)\n",
    "dset[data<0] = 0\n",
    "dset[...]"
   ]
  },
  {
   "cell_type": "code",
   "execution_count": null,
   "id": "municipal-trust",
   "metadata": {},
   "outputs": [],
   "source": [
    "dset[data<0] = -1*data[data<0]\n",
    "dset[...]"
   ]
  },
  {
   "cell_type": "markdown",
   "id": "polar-thesaurus",
   "metadata": {},
   "source": [
    "#### Coordenadas con listas"
   ]
  },
  {
   "cell_type": "code",
   "execution_count": null,
   "id": "permanent-robin",
   "metadata": {},
   "outputs": [],
   "source": [
    "dset[[1,2,7]]"
   ]
  },
  {
   "cell_type": "markdown",
   "id": "documented-craps",
   "metadata": {},
   "source": [
    "#### Leyendo directamente en un arreglo existente"
   ]
  },
  {
   "cell_type": "markdown",
   "id": "figured-natural",
   "metadata": {},
   "source": [
    "Al leer directamente en un array existente se llena el arrelgo y se hace el recast (conversión de tipo) de manera automática"
   ]
  },
  {
   "cell_type": "code",
   "execution_count": null,
   "id": "vietnamese-marine",
   "metadata": {},
   "outputs": [],
   "source": [
    "dset = f.create_dataset('100_1000_array', shape=(100, 1000), dtype=np.float32)"
   ]
  },
  {
   "cell_type": "code",
   "execution_count": null,
   "id": "twelve-stake",
   "metadata": {},
   "outputs": [],
   "source": [
    "dset"
   ]
  },
  {
   "cell_type": "code",
   "execution_count": null,
   "id": "given-stevens",
   "metadata": {},
   "outputs": [],
   "source": [
    "out = np.empty((100,1000), dtype=np.float64)\n",
    "dset.read_direct(out)\n",
    "out"
   ]
  },
  {
   "cell_type": "markdown",
   "id": "worst-occasion",
   "metadata": {},
   "source": [
    "Supongamos que queremos leer la primera fila, en dset [0 ,:], y depositarlo\n",
    "en el array de salida en fila 50: out[50 ,:]. Podemos utilizar las palabras clave *source_sel* y *dest_sel*, para la selección de la fuente y la selección del destino respectivamente:"
   ]
  },
  {
   "cell_type": "code",
   "execution_count": null,
   "id": "suspended-store",
   "metadata": {},
   "outputs": [],
   "source": [
    "dset.read_direct(out, source_sel = np.s_[0,:], dest_sel= np.s_[50,:])"
   ]
  },
  {
   "cell_type": "markdown",
   "id": "uniform-spiritual",
   "metadata": {},
   "source": [
    "Observe los dos siguientes snippets de código. ¿Cuál es más eficiente?"
   ]
  },
  {
   "cell_type": "code",
   "execution_count": null,
   "id": "dressed-investigation",
   "metadata": {},
   "outputs": [],
   "source": [
    "out = dset[:, 0:50]\n",
    "print(out.shape)\n",
    "means = out.mean(axis=1)\n",
    "print(means.shape)"
   ]
  },
  {
   "cell_type": "code",
   "execution_count": null,
   "id": "tight-brave",
   "metadata": {},
   "outputs": [],
   "source": [
    "out = np.empty((100,50),dtype = np.float32)\n",
    "dset.read_direct(out, np.s_[:,0:50])\n",
    "mean = out.mean(axis=1)"
   ]
  },
  {
   "cell_type": "markdown",
   "id": "mexican-subscriber",
   "metadata": {},
   "source": [
    "Este puede parecer un caso trivial, pero hay una diferencia importante entre los dos  enfoques. \n",
    "\n",
    "* En el primer ejemplo, h5py crea internamente la matriz out, que se utiliza para almacenar la rebanada y luego desecharla. \n",
    "* En el segundo ejemplo, out es asignado por el usuario y se puede reutilizar para futuras llamadas a read_direct.\n",
    "\n",
    "No hay dierencia en el desempeño, pero ahora evaluamos un arreglo grande"
   ]
  },
  {
   "cell_type": "code",
   "execution_count": null,
   "id": "cutting-floating",
   "metadata": {},
   "outputs": [],
   "source": [
    "dset = f.create_dataset('test', shape=(10000, 10000), dtype=np.float32)"
   ]
  },
  {
   "cell_type": "code",
   "execution_count": null,
   "id": "theoretical-helena",
   "metadata": {},
   "outputs": [],
   "source": [
    "dset[:] = np.random.random(10000) # uso de broadcasting para completar"
   ]
  },
  {
   "cell_type": "code",
   "execution_count": null,
   "id": "valid-color",
   "metadata": {},
   "outputs": [],
   "source": [
    "from time import time\n",
    "from dask.distributed import Client\n",
    "client = Client(n_workers=4)\n",
    "import dask.array as da\n",
    "\n"
   ]
  },
  {
   "cell_type": "code",
   "execution_count": null,
   "id": "intellectual-maine",
   "metadata": {},
   "outputs": [],
   "source": [
    "%time\n",
    "dset[:,0:500].mean(axis=1)"
   ]
  },
  {
   "cell_type": "code",
   "execution_count": null,
   "id": "younger-cylinder",
   "metadata": {},
   "outputs": [],
   "source": [
    "#numpy\n",
    "out = np.empty((10000, 500), dtype=np.float32)\n",
    "%time\n",
    "dset.read_direct(out, np.s_[:,0:500])\n",
    "out.mean(axis=1)"
   ]
  },
  {
   "cell_type": "code",
   "execution_count": null,
   "id": "million-cooking",
   "metadata": {},
   "outputs": [],
   "source": [
    "# dask\n",
    "%time\n",
    "x = da.from_array(dset[:,0:500], chunks=(4))\n",
    "y= x.mean(axis=1)\n",
    "y.compute()"
   ]
  },
  {
   "cell_type": "code",
   "execution_count": null,
   "id": "animal-enzyme",
   "metadata": {},
   "outputs": [],
   "source": [
    "def time_dataset():\n",
    "    dset[:,0:500].mean(axis=1)\n",
    "\n",
    "def time_numpy():\n",
    "    dset.read_direct(out, np.s_[:,0:500])\n",
    "    out.mean(axis=1)\n",
    "\n",
    "#def time_dask():\n",
    "#    x = da.from_array(dset[:,0:500], chunks=(4))\n",
    "#    y = x.mean(axis=1).compute()"
   ]
  },
  {
   "cell_type": "code",
   "execution_count": null,
   "id": "solid-amino",
   "metadata": {},
   "outputs": [],
   "source": [
    "from timeit import timeit"
   ]
  },
  {
   "cell_type": "code",
   "execution_count": null,
   "id": "blind-surface",
   "metadata": {},
   "outputs": [],
   "source": [
    "timeit(time_dataset, number=100)\n"
   ]
  },
  {
   "cell_type": "code",
   "execution_count": null,
   "id": "personalized-acting",
   "metadata": {},
   "outputs": [],
   "source": [
    "timeit(time_numpy, number=100)"
   ]
  },
  {
   "cell_type": "code",
   "execution_count": null,
   "id": "trained-orange",
   "metadata": {},
   "outputs": [],
   "source": [
    "#timeit(time_dask, number=100)"
   ]
  },
  {
   "cell_type": "markdown",
   "id": "differential-physiology",
   "metadata": {},
   "source": [
    "### Cambio de tamaño de los datasets"
   ]
  },
  {
   "cell_type": "markdown",
   "id": "color-parking",
   "metadata": {},
   "source": [
    "Así como en Numpy se puede cambiar el tamaño de los arreglos, mientras se mantenga la coherencia en el tamaño global, dejando al usuario la responsabilidad de la interpretabilidad de los datos, con los datasets de hdf5 podemos hacer lo mismo, pero es posible perder información. Veámos.\n"
   ]
  },
  {
   "cell_type": "code",
   "execution_count": null,
   "id": "forward-playlist",
   "metadata": {},
   "outputs": [],
   "source": [
    "dset = f.create_dataset('fixed', (2,2))\n",
    "print(dset.shape)\n",
    "print(dset.maxshape)"
   ]
  },
  {
   "cell_type": "markdown",
   "id": "recent-knock",
   "metadata": {},
   "source": [
    "La propiedad maxshape sugiere que el tamaño podría variar hasta esos extremos. En efecto, asi es. Veámos."
   ]
  },
  {
   "cell_type": "code",
   "execution_count": null,
   "id": "surrounded-steering",
   "metadata": {},
   "outputs": [],
   "source": [
    "dset = f.create_dataset('resizable', (2,2), maxshape=(2,2))\n",
    "print(dset.shape)\n",
    "print(dset.maxshape)"
   ]
  },
  {
   "cell_type": "code",
   "execution_count": null,
   "id": "spread-injection",
   "metadata": {},
   "outputs": [],
   "source": [
    "dset.resize((1,1))\n",
    "print(dset.shape)\n",
    "print(dset.maxshape)"
   ]
  },
  {
   "cell_type": "code",
   "execution_count": null,
   "id": "improved-country",
   "metadata": {},
   "outputs": [],
   "source": [
    "dset.resize((1,3)) # falla porque 3>2\n",
    "print(dset.shape)\n",
    "print(dset.maxshape)"
   ]
  },
  {
   "cell_type": "markdown",
   "id": "environmental-spare",
   "metadata": {},
   "source": [
    "No esposible cambiar las dimensiones, es decir, el número total de ejes, de una dataset. Pero si se pueden dejar dimensiones sin un tamaño definido para que crezcan idefinidamente. Basta colocar en la posición respectiva *None* cuando crea el dataset. Veámos"
   ]
  },
  {
   "cell_type": "code",
   "execution_count": null,
   "id": "fitted-reynolds",
   "metadata": {},
   "outputs": [],
   "source": [
    "dset = f.create_dataset('unlimited', (2,2), maxshape =(2,None))\n",
    "print(dset.shape)\n",
    "print(dset.maxshape)"
   ]
  },
  {
   "cell_type": "code",
   "execution_count": null,
   "id": "orange-tomato",
   "metadata": {},
   "outputs": [],
   "source": [
    "dset.resize((2,2*30))\n",
    "print(dset.shape)"
   ]
  },
  {
   "cell_type": "markdown",
   "id": "broken-conditioning",
   "metadata": {},
   "source": [
    "#### Cuidados con el cambio de tamaños en datasets"
   ]
  },
  {
   "cell_type": "markdown",
   "id": "processed-threshold",
   "metadata": {},
   "source": [
    "Las reglas de Numpy no aplican exactamento a los dataset. Observe el siguiente ejemplo Numpy"
   ]
  },
  {
   "cell_type": "code",
   "execution_count": null,
   "id": "associate-carry",
   "metadata": {},
   "outputs": [],
   "source": [
    "a = np.array([[1,2],[3,4]])\n",
    "print(a.shape)\n",
    "print(a)\n",
    "\n",
    "a.resize((1,4))\n",
    "print(a)\n",
    "\n",
    "a.resize((1,10))\n",
    "print(a)        "
   ]
  },
  {
   "cell_type": "markdown",
   "id": "plain-hampton",
   "metadata": {},
   "source": [
    "Ahora veámos el mismo código con dataset"
   ]
  },
  {
   "cell_type": "code",
   "execution_count": null,
   "id": "great-remove",
   "metadata": {},
   "outputs": [],
   "source": [
    "dset = f.create_dataset('sizetest', (2,2), dtype=np.int32, \n",
    "                        maxshape=(None, None))"
   ]
  },
  {
   "cell_type": "code",
   "execution_count": null,
   "id": "sublime-kernel",
   "metadata": {},
   "outputs": [],
   "source": [
    "dset[...] = [[1,2],[3,4]]\n",
    "print(dset)"
   ]
  },
  {
   "cell_type": "code",
   "execution_count": null,
   "id": "satisfactory-antique",
   "metadata": {},
   "outputs": [],
   "source": [
    "dset[...]"
   ]
  },
  {
   "cell_type": "code",
   "execution_count": null,
   "id": "competent-maine",
   "metadata": {},
   "outputs": [],
   "source": [
    "dset.resize((1,4))\n",
    "dset[...] # se perdió la fila 1, hdf5 no pudo hacer el reordenamiento"
   ]
  },
  {
   "cell_type": "code",
   "execution_count": null,
   "id": "unsigned-portable",
   "metadata": {},
   "outputs": [],
   "source": [
    "dset.resize((1,10))\n",
    "dset[...]"
   ]
  },
  {
   "cell_type": "markdown",
   "id": "future-notion",
   "metadata": {},
   "source": [
    "#### Cuando y como hacer el cambio de tamaño del dataset"
   ]
  },
  {
   "cell_type": "markdown",
   "id": "secret-picnic",
   "metadata": {},
   "source": [
    "Mostramos dos vías. La segunda es más recomendada.\n",
    "\n",
    "1. Se van agregando elementos a la medida que el datset crece\n",
    "2. Se crea un dataset grande y luego se poda"
   ]
  },
  {
   "cell_type": "code",
   "execution_count": null,
   "id": "isolated-gender",
   "metadata": {},
   "outputs": [],
   "source": [
    "# Agregado al paso\n",
    "\n",
    "dset1= f.create_dataset('time_traces', (1,1000), maxshape=(None,1000))\n",
    "\n",
    "def add_trace(arr):\n",
    "    dset.resize(dset1.shape[0]+1, 1000)\n",
    "    dset[-1,:] = arr"
   ]
  },
  {
   "cell_type": "code",
   "execution_count": null,
   "id": "satellite-asbestos",
   "metadata": {},
   "outputs": [],
   "source": [
    "# creando dataset grande y al final podando\n",
    "\n",
    "dset2 = f.create_dataset('time_traces_2', (5000,1000), maxshape=(None,1000))\n",
    "\n",
    "ntraces= 0\n",
    "def add_trace_2(arr):\n",
    "    global ntraces\n",
    "    dset2[ntraces,:] = arr\n",
    "    ntraces += 1\n",
    "\n",
    "def done():\n",
    "    dset.resize((ntraces,1000))\n",
    "    "
   ]
  },
  {
   "cell_type": "markdown",
   "id": "photographic-darkness",
   "metadata": {},
   "source": [
    "## <span style=\"color:blue\">Fragmentación (chunking) y compresión</span> "
   ]
  },
  {
   "cell_type": "markdown",
   "id": "innocent-mobility",
   "metadata": {},
   "source": [
    "Consideremos el siguiente arreglo 2-dimensional de Numpy"
   ]
  },
  {
   "cell_type": "code",
   "execution_count": null,
   "id": "sunrise-wings",
   "metadata": {},
   "outputs": [],
   "source": [
    "import numpy as np\n",
    "\n",
    "a = np.array([['A','B'],['C','D']])\n",
    "print(a)"
   ]
  },
  {
   "cell_type": "markdown",
   "id": "commercial-polyester",
   "metadata": {},
   "source": [
    "En realidad el arreglo esta organizado en la memoria linealmente, en el siguiente orden\n",
    "\n",
    "+ 'A', 'B', 'C', 'D'\n",
    "\n",
    "Lo mismo ocurre con los datasets de hdf5. Esto implica que algunas forma de recuperacion de información son mpás eficientes que otras."
   ]
  },
  {
   "cell_type": "markdown",
   "id": "aquatic-plenty",
   "metadata": {},
   "source": [
    "Suponga que va a almacenar 10 imágenes en b/n (escala de grises) de tamaño 480*640. Entonces haría algo como lo siguiente"
   ]
  },
  {
   "cell_type": "code",
   "execution_count": null,
   "id": "after-masters",
   "metadata": {},
   "outputs": [],
   "source": [
    "import numpy as np\n",
    "import h5py\n",
    "\n",
    "f = h5py.File('imagetest.hdf5','w')\n",
    "dset = f.create_dataset('Imagenes', (100,480,640))"
   ]
  },
  {
   "cell_type": "markdown",
   "id": "nuclear-destination",
   "metadata": {},
   "source": [
    "La primera imagen se recupera como"
   ]
  },
  {
   "cell_type": "code",
   "execution_count": null,
   "id": "fabulous-london",
   "metadata": {},
   "outputs": [],
   "source": [
    "imagen = dset[0,:,:]\n",
    "image.shape  # (480, 640)"
   ]
  },
  {
   "cell_type": "markdown",
   "id": "positive-message",
   "metadata": {},
   "source": [
    "Esta imagen  muesra como es almacenado el dataset\n",
    "\n",
    "![dataset_almacenamiento](../Imagenes/dataset_almacenamiento.jpeg)"
   ]
  },
  {
   "cell_type": "markdown",
   "id": "tight-press",
   "metadata": {},
   "source": [
    "## Almacenamiento fragmentado"
   ]
  },
  {
   "cell_type": "markdown",
   "id": "coordinated-surfing",
   "metadata": {},
   "source": [
    "Pero, ¿qué pasa si, en lugar de procesar imágenes completas una tras otra, nuestra aplicación trata con mosaicos de imagen? \n",
    "\n",
    "Supongamos que queremos leer y procesar los datos en un segmento de 64 × 64 píxeles en la esquina de la primera imagen; por ejemplo, digamos que queremos agregar un logotipo.\n",
    "Nuestra selección de rebanado sería:"
   ]
  },
  {
   "cell_type": "code",
   "execution_count": null,
   "id": "statutory-syndicate",
   "metadata": {},
   "outputs": [],
   "source": [
    "tile = dset[0,0:64, 0.64]\n",
    "tile.shape # (64,64)"
   ]
  },
  {
   "cell_type": "markdown",
   "id": "strong-syntax",
   "metadata": {},
   "source": [
    "¿Y si hubiera alguna forma de expresar esto de antemano? ¿No hay forma de preservar la forma del conjunto de datos, que es semánticamente importante, pero dígale a HDF5 que optimice la\n",
    "conjunto de datos para el acceso en bloques de 64 × 64 píxeles?\n",
    "\n",
    "\n",
    "Eso es lo que hace la fragmentación en HDF5. Le permite especificar la \"forma\" N-dimensional que\n",
    "se adapta mejor a su patrón de acceso. Cuando llega el momento de escribir datos en el disco, HDF5 se divide\n",
    "los datos en \"trozos\" de la forma especificada, los aplana y los escribe en el disco. Los fragmentos se almacenan en varios lugares del archivo y sus coordenadas están indexadas por un\n",
    "Árbol B (binario).\n",
    "\n",
    "Aquí tenemos un ejemplo. Tomemos el conjunto de datos de forma (100, 480, 640) que se acaba de mostrar y digamos a HDF5\n",
    "que lo almacene en formato fragmentado. \n",
    "\n",
    "Hacemos esto proporcionando una nueva palabra clave, fragmentos, al método *create_dataset*:"
   ]
  },
  {
   "cell_type": "code",
   "execution_count": null,
   "id": "continuing-tracy",
   "metadata": {},
   "outputs": [],
   "source": [
    "dset = f.create_dataset('fragmentado', (100,480,640), dtype='i1',\n",
    "                       chunks=(1,64,64))"
   ]
  },
  {
   "cell_type": "markdown",
   "id": "sustainable-humor",
   "metadata": {},
   "source": [
    "Así son almacenados los datos en este caso.\n",
    "\n",
    "![fragmentado](../Imagenes/chunckshdf5.jpeg)"
   ]
  },
  {
   "cell_type": "code",
   "execution_count": null,
   "id": "boolean-orientation",
   "metadata": {},
   "outputs": [],
   "source": [
    "Así es como ocurre la compresión en hdf5."
   ]
  },
  {
   "cell_type": "markdown",
   "id": "italian-wells",
   "metadata": {},
   "source": [
    "#### Auto fragmentado"
   ]
  },
  {
   "cell_type": "markdown",
   "id": "verbal-information",
   "metadata": {},
   "source": [
    "Si no esta seguro sobre como gestionará el dataset, puede dejar que hdf5 decida como fragmentarlo"
   ]
  },
  {
   "cell_type": "code",
   "execution_count": null,
   "id": "running-tuning",
   "metadata": {},
   "outputs": [],
   "source": [
    "dset = f.create_dataset('imagenes2', (100,480,640), chunks=True)\n",
    "dset.chunks # (13, 60,80)"
   ]
  },
  {
   "cell_type": "markdown",
   "id": "collected-aberdeen",
   "metadata": {},
   "source": [
    "### Elegir una forma manualmente"
   ]
  },
  {
   "cell_type": "markdown",
   "id": "hindu-vegetable",
   "metadata": {},
   "source": [
    "\n",
    "A continuación, se incluyen algunas cosas que debe tener en cuenta al trabajar con fragmentos. El proceso de elegir\n",
    "la forma de los fragmentos es una compensación entre las siguientes tres restricciones:\n",
    "\n",
    "1. Los fragmentos más grandes para un tamaño de conjunto de datos determinado reducen el tamaño del fragmento del árbol B, lo que hace es más rápido para buscar y cargar fragmentos.\n",
    "2. Dado que los fragmentos son todo o nada (leer una parte carga todo el fragmento), los fragmentos también aumentan la posibilidad de que lea datos en la memoria que no usará.\n",
    "3. La caché de fragmentos HDF5 solo puede contener un número finito de fragmentos. Trozos más grandes\n",
    "de 1 MB ni siquiera compartiran en el caché.\n",
    "\n",
    "Entonces, estos son los puntos principales a tener en cuenta:\n",
    "\n",
    "- *¿Necesita realmente especificar un tamaño de fragmento?* Es mejor restringir el tamaño manual de los fragmentos a los casos en los que esté seguro de que su conjunto de datos\n",
    "se accederá de una manera que probablemente sea ineficaz con el almacenamiento contiguo o una forma de trozo adivinada automáticamente. Y como todas las optimizaciones, ¡debería compararlas!\n",
    "\n",
    "- *Intente expresar el patrón de acceso \"natural\" que tendrá su conjunto de datos*. Como en nuestro ejemplo, si está almacenando un montón de imágenes en un conjunto de datos y sabe que\n",
    "su aplicación leerá \"mosaicos\" particulares de 64 × 64, podría usar N × 64 × 64 trozos (o N × 128 × 128) a lo largo de los ejes de la imagen.\n",
    "\n",
    "- *No los hagas demasiado pequeños*. Tenga en cuenta que HDF5 tiene que usar datos de indexación para realizar un seguimiento de las cosas; si utiliza algo patológico como un tamaño de fragmento de 1 byte, la mayor parte de su espacio en disco será\n",
    "tomado por metadatos. Una buena regla general para la mayoría de los conjuntos de datos es mantener fragmentos\n",
    "por encima de 10 KB más o menos.\n",
    "\n",
    "- *No los hagas demasiado grandes*. La clave para recordar es que cuando lee cualquier dato en un fragmento, todo el\n",
    "se lee el fragmento. Si solo usa un subconjunto de los datos, el tiempo extra dedicado a la lectura de el disco está desperdiciado. Tenga en cuenta que los trozos de más de 1 MiB de forma predeterminada no participar en el rápido \"caché de fragmentos\" en memoria y, en su lugar, se leerá desde el disco\n",
    "cada vez."
   ]
  },
  {
   "cell_type": "markdown",
   "id": "spread-shadow",
   "metadata": {},
   "source": [
    "### Filtros y Compresión"
   ]
  },
  {
   "cell_type": "markdown",
   "id": "aware-southeast",
   "metadata": {},
   "source": [
    "Con la fragmentación, es posible realizar la compresión de forma transparente en un conjunto de datos.\n",
    "\n",
    "Se conoce el tamaño inicial de cada fragmento y, dado que están indexados por un árbol B, pueden\n",
    "almacenarse en cualquier lugar del archivo, no solo uno tras otro. En otras palabras, cada trozo es\n",
    "libre para crecer o encogerse sin golpear a los demás"
   ]
  },
  {
   "cell_type": "markdown",
   "id": "incoming-central",
   "metadata": {},
   "source": [
    "####  Tubería de filtro"
   ]
  },
  {
   "cell_type": "markdown",
   "id": "tutorial-clinton",
   "metadata": {},
   "source": [
    "HDF5 tiene el concepto de una tubería de filtro, que es solo una serie de operaciones realizadas\n",
    "en cada fragmento cuando está escrito. Cada filtro es libre de hacer lo que quiera con los datos en\n",
    "el fragmento: comprimirlo, sumarlo, agregar metadatos, cualquier cosa. Cuando se lee el archivo, cada\n",
    "El filtro se ejecuta en modo \"inverso\" para reconstruir los datos originales.\n",
    "\n",
    "La imagen muestra como sucede la acción\n",
    "\n",
    "\n",
    "![Tuberia_filtro](../Imagenes/tuberia_filtros.jpeg)"
   ]
  },
  {
   "cell_type": "markdown",
   "id": "simplified-update",
   "metadata": {},
   "source": [
    "#### Filtros de compresión"
   ]
  },
  {
   "cell_type": "markdown",
   "id": "tough-complex",
   "metadata": {},
   "source": [
    "Hay varios filtros de compresión disponibles en HDF5. Con mucho, el más utilizado es el filtro GZIP. (También escuchará que se hace referencia a esto como el filtro \"DEFLATED\"; en el mundo HDF5, ambos nombres se utilizan para el mismo filtro).\n",
    "\n",
    "A continuación, se muestra un ejemplo de compresión GZIP utilizada en un conjunto de datos de punto flotante:"
   ]
  },
  {
   "cell_type": "code",
   "execution_count": null,
   "id": "serial-salon",
   "metadata": {},
   "outputs": [],
   "source": [
    "dset =  f.create_dataset('BigDataset', (1000,1000),dtype='f', \n",
    "                         compression='gzip' )\n",
    "dset.compression # 'gzip"
   ]
  },
  {
   "cell_type": "markdown",
   "id": "horizontal-steel",
   "metadata": {},
   "source": [
    "## <span style=\"color:blue\">Grupos, enlaces e iteración</span> "
   ]
  },
  {
   "cell_type": "markdown",
   "id": "specific-manhattan",
   "metadata": {},
   "source": [
    "Los grupos son el objeto contenedor HDF5, análogo a las carpetas de un sistema de archivos. Ellos pueden\n",
    "contener conjuntos de datos y otros grupos, lo que le permite construir una estructura jerárquica con\n",
    "objetos perfectamente organizados en grupos y subgrupos"
   ]
  },
  {
   "cell_type": "markdown",
   "id": "engaged-conviction",
   "metadata": {},
   "source": [
    "#### El grupo raiz y subgrupos"
   ]
  },
  {
   "cell_type": "markdown",
   "id": "compressed-ready",
   "metadata": {},
   "source": [
    "El objeto de grupo más general es h5py.Group, del cual h5py.File es una subclase. Otro Los grupos se crean fácilmente con el método *create_group*:"
   ]
  },
  {
   "cell_type": "code",
   "execution_count": null,
   "id": "civilian-bedroom",
   "metadata": {},
   "outputs": [],
   "source": [
    "#import h5py\n",
    "f = h5py.File('../Datos/Groups.hdf5','w')\n",
    "subgroup = f.create_group('SubGroup')\n",
    "subgroup"
   ]
  },
  {
   "cell_type": "code",
   "execution_count": null,
   "id": "pleased-bumper",
   "metadata": {},
   "outputs": [],
   "source": [
    "subgroup.name"
   ]
  },
  {
   "cell_type": "markdown",
   "id": "opened-developer",
   "metadata": {},
   "source": [
    "Por supuesto, los grupos también se pueden anidar. El método *create_group* existe en todos los grupos objetos, no solo File:"
   ]
  },
  {
   "cell_type": "code",
   "execution_count": null,
   "id": "considerable-coaching",
   "metadata": {},
   "outputs": [],
   "source": [
    "subsubgroup = subgroup.create_group('AnotherGroup')\n",
    "subsubgroup.name"
   ]
  },
  {
   "cell_type": "markdown",
   "id": "healthy-dinner",
   "metadata": {},
   "source": [
    "No es necesario crear manualmente todos los subgrupos anidados."
   ]
  },
  {
   "cell_type": "code",
   "execution_count": null,
   "id": "naughty-cabin",
   "metadata": {},
   "outputs": [],
   "source": [
    "out = f.create_group('/some/big/path')\n",
    "out"
   ]
  },
  {
   "cell_type": "code",
   "execution_count": null,
   "id": "single-courtesy",
   "metadata": {},
   "outputs": [],
   "source": [
    "f.keys()"
   ]
  },
  {
   "cell_type": "markdown",
   "id": "unique-sport",
   "metadata": {},
   "source": [
    "### Elementos escenciales de Group"
   ]
  },
  {
   "cell_type": "markdown",
   "id": "industrial-sailing",
   "metadata": {},
   "source": [
    "Si no recuerda nada más de este capítulo, recuerde esto: los grupos funcionan principalmente como diccionarios. \n",
    "\n",
    "Hay un par de agujeros en esta abstracción, pero en general funciona sorprendentemente bien. Los grupos son iterables y tienen un subconjunto del diccionario Python normal\n",
    "API.\n",
    "\n",
    "Agregemos unos pocos objetos al archivo de este ejemplo para lo que sigue."
   ]
  },
  {
   "cell_type": "code",
   "execution_count": null,
   "id": "cellular-starter",
   "metadata": {},
   "outputs": [],
   "source": [
    "f['Dataset1'] = 1.0\n",
    "f['Dataset2'] = 2.0\n",
    "f['Dataset3'] = 3.0\n",
    "subgroup['Dataset4'] = 4.0\n"
   ]
  },
  {
   "cell_type": "markdown",
   "id": "eleven-distribution",
   "metadata": {},
   "source": [
    "#### Acceso al estilo de diccionario"
   ]
  },
  {
   "cell_type": "code",
   "execution_count": null,
   "id": "universal-screen",
   "metadata": {},
   "outputs": [],
   "source": [
    "# accesa el dataset asociado a la 'clave' dataset1\n",
    "dset1 = f['Dataset1']\n",
    "\n",
    "dset4 = f['SubGroup/Dataset4']\n"
   ]
  },
  {
   "cell_type": "code",
   "execution_count": null,
   "id": "challenging-technique",
   "metadata": {},
   "outputs": [],
   "source": [
    "print(len(f))\n",
    "print(len(f['SubGroup']))"
   ]
  },
  {
   "cell_type": "code",
   "execution_count": null,
   "id": "raising-villa",
   "metadata": {},
   "outputs": [],
   "source": []
  }
 ],
 "metadata": {
  "kernelspec": {
   "display_name": "Python 3",
   "language": "python",
   "name": "python3"
  },
  "language_info": {
   "codemirror_mode": {
    "name": "ipython",
    "version": 3
   },
   "file_extension": ".py",
   "mimetype": "text/x-python",
   "name": "python",
   "nbconvert_exporter": "python",
   "pygments_lexer": "ipython3",
   "version": "3.8.8"
  }
 },
 "nbformat": 4,
 "nbformat_minor": 5
}
