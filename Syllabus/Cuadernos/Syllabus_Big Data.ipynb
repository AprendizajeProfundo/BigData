{
 "cells": [
  {
   "cell_type": "markdown",
   "metadata": {
    "tags": []
   },
   "source": [
    "<figure>\n",
    "<img src=\"../Imagenes/logo-final-ap.png\"  width=\"80\" height=\"80\" align=\"left\"/> \n",
    "</figure>\n",
    "\n",
    "# <span style=\"color:blue\"><left>Aprendizaje Profundo</left></span>"
   ]
  },
  {
   "cell_type": "markdown",
   "metadata": {
    "tags": []
   },
   "source": [
    "# <span style=\"color:red\"><center>Curso Sistemas de Información- Syllabus</center></span>"
   ]
  },
  {
   "cell_type": "markdown",
   "metadata": {},
   "source": [
    "<center>Big data y bases de datos</center>"
   ]
  },
  {
   "cell_type": "markdown",
   "metadata": {},
   "source": [
    "##   <span style=\"color:blue\">Profesor</span>"
   ]
  },
  {
   "cell_type": "markdown",
   "metadata": {},
   "source": [
    "1. Alvaro Mauricio Montenegro Díaz, ammontenegrod@unal.edu.co\n"
   ]
  },
  {
   "cell_type": "markdown",
   "metadata": {},
   "source": [
    "##   <span style=\"color:blue\">Diseño gráfico y Marketing digital</span>\n",
    " "
   ]
  },
  {
   "cell_type": "markdown",
   "metadata": {},
   "source": [
    "1. Maria del Pilar Montenegro Reyes, pmontenegro88@gmail.com "
   ]
  },
  {
   "cell_type": "markdown",
   "metadata": {},
   "source": [
    "## <span style=\"color:blue\">Referencias</span> "
   ]
  },
  {
   "cell_type": "markdown",
   "metadata": {},
   "source": [
    "1. [Alvaro Montenegro, Big Data, 2021](https://github.com/AprendizajeProfundo/BigData/blob/main/README.md)\n",
    "1. [Alvaro Montenegro, Daniel Montenegro, Campo Elías Pardo, Inteligencia Artificial y Aprendizaje Profundo, 2021](https://github.com/AprendizajeProfundo/Diplomado)\n",
    "1. [Alvaro Montenegro, Daniel Montenegro, Ciencia de Datos, 2021](https://github.com/AprendizajeProfundo/Ciencia-de-Datos)\n",
    "1. [Klassen, Mikhail Russell, Matthew A, Mining the Social Web, O'Reilly Media, Inc (2019)](http://library.lol/main/D1A74C6167E1AE37085CE0AABD71939F)\n",
    "1. [Kumar, Anant Singh, Ajit , Graph Database Modeling with neo4, 2020](http://library.lol/main/9703B3108E0745E342CC999B61A19DB0) \n",
    "1. [Big Data Specialization, U. California, 2018](https://www.coursera.org/specializations/big-data)\n",
    "1. [John Hunt, A Beginners Guide to Python 3 Programming, 2019](http://libgen.rs/search.php?req=A+Beginners+Guide+to+Python+3+Programming+hunt&open=0&res=25&view=simple&phrase=1&column=def)\n",
    "1. [John Hunt,Advanced Guide to Python 3 Programming, 2019](http://libgen.rs/search.php?req=Advanced+Guide+to+Python+3+Programming+hunt&open=0&res=25&view=simple&phrase=1&column=def)\n",
    "1. [Peter Ghavami, Big Data Analytics Methods, second edition, 2020](http://libgen.rs/search.php?req=big+data+analytics+methods&open=0&res=25&view=simple&phrase=1&column=def)\n",
    "1. [Sudeep Tanwar, Sudhanshu Tyagi, Neeraj Kumar Editors, Multimedia Big Data Computing for IoT Applications Concepts, Paradigms and Solutions, 2021](http://libgen.rs/search.php?req=+Multimedia+Big+Data+Computing&open=0&res=25&view=simple&phrase=1&column=def)\n",
    "1. [Amit Phaltankar, Juned Ahsan, Michael Harrison, and Liviu Nedov, MongoDB Fundamentals, 2020](http://libgen.rs/search.php?req=MongoDB+Fundamentals-Packt+Publishing+&open=0&res=25&view=simple&phrase=1&column=def)\n",
    "1. [Salahaldin Juba; Andrey Volkov, Learning PostgreSQL 11: A beginner’s guide to building high-performance PostgreSQL database solutions, 3rd Edition, 2019](ibgen.rs/search.php?req=PostgreSQL+11_+A+beginner’s+guide+to+building+high-performance+PostgreSQL+&open=0&res=25&view=simple&phrase=1&column=def)\n",
    "1. [Upom Malik, Matt Goldwasser, Benjamin Johnston, The Applied SQL Data Analytics Workshop: A Quick, Interactive Approach to Learning Analytics with SQL, 2nd Edition, 2019](http://libgen.rs/search.php?req=Applied+SQL+Data+Analytics+Workshop_+A+Quick%2C+Interactive+Approach+to+Learning+A&open=0&res=25&view=simple&phrase=1&column=def)\n",
    "1. [Athul Dev, Spark with Python, 2020](http://libgen.rs/search.php?req=spark+in+action&open=0&res=25&view=simple&phrase=1&column=def)\n",
    "1. [Jean-Georges Perrin, Spark in Action, Second Edition 2 ed, 2020](http://libgen.rs/search.php?req=spark+in+action&open=0&res=25&view=simple&phrase=1&column=def)\n",
    "1. [Oleg Jarma, Instalación de Anaconda, 2020](https://www.youtube.com/watch?v=yKG-bzLZxyI&t)"
   ]
  },
  {
   "cell_type": "markdown",
   "metadata": {},
   "source": [
    "## <span style=\"color:blue\">Tecnologías del curso</span> "
   ]
  },
  {
   "cell_type": "markdown",
   "metadata": {},
   "source": [
    "1. Python\n",
    "1. Jupyter Lab\n",
    "1. Dask, Spark\n",
    "1. Postgresql\n",
    "1. MariaDB\n",
    "1. MongoDB \n",
    "1. Neo4j\n",
    "1. Github\n",
    "1. Colab, Google\n",
    "1. WAS, Amazon\n",
    "1. Azure,  Microsoft\n",
    "1. Wordpress\n",
    "1. Django"
   ]
  },
  {
   "cell_type": "markdown",
   "metadata": {},
   "source": [
    "## <span style=\"color:blue\">Fuentes de datos</span> "
   ]
  },
  {
   "cell_type": "markdown",
   "metadata": {},
   "source": [
    "1. [Best Public Datasets for Machine Learning and Data Science](https://pub.towardsai.net/best-datasets-for-machine-learning-data-science-computer-vision-nlp-ai-c9541058cf4f)"
   ]
  },
  {
   "cell_type": "markdown",
   "metadata": {},
   "source": [
    "## <span style=\"color:blue\">Contenido</span> "
   ]
  },
  {
   "cell_type": "markdown",
   "metadata": {},
   "source": [
    "- Programación Python\n",
    "    - [Python, primeros pasos](https://nbviewer.jupyter.org/github/AprendizajeProfundo/Diplomado/blob/master/Temas/Módulo%202-%20Introducción%20a%20la%20programación/3.%20Programación%20en%20Python/Cuadernos/Intro_Python.ipynb)\n",
    "    - [Funciones en Python](https://nbviewer.jupyter.org/github/AprendizajeProfundo/Diplomado/blob/master/Temas/M%C3%B3dulo%202-%20Introducci%C3%B3n%20a%20la%20programaci%C3%B3n/3.%20Programaci%C3%B3n%20en%20Python/Cuadernos/Funciones.ipynb)\n",
    "    - [Colecciones de Objetos en Python](https://nbviewer.jupyter.org/github/AprendizajeProfundo/Diplomado/blob/master/Temas/M%C3%B3dulo%202-%20Introducci%C3%B3n%20a%20la%20programaci%C3%B3n/3.%20Programaci%C3%B3n%20en%20Python/Cuadernos/Colecciones.ipynb)\n",
    "    - [Módulos en Python](https://nbviewer.jupyter.org/github/AprendizajeProfundo/Diplomado/blob/master/Temas/M%C3%B3dulo%202-%20Introducci%C3%B3n%20a%20la%20programaci%C3%B3n/3.%20Programaci%C3%B3n%20en%20Python/Cuadernos/Paquetes.ipynb)\n",
    "    - [Concepto de Clase en Python](https://nbviewer.jupyter.org/github/AprendizajeProfundo/Diplomado/blob/master/Temas/Módulo%202-%20Introducción%20a%20la%20programación/3.%20Programación%20en%20Python/Cuadernos/Intro_Clases_Python.ipynb)\n",
    "    - [Decoradores en Python](https://nbviewer.jupyter.org/github/AprendizajeProfundo/Diplomado/blob/master/Temas/M%C3%B3dulo%202-%20Introducci%C3%B3n%20a%20la%20programaci%C3%B3n/3.%20Programaci%C3%B3n%20en%20Python/Cuadernos/Decorators.ipynb)\n",
    "    - [Tratamiento de datos con Pandas](https://nbviewer.jupyter.org/github/AprendizajeProfundo/Diplomado/blob/master/Temas/M%C3%B3dulo%2013-%20Talleres/Cuadernos/Taller_Pandas.ipynb)\n",
    "    - [Introducción a tensores con Numpy](https://nbviewer.jupyter.org/github/AprendizajeProfundo/Diplomado/blob/master/Temas/Módulo%201-%20Matemáticas%20y%20Estadística/1.%20Matemáticas/Cuadernos/Intro_Tensores_I.ipynb)\n",
    "   - [Multiprocesos y multihilos](https://nbviewer.jupyter.org/github/AprendizajeProfundo/BigData/blob/main/Python/Cuadernos/05_A_Mulitprocesos_Python_am.ipynb)\n",
    "\n",
    "\n",
    "- Bases de Datos Relacionales\n",
    "  - [Introducción a bases de datos](https://nbviewer.jupyter.org/github/AprendizajeProfundo/BigData/blob/main/Bases_Datos/Notebooks/Bases_Datos_Rel_Intro.ipynb)\n",
    "   - [Modelo entidad-relación](https://nbviewer.jupyter.org/github/AprendizajeProfundo/BigData/blob/main/Bases_Datos/Notebooks/Bases_Datos_Rel_Modelo_E_R.ipynb)\n",
    "   - [Implementación de bases de datos]( https://nbviewer.jupyter.org/github/AprendizajeProfundo/BigData/blob/main/Bases_Datos/Notebooks/Bases_Datos_Rel_Implementacion.ipynb)\n",
    "   - [Algebra relacional](https://nbviewer.jupyter.org/github/AprendizajeProfundo/BigData/blob/main/Bases_Datos/Notebooks/Bases_Datos_Rel_Algebra_Relacional.ipynb )\n",
    "   - [SQL I](https://nbviewer.jupyter.org/github/AprendizajeProfundo/BigData/blob/main/Bases_Datos/Notebooks/Bases_Datos_SQL.ipynb) \n",
    "   - [SQL II](https://nbviewer.jupyter.org/github/AprendizajeProfundo/BigData/blob/main/Bases_Datos/Notebooks/Bases_Datos_SQL-2.ipynb)\n",
    "   - [SQL III -Ejemplo Sakila](https://nbviewer.jupyter.org/github/AprendizajeProfundo/BigData/blob/main/Bases_Datos/Notebooks/Bases_Datos_SQL-3.ipynb)\n",
    "   \n",
    "   \n",
    "- Motor Dask para Big Data en Python\n",
    "   - [Introducción la procesamiento paralelo con Dask](https://nbviewer.jupyter.org/github/AprendizajeProfundo/BigData/blob/main/Dask/Cuadernos/01_dask_delayed_am.ipynb)\n",
    "   - [Ejecución retrasada (lazzy)](https://nbviewer.jupyter.org/github/AprendizajeProfundo/BigData/blob/main/Dask/Cuadernos/01x_lazy_am.ipynb)\n",
    "   - [Mejores prácticas con ejecución retrasada](https://nbviewer.jupyter.org/github/AprendizajeProfundo/BigData/blob/main/Dask/Cuadernos/01_dask_Mejores_Practicas.ipynb)\n",
    "   - [Colleciones bag](https://nbviewer.jupyter.org/github/AprendizajeProfundo/BigData/blob/main/Dask/Cuadernos/02_bag_am.ipynb)\n",
    "   - [Arrays](https://nbviewer.jupyter.org/github/AprendizajeProfundo/BigData/blob/main/Dask/Cuadernos/03_array_am.ipynb)\n",
    "   - [Dataframes](https://nbviewer.jupyter.org/github/AprendizajeProfundo/BigData/blob/main/Dask/Cuadernos/04_dataframe_am.ipynb)\n",
    "   - [Ejecución distribuida](https://nbviewer.jupyter.org/github/AprendizajeProfundo/BigData/blob/main/Dask/Cuadernos/05_distributed_am.ipynb)\n",
    "   - [Ejecución distribuida avanzada](https://nbviewer.jupyter.org/github/AprendizajeProfundo/BigData/blob/main/Dask/Cuadernos/06_distributed_advanced_am.ipynb)\n",
    "   - [Ejecución con un cluster en la nube - Coiled](https://nbviewer.jupyter.org/github/AprendizajeProfundo/BigData/blob/main/Dask/Cuadernos/10_coiled_quickstart.ipynb)\n",
    "   - [Almacenamiento eficiente de dask-dataframes](https://nbviewer.jupyter.org/github/AprendizajeProfundo/BigData/blob/main/Dask/Cuadernos/07_dataframe_storage_am.ipynb)\n",
    "   - [Aprendizaje de Maquinas paralelo y distribuido](https://nbviewer.jupyter.org/github/AprendizajeProfundo/BigData/blob/main/Dask/Cuadernos/08_machine_learning_am.ipynb)  \n",
    "   - [Almacenamiento hdf5](https://nbviewer.jupyter.org/github/AprendizajeProfundo/BigData/blob/main/Almacenamiento/Cuadernos/hdf5.ipynb)\n",
    "   \n",
    "   \n",
    "- Spark\n",
    "  - [Instalacion de Spark: Ubuntu, Jupyterlab](https://nbviewer.jupyter.org/github/AprendizajeProfundo/BigData/blob/main/Spark/Cuadernos/Spark_install.ipynb)\n",
    "  - [Introducción a Spark](https://nbviewer.jupyter.org/github/AprendizajeProfundo/BigData/blob/main/Spark/Cuadernos/Spark_Introduccion.ipynb)\n",
    "  - [Introducción a Máquinas de Aprendizaje con Spark](https://nbviewer.jupyter.org/github/AprendizajeProfundo/BigData/blob/main/Spark/Cuadernos/Spark_Machine_Learning.ipynb)\n",
    "  - [Introducción a árboles de decisión y regresión con Spark](https://nbviewer.jupyter.org/github/AprendizajeProfundo/BigData/blob/main/Spark/Cuadernos/Spark_Machine_Learning-tree.ipynb)\n",
    "\n",
    "\n",
    "- Bases de datos no relacionales\n",
    "  - Formatos de intercambio de datos: JSON, XML, CSV\n",
    "  - Bases de datos orientadas a documentos: MongoDBLinkedIn\n",
    "  - Minado de textos\n",
    "  - Mindado de correos electrónicos\n",
    "  - Bases de datos basadas en grafos: Neo4j\n",
    "\n",
    "\n",
    "- Minería de redes sociales\n",
    "   - Raspado web (web scrapping)\n",
    "   - Tweeter\n",
    "   - Facebook\n",
    "   - Instagram\n",
    "   - Github\n",
    "   - LinkedIn\n",
    "   - Minado de textos\n",
    "   - Mindado de correos electrónicos\n",
    " \n",
    " \n",
    "- Marcos de trabajo para desarrollo de aplicaciones web (Apps)\n",
    "   - Wordpress\n",
    "   - Django\n"
   ]
  },
  {
   "cell_type": "markdown",
   "metadata": {},
   "source": [
    "## <span style=\"color:blue\">Proyectos de curso</span>"
   ]
  },
  {
   "cell_type": "markdown",
   "metadata": {},
   "source": [
    "El curso se organiza en grupo de máximo tres personas. Cada grupo desarrolla un proyectos de minado de una red social, determinada por el profesor.\n",
    "\n",
    "Cada grupo debe crear una cuenta de desarrollador, entender el uso de la respectiva API y proponer una línea de análisis.\n",
    "\n",
    "Para el desarrollo del proyecto, diseñará una base de datos, que alimentará con los datos necesarios para los análisis propuestos.\n",
    "\n",
    "Paralelamente desarrollará una aplicación, en la cual presentaŕa los resultados propuestos.\n",
    "\n",
    "\n",
    "Entregables:\n",
    "\n",
    "1. Un documento desarrollado en Jupyter book, en donde describe explícitamente el proyecto.\n",
    "1. Los cuadernos de Jupyter lab con los códigos desarrollados para el proyecto.\n",
    "1. Un video promocional del proyecto, el cual debe ser colgado en al App del proyecto.\n",
    "1. La aplicación (App) desarrollada para presentar los resultados previstos del proyecto."
   ]
  },
  {
   "cell_type": "markdown",
   "metadata": {},
   "source": [
    " ## <span style=\"color:blue\">Evaluación</span>"
   ]
  },
  {
   "cell_type": "markdown",
   "metadata": {},
   "source": [
    "1. Un proyecto que será desarrollado por máximo tres personas a lo largo del curso. Total 80%.\n",
    "2. Seguimiento del proyecto. Asistencias a asesorías extraclase, Total 5%.\n",
    "3. Video promocional de cinco minutos sobre el proyecto, Total 5%.\n",
    "4. Una exposición final sobre el proyecto. Total 5%.\n",
    "5. Exposición de un tema asignado. Total 5%"
   ]
  },
  {
   "cell_type": "markdown",
   "metadata": {},
   "source": []
  },
  {
   "cell_type": "code",
   "execution_count": null,
   "metadata": {},
   "outputs": [],
   "source": []
  }
 ],
 "metadata": {
  "kernelspec": {
   "display_name": "Python 3",
   "language": "python",
   "name": "python3"
  },
  "language_info": {
   "codemirror_mode": {
    "name": "ipython",
    "version": 3
   },
   "file_extension": ".py",
   "mimetype": "text/x-python",
   "name": "python",
   "nbconvert_exporter": "python",
   "pygments_lexer": "ipython3",
   "version": "3.8.8"
  }
 },
 "nbformat": 4,
 "nbformat_minor": 4
}
